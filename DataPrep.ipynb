{
 "cells": [
  {
   "cell_type": "code",
   "execution_count": 60,
   "metadata": {},
   "outputs": [],
   "source": [
    "import pandas as pd\r\n"
   ]
  },
  {
   "cell_type": "code",
   "execution_count": 61,
   "metadata": {},
   "outputs": [],
   "source": [
    "data = pd.read_csv(\"FloodingCleaned.csv\")"
   ]
  },
  {
   "cell_type": "code",
   "execution_count": 62,
   "metadata": {},
   "outputs": [
    {
     "data": {
      "text/html": "<div>\n<style scoped>\n    .dataframe tbody tr th:only-of-type {\n        vertical-align: middle;\n    }\n\n    .dataframe tbody tr th {\n        vertical-align: top;\n    }\n\n    .dataframe thead th {\n        text-align: right;\n    }\n</style>\n<table border=\"1\" class=\"dataframe\">\n  <thead>\n    <tr style=\"text-align: right;\">\n      <th></th>\n      <th>C.35 Ayutthaya (Chao Phraya R.)</th>\n      <th>S.5 Ayutthaya (Pa Sak R.)</th>\n      <th>C.7A Ang Thong (Chao Phraya R.)</th>\n      <th>S.26 Tha Ruea (Pa Sak R.)</th>\n      <th>C.13 Sapphaya (Chao Phraya r.)</th>\n      <th>S.9 Kaeng Khoi (Pa Sak r.)</th>\n      <th>C.35 river/brae</th>\n      <th>S.5 river/brae</th>\n      <th>C.7A river/brae</th>\n      <th>S.26 river/brae</th>\n      <th>date</th>\n    </tr>\n  </thead>\n  <tbody>\n    <tr>\n      <th>0</th>\n      <td>0.74</td>\n      <td>0.79</td>\n      <td>1.02</td>\n      <td>0.70</td>\n      <td>0.0</td>\n      <td>0.0</td>\n      <td>0.161572</td>\n      <td>0.168085</td>\n      <td>0.102</td>\n      <td>0.08750</td>\n      <td>2020-08-18</td>\n    </tr>\n    <tr>\n      <th>1</th>\n      <td>0.68</td>\n      <td>0.76</td>\n      <td>0.87</td>\n      <td>0.65</td>\n      <td>0.0</td>\n      <td>2.0</td>\n      <td>0.148472</td>\n      <td>0.161702</td>\n      <td>0.087</td>\n      <td>0.08125</td>\n      <td>2020-08-19</td>\n    </tr>\n    <tr>\n      <th>2</th>\n      <td>0.30</td>\n      <td>0.64</td>\n      <td>0.85</td>\n      <td>0.64</td>\n      <td>0.0</td>\n      <td>0.5</td>\n      <td>0.065502</td>\n      <td>0.136170</td>\n      <td>0.085</td>\n      <td>0.08000</td>\n      <td>2020-08-20</td>\n    </tr>\n    <tr>\n      <th>3</th>\n      <td>0.33</td>\n      <td>0.67</td>\n      <td>0.90</td>\n      <td>0.73</td>\n      <td>3.0</td>\n      <td>1.5</td>\n      <td>0.072052</td>\n      <td>0.142553</td>\n      <td>0.090</td>\n      <td>0.09125</td>\n      <td>2020-08-21</td>\n    </tr>\n    <tr>\n      <th>4</th>\n      <td>0.62</td>\n      <td>0.59</td>\n      <td>0.90</td>\n      <td>0.79</td>\n      <td>8.0</td>\n      <td>12.5</td>\n      <td>0.135371</td>\n      <td>0.125532</td>\n      <td>0.090</td>\n      <td>0.09875</td>\n      <td>2020-08-22</td>\n    </tr>\n    <tr>\n      <th>...</th>\n      <td>...</td>\n      <td>...</td>\n      <td>...</td>\n      <td>...</td>\n      <td>...</td>\n      <td>...</td>\n      <td>...</td>\n      <td>...</td>\n      <td>...</td>\n      <td>...</td>\n      <td>...</td>\n    </tr>\n    <tr>\n      <th>83</th>\n      <td>4.19</td>\n      <td>2.77</td>\n      <td>7.82</td>\n      <td>3.44</td>\n      <td>35.3</td>\n      <td>0.0</td>\n      <td>0.914847</td>\n      <td>0.589362</td>\n      <td>0.782</td>\n      <td>0.43000</td>\n      <td>2021-09-26</td>\n    </tr>\n    <tr>\n      <th>84</th>\n      <td>4.51</td>\n      <td>2.98</td>\n      <td>8.31</td>\n      <td>3.97</td>\n      <td>5.5</td>\n      <td>0.5</td>\n      <td>0.984716</td>\n      <td>0.634043</td>\n      <td>0.831</td>\n      <td>0.49625</td>\n      <td>2021-09-27</td>\n    </tr>\n    <tr>\n      <th>85</th>\n      <td>4.79</td>\n      <td>3.21</td>\n      <td>8.60</td>\n      <td>4.39</td>\n      <td>0.0</td>\n      <td>0.0</td>\n      <td>1.045852</td>\n      <td>0.682979</td>\n      <td>0.860</td>\n      <td>0.54875</td>\n      <td>2021-09-28</td>\n    </tr>\n    <tr>\n      <th>86</th>\n      <td>4.97</td>\n      <td>3.41</td>\n      <td>8.86</td>\n      <td>5.38</td>\n      <td>0.0</td>\n      <td>0.0</td>\n      <td>1.085153</td>\n      <td>0.725532</td>\n      <td>0.886</td>\n      <td>0.67250</td>\n      <td>2021-09-29</td>\n    </tr>\n    <tr>\n      <th>87</th>\n      <td>5.19</td>\n      <td>3.75</td>\n      <td>9.07</td>\n      <td>7.18</td>\n      <td>0.0</td>\n      <td>0.0</td>\n      <td>1.133188</td>\n      <td>0.797872</td>\n      <td>0.907</td>\n      <td>0.89750</td>\n      <td>2021-09-30</td>\n    </tr>\n  </tbody>\n</table>\n<p>88 rows × 11 columns</p>\n</div>",
      "text/plain": "    C.35 Ayutthaya (Chao Phraya R.)  S.5 Ayutthaya (Pa Sak R.)  \\\n0                              0.74                       0.79   \n1                              0.68                       0.76   \n2                              0.30                       0.64   \n3                              0.33                       0.67   \n4                              0.62                       0.59   \n..                              ...                        ...   \n83                             4.19                       2.77   \n84                             4.51                       2.98   \n85                             4.79                       3.21   \n86                             4.97                       3.41   \n87                             5.19                       3.75   \n\n    C.7A Ang Thong (Chao Phraya R.)  S.26 Tha Ruea (Pa Sak R.)  \\\n0                              1.02                       0.70   \n1                              0.87                       0.65   \n2                              0.85                       0.64   \n3                              0.90                       0.73   \n4                              0.90                       0.79   \n..                              ...                        ...   \n83                             7.82                       3.44   \n84                             8.31                       3.97   \n85                             8.60                       4.39   \n86                             8.86                       5.38   \n87                             9.07                       7.18   \n\n    C.13 Sapphaya (Chao Phraya r.)  S.9 Kaeng Khoi (Pa Sak r.)  \\\n0                              0.0                         0.0   \n1                              0.0                         2.0   \n2                              0.0                         0.5   \n3                              3.0                         1.5   \n4                              8.0                        12.5   \n..                             ...                         ...   \n83                            35.3                         0.0   \n84                             5.5                         0.5   \n85                             0.0                         0.0   \n86                             0.0                         0.0   \n87                             0.0                         0.0   \n\n    C.35 river/brae  S.5 river/brae  C.7A river/brae  S.26 river/brae  \\\n0          0.161572        0.168085            0.102          0.08750   \n1          0.148472        0.161702            0.087          0.08125   \n2          0.065502        0.136170            0.085          0.08000   \n3          0.072052        0.142553            0.090          0.09125   \n4          0.135371        0.125532            0.090          0.09875   \n..              ...             ...              ...              ...   \n83         0.914847        0.589362            0.782          0.43000   \n84         0.984716        0.634043            0.831          0.49625   \n85         1.045852        0.682979            0.860          0.54875   \n86         1.085153        0.725532            0.886          0.67250   \n87         1.133188        0.797872            0.907          0.89750   \n\n          date  \n0   2020-08-18  \n1   2020-08-19  \n2   2020-08-20  \n3   2020-08-21  \n4   2020-08-22  \n..         ...  \n83  2021-09-26  \n84  2021-09-27  \n85  2021-09-28  \n86  2021-09-29  \n87  2021-09-30  \n\n[88 rows x 11 columns]"
     },
     "execution_count": 62,
     "metadata": {},
     "output_type": "execute_result"
    }
   ],
   "source": [
    "data"
   ]
  },
  {
   "cell_type": "code",
   "execution_count": 63,
   "metadata": {},
   "outputs": [
    {
     "data": {
      "text/plain": "C.35 Ayutthaya (Chao Phraya R.)    float64\nS.5 Ayutthaya (Pa Sak R.)          float64\nC.7A Ang Thong (Chao Phraya R.)    float64\nS.26 Tha Ruea (Pa Sak R.)          float64\nC.13 Sapphaya (Chao Phraya r.)     float64\nS.9 Kaeng Khoi (Pa Sak r.)         float64\nC.35 river/brae                    float64\nS.5 river/brae                     float64\nC.7A river/brae                    float64\nS.26 river/brae                    float64\ndate                                object\ndtype: object"
     },
     "execution_count": 63,
     "metadata": {},
     "output_type": "execute_result"
    }
   ],
   "source": [
    "data.dtypes"
   ]
  },
  {
   "cell_type": "markdown",
   "metadata": {},
   "source": [
    "## Define critical water level of 2 station, C.35 and S.5"
   ]
  },
  {
   "cell_type": "code",
   "execution_count": 68,
   "metadata": {},
   "outputs": [],
   "source": [
    "data['critical_wat_lev_C.35'] = 3.2\r\n",
    "data['critical_wat_lev_S.5'] = 3"
   ]
  },
  {
   "cell_type": "code",
   "execution_count": 66,
   "metadata": {},
   "outputs": [
    {
     "data": {
      "text/html": "<div>\n<style scoped>\n    .dataframe tbody tr th:only-of-type {\n        vertical-align: middle;\n    }\n\n    .dataframe tbody tr th {\n        vertical-align: top;\n    }\n\n    .dataframe thead th {\n        text-align: right;\n    }\n</style>\n<table border=\"1\" class=\"dataframe\">\n  <thead>\n    <tr style=\"text-align: right;\">\n      <th></th>\n      <th>C.35 Ayutthaya (Chao Phraya R.)</th>\n      <th>S.5 Ayutthaya (Pa Sak R.)</th>\n      <th>C.7A Ang Thong (Chao Phraya R.)</th>\n      <th>S.26 Tha Ruea (Pa Sak R.)</th>\n      <th>C.13 Sapphaya (Chao Phraya r.)</th>\n      <th>S.9 Kaeng Khoi (Pa Sak r.)</th>\n      <th>C.35 river/brae</th>\n      <th>S.5 river/brae</th>\n      <th>C.7A river/brae</th>\n      <th>S.26 river/brae</th>\n      <th>date</th>\n      <th>critical_wat_lev_C.35</th>\n      <th>critical_wat_lev_S.5</th>\n    </tr>\n  </thead>\n  <tbody>\n    <tr>\n      <th>0</th>\n      <td>0.74</td>\n      <td>0.79</td>\n      <td>1.02</td>\n      <td>0.70</td>\n      <td>0.0</td>\n      <td>0.0</td>\n      <td>0.161572</td>\n      <td>0.168085</td>\n      <td>0.102</td>\n      <td>0.08750</td>\n      <td>2020-08-18</td>\n      <td>3.2</td>\n      <td>3</td>\n    </tr>\n    <tr>\n      <th>1</th>\n      <td>0.68</td>\n      <td>0.76</td>\n      <td>0.87</td>\n      <td>0.65</td>\n      <td>0.0</td>\n      <td>2.0</td>\n      <td>0.148472</td>\n      <td>0.161702</td>\n      <td>0.087</td>\n      <td>0.08125</td>\n      <td>2020-08-19</td>\n      <td>3.2</td>\n      <td>3</td>\n    </tr>\n    <tr>\n      <th>2</th>\n      <td>0.30</td>\n      <td>0.64</td>\n      <td>0.85</td>\n      <td>0.64</td>\n      <td>0.0</td>\n      <td>0.5</td>\n      <td>0.065502</td>\n      <td>0.136170</td>\n      <td>0.085</td>\n      <td>0.08000</td>\n      <td>2020-08-20</td>\n      <td>3.2</td>\n      <td>3</td>\n    </tr>\n    <tr>\n      <th>3</th>\n      <td>0.33</td>\n      <td>0.67</td>\n      <td>0.90</td>\n      <td>0.73</td>\n      <td>3.0</td>\n      <td>1.5</td>\n      <td>0.072052</td>\n      <td>0.142553</td>\n      <td>0.090</td>\n      <td>0.09125</td>\n      <td>2020-08-21</td>\n      <td>3.2</td>\n      <td>3</td>\n    </tr>\n    <tr>\n      <th>4</th>\n      <td>0.62</td>\n      <td>0.59</td>\n      <td>0.90</td>\n      <td>0.79</td>\n      <td>8.0</td>\n      <td>12.5</td>\n      <td>0.135371</td>\n      <td>0.125532</td>\n      <td>0.090</td>\n      <td>0.09875</td>\n      <td>2020-08-22</td>\n      <td>3.2</td>\n      <td>3</td>\n    </tr>\n    <tr>\n      <th>...</th>\n      <td>...</td>\n      <td>...</td>\n      <td>...</td>\n      <td>...</td>\n      <td>...</td>\n      <td>...</td>\n      <td>...</td>\n      <td>...</td>\n      <td>...</td>\n      <td>...</td>\n      <td>...</td>\n      <td>...</td>\n      <td>...</td>\n    </tr>\n    <tr>\n      <th>83</th>\n      <td>4.19</td>\n      <td>2.77</td>\n      <td>7.82</td>\n      <td>3.44</td>\n      <td>35.3</td>\n      <td>0.0</td>\n      <td>0.914847</td>\n      <td>0.589362</td>\n      <td>0.782</td>\n      <td>0.43000</td>\n      <td>2021-09-26</td>\n      <td>3.2</td>\n      <td>3</td>\n    </tr>\n    <tr>\n      <th>84</th>\n      <td>4.51</td>\n      <td>2.98</td>\n      <td>8.31</td>\n      <td>3.97</td>\n      <td>5.5</td>\n      <td>0.5</td>\n      <td>0.984716</td>\n      <td>0.634043</td>\n      <td>0.831</td>\n      <td>0.49625</td>\n      <td>2021-09-27</td>\n      <td>3.2</td>\n      <td>3</td>\n    </tr>\n    <tr>\n      <th>85</th>\n      <td>4.79</td>\n      <td>3.21</td>\n      <td>8.60</td>\n      <td>4.39</td>\n      <td>0.0</td>\n      <td>0.0</td>\n      <td>1.045852</td>\n      <td>0.682979</td>\n      <td>0.860</td>\n      <td>0.54875</td>\n      <td>2021-09-28</td>\n      <td>3.2</td>\n      <td>3</td>\n    </tr>\n    <tr>\n      <th>86</th>\n      <td>4.97</td>\n      <td>3.41</td>\n      <td>8.86</td>\n      <td>5.38</td>\n      <td>0.0</td>\n      <td>0.0</td>\n      <td>1.085153</td>\n      <td>0.725532</td>\n      <td>0.886</td>\n      <td>0.67250</td>\n      <td>2021-09-29</td>\n      <td>3.2</td>\n      <td>3</td>\n    </tr>\n    <tr>\n      <th>87</th>\n      <td>5.19</td>\n      <td>3.75</td>\n      <td>9.07</td>\n      <td>7.18</td>\n      <td>0.0</td>\n      <td>0.0</td>\n      <td>1.133188</td>\n      <td>0.797872</td>\n      <td>0.907</td>\n      <td>0.89750</td>\n      <td>2021-09-30</td>\n      <td>3.2</td>\n      <td>3</td>\n    </tr>\n  </tbody>\n</table>\n<p>88 rows × 13 columns</p>\n</div>",
      "text/plain": "    C.35 Ayutthaya (Chao Phraya R.)  S.5 Ayutthaya (Pa Sak R.)  \\\n0                              0.74                       0.79   \n1                              0.68                       0.76   \n2                              0.30                       0.64   \n3                              0.33                       0.67   \n4                              0.62                       0.59   \n..                              ...                        ...   \n83                             4.19                       2.77   \n84                             4.51                       2.98   \n85                             4.79                       3.21   \n86                             4.97                       3.41   \n87                             5.19                       3.75   \n\n    C.7A Ang Thong (Chao Phraya R.)  S.26 Tha Ruea (Pa Sak R.)  \\\n0                              1.02                       0.70   \n1                              0.87                       0.65   \n2                              0.85                       0.64   \n3                              0.90                       0.73   \n4                              0.90                       0.79   \n..                              ...                        ...   \n83                             7.82                       3.44   \n84                             8.31                       3.97   \n85                             8.60                       4.39   \n86                             8.86                       5.38   \n87                             9.07                       7.18   \n\n    C.13 Sapphaya (Chao Phraya r.)  S.9 Kaeng Khoi (Pa Sak r.)  \\\n0                              0.0                         0.0   \n1                              0.0                         2.0   \n2                              0.0                         0.5   \n3                              3.0                         1.5   \n4                              8.0                        12.5   \n..                             ...                         ...   \n83                            35.3                         0.0   \n84                             5.5                         0.5   \n85                             0.0                         0.0   \n86                             0.0                         0.0   \n87                             0.0                         0.0   \n\n    C.35 river/brae  S.5 river/brae  C.7A river/brae  S.26 river/brae  \\\n0          0.161572        0.168085            0.102          0.08750   \n1          0.148472        0.161702            0.087          0.08125   \n2          0.065502        0.136170            0.085          0.08000   \n3          0.072052        0.142553            0.090          0.09125   \n4          0.135371        0.125532            0.090          0.09875   \n..              ...             ...              ...              ...   \n83         0.914847        0.589362            0.782          0.43000   \n84         0.984716        0.634043            0.831          0.49625   \n85         1.045852        0.682979            0.860          0.54875   \n86         1.085153        0.725532            0.886          0.67250   \n87         1.133188        0.797872            0.907          0.89750   \n\n          date  critical_wat_lev_C.35  critical_wat_lev_S.5  \n0   2020-08-18                    3.2                     3  \n1   2020-08-19                    3.2                     3  \n2   2020-08-20                    3.2                     3  \n3   2020-08-21                    3.2                     3  \n4   2020-08-22                    3.2                     3  \n..         ...                    ...                   ...  \n83  2021-09-26                    3.2                     3  \n84  2021-09-27                    3.2                     3  \n85  2021-09-28                    3.2                     3  \n86  2021-09-29                    3.2                     3  \n87  2021-09-30                    3.2                     3  \n\n[88 rows x 13 columns]"
     },
     "execution_count": 66,
     "metadata": {},
     "output_type": "execute_result"
    }
   ],
   "source": [
    "data"
   ]
  },
  {
   "cell_type": "markdown",
   "metadata": {},
   "source": [
    "## Mark Class label of C.35 Ayutthaya (Chao Phraya R.)"
   ]
  },
  {
   "cell_type": "code",
   "execution_count": 75,
   "metadata": {},
   "outputs": [],
   "source": [
    "data.loc[data['C.35 Ayutthaya (Chao Phraya R.)']-data['critical_wat_lev_C.35'] >=-0.2 , 'Class_C.35'] = 1 ## ไม่ท่วม\r\n",
    "data.loc[data['C.35 Ayutthaya (Chao Phraya R.)']-data['critical_wat_lev_C.35'] <-0.2 , 'Class_C.35'] = 0  ## ท่วม"
   ]
  },
  {
   "cell_type": "code",
   "execution_count": 76,
   "metadata": {},
   "outputs": [
    {
     "data": {
      "text/html": "<div>\n<style scoped>\n    .dataframe tbody tr th:only-of-type {\n        vertical-align: middle;\n    }\n\n    .dataframe tbody tr th {\n        vertical-align: top;\n    }\n\n    .dataframe thead th {\n        text-align: right;\n    }\n</style>\n<table border=\"1\" class=\"dataframe\">\n  <thead>\n    <tr style=\"text-align: right;\">\n      <th></th>\n      <th>C.35 Ayutthaya (Chao Phraya R.)</th>\n      <th>S.5 Ayutthaya (Pa Sak R.)</th>\n      <th>C.7A Ang Thong (Chao Phraya R.)</th>\n      <th>S.26 Tha Ruea (Pa Sak R.)</th>\n      <th>C.13 Sapphaya (Chao Phraya r.)</th>\n      <th>S.9 Kaeng Khoi (Pa Sak r.)</th>\n      <th>C.35 river/brae</th>\n      <th>S.5 river/brae</th>\n      <th>C.7A river/brae</th>\n      <th>S.26 river/brae</th>\n      <th>date</th>\n      <th>critical_wat_lev_C.35</th>\n      <th>critical_wat_lev_S.5</th>\n      <th>Class_C.35</th>\n      <th>Class_S.5</th>\n    </tr>\n  </thead>\n  <tbody>\n    <tr>\n      <th>0</th>\n      <td>0.74</td>\n      <td>0.79</td>\n      <td>1.02</td>\n      <td>0.70</td>\n      <td>0.0</td>\n      <td>0.0</td>\n      <td>0.161572</td>\n      <td>0.168085</td>\n      <td>0.102</td>\n      <td>0.08750</td>\n      <td>2020-08-18</td>\n      <td>3.2</td>\n      <td>3</td>\n      <td>0.0</td>\n      <td>1.0</td>\n    </tr>\n    <tr>\n      <th>1</th>\n      <td>0.68</td>\n      <td>0.76</td>\n      <td>0.87</td>\n      <td>0.65</td>\n      <td>0.0</td>\n      <td>2.0</td>\n      <td>0.148472</td>\n      <td>0.161702</td>\n      <td>0.087</td>\n      <td>0.08125</td>\n      <td>2020-08-19</td>\n      <td>3.2</td>\n      <td>3</td>\n      <td>0.0</td>\n      <td>1.0</td>\n    </tr>\n    <tr>\n      <th>2</th>\n      <td>0.30</td>\n      <td>0.64</td>\n      <td>0.85</td>\n      <td>0.64</td>\n      <td>0.0</td>\n      <td>0.5</td>\n      <td>0.065502</td>\n      <td>0.136170</td>\n      <td>0.085</td>\n      <td>0.08000</td>\n      <td>2020-08-20</td>\n      <td>3.2</td>\n      <td>3</td>\n      <td>0.0</td>\n      <td>1.0</td>\n    </tr>\n    <tr>\n      <th>3</th>\n      <td>0.33</td>\n      <td>0.67</td>\n      <td>0.90</td>\n      <td>0.73</td>\n      <td>3.0</td>\n      <td>1.5</td>\n      <td>0.072052</td>\n      <td>0.142553</td>\n      <td>0.090</td>\n      <td>0.09125</td>\n      <td>2020-08-21</td>\n      <td>3.2</td>\n      <td>3</td>\n      <td>0.0</td>\n      <td>1.0</td>\n    </tr>\n    <tr>\n      <th>4</th>\n      <td>0.62</td>\n      <td>0.59</td>\n      <td>0.90</td>\n      <td>0.79</td>\n      <td>8.0</td>\n      <td>12.5</td>\n      <td>0.135371</td>\n      <td>0.125532</td>\n      <td>0.090</td>\n      <td>0.09875</td>\n      <td>2020-08-22</td>\n      <td>3.2</td>\n      <td>3</td>\n      <td>0.0</td>\n      <td>1.0</td>\n    </tr>\n    <tr>\n      <th>...</th>\n      <td>...</td>\n      <td>...</td>\n      <td>...</td>\n      <td>...</td>\n      <td>...</td>\n      <td>...</td>\n      <td>...</td>\n      <td>...</td>\n      <td>...</td>\n      <td>...</td>\n      <td>...</td>\n      <td>...</td>\n      <td>...</td>\n      <td>...</td>\n      <td>...</td>\n    </tr>\n    <tr>\n      <th>83</th>\n      <td>4.19</td>\n      <td>2.77</td>\n      <td>7.82</td>\n      <td>3.44</td>\n      <td>35.3</td>\n      <td>0.0</td>\n      <td>0.914847</td>\n      <td>0.589362</td>\n      <td>0.782</td>\n      <td>0.43000</td>\n      <td>2021-09-26</td>\n      <td>3.2</td>\n      <td>3</td>\n      <td>1.0</td>\n      <td>1.0</td>\n    </tr>\n    <tr>\n      <th>84</th>\n      <td>4.51</td>\n      <td>2.98</td>\n      <td>8.31</td>\n      <td>3.97</td>\n      <td>5.5</td>\n      <td>0.5</td>\n      <td>0.984716</td>\n      <td>0.634043</td>\n      <td>0.831</td>\n      <td>0.49625</td>\n      <td>2021-09-27</td>\n      <td>3.2</td>\n      <td>3</td>\n      <td>1.0</td>\n      <td>1.0</td>\n    </tr>\n    <tr>\n      <th>85</th>\n      <td>4.79</td>\n      <td>3.21</td>\n      <td>8.60</td>\n      <td>4.39</td>\n      <td>0.0</td>\n      <td>0.0</td>\n      <td>1.045852</td>\n      <td>0.682979</td>\n      <td>0.860</td>\n      <td>0.54875</td>\n      <td>2021-09-28</td>\n      <td>3.2</td>\n      <td>3</td>\n      <td>1.0</td>\n      <td>1.0</td>\n    </tr>\n    <tr>\n      <th>86</th>\n      <td>4.97</td>\n      <td>3.41</td>\n      <td>8.86</td>\n      <td>5.38</td>\n      <td>0.0</td>\n      <td>0.0</td>\n      <td>1.085153</td>\n      <td>0.725532</td>\n      <td>0.886</td>\n      <td>0.67250</td>\n      <td>2021-09-29</td>\n      <td>3.2</td>\n      <td>3</td>\n      <td>1.0</td>\n      <td>1.0</td>\n    </tr>\n    <tr>\n      <th>87</th>\n      <td>5.19</td>\n      <td>3.75</td>\n      <td>9.07</td>\n      <td>7.18</td>\n      <td>0.0</td>\n      <td>0.0</td>\n      <td>1.133188</td>\n      <td>0.797872</td>\n      <td>0.907</td>\n      <td>0.89750</td>\n      <td>2021-09-30</td>\n      <td>3.2</td>\n      <td>3</td>\n      <td>1.0</td>\n      <td>1.0</td>\n    </tr>\n  </tbody>\n</table>\n<p>88 rows × 15 columns</p>\n</div>",
      "text/plain": "    C.35 Ayutthaya (Chao Phraya R.)  S.5 Ayutthaya (Pa Sak R.)  \\\n0                              0.74                       0.79   \n1                              0.68                       0.76   \n2                              0.30                       0.64   \n3                              0.33                       0.67   \n4                              0.62                       0.59   \n..                              ...                        ...   \n83                             4.19                       2.77   \n84                             4.51                       2.98   \n85                             4.79                       3.21   \n86                             4.97                       3.41   \n87                             5.19                       3.75   \n\n    C.7A Ang Thong (Chao Phraya R.)  S.26 Tha Ruea (Pa Sak R.)  \\\n0                              1.02                       0.70   \n1                              0.87                       0.65   \n2                              0.85                       0.64   \n3                              0.90                       0.73   \n4                              0.90                       0.79   \n..                              ...                        ...   \n83                             7.82                       3.44   \n84                             8.31                       3.97   \n85                             8.60                       4.39   \n86                             8.86                       5.38   \n87                             9.07                       7.18   \n\n    C.13 Sapphaya (Chao Phraya r.)  S.9 Kaeng Khoi (Pa Sak r.)  \\\n0                              0.0                         0.0   \n1                              0.0                         2.0   \n2                              0.0                         0.5   \n3                              3.0                         1.5   \n4                              8.0                        12.5   \n..                             ...                         ...   \n83                            35.3                         0.0   \n84                             5.5                         0.5   \n85                             0.0                         0.0   \n86                             0.0                         0.0   \n87                             0.0                         0.0   \n\n    C.35 river/brae  S.5 river/brae  C.7A river/brae  S.26 river/brae  \\\n0          0.161572        0.168085            0.102          0.08750   \n1          0.148472        0.161702            0.087          0.08125   \n2          0.065502        0.136170            0.085          0.08000   \n3          0.072052        0.142553            0.090          0.09125   \n4          0.135371        0.125532            0.090          0.09875   \n..              ...             ...              ...              ...   \n83         0.914847        0.589362            0.782          0.43000   \n84         0.984716        0.634043            0.831          0.49625   \n85         1.045852        0.682979            0.860          0.54875   \n86         1.085153        0.725532            0.886          0.67250   \n87         1.133188        0.797872            0.907          0.89750   \n\n          date  critical_wat_lev_C.35  critical_wat_lev_S.5  Class_C.35  \\\n0   2020-08-18                    3.2                     3         0.0   \n1   2020-08-19                    3.2                     3         0.0   \n2   2020-08-20                    3.2                     3         0.0   \n3   2020-08-21                    3.2                     3         0.0   \n4   2020-08-22                    3.2                     3         0.0   \n..         ...                    ...                   ...         ...   \n83  2021-09-26                    3.2                     3         1.0   \n84  2021-09-27                    3.2                     3         1.0   \n85  2021-09-28                    3.2                     3         1.0   \n86  2021-09-29                    3.2                     3         1.0   \n87  2021-09-30                    3.2                     3         1.0   \n\n    Class_S.5  \n0         1.0  \n1         1.0  \n2         1.0  \n3         1.0  \n4         1.0  \n..        ...  \n83        1.0  \n84        1.0  \n85        1.0  \n86        1.0  \n87        1.0  \n\n[88 rows x 15 columns]"
     },
     "execution_count": 76,
     "metadata": {},
     "output_type": "execute_result"
    }
   ],
   "source": [
    "data"
   ]
  },
  {
   "cell_type": "code",
   "execution_count": 77,
   "metadata": {},
   "outputs": [],
   "source": [
    "data.loc[data['S.5 Ayutthaya (Pa Sak R.)']-data['critical_wat_lev_S.5'] >=-0.2 , 'Class_S.5'] = 1 ## Flood\r\n",
    "data.loc[data['S.5 Ayutthaya (Pa Sak R.)']-data['critical_wat_lev_S.5'] <-0.2 , 'Class_S.5'] = 0  ## None Flood"
   ]
  },
  {
   "cell_type": "code",
   "execution_count": 78,
   "metadata": {},
   "outputs": [
    {
     "data": {
      "text/html": "<div>\n<style scoped>\n    .dataframe tbody tr th:only-of-type {\n        vertical-align: middle;\n    }\n\n    .dataframe tbody tr th {\n        vertical-align: top;\n    }\n\n    .dataframe thead th {\n        text-align: right;\n    }\n</style>\n<table border=\"1\" class=\"dataframe\">\n  <thead>\n    <tr style=\"text-align: right;\">\n      <th></th>\n      <th>C.35 Ayutthaya (Chao Phraya R.)</th>\n      <th>S.5 Ayutthaya (Pa Sak R.)</th>\n      <th>C.7A Ang Thong (Chao Phraya R.)</th>\n      <th>S.26 Tha Ruea (Pa Sak R.)</th>\n      <th>C.13 Sapphaya (Chao Phraya r.)</th>\n      <th>S.9 Kaeng Khoi (Pa Sak r.)</th>\n      <th>C.35 river/brae</th>\n      <th>S.5 river/brae</th>\n      <th>C.7A river/brae</th>\n      <th>S.26 river/brae</th>\n      <th>date</th>\n      <th>critical_wat_lev_C.35</th>\n      <th>critical_wat_lev_S.5</th>\n      <th>Class_C.35</th>\n      <th>Class_S.5</th>\n    </tr>\n  </thead>\n  <tbody>\n    <tr>\n      <th>0</th>\n      <td>0.74</td>\n      <td>0.79</td>\n      <td>1.02</td>\n      <td>0.70</td>\n      <td>0.0</td>\n      <td>0.0</td>\n      <td>0.161572</td>\n      <td>0.168085</td>\n      <td>0.102</td>\n      <td>0.08750</td>\n      <td>2020-08-18</td>\n      <td>3.2</td>\n      <td>3</td>\n      <td>0.0</td>\n      <td>0.0</td>\n    </tr>\n    <tr>\n      <th>1</th>\n      <td>0.68</td>\n      <td>0.76</td>\n      <td>0.87</td>\n      <td>0.65</td>\n      <td>0.0</td>\n      <td>2.0</td>\n      <td>0.148472</td>\n      <td>0.161702</td>\n      <td>0.087</td>\n      <td>0.08125</td>\n      <td>2020-08-19</td>\n      <td>3.2</td>\n      <td>3</td>\n      <td>0.0</td>\n      <td>0.0</td>\n    </tr>\n    <tr>\n      <th>2</th>\n      <td>0.30</td>\n      <td>0.64</td>\n      <td>0.85</td>\n      <td>0.64</td>\n      <td>0.0</td>\n      <td>0.5</td>\n      <td>0.065502</td>\n      <td>0.136170</td>\n      <td>0.085</td>\n      <td>0.08000</td>\n      <td>2020-08-20</td>\n      <td>3.2</td>\n      <td>3</td>\n      <td>0.0</td>\n      <td>0.0</td>\n    </tr>\n    <tr>\n      <th>3</th>\n      <td>0.33</td>\n      <td>0.67</td>\n      <td>0.90</td>\n      <td>0.73</td>\n      <td>3.0</td>\n      <td>1.5</td>\n      <td>0.072052</td>\n      <td>0.142553</td>\n      <td>0.090</td>\n      <td>0.09125</td>\n      <td>2020-08-21</td>\n      <td>3.2</td>\n      <td>3</td>\n      <td>0.0</td>\n      <td>0.0</td>\n    </tr>\n    <tr>\n      <th>4</th>\n      <td>0.62</td>\n      <td>0.59</td>\n      <td>0.90</td>\n      <td>0.79</td>\n      <td>8.0</td>\n      <td>12.5</td>\n      <td>0.135371</td>\n      <td>0.125532</td>\n      <td>0.090</td>\n      <td>0.09875</td>\n      <td>2020-08-22</td>\n      <td>3.2</td>\n      <td>3</td>\n      <td>0.0</td>\n      <td>0.0</td>\n    </tr>\n  </tbody>\n</table>\n</div>",
      "text/plain": "   C.35 Ayutthaya (Chao Phraya R.)  S.5 Ayutthaya (Pa Sak R.)  \\\n0                             0.74                       0.79   \n1                             0.68                       0.76   \n2                             0.30                       0.64   \n3                             0.33                       0.67   \n4                             0.62                       0.59   \n\n   C.7A Ang Thong (Chao Phraya R.)  S.26 Tha Ruea (Pa Sak R.)  \\\n0                             1.02                       0.70   \n1                             0.87                       0.65   \n2                             0.85                       0.64   \n3                             0.90                       0.73   \n4                             0.90                       0.79   \n\n   C.13 Sapphaya (Chao Phraya r.)  S.9 Kaeng Khoi (Pa Sak r.)  \\\n0                             0.0                         0.0   \n1                             0.0                         2.0   \n2                             0.0                         0.5   \n3                             3.0                         1.5   \n4                             8.0                        12.5   \n\n   C.35 river/brae  S.5 river/brae  C.7A river/brae  S.26 river/brae  \\\n0         0.161572        0.168085            0.102          0.08750   \n1         0.148472        0.161702            0.087          0.08125   \n2         0.065502        0.136170            0.085          0.08000   \n3         0.072052        0.142553            0.090          0.09125   \n4         0.135371        0.125532            0.090          0.09875   \n\n         date  critical_wat_lev_C.35  critical_wat_lev_S.5  Class_C.35  \\\n0  2020-08-18                    3.2                     3         0.0   \n1  2020-08-19                    3.2                     3         0.0   \n2  2020-08-20                    3.2                     3         0.0   \n3  2020-08-21                    3.2                     3         0.0   \n4  2020-08-22                    3.2                     3         0.0   \n\n   Class_S.5  \n0        0.0  \n1        0.0  \n2        0.0  \n3        0.0  \n4        0.0  "
     },
     "execution_count": 78,
     "metadata": {},
     "output_type": "execute_result"
    }
   ],
   "source": [
    "data.head()"
   ]
  },
  {
   "cell_type": "markdown",
   "metadata": {},
   "source": [
    "## Imbalance data !!!!"
   ]
  },
  {
   "cell_type": "code",
   "execution_count": 79,
   "metadata": {},
   "outputs": [
    {
     "data": {
      "text/html": "<div>\n<style scoped>\n    .dataframe tbody tr th:only-of-type {\n        vertical-align: middle;\n    }\n\n    .dataframe tbody tr th {\n        vertical-align: top;\n    }\n\n    .dataframe thead th {\n        text-align: right;\n    }\n</style>\n<table border=\"1\" class=\"dataframe\">\n  <thead>\n    <tr style=\"text-align: right;\">\n      <th></th>\n      <th>Class_C.35</th>\n      <th>counts</th>\n    </tr>\n  </thead>\n  <tbody>\n    <tr>\n      <th>0</th>\n      <td>0.0</td>\n      <td>79</td>\n    </tr>\n    <tr>\n      <th>1</th>\n      <td>1.0</td>\n      <td>9</td>\n    </tr>\n  </tbody>\n</table>\n</div>",
      "text/plain": "   Class_C.35  counts\n0         0.0      79\n1         1.0       9"
     },
     "execution_count": 79,
     "metadata": {},
     "output_type": "execute_result"
    }
   ],
   "source": [
    "data.groupby(['Class_C.35']).size().reset_index(name='counts')\r\n"
   ]
  },
  {
   "cell_type": "code",
   "execution_count": 80,
   "metadata": {},
   "outputs": [
    {
     "data": {
      "text/html": "<div>\n<style scoped>\n    .dataframe tbody tr th:only-of-type {\n        vertical-align: middle;\n    }\n\n    .dataframe tbody tr th {\n        vertical-align: top;\n    }\n\n    .dataframe thead th {\n        text-align: right;\n    }\n</style>\n<table border=\"1\" class=\"dataframe\">\n  <thead>\n    <tr style=\"text-align: right;\">\n      <th></th>\n      <th>Class_S.5</th>\n      <th>counts</th>\n    </tr>\n  </thead>\n  <tbody>\n    <tr>\n      <th>0</th>\n      <td>0.0</td>\n      <td>84</td>\n    </tr>\n    <tr>\n      <th>1</th>\n      <td>1.0</td>\n      <td>4</td>\n    </tr>\n  </tbody>\n</table>\n</div>",
      "text/plain": "   Class_S.5  counts\n0        0.0      84\n1        1.0       4"
     },
     "execution_count": 80,
     "metadata": {},
     "output_type": "execute_result"
    }
   ],
   "source": [
    "data.groupby(['Class_S.5']).size().reset_index(name='counts')"
   ]
  }
 ],
 "metadata": {
  "language_info": {
   "name": "python",
   "nbconvert_exporter": "python"
  },
  "orig_nbformat": 2
 },
 "nbformat": 4,
 "nbformat_minor": 2
}