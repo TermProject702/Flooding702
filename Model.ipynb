{
  "nbformat": 4,
  "nbformat_minor": 0,
  "metadata": {
    "kernelspec": {
      "name": "python3",
      "language": "python",
      "display_name": "Python 3 (ipykernel)"
    },
    "language_info": {
      "codemirror_mode": {
        "name": "ipython",
        "version": 3
      },
      "file_extension": ".py",
      "mimetype": "text/x-python",
      "name": "python",
      "nbconvert_exporter": "python",
      "pygments_lexer": "ipython3",
      "version": "3.8.5"
    },
    "orig_nbformat": 3,
    "colab": {
      "name": "Model.ipynb",
      "provenance": []
    }
  },
  "cells": [
    {
      "cell_type": "code",
      "metadata": {
        "id": "fWdhCDXc3y-H"
      },
      "source": [
        "import pandas as pd \n",
        "import numpy as np\n",
        "from sklearn.metrics import classification_report ## show model report summary\n",
        "from sklearn.neighbors import KNeighborsClassifier ## use to find the proper neighbor values\n",
        "from sklearn.model_selection import train_test_split\n",
        "from sklearn.metrics import confusion_matrix\n",
        "from sklearn.model_selection import KFold\n",
        "from sklearn.model_selection import GridSearchCV \n",
        "from sklearn.model_selection import learning_curve\n",
        "from sklearn.linear_model import LogisticRegression\n",
        "from sklearn.metrics import plot_confusion_matrix\n",
        "from imblearn.over_sampling import SMOTE\n",
        "import warnings\n",
        "warnings.filterwarnings(\"ignore\")\n",
        "from sklearn.metrics import plot_roc_curve,accuracy_score\n",
        "import matplotlib.pyplot as plt\n",
        "import seaborn as sns\n",
        "from sklearn.model_selection import validation_curve, cross_val_score\n",
        "%matplotlib inline"
      ],
      "execution_count": 188,
      "outputs": []
    },
    {
      "cell_type": "code",
      "metadata": {
        "id": "jjVkj6w43y-L"
      },
      "source": [
        "data = pd.read_csv(\"DataPrep.csv\")"
      ],
      "execution_count": 189,
      "outputs": []
    },
    {
      "cell_type": "code",
      "metadata": {
        "id": "3sT3jA273y-M",
        "colab": {
          "base_uri": "https://localhost:8080/",
          "height": 356
        },
        "outputId": "b1965113-3177-4ce3-8d34-970b2a667718"
      },
      "source": [
        "data.head(5)"
      ],
      "execution_count": 190,
      "outputs": [
        {
          "output_type": "execute_result",
          "data": {
            "text/html": [
              "<div>\n",
              "<style scoped>\n",
              "    .dataframe tbody tr th:only-of-type {\n",
              "        vertical-align: middle;\n",
              "    }\n",
              "\n",
              "    .dataframe tbody tr th {\n",
              "        vertical-align: top;\n",
              "    }\n",
              "\n",
              "    .dataframe thead th {\n",
              "        text-align: right;\n",
              "    }\n",
              "</style>\n",
              "<table border=\"1\" class=\"dataframe\">\n",
              "  <thead>\n",
              "    <tr style=\"text-align: right;\">\n",
              "      <th></th>\n",
              "      <th>Unnamed: 0</th>\n",
              "      <th>C.35 Ayutthaya (Chao Phraya R.)</th>\n",
              "      <th>S.5 Ayutthaya (Pa Sak R.)</th>\n",
              "      <th>C.7A Ang Thong (Chao Phraya R.)</th>\n",
              "      <th>S.26 Tha Ruea (Pa Sak R.)</th>\n",
              "      <th>C.13 Sapphaya (Chao Phraya r.)</th>\n",
              "      <th>S.9 Kaeng Khoi (Pa Sak r.)</th>\n",
              "      <th>C.35 river/brae</th>\n",
              "      <th>S.5 river/brae</th>\n",
              "      <th>C.7A river/brae</th>\n",
              "      <th>S.26 river/brae</th>\n",
              "      <th>date</th>\n",
              "      <th>critical_wat_lev_C.35</th>\n",
              "      <th>critical_wat_lev_S.5</th>\n",
              "      <th>Class_C.35</th>\n",
              "      <th>Class_S.5</th>\n",
              "    </tr>\n",
              "  </thead>\n",
              "  <tbody>\n",
              "    <tr>\n",
              "      <th>0</th>\n",
              "      <td>0</td>\n",
              "      <td>0.74</td>\n",
              "      <td>0.79</td>\n",
              "      <td>1.02</td>\n",
              "      <td>0.70</td>\n",
              "      <td>0.0</td>\n",
              "      <td>0.0</td>\n",
              "      <td>0.161572</td>\n",
              "      <td>0.168085</td>\n",
              "      <td>0.102</td>\n",
              "      <td>0.08750</td>\n",
              "      <td>2020-08-18</td>\n",
              "      <td>3.2</td>\n",
              "      <td>3</td>\n",
              "      <td>0.0</td>\n",
              "      <td>0.0</td>\n",
              "    </tr>\n",
              "    <tr>\n",
              "      <th>1</th>\n",
              "      <td>1</td>\n",
              "      <td>0.68</td>\n",
              "      <td>0.76</td>\n",
              "      <td>0.87</td>\n",
              "      <td>0.65</td>\n",
              "      <td>0.0</td>\n",
              "      <td>2.0</td>\n",
              "      <td>0.148472</td>\n",
              "      <td>0.161702</td>\n",
              "      <td>0.087</td>\n",
              "      <td>0.08125</td>\n",
              "      <td>2020-08-19</td>\n",
              "      <td>3.2</td>\n",
              "      <td>3</td>\n",
              "      <td>0.0</td>\n",
              "      <td>0.0</td>\n",
              "    </tr>\n",
              "    <tr>\n",
              "      <th>2</th>\n",
              "      <td>2</td>\n",
              "      <td>0.30</td>\n",
              "      <td>0.64</td>\n",
              "      <td>0.85</td>\n",
              "      <td>0.64</td>\n",
              "      <td>0.0</td>\n",
              "      <td>0.5</td>\n",
              "      <td>0.065502</td>\n",
              "      <td>0.136170</td>\n",
              "      <td>0.085</td>\n",
              "      <td>0.08000</td>\n",
              "      <td>2020-08-20</td>\n",
              "      <td>3.2</td>\n",
              "      <td>3</td>\n",
              "      <td>0.0</td>\n",
              "      <td>0.0</td>\n",
              "    </tr>\n",
              "    <tr>\n",
              "      <th>3</th>\n",
              "      <td>3</td>\n",
              "      <td>0.33</td>\n",
              "      <td>0.67</td>\n",
              "      <td>0.90</td>\n",
              "      <td>0.73</td>\n",
              "      <td>3.0</td>\n",
              "      <td>1.5</td>\n",
              "      <td>0.072052</td>\n",
              "      <td>0.142553</td>\n",
              "      <td>0.090</td>\n",
              "      <td>0.09125</td>\n",
              "      <td>2020-08-21</td>\n",
              "      <td>3.2</td>\n",
              "      <td>3</td>\n",
              "      <td>0.0</td>\n",
              "      <td>0.0</td>\n",
              "    </tr>\n",
              "    <tr>\n",
              "      <th>4</th>\n",
              "      <td>4</td>\n",
              "      <td>0.62</td>\n",
              "      <td>0.59</td>\n",
              "      <td>0.90</td>\n",
              "      <td>0.79</td>\n",
              "      <td>8.0</td>\n",
              "      <td>12.5</td>\n",
              "      <td>0.135371</td>\n",
              "      <td>0.125532</td>\n",
              "      <td>0.090</td>\n",
              "      <td>0.09875</td>\n",
              "      <td>2020-08-22</td>\n",
              "      <td>3.2</td>\n",
              "      <td>3</td>\n",
              "      <td>0.0</td>\n",
              "      <td>0.0</td>\n",
              "    </tr>\n",
              "  </tbody>\n",
              "</table>\n",
              "</div>"
            ],
            "text/plain": [
              "   Unnamed: 0  C.35 Ayutthaya (Chao Phraya R.)  ...  Class_C.35  Class_S.5\n",
              "0           0                             0.74  ...         0.0        0.0\n",
              "1           1                             0.68  ...         0.0        0.0\n",
              "2           2                             0.30  ...         0.0        0.0\n",
              "3           3                             0.33  ...         0.0        0.0\n",
              "4           4                             0.62  ...         0.0        0.0\n",
              "\n",
              "[5 rows x 16 columns]"
            ]
          },
          "metadata": {},
          "execution_count": 190
        }
      ]
    },
    {
      "cell_type": "code",
      "metadata": {
        "id": "j4niFcsI3y-N",
        "colab": {
          "base_uri": "https://localhost:8080/"
        },
        "outputId": "5214ddaf-67b8-4827-af82-686dd04b0bd6"
      },
      "source": [
        "data.isna().sum()"
      ],
      "execution_count": 191,
      "outputs": [
        {
          "output_type": "execute_result",
          "data": {
            "text/plain": [
              "Unnamed: 0                         0\n",
              "C.35 Ayutthaya (Chao Phraya R.)    0\n",
              "S.5 Ayutthaya (Pa Sak R.)          0\n",
              "C.7A Ang Thong (Chao Phraya R.)    0\n",
              "S.26 Tha Ruea (Pa Sak R.)          0\n",
              "C.13 Sapphaya (Chao Phraya r.)     0\n",
              "S.9 Kaeng Khoi (Pa Sak r.)         0\n",
              "C.35 river/brae                    0\n",
              "S.5 river/brae                     0\n",
              "C.7A river/brae                    0\n",
              "S.26 river/brae                    0\n",
              "date                               0\n",
              "critical_wat_lev_C.35              0\n",
              "critical_wat_lev_S.5               0\n",
              "Class_C.35                         0\n",
              "Class_S.5                          0\n",
              "dtype: int64"
            ]
          },
          "metadata": {},
          "execution_count": 191
        }
      ]
    },
    {
      "cell_type": "code",
      "metadata": {
        "id": "DxJbLbYw3y-N"
      },
      "source": [
        "X = data.drop(columns=['Unnamed: 0', 'C.35 Ayutthaya (Chao Phraya R.)', 'S.5 Ayutthaya (Pa Sak R.)', 'Class_C.35', 'Class_S.5','date'])\n",
        "y = data[['Class_C.35', 'Class_S.5']]"
      ],
      "execution_count": 192,
      "outputs": []
    },
    {
      "cell_type": "code",
      "metadata": {
        "id": "MEv09auF3y-N",
        "colab": {
          "base_uri": "https://localhost:8080/",
          "height": 418
        },
        "outputId": "2c0ea719-c0bd-43ed-80f3-b7e4e73617d5"
      },
      "source": [
        "y"
      ],
      "execution_count": 193,
      "outputs": [
        {
          "output_type": "execute_result",
          "data": {
            "text/html": [
              "<div>\n",
              "<style scoped>\n",
              "    .dataframe tbody tr th:only-of-type {\n",
              "        vertical-align: middle;\n",
              "    }\n",
              "\n",
              "    .dataframe tbody tr th {\n",
              "        vertical-align: top;\n",
              "    }\n",
              "\n",
              "    .dataframe thead th {\n",
              "        text-align: right;\n",
              "    }\n",
              "</style>\n",
              "<table border=\"1\" class=\"dataframe\">\n",
              "  <thead>\n",
              "    <tr style=\"text-align: right;\">\n",
              "      <th></th>\n",
              "      <th>Class_C.35</th>\n",
              "      <th>Class_S.5</th>\n",
              "    </tr>\n",
              "  </thead>\n",
              "  <tbody>\n",
              "    <tr>\n",
              "      <th>0</th>\n",
              "      <td>0.0</td>\n",
              "      <td>0.0</td>\n",
              "    </tr>\n",
              "    <tr>\n",
              "      <th>1</th>\n",
              "      <td>0.0</td>\n",
              "      <td>0.0</td>\n",
              "    </tr>\n",
              "    <tr>\n",
              "      <th>2</th>\n",
              "      <td>0.0</td>\n",
              "      <td>0.0</td>\n",
              "    </tr>\n",
              "    <tr>\n",
              "      <th>3</th>\n",
              "      <td>0.0</td>\n",
              "      <td>0.0</td>\n",
              "    </tr>\n",
              "    <tr>\n",
              "      <th>4</th>\n",
              "      <td>0.0</td>\n",
              "      <td>0.0</td>\n",
              "    </tr>\n",
              "    <tr>\n",
              "      <th>...</th>\n",
              "      <td>...</td>\n",
              "      <td>...</td>\n",
              "    </tr>\n",
              "    <tr>\n",
              "      <th>83</th>\n",
              "      <td>1.0</td>\n",
              "      <td>0.0</td>\n",
              "    </tr>\n",
              "    <tr>\n",
              "      <th>84</th>\n",
              "      <td>1.0</td>\n",
              "      <td>1.0</td>\n",
              "    </tr>\n",
              "    <tr>\n",
              "      <th>85</th>\n",
              "      <td>1.0</td>\n",
              "      <td>1.0</td>\n",
              "    </tr>\n",
              "    <tr>\n",
              "      <th>86</th>\n",
              "      <td>1.0</td>\n",
              "      <td>1.0</td>\n",
              "    </tr>\n",
              "    <tr>\n",
              "      <th>87</th>\n",
              "      <td>1.0</td>\n",
              "      <td>1.0</td>\n",
              "    </tr>\n",
              "  </tbody>\n",
              "</table>\n",
              "<p>88 rows × 2 columns</p>\n",
              "</div>"
            ],
            "text/plain": [
              "    Class_C.35  Class_S.5\n",
              "0          0.0        0.0\n",
              "1          0.0        0.0\n",
              "2          0.0        0.0\n",
              "3          0.0        0.0\n",
              "4          0.0        0.0\n",
              "..         ...        ...\n",
              "83         1.0        0.0\n",
              "84         1.0        1.0\n",
              "85         1.0        1.0\n",
              "86         1.0        1.0\n",
              "87         1.0        1.0\n",
              "\n",
              "[88 rows x 2 columns]"
            ]
          },
          "metadata": {},
          "execution_count": 193
        }
      ]
    },
    {
      "cell_type": "code",
      "metadata": {
        "id": "MHQLz9Qy3y-O",
        "colab": {
          "base_uri": "https://localhost:8080/",
          "height": 435
        },
        "outputId": "fec0e4de-1f56-4b05-e38a-553879417626"
      },
      "source": [
        "X"
      ],
      "execution_count": 194,
      "outputs": [
        {
          "output_type": "execute_result",
          "data": {
            "text/html": [
              "<div>\n",
              "<style scoped>\n",
              "    .dataframe tbody tr th:only-of-type {\n",
              "        vertical-align: middle;\n",
              "    }\n",
              "\n",
              "    .dataframe tbody tr th {\n",
              "        vertical-align: top;\n",
              "    }\n",
              "\n",
              "    .dataframe thead th {\n",
              "        text-align: right;\n",
              "    }\n",
              "</style>\n",
              "<table border=\"1\" class=\"dataframe\">\n",
              "  <thead>\n",
              "    <tr style=\"text-align: right;\">\n",
              "      <th></th>\n",
              "      <th>C.7A Ang Thong (Chao Phraya R.)</th>\n",
              "      <th>S.26 Tha Ruea (Pa Sak R.)</th>\n",
              "      <th>C.13 Sapphaya (Chao Phraya r.)</th>\n",
              "      <th>S.9 Kaeng Khoi (Pa Sak r.)</th>\n",
              "      <th>C.35 river/brae</th>\n",
              "      <th>S.5 river/brae</th>\n",
              "      <th>C.7A river/brae</th>\n",
              "      <th>S.26 river/brae</th>\n",
              "      <th>critical_wat_lev_C.35</th>\n",
              "      <th>critical_wat_lev_S.5</th>\n",
              "    </tr>\n",
              "  </thead>\n",
              "  <tbody>\n",
              "    <tr>\n",
              "      <th>0</th>\n",
              "      <td>1.02</td>\n",
              "      <td>0.70</td>\n",
              "      <td>0.0</td>\n",
              "      <td>0.0</td>\n",
              "      <td>0.161572</td>\n",
              "      <td>0.168085</td>\n",
              "      <td>0.102</td>\n",
              "      <td>0.08750</td>\n",
              "      <td>3.2</td>\n",
              "      <td>3</td>\n",
              "    </tr>\n",
              "    <tr>\n",
              "      <th>1</th>\n",
              "      <td>0.87</td>\n",
              "      <td>0.65</td>\n",
              "      <td>0.0</td>\n",
              "      <td>2.0</td>\n",
              "      <td>0.148472</td>\n",
              "      <td>0.161702</td>\n",
              "      <td>0.087</td>\n",
              "      <td>0.08125</td>\n",
              "      <td>3.2</td>\n",
              "      <td>3</td>\n",
              "    </tr>\n",
              "    <tr>\n",
              "      <th>2</th>\n",
              "      <td>0.85</td>\n",
              "      <td>0.64</td>\n",
              "      <td>0.0</td>\n",
              "      <td>0.5</td>\n",
              "      <td>0.065502</td>\n",
              "      <td>0.136170</td>\n",
              "      <td>0.085</td>\n",
              "      <td>0.08000</td>\n",
              "      <td>3.2</td>\n",
              "      <td>3</td>\n",
              "    </tr>\n",
              "    <tr>\n",
              "      <th>3</th>\n",
              "      <td>0.90</td>\n",
              "      <td>0.73</td>\n",
              "      <td>3.0</td>\n",
              "      <td>1.5</td>\n",
              "      <td>0.072052</td>\n",
              "      <td>0.142553</td>\n",
              "      <td>0.090</td>\n",
              "      <td>0.09125</td>\n",
              "      <td>3.2</td>\n",
              "      <td>3</td>\n",
              "    </tr>\n",
              "    <tr>\n",
              "      <th>4</th>\n",
              "      <td>0.90</td>\n",
              "      <td>0.79</td>\n",
              "      <td>8.0</td>\n",
              "      <td>12.5</td>\n",
              "      <td>0.135371</td>\n",
              "      <td>0.125532</td>\n",
              "      <td>0.090</td>\n",
              "      <td>0.09875</td>\n",
              "      <td>3.2</td>\n",
              "      <td>3</td>\n",
              "    </tr>\n",
              "    <tr>\n",
              "      <th>...</th>\n",
              "      <td>...</td>\n",
              "      <td>...</td>\n",
              "      <td>...</td>\n",
              "      <td>...</td>\n",
              "      <td>...</td>\n",
              "      <td>...</td>\n",
              "      <td>...</td>\n",
              "      <td>...</td>\n",
              "      <td>...</td>\n",
              "      <td>...</td>\n",
              "    </tr>\n",
              "    <tr>\n",
              "      <th>83</th>\n",
              "      <td>7.82</td>\n",
              "      <td>3.44</td>\n",
              "      <td>35.3</td>\n",
              "      <td>0.0</td>\n",
              "      <td>0.914847</td>\n",
              "      <td>0.589362</td>\n",
              "      <td>0.782</td>\n",
              "      <td>0.43000</td>\n",
              "      <td>3.2</td>\n",
              "      <td>3</td>\n",
              "    </tr>\n",
              "    <tr>\n",
              "      <th>84</th>\n",
              "      <td>8.31</td>\n",
              "      <td>3.97</td>\n",
              "      <td>5.5</td>\n",
              "      <td>0.5</td>\n",
              "      <td>0.984716</td>\n",
              "      <td>0.634043</td>\n",
              "      <td>0.831</td>\n",
              "      <td>0.49625</td>\n",
              "      <td>3.2</td>\n",
              "      <td>3</td>\n",
              "    </tr>\n",
              "    <tr>\n",
              "      <th>85</th>\n",
              "      <td>8.60</td>\n",
              "      <td>4.39</td>\n",
              "      <td>0.0</td>\n",
              "      <td>0.0</td>\n",
              "      <td>1.045852</td>\n",
              "      <td>0.682979</td>\n",
              "      <td>0.860</td>\n",
              "      <td>0.54875</td>\n",
              "      <td>3.2</td>\n",
              "      <td>3</td>\n",
              "    </tr>\n",
              "    <tr>\n",
              "      <th>86</th>\n",
              "      <td>8.86</td>\n",
              "      <td>5.38</td>\n",
              "      <td>0.0</td>\n",
              "      <td>0.0</td>\n",
              "      <td>1.085153</td>\n",
              "      <td>0.725532</td>\n",
              "      <td>0.886</td>\n",
              "      <td>0.67250</td>\n",
              "      <td>3.2</td>\n",
              "      <td>3</td>\n",
              "    </tr>\n",
              "    <tr>\n",
              "      <th>87</th>\n",
              "      <td>9.07</td>\n",
              "      <td>7.18</td>\n",
              "      <td>0.0</td>\n",
              "      <td>0.0</td>\n",
              "      <td>1.133188</td>\n",
              "      <td>0.797872</td>\n",
              "      <td>0.907</td>\n",
              "      <td>0.89750</td>\n",
              "      <td>3.2</td>\n",
              "      <td>3</td>\n",
              "    </tr>\n",
              "  </tbody>\n",
              "</table>\n",
              "<p>88 rows × 10 columns</p>\n",
              "</div>"
            ],
            "text/plain": [
              "    C.7A Ang Thong (Chao Phraya R.)  ...  critical_wat_lev_S.5\n",
              "0                              1.02  ...                     3\n",
              "1                              0.87  ...                     3\n",
              "2                              0.85  ...                     3\n",
              "3                              0.90  ...                     3\n",
              "4                              0.90  ...                     3\n",
              "..                              ...  ...                   ...\n",
              "83                             7.82  ...                     3\n",
              "84                             8.31  ...                     3\n",
              "85                             8.60  ...                     3\n",
              "86                             8.86  ...                     3\n",
              "87                             9.07  ...                     3\n",
              "\n",
              "[88 rows x 10 columns]"
            ]
          },
          "metadata": {},
          "execution_count": 194
        }
      ]
    },
    {
      "cell_type": "code",
      "metadata": {
        "id": "6yR4qT-23y-O",
        "colab": {
          "base_uri": "https://localhost:8080/",
          "height": 444
        },
        "outputId": "d826bf59-555e-4340-ceeb-5f8a87c4453e"
      },
      "source": [
        "corr = data.corr()\n",
        "sns.heatmap(corr, \n",
        "            xticklabels=corr.columns.values,\n",
        "            yticklabels=corr.columns.values)"
      ],
      "execution_count": 195,
      "outputs": [
        {
          "output_type": "execute_result",
          "data": {
            "text/plain": [
              "<matplotlib.axes._subplots.AxesSubplot at 0x7f916f5bba90>"
            ]
          },
          "metadata": {},
          "execution_count": 195
        },
        {
          "output_type": "display_data",
          "data": {
            "image/png": "[encoded data removed]",
            "text/plain": [
              "<Figure size 432x288 with 2 Axes>"
            ]
          },
          "metadata": {
            "needs_background": "light"
          }
        }
      ]
    },
    {
      "cell_type": "code",
      "metadata": {
        "id": "9D-sOPMh3y-P"
      },
      "source": [
        "X_train, X_test, y_train, y_test = train_test_split(X, y, random_state = 42, train_size = 0.8, test_size = 0.2)"
      ],
      "execution_count": 196,
      "outputs": []
    },
    {
      "cell_type": "code",
      "metadata": {
        "pycharm": {
          "name": "#%%\n"
        },
        "id": "YkunrcfD3y-P",
        "colab": {
          "base_uri": "https://localhost:8080/",
          "height": 435
        },
        "outputId": "6f2d5c1b-58ed-4fa6-84c9-ce688d295431"
      },
      "source": [
        "X_train"
      ],
      "execution_count": 197,
      "outputs": [
        {
          "output_type": "execute_result",
          "data": {
            "text/html": [
              "<div>\n",
              "<style scoped>\n",
              "    .dataframe tbody tr th:only-of-type {\n",
              "        vertical-align: middle;\n",
              "    }\n",
              "\n",
              "    .dataframe tbody tr th {\n",
              "        vertical-align: top;\n",
              "    }\n",
              "\n",
              "    .dataframe thead th {\n",
              "        text-align: right;\n",
              "    }\n",
              "</style>\n",
              "<table border=\"1\" class=\"dataframe\">\n",
              "  <thead>\n",
              "    <tr style=\"text-align: right;\">\n",
              "      <th></th>\n",
              "      <th>C.7A Ang Thong (Chao Phraya R.)</th>\n",
              "      <th>S.26 Tha Ruea (Pa Sak R.)</th>\n",
              "      <th>C.13 Sapphaya (Chao Phraya r.)</th>\n",
              "      <th>S.9 Kaeng Khoi (Pa Sak r.)</th>\n",
              "      <th>C.35 river/brae</th>\n",
              "      <th>S.5 river/brae</th>\n",
              "      <th>C.7A river/brae</th>\n",
              "      <th>S.26 river/brae</th>\n",
              "      <th>critical_wat_lev_C.35</th>\n",
              "      <th>critical_wat_lev_S.5</th>\n",
              "    </tr>\n",
              "  </thead>\n",
              "  <tbody>\n",
              "    <tr>\n",
              "      <th>55</th>\n",
              "      <td>0.99</td>\n",
              "      <td>0.72</td>\n",
              "      <td>1.1</td>\n",
              "      <td>0.5</td>\n",
              "      <td>0.163755</td>\n",
              "      <td>0.159574</td>\n",
              "      <td>0.099</td>\n",
              "      <td>0.09000</td>\n",
              "      <td>3.2</td>\n",
              "      <td>3</td>\n",
              "    </tr>\n",
              "    <tr>\n",
              "      <th>73</th>\n",
              "      <td>5.36</td>\n",
              "      <td>2.05</td>\n",
              "      <td>3.0</td>\n",
              "      <td>0.0</td>\n",
              "      <td>0.622271</td>\n",
              "      <td>0.408511</td>\n",
              "      <td>0.536</td>\n",
              "      <td>0.25625</td>\n",
              "      <td>3.2</td>\n",
              "      <td>3</td>\n",
              "    </tr>\n",
              "    <tr>\n",
              "      <th>11</th>\n",
              "      <td>1.04</td>\n",
              "      <td>0.75</td>\n",
              "      <td>0.0</td>\n",
              "      <td>0.0</td>\n",
              "      <td>0.165939</td>\n",
              "      <td>0.165957</td>\n",
              "      <td>0.104</td>\n",
              "      <td>0.09375</td>\n",
              "      <td>3.2</td>\n",
              "      <td>3</td>\n",
              "    </tr>\n",
              "    <tr>\n",
              "      <th>30</th>\n",
              "      <td>0.98</td>\n",
              "      <td>0.45</td>\n",
              "      <td>0.0</td>\n",
              "      <td>0.0</td>\n",
              "      <td>0.043668</td>\n",
              "      <td>0.104255</td>\n",
              "      <td>0.098</td>\n",
              "      <td>0.05625</td>\n",
              "      <td>3.2</td>\n",
              "      <td>3</td>\n",
              "    </tr>\n",
              "    <tr>\n",
              "      <th>40</th>\n",
              "      <td>1.01</td>\n",
              "      <td>0.99</td>\n",
              "      <td>0.0</td>\n",
              "      <td>40.0</td>\n",
              "      <td>0.189956</td>\n",
              "      <td>0.168085</td>\n",
              "      <td>0.101</td>\n",
              "      <td>0.12375</td>\n",
              "      <td>3.2</td>\n",
              "      <td>3</td>\n",
              "    </tr>\n",
              "    <tr>\n",
              "      <th>...</th>\n",
              "      <td>...</td>\n",
              "      <td>...</td>\n",
              "      <td>...</td>\n",
              "      <td>...</td>\n",
              "      <td>...</td>\n",
              "      <td>...</td>\n",
              "      <td>...</td>\n",
              "      <td>...</td>\n",
              "      <td>...</td>\n",
              "      <td>...</td>\n",
              "    </tr>\n",
              "    <tr>\n",
              "      <th>20</th>\n",
              "      <td>1.04</td>\n",
              "      <td>0.78</td>\n",
              "      <td>30.0</td>\n",
              "      <td>37.0</td>\n",
              "      <td>0.139738</td>\n",
              "      <td>0.117021</td>\n",
              "      <td>0.104</td>\n",
              "      <td>0.09750</td>\n",
              "      <td>3.2</td>\n",
              "      <td>3</td>\n",
              "    </tr>\n",
              "    <tr>\n",
              "      <th>60</th>\n",
              "      <td>1.25</td>\n",
              "      <td>0.82</td>\n",
              "      <td>0.0</td>\n",
              "      <td>0.0</td>\n",
              "      <td>0.207424</td>\n",
              "      <td>0.202128</td>\n",
              "      <td>0.125</td>\n",
              "      <td>0.10250</td>\n",
              "      <td>3.2</td>\n",
              "      <td>3</td>\n",
              "    </tr>\n",
              "    <tr>\n",
              "      <th>71</th>\n",
              "      <td>4.73</td>\n",
              "      <td>1.48</td>\n",
              "      <td>0.0</td>\n",
              "      <td>0.5</td>\n",
              "      <td>0.524017</td>\n",
              "      <td>0.325532</td>\n",
              "      <td>0.473</td>\n",
              "      <td>0.18500</td>\n",
              "      <td>3.2</td>\n",
              "      <td>3</td>\n",
              "    </tr>\n",
              "    <tr>\n",
              "      <th>14</th>\n",
              "      <td>1.08</td>\n",
              "      <td>0.70</td>\n",
              "      <td>0.0</td>\n",
              "      <td>3.0</td>\n",
              "      <td>0.183406</td>\n",
              "      <td>0.189362</td>\n",
              "      <td>0.108</td>\n",
              "      <td>0.08750</td>\n",
              "      <td>3.2</td>\n",
              "      <td>3</td>\n",
              "    </tr>\n",
              "    <tr>\n",
              "      <th>51</th>\n",
              "      <td>0.79</td>\n",
              "      <td>0.49</td>\n",
              "      <td>3.0</td>\n",
              "      <td>0.0</td>\n",
              "      <td>0.126638</td>\n",
              "      <td>0.125532</td>\n",
              "      <td>0.079</td>\n",
              "      <td>0.06125</td>\n",
              "      <td>3.2</td>\n",
              "      <td>3</td>\n",
              "    </tr>\n",
              "  </tbody>\n",
              "</table>\n",
              "<p>70 rows × 10 columns</p>\n",
              "</div>"
            ],
            "text/plain": [
              "    C.7A Ang Thong (Chao Phraya R.)  ...  critical_wat_lev_S.5\n",
              "55                             0.99  ...                     3\n",
              "73                             5.36  ...                     3\n",
              "11                             1.04  ...                     3\n",
              "30                             0.98  ...                     3\n",
              "40                             1.01  ...                     3\n",
              "..                              ...  ...                   ...\n",
              "20                             1.04  ...                     3\n",
              "60                             1.25  ...                     3\n",
              "71                             4.73  ...                     3\n",
              "14                             1.08  ...                     3\n",
              "51                             0.79  ...                     3\n",
              "\n",
              "[70 rows x 10 columns]"
            ]
          },
          "metadata": {},
          "execution_count": 197
        }
      ]
    },
    {
      "cell_type": "code",
      "metadata": {
        "id": "HQdleljZ3y-Q",
        "colab": {
          "base_uri": "https://localhost:8080/",
          "height": 418
        },
        "outputId": "960c260a-0aad-40b4-f4d6-98fd3be16059"
      },
      "source": [
        "X_train_C = X_train.drop(columns=['S.26 Tha Ruea (Pa Sak R.)', 'S.9 Kaeng Khoi (Pa Sak r.)',\n",
        "                        'S.5 river/brae', 'S.26 river/brae', 'critical_wat_lev_S.5'])\n",
        "X_train_C"
      ],
      "execution_count": 198,
      "outputs": [
        {
          "output_type": "execute_result",
          "data": {
            "text/html": [
              "<div>\n",
              "<style scoped>\n",
              "    .dataframe tbody tr th:only-of-type {\n",
              "        vertical-align: middle;\n",
              "    }\n",
              "\n",
              "    .dataframe tbody tr th {\n",
              "        vertical-align: top;\n",
              "    }\n",
              "\n",
              "    .dataframe thead th {\n",
              "        text-align: right;\n",
              "    }\n",
              "</style>\n",
              "<table border=\"1\" class=\"dataframe\">\n",
              "  <thead>\n",
              "    <tr style=\"text-align: right;\">\n",
              "      <th></th>\n",
              "      <th>C.7A Ang Thong (Chao Phraya R.)</th>\n",
              "      <th>C.13 Sapphaya (Chao Phraya r.)</th>\n",
              "      <th>C.35 river/brae</th>\n",
              "      <th>C.7A river/brae</th>\n",
              "      <th>critical_wat_lev_C.35</th>\n",
              "    </tr>\n",
              "  </thead>\n",
              "  <tbody>\n",
              "    <tr>\n",
              "      <th>55</th>\n",
              "      <td>0.99</td>\n",
              "      <td>1.1</td>\n",
              "      <td>0.163755</td>\n",
              "      <td>0.099</td>\n",
              "      <td>3.2</td>\n",
              "    </tr>\n",
              "    <tr>\n",
              "      <th>73</th>\n",
              "      <td>5.36</td>\n",
              "      <td>3.0</td>\n",
              "      <td>0.622271</td>\n",
              "      <td>0.536</td>\n",
              "      <td>3.2</td>\n",
              "    </tr>\n",
              "    <tr>\n",
              "      <th>11</th>\n",
              "      <td>1.04</td>\n",
              "      <td>0.0</td>\n",
              "      <td>0.165939</td>\n",
              "      <td>0.104</td>\n",
              "      <td>3.2</td>\n",
              "    </tr>\n",
              "    <tr>\n",
              "      <th>30</th>\n",
              "      <td>0.98</td>\n",
              "      <td>0.0</td>\n",
              "      <td>0.043668</td>\n",
              "      <td>0.098</td>\n",
              "      <td>3.2</td>\n",
              "    </tr>\n",
              "    <tr>\n",
              "      <th>40</th>\n",
              "      <td>1.01</td>\n",
              "      <td>0.0</td>\n",
              "      <td>0.189956</td>\n",
              "      <td>0.101</td>\n",
              "      <td>3.2</td>\n",
              "    </tr>\n",
              "    <tr>\n",
              "      <th>...</th>\n",
              "      <td>...</td>\n",
              "      <td>...</td>\n",
              "      <td>...</td>\n",
              "      <td>...</td>\n",
              "      <td>...</td>\n",
              "    </tr>\n",
              "    <tr>\n",
              "      <th>20</th>\n",
              "      <td>1.04</td>\n",
              "      <td>30.0</td>\n",
              "      <td>0.139738</td>\n",
              "      <td>0.104</td>\n",
              "      <td>3.2</td>\n",
              "    </tr>\n",
              "    <tr>\n",
              "      <th>60</th>\n",
              "      <td>1.25</td>\n",
              "      <td>0.0</td>\n",
              "      <td>0.207424</td>\n",
              "      <td>0.125</td>\n",
              "      <td>3.2</td>\n",
              "    </tr>\n",
              "    <tr>\n",
              "      <th>71</th>\n",
              "      <td>4.73</td>\n",
              "      <td>0.0</td>\n",
              "      <td>0.524017</td>\n",
              "      <td>0.473</td>\n",
              "      <td>3.2</td>\n",
              "    </tr>\n",
              "    <tr>\n",
              "      <th>14</th>\n",
              "      <td>1.08</td>\n",
              "      <td>0.0</td>\n",
              "      <td>0.183406</td>\n",
              "      <td>0.108</td>\n",
              "      <td>3.2</td>\n",
              "    </tr>\n",
              "    <tr>\n",
              "      <th>51</th>\n",
              "      <td>0.79</td>\n",
              "      <td>3.0</td>\n",
              "      <td>0.126638</td>\n",
              "      <td>0.079</td>\n",
              "      <td>3.2</td>\n",
              "    </tr>\n",
              "  </tbody>\n",
              "</table>\n",
              "<p>70 rows × 5 columns</p>\n",
              "</div>"
            ],
            "text/plain": [
              "    C.7A Ang Thong (Chao Phraya R.)  ...  critical_wat_lev_C.35\n",
              "55                             0.99  ...                    3.2\n",
              "73                             5.36  ...                    3.2\n",
              "11                             1.04  ...                    3.2\n",
              "30                             0.98  ...                    3.2\n",
              "40                             1.01  ...                    3.2\n",
              "..                              ...  ...                    ...\n",
              "20                             1.04  ...                    3.2\n",
              "60                             1.25  ...                    3.2\n",
              "71                             4.73  ...                    3.2\n",
              "14                             1.08  ...                    3.2\n",
              "51                             0.79  ...                    3.2\n",
              "\n",
              "[70 rows x 5 columns]"
            ]
          },
          "metadata": {},
          "execution_count": 198
        }
      ]
    },
    {
      "cell_type": "code",
      "metadata": {
        "pycharm": {
          "name": "#%%\n"
        },
        "id": "ZkS4nr6t3y-Q",
        "colab": {
          "base_uri": "https://localhost:8080/",
          "height": 605
        },
        "outputId": "4b7ceca4-f056-47c3-d62b-356b1aa36275"
      },
      "source": [
        "X_test_C = X_test.drop(columns=['S.26 Tha Ruea (Pa Sak R.)', 'S.9 Kaeng Khoi (Pa Sak r.)',\n",
        "                        'S.5 river/brae', 'S.26 river/brae', 'critical_wat_lev_S.5'])\n",
        "X_test_C"
      ],
      "execution_count": 199,
      "outputs": [
        {
          "output_type": "execute_result",
          "data": {
            "text/html": [
              "<div>\n",
              "<style scoped>\n",
              "    .dataframe tbody tr th:only-of-type {\n",
              "        vertical-align: middle;\n",
              "    }\n",
              "\n",
              "    .dataframe tbody tr th {\n",
              "        vertical-align: top;\n",
              "    }\n",
              "\n",
              "    .dataframe thead th {\n",
              "        text-align: right;\n",
              "    }\n",
              "</style>\n",
              "<table border=\"1\" class=\"dataframe\">\n",
              "  <thead>\n",
              "    <tr style=\"text-align: right;\">\n",
              "      <th></th>\n",
              "      <th>C.7A Ang Thong (Chao Phraya R.)</th>\n",
              "      <th>C.13 Sapphaya (Chao Phraya r.)</th>\n",
              "      <th>C.35 river/brae</th>\n",
              "      <th>C.7A river/brae</th>\n",
              "      <th>critical_wat_lev_C.35</th>\n",
              "    </tr>\n",
              "  </thead>\n",
              "  <tbody>\n",
              "    <tr>\n",
              "      <th>76</th>\n",
              "      <td>5.22</td>\n",
              "      <td>22.0</td>\n",
              "      <td>0.604803</td>\n",
              "      <td>0.522</td>\n",
              "      <td>3.2</td>\n",
              "    </tr>\n",
              "    <tr>\n",
              "      <th>0</th>\n",
              "      <td>1.02</td>\n",
              "      <td>0.0</td>\n",
              "      <td>0.161572</td>\n",
              "      <td>0.102</td>\n",
              "      <td>3.2</td>\n",
              "    </tr>\n",
              "    <tr>\n",
              "      <th>26</th>\n",
              "      <td>1.09</td>\n",
              "      <td>0.0</td>\n",
              "      <td>0.109170</td>\n",
              "      <td>0.109</td>\n",
              "      <td>3.2</td>\n",
              "    </tr>\n",
              "    <tr>\n",
              "      <th>22</th>\n",
              "      <td>1.09</td>\n",
              "      <td>0.0</td>\n",
              "      <td>0.152838</td>\n",
              "      <td>0.109</td>\n",
              "      <td>3.2</td>\n",
              "    </tr>\n",
              "    <tr>\n",
              "      <th>12</th>\n",
              "      <td>1.07</td>\n",
              "      <td>0.0</td>\n",
              "      <td>0.181223</td>\n",
              "      <td>0.107</td>\n",
              "      <td>3.2</td>\n",
              "    </tr>\n",
              "    <tr>\n",
              "      <th>67</th>\n",
              "      <td>3.21</td>\n",
              "      <td>1.0</td>\n",
              "      <td>0.393013</td>\n",
              "      <td>0.321</td>\n",
              "      <td>3.2</td>\n",
              "    </tr>\n",
              "    <tr>\n",
              "      <th>10</th>\n",
              "      <td>0.96</td>\n",
              "      <td>21.4</td>\n",
              "      <td>0.159389</td>\n",
              "      <td>0.096</td>\n",
              "      <td>3.2</td>\n",
              "    </tr>\n",
              "    <tr>\n",
              "      <th>18</th>\n",
              "      <td>1.01</td>\n",
              "      <td>0.0</td>\n",
              "      <td>0.137555</td>\n",
              "      <td>0.101</td>\n",
              "      <td>3.2</td>\n",
              "    </tr>\n",
              "    <tr>\n",
              "      <th>4</th>\n",
              "      <td>0.90</td>\n",
              "      <td>8.0</td>\n",
              "      <td>0.135371</td>\n",
              "      <td>0.090</td>\n",
              "      <td>3.2</td>\n",
              "    </tr>\n",
              "    <tr>\n",
              "      <th>68</th>\n",
              "      <td>3.00</td>\n",
              "      <td>2.0</td>\n",
              "      <td>0.377729</td>\n",
              "      <td>0.300</td>\n",
              "      <td>3.2</td>\n",
              "    </tr>\n",
              "    <tr>\n",
              "      <th>85</th>\n",
              "      <td>8.60</td>\n",
              "      <td>0.0</td>\n",
              "      <td>1.045852</td>\n",
              "      <td>0.860</td>\n",
              "      <td>3.2</td>\n",
              "    </tr>\n",
              "    <tr>\n",
              "      <th>65</th>\n",
              "      <td>3.07</td>\n",
              "      <td>13.0</td>\n",
              "      <td>0.368996</td>\n",
              "      <td>0.307</td>\n",
              "      <td>3.2</td>\n",
              "    </tr>\n",
              "    <tr>\n",
              "      <th>53</th>\n",
              "      <td>0.89</td>\n",
              "      <td>50.0</td>\n",
              "      <td>0.146288</td>\n",
              "      <td>0.089</td>\n",
              "      <td>3.2</td>\n",
              "    </tr>\n",
              "    <tr>\n",
              "      <th>80</th>\n",
              "      <td>6.28</td>\n",
              "      <td>14.2</td>\n",
              "      <td>0.729258</td>\n",
              "      <td>0.628</td>\n",
              "      <td>3.2</td>\n",
              "    </tr>\n",
              "    <tr>\n",
              "      <th>84</th>\n",
              "      <td>8.31</td>\n",
              "      <td>5.5</td>\n",
              "      <td>0.984716</td>\n",
              "      <td>0.831</td>\n",
              "      <td>3.2</td>\n",
              "    </tr>\n",
              "    <tr>\n",
              "      <th>64</th>\n",
              "      <td>2.78</td>\n",
              "      <td>4.0</td>\n",
              "      <td>0.334061</td>\n",
              "      <td>0.278</td>\n",
              "      <td>3.2</td>\n",
              "    </tr>\n",
              "    <tr>\n",
              "      <th>33</th>\n",
              "      <td>0.94</td>\n",
              "      <td>7.4</td>\n",
              "      <td>0.148472</td>\n",
              "      <td>0.094</td>\n",
              "      <td>3.2</td>\n",
              "    </tr>\n",
              "    <tr>\n",
              "      <th>79</th>\n",
              "      <td>5.89</td>\n",
              "      <td>50.0</td>\n",
              "      <td>0.685590</td>\n",
              "      <td>0.589</td>\n",
              "      <td>3.2</td>\n",
              "    </tr>\n",
              "  </tbody>\n",
              "</table>\n",
              "</div>"
            ],
            "text/plain": [
              "    C.7A Ang Thong (Chao Phraya R.)  ...  critical_wat_lev_C.35\n",
              "76                             5.22  ...                    3.2\n",
              "0                              1.02  ...                    3.2\n",
              "26                             1.09  ...                    3.2\n",
              "22                             1.09  ...                    3.2\n",
              "12                             1.07  ...                    3.2\n",
              "67                             3.21  ...                    3.2\n",
              "10                             0.96  ...                    3.2\n",
              "18                             1.01  ...                    3.2\n",
              "4                              0.90  ...                    3.2\n",
              "68                             3.00  ...                    3.2\n",
              "85                             8.60  ...                    3.2\n",
              "65                             3.07  ...                    3.2\n",
              "53                             0.89  ...                    3.2\n",
              "80                             6.28  ...                    3.2\n",
              "84                             8.31  ...                    3.2\n",
              "64                             2.78  ...                    3.2\n",
              "33                             0.94  ...                    3.2\n",
              "79                             5.89  ...                    3.2\n",
              "\n",
              "[18 rows x 5 columns]"
            ]
          },
          "metadata": {},
          "execution_count": 199
        }
      ]
    },
    {
      "cell_type": "code",
      "metadata": {
        "id": "3OIRwF0H3y-Q",
        "colab": {
          "base_uri": "https://localhost:8080/"
        },
        "outputId": "3b22746a-0910-4c3f-b155-74f19dacc4ab"
      },
      "source": [
        "X_train_C.dtypes"
      ],
      "execution_count": 200,
      "outputs": [
        {
          "output_type": "execute_result",
          "data": {
            "text/plain": [
              "C.7A Ang Thong (Chao Phraya R.)    float64\n",
              "C.13 Sapphaya (Chao Phraya r.)     float64\n",
              "C.35 river/brae                    float64\n",
              "C.7A river/brae                    float64\n",
              "critical_wat_lev_C.35              float64\n",
              "dtype: object"
            ]
          },
          "metadata": {},
          "execution_count": 200
        }
      ]
    },
    {
      "cell_type": "code",
      "metadata": {
        "pycharm": {
          "name": "#%%\n"
        },
        "id": "s9ygkDuf3y-Q",
        "colab": {
          "base_uri": "https://localhost:8080/"
        },
        "outputId": "f8ca91ea-6ab8-407a-eec4-fd82adaf03bc"
      },
      "source": [
        "X_test_C.dtypes"
      ],
      "execution_count": 201,
      "outputs": [
        {
          "output_type": "execute_result",
          "data": {
            "text/plain": [
              "C.7A Ang Thong (Chao Phraya R.)    float64\n",
              "C.13 Sapphaya (Chao Phraya r.)     float64\n",
              "C.35 river/brae                    float64\n",
              "C.7A river/brae                    float64\n",
              "critical_wat_lev_C.35              float64\n",
              "dtype: object"
            ]
          },
          "metadata": {},
          "execution_count": 201
        }
      ]
    },
    {
      "cell_type": "code",
      "metadata": {
        "id": "rIRlDX7E3y-R",
        "colab": {
          "base_uri": "https://localhost:8080/",
          "height": 418
        },
        "outputId": "8b42c818-3c78-4ee5-ffab-7a877920c4cc"
      },
      "source": [
        "y_train_C = y_train.drop(columns=['Class_S.5'])\n",
        "y_train_C"
      ],
      "execution_count": 202,
      "outputs": [
        {
          "output_type": "execute_result",
          "data": {
            "text/html": [
              "<div>\n",
              "<style scoped>\n",
              "    .dataframe tbody tr th:only-of-type {\n",
              "        vertical-align: middle;\n",
              "    }\n",
              "\n",
              "    .dataframe tbody tr th {\n",
              "        vertical-align: top;\n",
              "    }\n",
              "\n",
              "    .dataframe thead th {\n",
              "        text-align: right;\n",
              "    }\n",
              "</style>\n",
              "<table border=\"1\" class=\"dataframe\">\n",
              "  <thead>\n",
              "    <tr style=\"text-align: right;\">\n",
              "      <th></th>\n",
              "      <th>Class_C.35</th>\n",
              "    </tr>\n",
              "  </thead>\n",
              "  <tbody>\n",
              "    <tr>\n",
              "      <th>55</th>\n",
              "      <td>0.0</td>\n",
              "    </tr>\n",
              "    <tr>\n",
              "      <th>73</th>\n",
              "      <td>0.0</td>\n",
              "    </tr>\n",
              "    <tr>\n",
              "      <th>11</th>\n",
              "      <td>0.0</td>\n",
              "    </tr>\n",
              "    <tr>\n",
              "      <th>30</th>\n",
              "      <td>0.0</td>\n",
              "    </tr>\n",
              "    <tr>\n",
              "      <th>40</th>\n",
              "      <td>0.0</td>\n",
              "    </tr>\n",
              "    <tr>\n",
              "      <th>...</th>\n",
              "      <td>...</td>\n",
              "    </tr>\n",
              "    <tr>\n",
              "      <th>20</th>\n",
              "      <td>0.0</td>\n",
              "    </tr>\n",
              "    <tr>\n",
              "      <th>60</th>\n",
              "      <td>0.0</td>\n",
              "    </tr>\n",
              "    <tr>\n",
              "      <th>71</th>\n",
              "      <td>0.0</td>\n",
              "    </tr>\n",
              "    <tr>\n",
              "      <th>14</th>\n",
              "      <td>0.0</td>\n",
              "    </tr>\n",
              "    <tr>\n",
              "      <th>51</th>\n",
              "      <td>0.0</td>\n",
              "    </tr>\n",
              "  </tbody>\n",
              "</table>\n",
              "<p>70 rows × 1 columns</p>\n",
              "</div>"
            ],
            "text/plain": [
              "    Class_C.35\n",
              "55         0.0\n",
              "73         0.0\n",
              "11         0.0\n",
              "30         0.0\n",
              "40         0.0\n",
              "..         ...\n",
              "20         0.0\n",
              "60         0.0\n",
              "71         0.0\n",
              "14         0.0\n",
              "51         0.0\n",
              "\n",
              "[70 rows x 1 columns]"
            ]
          },
          "metadata": {},
          "execution_count": 202
        }
      ]
    },
    {
      "cell_type": "code",
      "metadata": {
        "pycharm": {
          "name": "#%%\n"
        },
        "id": "-wfg1E7R3y-R",
        "colab": {
          "base_uri": "https://localhost:8080/",
          "height": 605
        },
        "outputId": "4cb17d36-74f1-44f8-f004-314753568b03"
      },
      "source": [
        "y_test_C = y_test.drop(columns=['Class_S.5'])\n",
        "y_test_C"
      ],
      "execution_count": 203,
      "outputs": [
        {
          "output_type": "execute_result",
          "data": {
            "text/html": [
              "<div>\n",
              "<style scoped>\n",
              "    .dataframe tbody tr th:only-of-type {\n",
              "        vertical-align: middle;\n",
              "    }\n",
              "\n",
              "    .dataframe tbody tr th {\n",
              "        vertical-align: top;\n",
              "    }\n",
              "\n",
              "    .dataframe thead th {\n",
              "        text-align: right;\n",
              "    }\n",
              "</style>\n",
              "<table border=\"1\" class=\"dataframe\">\n",
              "  <thead>\n",
              "    <tr style=\"text-align: right;\">\n",
              "      <th></th>\n",
              "      <th>Class_C.35</th>\n",
              "    </tr>\n",
              "  </thead>\n",
              "  <tbody>\n",
              "    <tr>\n",
              "      <th>76</th>\n",
              "      <td>0.0</td>\n",
              "    </tr>\n",
              "    <tr>\n",
              "      <th>0</th>\n",
              "      <td>0.0</td>\n",
              "    </tr>\n",
              "    <tr>\n",
              "      <th>26</th>\n",
              "      <td>0.0</td>\n",
              "    </tr>\n",
              "    <tr>\n",
              "      <th>22</th>\n",
              "      <td>0.0</td>\n",
              "    </tr>\n",
              "    <tr>\n",
              "      <th>12</th>\n",
              "      <td>0.0</td>\n",
              "    </tr>\n",
              "    <tr>\n",
              "      <th>67</th>\n",
              "      <td>0.0</td>\n",
              "    </tr>\n",
              "    <tr>\n",
              "      <th>10</th>\n",
              "      <td>0.0</td>\n",
              "    </tr>\n",
              "    <tr>\n",
              "      <th>18</th>\n",
              "      <td>0.0</td>\n",
              "    </tr>\n",
              "    <tr>\n",
              "      <th>4</th>\n",
              "      <td>0.0</td>\n",
              "    </tr>\n",
              "    <tr>\n",
              "      <th>68</th>\n",
              "      <td>0.0</td>\n",
              "    </tr>\n",
              "    <tr>\n",
              "      <th>85</th>\n",
              "      <td>1.0</td>\n",
              "    </tr>\n",
              "    <tr>\n",
              "      <th>65</th>\n",
              "      <td>0.0</td>\n",
              "    </tr>\n",
              "    <tr>\n",
              "      <th>53</th>\n",
              "      <td>0.0</td>\n",
              "    </tr>\n",
              "    <tr>\n",
              "      <th>80</th>\n",
              "      <td>1.0</td>\n",
              "    </tr>\n",
              "    <tr>\n",
              "      <th>84</th>\n",
              "      <td>1.0</td>\n",
              "    </tr>\n",
              "    <tr>\n",
              "      <th>64</th>\n",
              "      <td>0.0</td>\n",
              "    </tr>\n",
              "    <tr>\n",
              "      <th>33</th>\n",
              "      <td>0.0</td>\n",
              "    </tr>\n",
              "    <tr>\n",
              "      <th>79</th>\n",
              "      <td>1.0</td>\n",
              "    </tr>\n",
              "  </tbody>\n",
              "</table>\n",
              "</div>"
            ],
            "text/plain": [
              "    Class_C.35\n",
              "76         0.0\n",
              "0          0.0\n",
              "26         0.0\n",
              "22         0.0\n",
              "12         0.0\n",
              "67         0.0\n",
              "10         0.0\n",
              "18         0.0\n",
              "4          0.0\n",
              "68         0.0\n",
              "85         1.0\n",
              "65         0.0\n",
              "53         0.0\n",
              "80         1.0\n",
              "84         1.0\n",
              "64         0.0\n",
              "33         0.0\n",
              "79         1.0"
            ]
          },
          "metadata": {},
          "execution_count": 203
        }
      ]
    },
    {
      "cell_type": "code",
      "metadata": {
        "pycharm": {
          "name": "#%%\n"
        },
        "id": "ABCp0P373y-R",
        "colab": {
          "base_uri": "https://localhost:8080/",
          "height": 418
        },
        "outputId": "c9877fc1-81b3-427d-ccb5-d879cda63d86"
      },
      "source": [
        "X_train_S = X_train.drop(columns=['C.7A Ang Thong (Chao Phraya R.)', 'C.13 Sapphaya (Chao Phraya r.)',\n",
        "                        'C.35 river/brae', 'C.7A river/brae', 'critical_wat_lev_C.35'])\n",
        "X_train_S"
      ],
      "execution_count": 204,
      "outputs": [
        {
          "output_type": "execute_result",
          "data": {
            "text/html": [
              "<div>\n",
              "<style scoped>\n",
              "    .dataframe tbody tr th:only-of-type {\n",
              "        vertical-align: middle;\n",
              "    }\n",
              "\n",
              "    .dataframe tbody tr th {\n",
              "        vertical-align: top;\n",
              "    }\n",
              "\n",
              "    .dataframe thead th {\n",
              "        text-align: right;\n",
              "    }\n",
              "</style>\n",
              "<table border=\"1\" class=\"dataframe\">\n",
              "  <thead>\n",
              "    <tr style=\"text-align: right;\">\n",
              "      <th></th>\n",
              "      <th>S.26 Tha Ruea (Pa Sak R.)</th>\n",
              "      <th>S.9 Kaeng Khoi (Pa Sak r.)</th>\n",
              "      <th>S.5 river/brae</th>\n",
              "      <th>S.26 river/brae</th>\n",
              "      <th>critical_wat_lev_S.5</th>\n",
              "    </tr>\n",
              "  </thead>\n",
              "  <tbody>\n",
              "    <tr>\n",
              "      <th>55</th>\n",
              "      <td>0.72</td>\n",
              "      <td>0.5</td>\n",
              "      <td>0.159574</td>\n",
              "      <td>0.09000</td>\n",
              "      <td>3</td>\n",
              "    </tr>\n",
              "    <tr>\n",
              "      <th>73</th>\n",
              "      <td>2.05</td>\n",
              "      <td>0.0</td>\n",
              "      <td>0.408511</td>\n",
              "      <td>0.25625</td>\n",
              "      <td>3</td>\n",
              "    </tr>\n",
              "    <tr>\n",
              "      <th>11</th>\n",
              "      <td>0.75</td>\n",
              "      <td>0.0</td>\n",
              "      <td>0.165957</td>\n",
              "      <td>0.09375</td>\n",
              "      <td>3</td>\n",
              "    </tr>\n",
              "    <tr>\n",
              "      <th>30</th>\n",
              "      <td>0.45</td>\n",
              "      <td>0.0</td>\n",
              "      <td>0.104255</td>\n",
              "      <td>0.05625</td>\n",
              "      <td>3</td>\n",
              "    </tr>\n",
              "    <tr>\n",
              "      <th>40</th>\n",
              "      <td>0.99</td>\n",
              "      <td>40.0</td>\n",
              "      <td>0.168085</td>\n",
              "      <td>0.12375</td>\n",
              "      <td>3</td>\n",
              "    </tr>\n",
              "    <tr>\n",
              "      <th>...</th>\n",
              "      <td>...</td>\n",
              "      <td>...</td>\n",
              "      <td>...</td>\n",
              "      <td>...</td>\n",
              "      <td>...</td>\n",
              "    </tr>\n",
              "    <tr>\n",
              "      <th>20</th>\n",
              "      <td>0.78</td>\n",
              "      <td>37.0</td>\n",
              "      <td>0.117021</td>\n",
              "      <td>0.09750</td>\n",
              "      <td>3</td>\n",
              "    </tr>\n",
              "    <tr>\n",
              "      <th>60</th>\n",
              "      <td>0.82</td>\n",
              "      <td>0.0</td>\n",
              "      <td>0.202128</td>\n",
              "      <td>0.10250</td>\n",
              "      <td>3</td>\n",
              "    </tr>\n",
              "    <tr>\n",
              "      <th>71</th>\n",
              "      <td>1.48</td>\n",
              "      <td>0.5</td>\n",
              "      <td>0.325532</td>\n",
              "      <td>0.18500</td>\n",
              "      <td>3</td>\n",
              "    </tr>\n",
              "    <tr>\n",
              "      <th>14</th>\n",
              "      <td>0.70</td>\n",
              "      <td>3.0</td>\n",
              "      <td>0.189362</td>\n",
              "      <td>0.08750</td>\n",
              "      <td>3</td>\n",
              "    </tr>\n",
              "    <tr>\n",
              "      <th>51</th>\n",
              "      <td>0.49</td>\n",
              "      <td>0.0</td>\n",
              "      <td>0.125532</td>\n",
              "      <td>0.06125</td>\n",
              "      <td>3</td>\n",
              "    </tr>\n",
              "  </tbody>\n",
              "</table>\n",
              "<p>70 rows × 5 columns</p>\n",
              "</div>"
            ],
            "text/plain": [
              "    S.26 Tha Ruea (Pa Sak R.)  ...  critical_wat_lev_S.5\n",
              "55                       0.72  ...                     3\n",
              "73                       2.05  ...                     3\n",
              "11                       0.75  ...                     3\n",
              "30                       0.45  ...                     3\n",
              "40                       0.99  ...                     3\n",
              "..                        ...  ...                   ...\n",
              "20                       0.78  ...                     3\n",
              "60                       0.82  ...                     3\n",
              "71                       1.48  ...                     3\n",
              "14                       0.70  ...                     3\n",
              "51                       0.49  ...                     3\n",
              "\n",
              "[70 rows x 5 columns]"
            ]
          },
          "metadata": {},
          "execution_count": 204
        }
      ]
    },
    {
      "cell_type": "code",
      "metadata": {
        "pycharm": {
          "name": "#%%\n"
        },
        "id": "yoJPF5ee3y-R",
        "colab": {
          "base_uri": "https://localhost:8080/",
          "height": 605
        },
        "outputId": "7957b490-1d00-4455-83f3-1708af31583a"
      },
      "source": [
        "X_test_S = X_test.drop(columns=['C.7A Ang Thong (Chao Phraya R.)', 'C.13 Sapphaya (Chao Phraya r.)',\n",
        "                        'C.35 river/brae', 'C.7A river/brae', 'critical_wat_lev_C.35'])\n",
        "X_test_S"
      ],
      "execution_count": 205,
      "outputs": [
        {
          "output_type": "execute_result",
          "data": {
            "text/html": [
              "<div>\n",
              "<style scoped>\n",
              "    .dataframe tbody tr th:only-of-type {\n",
              "        vertical-align: middle;\n",
              "    }\n",
              "\n",
              "    .dataframe tbody tr th {\n",
              "        vertical-align: top;\n",
              "    }\n",
              "\n",
              "    .dataframe thead th {\n",
              "        text-align: right;\n",
              "    }\n",
              "</style>\n",
              "<table border=\"1\" class=\"dataframe\">\n",
              "  <thead>\n",
              "    <tr style=\"text-align: right;\">\n",
              "      <th></th>\n",
              "      <th>S.26 Tha Ruea (Pa Sak R.)</th>\n",
              "      <th>S.9 Kaeng Khoi (Pa Sak r.)</th>\n",
              "      <th>S.5 river/brae</th>\n",
              "      <th>S.26 river/brae</th>\n",
              "      <th>critical_wat_lev_S.5</th>\n",
              "    </tr>\n",
              "  </thead>\n",
              "  <tbody>\n",
              "    <tr>\n",
              "      <th>76</th>\n",
              "      <td>1.70</td>\n",
              "      <td>0.0</td>\n",
              "      <td>0.408511</td>\n",
              "      <td>0.21250</td>\n",
              "      <td>3</td>\n",
              "    </tr>\n",
              "    <tr>\n",
              "      <th>0</th>\n",
              "      <td>0.70</td>\n",
              "      <td>0.0</td>\n",
              "      <td>0.168085</td>\n",
              "      <td>0.08750</td>\n",
              "      <td>3</td>\n",
              "    </tr>\n",
              "    <tr>\n",
              "      <th>26</th>\n",
              "      <td>0.72</td>\n",
              "      <td>0.0</td>\n",
              "      <td>0.163830</td>\n",
              "      <td>0.09000</td>\n",
              "      <td>3</td>\n",
              "    </tr>\n",
              "    <tr>\n",
              "      <th>22</th>\n",
              "      <td>0.81</td>\n",
              "      <td>0.0</td>\n",
              "      <td>0.131915</td>\n",
              "      <td>0.10125</td>\n",
              "      <td>3</td>\n",
              "    </tr>\n",
              "    <tr>\n",
              "      <th>12</th>\n",
              "      <td>0.74</td>\n",
              "      <td>0.0</td>\n",
              "      <td>0.180851</td>\n",
              "      <td>0.09250</td>\n",
              "      <td>3</td>\n",
              "    </tr>\n",
              "    <tr>\n",
              "      <th>67</th>\n",
              "      <td>1.50</td>\n",
              "      <td>25.5</td>\n",
              "      <td>0.287234</td>\n",
              "      <td>0.18750</td>\n",
              "      <td>3</td>\n",
              "    </tr>\n",
              "    <tr>\n",
              "      <th>10</th>\n",
              "      <td>0.80</td>\n",
              "      <td>0.0</td>\n",
              "      <td>0.144681</td>\n",
              "      <td>0.10000</td>\n",
              "      <td>3</td>\n",
              "    </tr>\n",
              "    <tr>\n",
              "      <th>18</th>\n",
              "      <td>0.72</td>\n",
              "      <td>0.0</td>\n",
              "      <td>0.121277</td>\n",
              "      <td>0.09000</td>\n",
              "      <td>3</td>\n",
              "    </tr>\n",
              "    <tr>\n",
              "      <th>4</th>\n",
              "      <td>0.79</td>\n",
              "      <td>12.5</td>\n",
              "      <td>0.125532</td>\n",
              "      <td>0.09875</td>\n",
              "      <td>3</td>\n",
              "    </tr>\n",
              "    <tr>\n",
              "      <th>68</th>\n",
              "      <td>1.97</td>\n",
              "      <td>0.0</td>\n",
              "      <td>0.291489</td>\n",
              "      <td>0.24625</td>\n",
              "      <td>3</td>\n",
              "    </tr>\n",
              "    <tr>\n",
              "      <th>85</th>\n",
              "      <td>4.39</td>\n",
              "      <td>0.0</td>\n",
              "      <td>0.682979</td>\n",
              "      <td>0.54875</td>\n",
              "      <td>3</td>\n",
              "    </tr>\n",
              "    <tr>\n",
              "      <th>65</th>\n",
              "      <td>1.53</td>\n",
              "      <td>0.0</td>\n",
              "      <td>0.274468</td>\n",
              "      <td>0.19125</td>\n",
              "      <td>3</td>\n",
              "    </tr>\n",
              "    <tr>\n",
              "      <th>53</th>\n",
              "      <td>0.52</td>\n",
              "      <td>0.0</td>\n",
              "      <td>0.131915</td>\n",
              "      <td>0.06500</td>\n",
              "      <td>3</td>\n",
              "    </tr>\n",
              "    <tr>\n",
              "      <th>80</th>\n",
              "      <td>2.51</td>\n",
              "      <td>6.0</td>\n",
              "      <td>0.482979</td>\n",
              "      <td>0.31375</td>\n",
              "      <td>3</td>\n",
              "    </tr>\n",
              "    <tr>\n",
              "      <th>84</th>\n",
              "      <td>3.97</td>\n",
              "      <td>0.5</td>\n",
              "      <td>0.634043</td>\n",
              "      <td>0.49625</td>\n",
              "      <td>3</td>\n",
              "    </tr>\n",
              "    <tr>\n",
              "      <th>64</th>\n",
              "      <td>1.30</td>\n",
              "      <td>18.5</td>\n",
              "      <td>0.255319</td>\n",
              "      <td>0.16250</td>\n",
              "      <td>3</td>\n",
              "    </tr>\n",
              "    <tr>\n",
              "      <th>33</th>\n",
              "      <td>0.76</td>\n",
              "      <td>1.0</td>\n",
              "      <td>0.138298</td>\n",
              "      <td>0.09500</td>\n",
              "      <td>3</td>\n",
              "    </tr>\n",
              "    <tr>\n",
              "      <th>79</th>\n",
              "      <td>1.96</td>\n",
              "      <td>0.5</td>\n",
              "      <td>0.455319</td>\n",
              "      <td>0.24500</td>\n",
              "      <td>3</td>\n",
              "    </tr>\n",
              "  </tbody>\n",
              "</table>\n",
              "</div>"
            ],
            "text/plain": [
              "    S.26 Tha Ruea (Pa Sak R.)  ...  critical_wat_lev_S.5\n",
              "76                       1.70  ...                     3\n",
              "0                        0.70  ...                     3\n",
              "26                       0.72  ...                     3\n",
              "22                       0.81  ...                     3\n",
              "12                       0.74  ...                     3\n",
              "67                       1.50  ...                     3\n",
              "10                       0.80  ...                     3\n",
              "18                       0.72  ...                     3\n",
              "4                        0.79  ...                     3\n",
              "68                       1.97  ...                     3\n",
              "85                       4.39  ...                     3\n",
              "65                       1.53  ...                     3\n",
              "53                       0.52  ...                     3\n",
              "80                       2.51  ...                     3\n",
              "84                       3.97  ...                     3\n",
              "64                       1.30  ...                     3\n",
              "33                       0.76  ...                     3\n",
              "79                       1.96  ...                     3\n",
              "\n",
              "[18 rows x 5 columns]"
            ]
          },
          "metadata": {},
          "execution_count": 205
        }
      ]
    },
    {
      "cell_type": "code",
      "metadata": {
        "pycharm": {
          "name": "#%%\n"
        },
        "id": "8J4MPf5B3y-R",
        "colab": {
          "base_uri": "https://localhost:8080/"
        },
        "outputId": "68e2775d-8bd7-44bc-d0bf-18f32a438c66"
      },
      "source": [
        "X_train_S.dtypes"
      ],
      "execution_count": 206,
      "outputs": [
        {
          "output_type": "execute_result",
          "data": {
            "text/plain": [
              "S.26 Tha Ruea (Pa Sak R.)     float64\n",
              "S.9 Kaeng Khoi (Pa Sak r.)    float64\n",
              "S.5 river/brae                float64\n",
              "S.26 river/brae               float64\n",
              "critical_wat_lev_S.5            int64\n",
              "dtype: object"
            ]
          },
          "metadata": {},
          "execution_count": 206
        }
      ]
    },
    {
      "cell_type": "code",
      "metadata": {
        "pycharm": {
          "name": "#%%\n"
        },
        "id": "mTp6LCsN3y-S",
        "colab": {
          "base_uri": "https://localhost:8080/"
        },
        "outputId": "1815bed6-2ab4-4f59-b550-58f59bf03a6f"
      },
      "source": [
        "X_test_S.dtypes"
      ],
      "execution_count": 207,
      "outputs": [
        {
          "output_type": "execute_result",
          "data": {
            "text/plain": [
              "S.26 Tha Ruea (Pa Sak R.)     float64\n",
              "S.9 Kaeng Khoi (Pa Sak r.)    float64\n",
              "S.5 river/brae                float64\n",
              "S.26 river/brae               float64\n",
              "critical_wat_lev_S.5            int64\n",
              "dtype: object"
            ]
          },
          "metadata": {},
          "execution_count": 207
        }
      ]
    },
    {
      "cell_type": "code",
      "metadata": {
        "pycharm": {
          "name": "#%%\n"
        },
        "id": "x_mKMYsK3y-S",
        "colab": {
          "base_uri": "https://localhost:8080/",
          "height": 418
        },
        "outputId": "a663bb8a-3f41-4497-e2d4-5204e9521cdb"
      },
      "source": [
        "y_train_S = y_train.drop(columns=['Class_C.35'])\n",
        "y_train_S"
      ],
      "execution_count": 208,
      "outputs": [
        {
          "output_type": "execute_result",
          "data": {
            "text/html": [
              "<div>\n",
              "<style scoped>\n",
              "    .dataframe tbody tr th:only-of-type {\n",
              "        vertical-align: middle;\n",
              "    }\n",
              "\n",
              "    .dataframe tbody tr th {\n",
              "        vertical-align: top;\n",
              "    }\n",
              "\n",
              "    .dataframe thead th {\n",
              "        text-align: right;\n",
              "    }\n",
              "</style>\n",
              "<table border=\"1\" class=\"dataframe\">\n",
              "  <thead>\n",
              "    <tr style=\"text-align: right;\">\n",
              "      <th></th>\n",
              "      <th>Class_S.5</th>\n",
              "    </tr>\n",
              "  </thead>\n",
              "  <tbody>\n",
              "    <tr>\n",
              "      <th>55</th>\n",
              "      <td>0.0</td>\n",
              "    </tr>\n",
              "    <tr>\n",
              "      <th>73</th>\n",
              "      <td>0.0</td>\n",
              "    </tr>\n",
              "    <tr>\n",
              "      <th>11</th>\n",
              "      <td>0.0</td>\n",
              "    </tr>\n",
              "    <tr>\n",
              "      <th>30</th>\n",
              "      <td>0.0</td>\n",
              "    </tr>\n",
              "    <tr>\n",
              "      <th>40</th>\n",
              "      <td>0.0</td>\n",
              "    </tr>\n",
              "    <tr>\n",
              "      <th>...</th>\n",
              "      <td>...</td>\n",
              "    </tr>\n",
              "    <tr>\n",
              "      <th>20</th>\n",
              "      <td>0.0</td>\n",
              "    </tr>\n",
              "    <tr>\n",
              "      <th>60</th>\n",
              "      <td>0.0</td>\n",
              "    </tr>\n",
              "    <tr>\n",
              "      <th>71</th>\n",
              "      <td>0.0</td>\n",
              "    </tr>\n",
              "    <tr>\n",
              "      <th>14</th>\n",
              "      <td>0.0</td>\n",
              "    </tr>\n",
              "    <tr>\n",
              "      <th>51</th>\n",
              "      <td>0.0</td>\n",
              "    </tr>\n",
              "  </tbody>\n",
              "</table>\n",
              "<p>70 rows × 1 columns</p>\n",
              "</div>"
            ],
            "text/plain": [
              "    Class_S.5\n",
              "55        0.0\n",
              "73        0.0\n",
              "11        0.0\n",
              "30        0.0\n",
              "40        0.0\n",
              "..        ...\n",
              "20        0.0\n",
              "60        0.0\n",
              "71        0.0\n",
              "14        0.0\n",
              "51        0.0\n",
              "\n",
              "[70 rows x 1 columns]"
            ]
          },
          "metadata": {},
          "execution_count": 208
        }
      ]
    },
    {
      "cell_type": "code",
      "metadata": {
        "pycharm": {
          "name": "#%%\n"
        },
        "id": "Ozbw66We3y-S",
        "colab": {
          "base_uri": "https://localhost:8080/",
          "height": 605
        },
        "outputId": "59c89ab1-1bcf-4dd5-ce3f-db6be6b98f3a"
      },
      "source": [
        "y_test_S = y_test.drop(columns=['Class_C.35'])\n",
        "y_test_S"
      ],
      "execution_count": 209,
      "outputs": [
        {
          "output_type": "execute_result",
          "data": {
            "text/html": [
              "<div>\n",
              "<style scoped>\n",
              "    .dataframe tbody tr th:only-of-type {\n",
              "        vertical-align: middle;\n",
              "    }\n",
              "\n",
              "    .dataframe tbody tr th {\n",
              "        vertical-align: top;\n",
              "    }\n",
              "\n",
              "    .dataframe thead th {\n",
              "        text-align: right;\n",
              "    }\n",
              "</style>\n",
              "<table border=\"1\" class=\"dataframe\">\n",
              "  <thead>\n",
              "    <tr style=\"text-align: right;\">\n",
              "      <th></th>\n",
              "      <th>Class_S.5</th>\n",
              "    </tr>\n",
              "  </thead>\n",
              "  <tbody>\n",
              "    <tr>\n",
              "      <th>76</th>\n",
              "      <td>0.0</td>\n",
              "    </tr>\n",
              "    <tr>\n",
              "      <th>0</th>\n",
              "      <td>0.0</td>\n",
              "    </tr>\n",
              "    <tr>\n",
              "      <th>26</th>\n",
              "      <td>0.0</td>\n",
              "    </tr>\n",
              "    <tr>\n",
              "      <th>22</th>\n",
              "      <td>0.0</td>\n",
              "    </tr>\n",
              "    <tr>\n",
              "      <th>12</th>\n",
              "      <td>0.0</td>\n",
              "    </tr>\n",
              "    <tr>\n",
              "      <th>67</th>\n",
              "      <td>0.0</td>\n",
              "    </tr>\n",
              "    <tr>\n",
              "      <th>10</th>\n",
              "      <td>0.0</td>\n",
              "    </tr>\n",
              "    <tr>\n",
              "      <th>18</th>\n",
              "      <td>0.0</td>\n",
              "    </tr>\n",
              "    <tr>\n",
              "      <th>4</th>\n",
              "      <td>0.0</td>\n",
              "    </tr>\n",
              "    <tr>\n",
              "      <th>68</th>\n",
              "      <td>0.0</td>\n",
              "    </tr>\n",
              "    <tr>\n",
              "      <th>85</th>\n",
              "      <td>1.0</td>\n",
              "    </tr>\n",
              "    <tr>\n",
              "      <th>65</th>\n",
              "      <td>0.0</td>\n",
              "    </tr>\n",
              "    <tr>\n",
              "      <th>53</th>\n",
              "      <td>0.0</td>\n",
              "    </tr>\n",
              "    <tr>\n",
              "      <th>80</th>\n",
              "      <td>0.0</td>\n",
              "    </tr>\n",
              "    <tr>\n",
              "      <th>84</th>\n",
              "      <td>1.0</td>\n",
              "    </tr>\n",
              "    <tr>\n",
              "      <th>64</th>\n",
              "      <td>0.0</td>\n",
              "    </tr>\n",
              "    <tr>\n",
              "      <th>33</th>\n",
              "      <td>0.0</td>\n",
              "    </tr>\n",
              "    <tr>\n",
              "      <th>79</th>\n",
              "      <td>0.0</td>\n",
              "    </tr>\n",
              "  </tbody>\n",
              "</table>\n",
              "</div>"
            ],
            "text/plain": [
              "    Class_S.5\n",
              "76        0.0\n",
              "0         0.0\n",
              "26        0.0\n",
              "22        0.0\n",
              "12        0.0\n",
              "67        0.0\n",
              "10        0.0\n",
              "18        0.0\n",
              "4         0.0\n",
              "68        0.0\n",
              "85        1.0\n",
              "65        0.0\n",
              "53        0.0\n",
              "80        0.0\n",
              "84        1.0\n",
              "64        0.0\n",
              "33        0.0\n",
              "79        0.0"
            ]
          },
          "metadata": {},
          "execution_count": 209
        }
      ]
    },
    {
      "cell_type": "markdown",
      "metadata": {
        "id": "5iJNQVWX3y-S"
      },
      "source": [
        "# K-Nearest-Neighbor"
      ]
    },
    {
      "cell_type": "markdown",
      "metadata": {
        "id": "4mt3RTsy3y-T"
      },
      "source": [
        "# C.35"
      ]
    },
    {
      "cell_type": "code",
      "metadata": {
        "id": "4XtAlg5V3y-T"
      },
      "source": [
        "Knn = KNeighborsClassifier()\n",
        "Knn.fit(X_train_C, y_train_C)\n",
        "\n",
        "parameters = {\n",
        "\n",
        "   'n_neighbors': [9,13,17,25,33,47,51,73]\n",
        "\n",
        " }\n",
        "\n",
        "KNeighborsClassifier(algorithm='auto', leaf_size=30, metric='minkowski',\n",
        " metric_params=None, n_jobs=1, n_neighbors=parameters , p=2,\n",
        " weights='uniform')\n",
        "\n",
        "y_pred = Knn.predict(X_test_C)"
      ],
      "execution_count": 210,
      "outputs": []
    },
    {
      "cell_type": "code",
      "metadata": {
        "id": "DA0jxICj3y-T",
        "colab": {
          "base_uri": "https://localhost:8080/"
        },
        "outputId": "183902cb-d550-43ac-b817-2b3efd270b7a"
      },
      "source": [
        "print(classification_report(y_test_C, y_pred))"
      ],
      "execution_count": 211,
      "outputs": [
        {
          "output_type": "stream",
          "name": "stdout",
          "text": [
            "              precision    recall  f1-score   support\n",
            "\n",
            "         0.0       0.78      1.00      0.88        14\n",
            "         1.0       0.00      0.00      0.00         4\n",
            "\n",
            "    accuracy                           0.78        18\n",
            "   macro avg       0.39      0.50      0.44        18\n",
            "weighted avg       0.60      0.78      0.68        18\n",
            "\n"
          ]
        }
      ]
    },
    {
      "cell_type": "code",
      "metadata": {
        "id": "p-4j6Dbw3y-U",
        "colab": {
          "base_uri": "https://localhost:8080/",
          "height": 0
        },
        "outputId": "9142037f-e8e0-44e8-f356-5a871dfe2a1c"
      },
      "source": [
        "plot_confusion_matrix(Knn, X_test_C, y_test_C, display_labels=[\"Non_Flood\", \"Flood\"], cmap=plt.cm.Blues)"
      ],
      "execution_count": 212,
      "outputs": [
        {
          "output_type": "execute_result",
          "data": {
            "text/plain": [
              "<sklearn.metrics._plot.confusion_matrix.ConfusionMatrixDisplay at 0x7f916ebeea50>"
            ]
          },
          "metadata": {},
          "execution_count": 212
        },
        {
          "output_type": "display_data",
          "data": {
            "image/png": "[encoded data removed]",
            "text/plain": [
              "<Figure size 432x288 with 2 Axes>"
            ]
          },
          "metadata": {
            "needs_background": "light"
          }
        }
      ]
    },
    {
      "cell_type": "markdown",
      "metadata": {
        "id": "F1N8Ant33y-U"
      },
      "source": [
        "# S.5"
      ]
    },
    {
      "cell_type": "code",
      "metadata": {
        "id": "YW8UEGvK3y-U"
      },
      "source": [
        "Knn.fit(X_train_S, y_train_S)\n",
        "y_pred = Knn.predict(X_test_S)"
      ],
      "execution_count": 213,
      "outputs": []
    },
    {
      "cell_type": "code",
      "metadata": {
        "id": "wHEYGGRb3y-U",
        "colab": {
          "base_uri": "https://localhost:8080/"
        },
        "outputId": "a4be07ed-cab1-45dd-8eb2-69a195554a6a"
      },
      "source": [
        "print(classification_report(y_test_S, y_pred))"
      ],
      "execution_count": 214,
      "outputs": [
        {
          "output_type": "stream",
          "name": "stdout",
          "text": [
            "              precision    recall  f1-score   support\n",
            "\n",
            "         0.0       0.89      1.00      0.94        16\n",
            "         1.0       0.00      0.00      0.00         2\n",
            "\n",
            "    accuracy                           0.89        18\n",
            "   macro avg       0.44      0.50      0.47        18\n",
            "weighted avg       0.79      0.89      0.84        18\n",
            "\n"
          ]
        }
      ]
    },
    {
      "cell_type": "code",
      "metadata": {
        "id": "VPZIUAzF3y-V",
        "colab": {
          "base_uri": "https://localhost:8080/",
          "height": 0
        },
        "outputId": "74d43fbd-2a83-4566-a881-64f102511aa7"
      },
      "source": [
        "plot_confusion_matrix(Knn, X_test_S, y_test_S, display_labels=[\"Non_Flood\", \"Flood\"], cmap=plt.cm.Purples)"
      ],
      "execution_count": 215,
      "outputs": [
        {
          "output_type": "execute_result",
          "data": {
            "text/plain": [
              "<sklearn.metrics._plot.confusion_matrix.ConfusionMatrixDisplay at 0x7f916ee046d0>"
            ]
          },
          "metadata": {},
          "execution_count": 215
        },
        {
          "output_type": "display_data",
          "data": {
            "image/png": "[encoded data removed]",
            "text/plain": [
              "<Figure size 432x288 with 2 Axes>"
            ]
          },
          "metadata": {
            "needs_background": "light"
          }
        }
      ]
    },
    {
      "cell_type": "markdown",
      "metadata": {
        "collapsed": false,
        "pycharm": {
          "name": "#%% md\n"
        },
        "id": "BrOTiRp83y-V"
      },
      "source": [
        "# Logistic Regression\n"
      ]
    },
    {
      "cell_type": "code",
      "metadata": {
        "pycharm": {
          "name": "#%%\n"
        },
        "id": "qeeaW8Jp3y-V"
      },
      "source": [
        "Lr = LogisticRegression()"
      ],
      "execution_count": 216,
      "outputs": []
    },
    {
      "cell_type": "markdown",
      "metadata": {
        "collapsed": false,
        "pycharm": {
          "name": "#%% md\n"
        },
        "id": "Rhyglj_l3y-V"
      },
      "source": [
        "## c.35"
      ]
    },
    {
      "cell_type": "code",
      "metadata": {
        "pycharm": {
          "name": "#%%\n"
        },
        "id": "UlYJLLSD3y-W",
        "colab": {
          "base_uri": "https://localhost:8080/"
        },
        "outputId": "456895f1-4cbc-478a-a63b-140f9f596113"
      },
      "source": [
        "Lr.fit(X_train_C, y_train_C)"
      ],
      "execution_count": 217,
      "outputs": [
        {
          "output_type": "execute_result",
          "data": {
            "text/plain": [
              "LogisticRegression(C=1.0, class_weight=None, dual=False, fit_intercept=True,\n",
              "                   intercept_scaling=1, l1_ratio=None, max_iter=100,\n",
              "                   multi_class='auto', n_jobs=None, penalty='l2',\n",
              "                   random_state=None, solver='lbfgs', tol=0.0001, verbose=0,\n",
              "                   warm_start=False)"
            ]
          },
          "metadata": {},
          "execution_count": 217
        }
      ]
    },
    {
      "cell_type": "code",
      "metadata": {
        "pycharm": {
          "name": "#%%\n"
        },
        "id": "R279Uf2p3y-W",
        "colab": {
          "base_uri": "https://localhost:8080/"
        },
        "outputId": "62bdc9f6-fea1-4680-ad5c-8bccdea6b652"
      },
      "source": [
        "y_pred_C = Lr.predict(X_test_C)\n",
        "print(classification_report(y_test_C, y_pred_C))"
      ],
      "execution_count": 218,
      "outputs": [
        {
          "output_type": "stream",
          "name": "stdout",
          "text": [
            "              precision    recall  f1-score   support\n",
            "\n",
            "         0.0       0.88      1.00      0.93        14\n",
            "         1.0       1.00      0.50      0.67         4\n",
            "\n",
            "    accuracy                           0.89        18\n",
            "   macro avg       0.94      0.75      0.80        18\n",
            "weighted avg       0.90      0.89      0.87        18\n",
            "\n"
          ]
        }
      ]
    },
    {
      "cell_type": "code",
      "metadata": {
        "pycharm": {
          "name": "#%%\n"
        },
        "id": "KeG-iY8K3y-W",
        "colab": {
          "base_uri": "https://localhost:8080/",
          "height": 0
        },
        "outputId": "4e64fcd2-9e40-4d05-da35-a19d46399be9"
      },
      "source": [
        "print(confusion_matrix(y_pred_C, y_test_C))\n",
        "plot_confusion_matrix(Lr, X_test_C, y_test_C, display_labels=[\"Non_Flood\", \"Flood\"], cmap=plt.cm.Blues)"
      ],
      "execution_count": 219,
      "outputs": [
        {
          "output_type": "stream",
          "name": "stdout",
          "text": [
            "[[14  2]\n",
            " [ 0  2]]\n"
          ]
        },
        {
          "output_type": "execute_result",
          "data": {
            "text/plain": [
              "<sklearn.metrics._plot.confusion_matrix.ConfusionMatrixDisplay at 0x7f916eb0f710>"
            ]
          },
          "metadata": {},
          "execution_count": 219
        },
        {
          "output_type": "display_data",
          "data": {
            "image/png": "[encoded data removed]",
            "text/plain": [
              "<Figure size 432x288 with 2 Axes>"
            ]
          },
          "metadata": {
            "needs_background": "light"
          }
        }
      ]
    },
    {
      "cell_type": "markdown",
      "metadata": {
        "collapsed": false,
        "pycharm": {
          "name": "#%% md\n"
        },
        "id": "GuMYNxME3y-W"
      },
      "source": [
        "## S.5"
      ]
    },
    {
      "cell_type": "code",
      "metadata": {
        "pycharm": {
          "name": "#%%\n"
        },
        "id": "b4q9QnV63y-W",
        "colab": {
          "base_uri": "https://localhost:8080/"
        },
        "outputId": "c2a8bdf9-cb13-484a-a642-1c746c09e345"
      },
      "source": [
        "Lr.fit(X_train_S, y_train_S)"
      ],
      "execution_count": 220,
      "outputs": [
        {
          "output_type": "execute_result",
          "data": {
            "text/plain": [
              "LogisticRegression(C=1.0, class_weight=None, dual=False, fit_intercept=True,\n",
              "                   intercept_scaling=1, l1_ratio=None, max_iter=100,\n",
              "                   multi_class='auto', n_jobs=None, penalty='l2',\n",
              "                   random_state=None, solver='lbfgs', tol=0.0001, verbose=0,\n",
              "                   warm_start=False)"
            ]
          },
          "metadata": {},
          "execution_count": 220
        }
      ]
    },
    {
      "cell_type": "code",
      "metadata": {
        "pycharm": {
          "name": "#%%\n"
        },
        "id": "mkl6KFwl3y-W",
        "colab": {
          "base_uri": "https://localhost:8080/"
        },
        "outputId": "ea6c82cb-2f21-4bf9-d583-266003a9684d"
      },
      "source": [
        "y_pred_S = Lr.predict(X_test_S)\n",
        "print(classification_report(y_test_S, y_pred_S))"
      ],
      "execution_count": 221,
      "outputs": [
        {
          "output_type": "stream",
          "name": "stdout",
          "text": [
            "              precision    recall  f1-score   support\n",
            "\n",
            "         0.0       0.89      1.00      0.94        16\n",
            "         1.0       0.00      0.00      0.00         2\n",
            "\n",
            "    accuracy                           0.89        18\n",
            "   macro avg       0.44      0.50      0.47        18\n",
            "weighted avg       0.79      0.89      0.84        18\n",
            "\n"
          ]
        }
      ]
    },
    {
      "cell_type": "code",
      "metadata": {
        "pycharm": {
          "name": "#%%\n"
        },
        "id": "SsbHW22z3y-X",
        "colab": {
          "base_uri": "https://localhost:8080/",
          "height": 0
        },
        "outputId": "d2263681-269f-4148-f2e5-6883d060be5c"
      },
      "source": [
        "print(confusion_matrix(y_pred_S, y_test_S))\n",
        "plot_confusion_matrix(Lr, X_test_S, y_test_S, display_labels=[\"Non_Flood\", \"Flood\"], cmap=plt.cm.Purples)"
      ],
      "execution_count": 222,
      "outputs": [
        {
          "output_type": "stream",
          "name": "stdout",
          "text": [
            "[[16  2]\n",
            " [ 0  0]]\n"
          ]
        },
        {
          "output_type": "execute_result",
          "data": {
            "text/plain": [
              "<sklearn.metrics._plot.confusion_matrix.ConfusionMatrixDisplay at 0x7f916eb63950>"
            ]
          },
          "metadata": {},
          "execution_count": 222
        },
        {
          "output_type": "display_data",
          "data": {
            "image/png": "[encoded data removed]",
            "text/plain": [
              "<Figure size 432x288 with 2 Axes>"
            ]
          },
          "metadata": {
            "needs_background": "light"
          }
        }
      ]
    },
    {
      "cell_type": "markdown",
      "metadata": {
        "collapsed": false,
        "pycharm": {
          "name": "#%% md\n"
        },
        "id": "-xE2LFGW3y-X"
      },
      "source": [
        "# Apply SMOTE"
      ]
    },
    {
      "cell_type": "code",
      "metadata": {
        "pycharm": {
          "name": "#%%\n"
        },
        "id": "SHHAdigH3y-X"
      },
      "source": [
        "overSampling = SMOTE(k_neighbors=2)"
      ],
      "execution_count": 223,
      "outputs": []
    },
    {
      "cell_type": "markdown",
      "metadata": {
        "collapsed": false,
        "pycharm": {
          "name": "#%% md\n"
        },
        "id": "Zcg1tjlL3y-X"
      },
      "source": [
        "### C.35"
      ]
    },
    {
      "cell_type": "code",
      "metadata": {
        "pycharm": {
          "name": "#%%\n"
        },
        "id": "XiBOAhSY3y-X"
      },
      "source": [
        "X_over_C = X.drop(columns=['S.26 Tha Ruea (Pa Sak R.)', 'S.9 Kaeng Khoi (Pa Sak r.)',\n",
        "                        'S.5 river/brae', 'S.26 river/brae', 'critical_wat_lev_S.5'])\n",
        "y_over_C = y.drop(columns=['Class_S.5'])"
      ],
      "execution_count": 224,
      "outputs": []
    },
    {
      "cell_type": "code",
      "metadata": {
        "pycharm": {
          "name": "#%%\n"
        },
        "id": "OW2MPZXI3y-X"
      },
      "source": [
        "X_over_C , y_over_C = overSampling.fit_resample(X_over_C, y_over_C)"
      ],
      "execution_count": 225,
      "outputs": []
    },
    {
      "cell_type": "code",
      "metadata": {
        "pycharm": {
          "name": "#%%\n"
        },
        "id": "4AgnT9mn3y-X",
        "colab": {
          "base_uri": "https://localhost:8080/"
        },
        "outputId": "f74217a8-da8b-4891-958b-885f5a5e3a3a"
      },
      "source": [
        "X_over_C"
      ],
      "execution_count": 226,
      "outputs": [
        {
          "output_type": "execute_result",
          "data": {
            "text/plain": [
              "array([[1.02000000e+00, 0.00000000e+00, 1.61572052e-01, 1.02000000e-01,\n",
              "        3.20000000e+00],\n",
              "       [8.70000000e-01, 0.00000000e+00, 1.48471616e-01, 8.70000000e-02,\n",
              "        3.20000000e+00],\n",
              "       [8.50000000e-01, 0.00000000e+00, 6.55021834e-02, 8.50000000e-02,\n",
              "        3.20000000e+00],\n",
              "       [9.00000000e-01, 3.00000000e+00, 7.20524017e-02, 9.00000000e-02,\n",
              "        3.20000000e+00],\n",
              "       [9.00000000e-01, 8.00000000e+00, 1.35371179e-01, 9.00000000e-02,\n",
              "        3.20000000e+00],\n",
              "       [9.20000000e-01, 0.00000000e+00, 1.33187773e-01, 9.20000000e-02,\n",
              "        3.20000000e+00],\n",
              "       [8.80000000e-01, 0.00000000e+00, 1.33187773e-01, 8.80000000e-02,\n",
              "        3.20000000e+00],\n",
              "       [1.02000000e+00, 0.00000000e+00, 1.50655022e-01, 1.02000000e-01,\n",
              "        3.20000000e+00],\n",
              "       [9.90000000e-01, 0.00000000e+00, 1.59388646e-01, 9.90000000e-02,\n",
              "        3.20000000e+00],\n",
              "       [1.06000000e+00, 2.50000000e+00, 1.63755459e-01, 1.06000000e-01,\n",
              "        3.20000000e+00],\n",
              "       [9.60000000e-01, 2.14000000e+01, 1.59388646e-01, 9.60000000e-02,\n",
              "        3.20000000e+00],\n",
              "       [1.04000000e+00, 0.00000000e+00, 1.65938865e-01, 1.04000000e-01,\n",
              "        3.20000000e+00],\n",
              "       [1.07000000e+00, 0.00000000e+00, 1.81222707e-01, 1.07000000e-01,\n",
              "        3.20000000e+00],\n",
              "       [1.07000000e+00, 6.03000000e+01, 1.85589520e-01, 1.07000000e-01,\n",
              "        3.20000000e+00],\n",
              "       [1.08000000e+00, 0.00000000e+00, 1.83406114e-01, 1.08000000e-01,\n",
              "        3.20000000e+00],\n",
              "       [1.00000000e+00, 4.00000000e+00, 1.46288210e-01, 1.00000000e-01,\n",
              "        3.20000000e+00],\n",
              "       [9.40000000e-01, 0.00000000e+00, 1.31004367e-01, 9.40000000e-02,\n",
              "        3.20000000e+00],\n",
              "       [9.50000000e-01, 0.00000000e+00, 1.31004367e-01, 9.50000000e-02,\n",
              "        3.20000000e+00],\n",
              "       [1.01000000e+00, 0.00000000e+00, 1.37554585e-01, 1.01000000e-01,\n",
              "        3.20000000e+00],\n",
              "       [1.05000000e+00, 0.00000000e+00, 1.46288210e-01, 1.05000000e-01,\n",
              "        3.20000000e+00],\n",
              "       [1.04000000e+00, 3.00000000e+01, 1.39737991e-01, 1.04000000e-01,\n",
              "        3.20000000e+00],\n",
              "       [1.02000000e+00, 6.00000000e+00, 1.39737991e-01, 1.02000000e-01,\n",
              "        3.20000000e+00],\n",
              "       [1.09000000e+00, 0.00000000e+00, 1.52838428e-01, 1.09000000e-01,\n",
              "        3.20000000e+00],\n",
              "       [9.80000000e-01, 0.00000000e+00, 1.33187773e-01, 9.80000000e-02,\n",
              "        3.20000000e+00],\n",
              "       [1.07000000e+00, 0.00000000e+00, 1.00436681e-01, 1.07000000e-01,\n",
              "        3.20000000e+00],\n",
              "       [1.10000000e+00, 0.00000000e+00, 1.20087336e-01, 1.10000000e-01,\n",
              "        3.20000000e+00],\n",
              "       [1.09000000e+00, 0.00000000e+00, 1.09170306e-01, 1.09000000e-01,\n",
              "        3.20000000e+00],\n",
              "       [9.70000000e-01, 0.00000000e+00, 1.00436681e-01, 9.70000000e-02,\n",
              "        3.20000000e+00],\n",
              "       [1.02000000e+00, 0.00000000e+00, 1.65938865e-01, 1.02000000e-01,\n",
              "        3.20000000e+00],\n",
              "       [1.01000000e+00, 0.00000000e+00, 9.17030568e-02, 1.01000000e-01,\n",
              "        3.20000000e+00],\n",
              "       [9.80000000e-01, 0.00000000e+00, 4.36681223e-02, 9.80000000e-02,\n",
              "        3.20000000e+00],\n",
              "       [3.20000000e-01, 4.07000000e+01, 3.93013100e-02, 3.20000000e-02,\n",
              "        3.20000000e+00],\n",
              "       [4.30000000e-01, 1.50000000e+01, 7.20524017e-02, 4.30000000e-02,\n",
              "        3.20000000e+00],\n",
              "       [9.40000000e-01, 7.40000000e+00, 1.48471616e-01, 9.40000000e-02,\n",
              "        3.20000000e+00],\n",
              "       [9.60000000e-01, 0.00000000e+00, 1.44104803e-01, 9.60000000e-02,\n",
              "        3.20000000e+00],\n",
              "       [9.40000000e-01, 1.13000000e+01, 1.39737991e-01, 9.40000000e-02,\n",
              "        3.20000000e+00],\n",
              "       [9.90000000e-01, 0.00000000e+00, 1.48471616e-01, 9.90000000e-02,\n",
              "        3.20000000e+00],\n",
              "       [1.16000000e+00, 5.00000000e+00, 1.83406114e-01, 1.16000000e-01,\n",
              "        3.20000000e+00],\n",
              "       [1.26000000e+00, 7.00000000e+00, 2.00873362e-01, 1.26000000e-01,\n",
              "        3.20000000e+00],\n",
              "       [1.08000000e+00, 0.00000000e+00, 1.98689956e-01, 1.08000000e-01,\n",
              "        3.20000000e+00],\n",
              "       [1.01000000e+00, 0.00000000e+00, 1.89956332e-01, 1.01000000e-01,\n",
              "        3.20000000e+00],\n",
              "       [1.28000000e+00, 2.00000000e+01, 2.00873362e-01, 1.28000000e-01,\n",
              "        3.20000000e+00],\n",
              "       [1.43000000e+00, 1.70000000e+01, 2.18340611e-01, 1.43000000e-01,\n",
              "        3.20000000e+00],\n",
              "       [1.66000000e+00, 0.00000000e+00, 2.66375546e-01, 1.66000000e-01,\n",
              "        3.20000000e+00],\n",
              "       [9.70000000e-01, 0.00000000e+00, 1.72489083e-01, 9.70000000e-02,\n",
              "        3.20000000e+00],\n",
              "       [1.00000000e+00, 0.00000000e+00, 1.85589520e-01, 1.00000000e-01,\n",
              "        3.20000000e+00],\n",
              "       [9.60000000e-01, 0.00000000e+00, 1.81222707e-01, 9.60000000e-02,\n",
              "        3.20000000e+00],\n",
              "       [9.70000000e-01, 0.00000000e+00, 2.00873362e-01, 9.70000000e-02,\n",
              "        3.20000000e+00],\n",
              "       [8.80000000e-01, 0.00000000e+00, 1.76855895e-01, 8.80000000e-02,\n",
              "        3.20000000e+00],\n",
              "       [8.00000000e-01, 0.00000000e+00, 1.31004367e-01, 8.00000000e-02,\n",
              "        3.20000000e+00],\n",
              "       [6.80000000e-01, 0.00000000e+00, 1.11353712e-01, 6.80000000e-02,\n",
              "        3.20000000e+00],\n",
              "       [7.90000000e-01, 3.00000000e+00, 1.26637555e-01, 7.90000000e-02,\n",
              "        3.20000000e+00],\n",
              "       [8.00000000e-01, 5.40000000e+01, 1.20087336e-01, 8.00000000e-02,\n",
              "        3.20000000e+00],\n",
              "       [8.90000000e-01, 5.00000000e+01, 1.46288210e-01, 8.90000000e-02,\n",
              "        3.20000000e+00],\n",
              "       [1.03000000e+00, 1.00000000e+00, 1.11353712e-01, 1.03000000e-01,\n",
              "        3.20000000e+00],\n",
              "       [9.90000000e-01, 1.10000000e+00, 1.63755459e-01, 9.90000000e-02,\n",
              "        3.20000000e+00],\n",
              "       [9.60000000e-01, 0.00000000e+00, 1.74672489e-01, 9.60000000e-02,\n",
              "        3.20000000e+00],\n",
              "       [1.04000000e+00, 2.40000000e+01, 1.83406114e-01, 1.04000000e-01,\n",
              "        3.20000000e+00],\n",
              "       [9.90000000e-01, 7.00000000e+00, 1.65938865e-01, 9.90000000e-02,\n",
              "        3.20000000e+00],\n",
              "       [1.05000000e+00, 1.60000000e+01, 1.83406114e-01, 1.05000000e-01,\n",
              "        3.20000000e+00],\n",
              "       [1.25000000e+00, 0.00000000e+00, 2.07423581e-01, 1.25000000e-01,\n",
              "        3.20000000e+00],\n",
              "       [1.40000000e+00, 2.00000000e+00, 1.92139738e-01, 1.40000000e-01,\n",
              "        3.20000000e+00],\n",
              "       [2.11000000e+00, 0.00000000e+00, 3.01310044e-01, 2.11000000e-01,\n",
              "        3.20000000e+00],\n",
              "       [2.48000000e+00, 0.00000000e+00, 3.20960699e-01, 2.48000000e-01,\n",
              "        3.20000000e+00],\n",
              "       [2.78000000e+00, 4.00000000e+00, 3.34061135e-01, 2.78000000e-01,\n",
              "        3.20000000e+00],\n",
              "       [3.07000000e+00, 1.30000000e+01, 3.68995633e-01, 3.07000000e-01,\n",
              "        3.20000000e+00],\n",
              "       [3.19000000e+00, 1.10000000e+01, 3.77729258e-01, 3.19000000e-01,\n",
              "        3.20000000e+00],\n",
              "       [3.21000000e+00, 1.00000000e+00, 3.93013100e-01, 3.21000000e-01,\n",
              "        3.20000000e+00],\n",
              "       [3.00000000e+00, 2.00000000e+00, 3.77729258e-01, 3.00000000e-01,\n",
              "        3.20000000e+00],\n",
              "       [3.25000000e+00, 0.00000000e+00, 3.86462882e-01, 3.25000000e-01,\n",
              "        3.20000000e+00],\n",
              "       [3.93000000e+00, 2.00000000e+00, 4.54148472e-01, 3.93000000e-01,\n",
              "        3.20000000e+00],\n",
              "       [4.73000000e+00, 0.00000000e+00, 5.24017467e-01, 4.73000000e-01,\n",
              "        3.20000000e+00],\n",
              "       [5.22000000e+00, 8.40000000e+00, 5.80786026e-01, 5.22000000e-01,\n",
              "        3.20000000e+00],\n",
              "       [5.36000000e+00, 3.00000000e+00, 6.22270742e-01, 5.36000000e-01,\n",
              "        3.20000000e+00],\n",
              "       [5.25000000e+00, 0.00000000e+00, 6.11353712e-01, 5.25000000e-01,\n",
              "        3.20000000e+00],\n",
              "       [5.12000000e+00, 1.00000000e+00, 6.00436681e-01, 5.12000000e-01,\n",
              "        3.20000000e+00],\n",
              "       [5.22000000e+00, 2.20000000e+01, 6.04803493e-01, 5.22000000e-01,\n",
              "        3.20000000e+00],\n",
              "       [5.39000000e+00, 2.95000000e+01, 6.17903930e-01, 5.39000000e-01,\n",
              "        3.20000000e+00],\n",
              "       [5.60000000e+00, 5.30000000e+01, 6.44104803e-01, 5.60000000e-01,\n",
              "        3.20000000e+00],\n",
              "       [5.89000000e+00, 5.00000000e+01, 6.85589520e-01, 5.89000000e-01,\n",
              "        3.20000000e+00],\n",
              "       [6.28000000e+00, 1.42000000e+01, 7.29257642e-01, 6.28000000e-01,\n",
              "        3.20000000e+00],\n",
              "       [6.89000000e+00, 7.40000000e+00, 7.88209607e-01, 6.89000000e-01,\n",
              "        3.20000000e+00],\n",
              "       [7.29000000e+00, 8.00000000e+01, 8.49344978e-01, 7.29000000e-01,\n",
              "        3.20000000e+00],\n",
              "       [7.82000000e+00, 3.53000000e+01, 9.14847162e-01, 7.82000000e-01,\n",
              "        3.20000000e+00],\n",
              "       [8.31000000e+00, 5.50000000e+00, 9.84716157e-01, 8.31000000e-01,\n",
              "        3.20000000e+00],\n",
              "       [8.60000000e+00, 0.00000000e+00, 1.04585153e+00, 8.60000000e-01,\n",
              "        3.20000000e+00],\n",
              "       [8.86000000e+00, 0.00000000e+00, 1.08515284e+00, 8.86000000e-01,\n",
              "        3.20000000e+00],\n",
              "       [9.07000000e+00, 0.00000000e+00, 1.13318777e+00, 9.07000000e-01,\n",
              "        3.20000000e+00],\n",
              "       [8.91344718e+00, 0.00000000e+00, 1.09737823e+00, 8.91344718e-01,\n",
              "        3.20000000e+00],\n",
              "       [6.29086363e+00, 1.40788973e+01, 7.30307531e-01, 6.29086363e-01,\n",
              "        3.20000000e+00],\n",
              "       [6.29703555e+00, 5.87221904e+01, 7.33199729e-01, 6.29703555e-01,\n",
              "        3.20000000e+00],\n",
              "       [7.16293566e+00, 7.72771928e+01, 8.34482493e-01, 7.16293566e-01,\n",
              "        3.20000000e+00],\n",
              "       [7.66863645e+00, 4.80659443e+01, 8.96140289e-01, 7.66863645e-01,\n",
              "        3.20000000e+00],\n",
              "       [8.59230782e+00, 1.45886254e-01, 1.04422993e+00, 8.59230782e-01,\n",
              "        3.20000000e+00],\n",
              "       [6.92236752e+00, 1.14469963e+01, 8.10094220e-01, 6.92236752e-01,\n",
              "        3.20000000e+00],\n",
              "       [7.41918296e+00, 6.91047582e+01, 8.65310574e-01, 7.41918296e-01,\n",
              "        3.20000000e+00],\n",
              "       [7.54915537e+00, 6.51803155e+00, 8.79426753e-01, 7.54915537e-01,\n",
              "        3.20000000e+00],\n",
              "       [6.30380767e+00, 1.39346031e+01, 7.31558476e-01, 6.30380767e-01,\n",
              "        3.20000000e+00],\n",
              "       [7.37809442e+00, 9.49388107e+00, 8.67443637e-01, 7.37809442e-01,\n",
              "        3.20000000e+00],\n",
              "       [7.09760682e+00, 2.54022752e+01, 8.27789627e-01, 7.09760682e-01,\n",
              "        3.20000000e+00],\n",
              "       [8.68217632e+00, 0.00000000e+00, 1.05827321e+00, 8.68217632e-01,\n",
              "        3.20000000e+00],\n",
              "       [8.86034557e+00, 0.00000000e+00, 1.08523188e+00, 8.86034557e-01,\n",
              "        3.20000000e+00],\n",
              "       [8.83326170e+00, 0.00000000e+00, 1.08111111e+00, 8.83326170e-01,\n",
              "        3.20000000e+00],\n",
              "       [6.81832494e+00, 4.29293385e+01, 7.95861845e-01, 6.81832494e-01,\n",
              "        3.20000000e+00],\n",
              "       [9.05277702e+00, 0.00000000e+00, 1.12924823e+00, 9.05277702e-01,\n",
              "        3.20000000e+00],\n",
              "       [6.32196310e+00, 5.92563522e+01, 7.36115460e-01, 6.32196310e-01,\n",
              "        3.20000000e+00],\n",
              "       [6.57382935e+00, 1.09245253e+01, 7.57654064e-01, 6.57382935e-01,\n",
              "        3.20000000e+00],\n",
              "       [6.45476971e+00, 1.22517475e+01, 7.46147835e-01, 6.45476971e-01,\n",
              "        3.20000000e+00],\n",
              "       [8.68197198e+00, 0.00000000e+00, 1.05824232e+00, 8.68197198e-01,\n",
              "        3.20000000e+00],\n",
              "       [8.61580285e+00, 0.00000000e+00, 1.04824027e+00, 8.61580285e-01,\n",
              "        3.20000000e+00],\n",
              "       [7.50972881e+00, 6.57078539e+00, 8.73970713e-01, 7.50972881e-01,\n",
              "        3.20000000e+00],\n",
              "       [6.62899951e+00, 6.58357038e+01, 7.72028951e-01, 6.62899951e-01,\n",
              "        3.20000000e+00],\n",
              "       [7.20995849e+00, 6.97188653e+00, 8.32487029e-01, 7.20995849e-01,\n",
              "        3.20000000e+00],\n",
              "       [9.01991181e+00, 0.00000000e+00, 1.12173071e+00, 9.01991181e-01,\n",
              "        3.20000000e+00],\n",
              "       [8.81660942e+00, 0.00000000e+00, 1.07859397e+00, 8.81660942e-01,\n",
              "        3.20000000e+00],\n",
              "       [6.49942230e+00, 6.30590493e+01, 7.56872540e-01, 6.49942230e-01,\n",
              "        3.20000000e+00],\n",
              "       [7.75044241e+00, 6.24870382e+00, 9.07281839e-01, 7.75044241e-01,\n",
              "        3.20000000e+00],\n",
              "       [7.62311394e+00, 3.67995985e+01, 8.91459787e-01, 7.62311394e-01,\n",
              "        3.20000000e+00],\n",
              "       [8.67974191e+00, 0.00000000e+00, 1.06066931e+00, 8.67974191e-01,\n",
              "        3.20000000e+00],\n",
              "       [6.24685926e+00, 4.72819528e+01, 7.27979526e-01, 6.24685926e-01,\n",
              "        3.20000000e+00],\n",
              "       [8.38098231e+00, 4.15378386e+00, 9.99680052e-01, 8.38098231e-01,\n",
              "        3.20000000e+00],\n",
              "       [6.70294529e+00, 4.38081369e+01, 7.82156318e-01, 6.70294529e-01,\n",
              "        3.20000000e+00],\n",
              "       [8.65749223e+00, 0.00000000e+00, 1.05653484e+00, 8.65749223e-01,\n",
              "        3.20000000e+00],\n",
              "       [6.95389048e+00, 7.31451274e+00, 7.97051084e-01, 6.95389048e-01,\n",
              "        3.20000000e+00],\n",
              "       [9.01845660e+00, 0.00000000e+00, 1.12360989e+00, 9.01845660e-01,\n",
              "        3.20000000e+00],\n",
              "       [9.01432771e+00, 0.00000000e+00, 1.12045342e+00, 9.01432771e-01,\n",
              "        3.20000000e+00],\n",
              "       [6.96612563e+00, 2.36008122e+01, 8.11944477e-01, 6.96612563e-01,\n",
              "        3.20000000e+00],\n",
              "       [8.11485757e+00, 5.76110607e+00, 9.57711393e-01, 8.11485757e-01,\n",
              "        3.20000000e+00],\n",
              "       [8.44581256e+00, 2.92424460e+00, 1.01334702e+00, 8.44581256e-01,\n",
              "        3.20000000e+00],\n",
              "       [8.95181354e+00, 0.00000000e+00, 1.10615406e+00, 8.95181354e-01,\n",
              "        3.20000000e+00],\n",
              "       [6.44931361e+00, 6.19852916e+01, 7.51011417e-01, 6.44931361e-01,\n",
              "        3.20000000e+00],\n",
              "       [7.79541653e+00, 3.54872420e+01, 9.11926981e-01, 7.79541653e-01,\n",
              "        3.20000000e+00],\n",
              "       [6.69165977e+00, 1.24357438e+01, 7.81061580e-01, 6.69165977e-01,\n",
              "        3.20000000e+00],\n",
              "       [6.96779344e+00, 7.30955736e+01, 8.11657061e-01, 6.96779344e-01,\n",
              "        3.20000000e+00],\n",
              "       [8.60135211e+00, 0.00000000e+00, 1.04605591e+00, 8.60135211e-01,\n",
              "        3.20000000e+00],\n",
              "       [8.92154797e+00, 0.00000000e+00, 1.10560215e+00, 8.92154797e-01,\n",
              "        3.20000000e+00],\n",
              "       [8.80435082e+00, 0.00000000e+00, 1.07674097e+00, 8.80435082e-01,\n",
              "        3.20000000e+00],\n",
              "       [6.84539515e+00, 7.89723443e+00, 7.83898880e-01, 6.84539515e-01,\n",
              "        3.20000000e+00],\n",
              "       [6.71347377e+00, 2.01391535e+01, 7.81496725e-01, 6.71347377e-01,\n",
              "        3.20000000e+00],\n",
              "       [8.62154037e+00, 0.00000000e+00, 1.04910755e+00, 8.62154037e-01,\n",
              "        3.20000000e+00],\n",
              "       [7.52037927e+00, 3.75820854e+01, 8.79256311e-01, 7.52037927e-01,\n",
              "        3.20000000e+00],\n",
              "       [6.74649907e+00, 2.05916432e+01, 7.85476693e-01, 6.74649907e-01,\n",
              "        3.20000000e+00],\n",
              "       [5.92821304e+00, 5.08188508e+01, 6.90059229e-01, 5.92821304e-01,\n",
              "        3.20000000e+00],\n",
              "       [8.55011538e+00, 9.46087682e-01, 1.03533527e+00, 8.55011538e-01,\n",
              "        3.20000000e+00],\n",
              "       [6.97904494e+00, 7.33366773e+01, 8.12973129e-01, 6.97904494e-01,\n",
              "        3.20000000e+00],\n",
              "       [7.06798197e+00, 1.08229344e+01, 8.28418580e-01, 7.06798197e-01,\n",
              "        3.20000000e+00],\n",
              "       [6.36142260e+00, 6.01019129e+01, 7.40730966e-01, 6.36142260e-01,\n",
              "        3.20000000e+00],\n",
              "       [7.56032575e+00, 3.17421255e+01, 8.83553123e-01, 7.56032575e-01,\n",
              "        3.20000000e+00],\n",
              "       [6.67911084e+00, 9.75089555e+00, 7.67828738e-01, 6.67911084e-01,\n",
              "        3.20000000e+00],\n",
              "       [8.68528672e+00, 0.00000000e+00, 1.05874337e+00, 8.68528672e-01,\n",
              "        3.20000000e+00],\n",
              "       [8.72666586e+00, 0.00000000e+00, 1.06499820e+00, 8.72666586e-01,\n",
              "        3.20000000e+00],\n",
              "       [8.35770775e+00, 4.59519789e+00, 9.94773505e-01, 8.35770775e-01,\n",
              "        3.20000000e+00],\n",
              "       [9.00143599e+00, 0.00000000e+00, 1.11750459e+00, 9.00143599e-01,\n",
              "        3.20000000e+00],\n",
              "       [6.96458342e+00, 7.30267876e+01, 8.11281591e-01, 6.96458342e-01,\n",
              "        3.20000000e+00],\n",
              "       [8.11211532e+00, 5.76477527e+00, 9.57331907e-01, 8.11211532e-01,\n",
              "        3.20000000e+00],\n",
              "       [7.59188019e+00, 6.46086453e+00, 8.85339224e-01, 7.59188019e-01,\n",
              "        3.20000000e+00],\n",
              "       [7.50028153e+00, 3.77351614e+01, 8.76868973e-01, 7.50028153e-01,\n",
              "        3.20000000e+00],\n",
              "       [8.73509683e+00, 0.00000000e+00, 1.06627261e+00, 8.73509683e-01,\n",
              "        3.20000000e+00]])"
            ]
          },
          "metadata": {},
          "execution_count": 226
        }
      ]
    },
    {
      "cell_type": "code",
      "metadata": {
        "pycharm": {
          "name": "#%%\n"
        },
        "id": "KBBfm7BJ3y-X",
        "colab": {
          "base_uri": "https://localhost:8080/"
        },
        "outputId": "8bd361d8-593b-49dc-cdc9-5865a85820e2"
      },
      "source": [
        "y_over_C"
      ],
      "execution_count": 227,
      "outputs": [
        {
          "output_type": "execute_result",
          "data": {
            "text/plain": [
              "array([0., 0., 0., 0., 0., 0., 0., 0., 0., 0., 0., 0., 0., 0., 0., 0., 0.,\n",
              "       0., 0., 0., 0., 0., 0., 0., 0., 0., 0., 0., 0., 0., 0., 0., 0., 0.,\n",
              "       0., 0., 0., 0., 0., 0., 0., 0., 0., 0., 0., 0., 0., 0., 0., 0., 0.,\n",
              "       0., 0., 0., 0., 0., 0., 0., 0., 0., 0., 0., 0., 0., 0., 0., 0., 0.,\n",
              "       0., 0., 0., 0., 0., 0., 0., 0., 0., 0., 0., 1., 1., 1., 1., 1., 1.,\n",
              "       1., 1., 1., 1., 1., 1., 1., 1., 1., 1., 1., 1., 1., 1., 1., 1., 1.,\n",
              "       1., 1., 1., 1., 1., 1., 1., 1., 1., 1., 1., 1., 1., 1., 1., 1., 1.,\n",
              "       1., 1., 1., 1., 1., 1., 1., 1., 1., 1., 1., 1., 1., 1., 1., 1., 1.,\n",
              "       1., 1., 1., 1., 1., 1., 1., 1., 1., 1., 1., 1., 1., 1., 1., 1., 1.,\n",
              "       1., 1., 1., 1., 1.])"
            ]
          },
          "metadata": {},
          "execution_count": 227
        }
      ]
    },
    {
      "cell_type": "code",
      "metadata": {
        "pycharm": {
          "name": "#%%\n"
        },
        "id": "VYILIwUd3y-X"
      },
      "source": [
        "X_over_train_C, X_over_test_C, y_over_train_C, y_over_test_C = train_test_split(X_over_C, y_over_C, test_size = 0.2)"
      ],
      "execution_count": 228,
      "outputs": []
    },
    {
      "cell_type": "markdown",
      "metadata": {
        "collapsed": false,
        "pycharm": {
          "name": "#%% md\n"
        },
        "id": "KJZTUiGU3y-X"
      },
      "source": [
        "### S.5"
      ]
    },
    {
      "cell_type": "code",
      "metadata": {
        "pycharm": {
          "name": "#%%\n"
        },
        "id": "Hg2DFVhE3y-Y"
      },
      "source": [
        "X_over_S = X.drop(columns=['C.7A Ang Thong (Chao Phraya R.)', 'C.13 Sapphaya (Chao Phraya r.)',\n",
        "                        'C.35 river/brae', 'C.7A river/brae', 'critical_wat_lev_C.35'])\n",
        "y_over_S = y.drop(columns=['Class_C.35'])"
      ],
      "execution_count": 229,
      "outputs": []
    },
    {
      "cell_type": "code",
      "metadata": {
        "pycharm": {
          "name": "#%%\n"
        },
        "id": "yMhp-AKc3y-Y",
        "colab": {
          "base_uri": "https://localhost:8080/",
          "height": 0
        },
        "outputId": "0a5eef13-df9a-4b35-e377-8b5239e07121"
      },
      "source": [
        "X_over_S"
      ],
      "execution_count": 230,
      "outputs": [
        {
          "output_type": "execute_result",
          "data": {
            "text/html": [
              "<div>\n",
              "<style scoped>\n",
              "    .dataframe tbody tr th:only-of-type {\n",
              "        vertical-align: middle;\n",
              "    }\n",
              "\n",
              "    .dataframe tbody tr th {\n",
              "        vertical-align: top;\n",
              "    }\n",
              "\n",
              "    .dataframe thead th {\n",
              "        text-align: right;\n",
              "    }\n",
              "</style>\n",
              "<table border=\"1\" class=\"dataframe\">\n",
              "  <thead>\n",
              "    <tr style=\"text-align: right;\">\n",
              "      <th></th>\n",
              "      <th>S.26 Tha Ruea (Pa Sak R.)</th>\n",
              "      <th>S.9 Kaeng Khoi (Pa Sak r.)</th>\n",
              "      <th>S.5 river/brae</th>\n",
              "      <th>S.26 river/brae</th>\n",
              "      <th>critical_wat_lev_S.5</th>\n",
              "    </tr>\n",
              "  </thead>\n",
              "  <tbody>\n",
              "    <tr>\n",
              "      <th>0</th>\n",
              "      <td>0.70</td>\n",
              "      <td>0.0</td>\n",
              "      <td>0.168085</td>\n",
              "      <td>0.08750</td>\n",
              "      <td>3</td>\n",
              "    </tr>\n",
              "    <tr>\n",
              "      <th>1</th>\n",
              "      <td>0.65</td>\n",
              "      <td>2.0</td>\n",
              "      <td>0.161702</td>\n",
              "      <td>0.08125</td>\n",
              "      <td>3</td>\n",
              "    </tr>\n",
              "    <tr>\n",
              "      <th>2</th>\n",
              "      <td>0.64</td>\n",
              "      <td>0.5</td>\n",
              "      <td>0.136170</td>\n",
              "      <td>0.08000</td>\n",
              "      <td>3</td>\n",
              "    </tr>\n",
              "    <tr>\n",
              "      <th>3</th>\n",
              "      <td>0.73</td>\n",
              "      <td>1.5</td>\n",
              "      <td>0.142553</td>\n",
              "      <td>0.09125</td>\n",
              "      <td>3</td>\n",
              "    </tr>\n",
              "    <tr>\n",
              "      <th>4</th>\n",
              "      <td>0.79</td>\n",
              "      <td>12.5</td>\n",
              "      <td>0.125532</td>\n",
              "      <td>0.09875</td>\n",
              "      <td>3</td>\n",
              "    </tr>\n",
              "    <tr>\n",
              "      <th>...</th>\n",
              "      <td>...</td>\n",
              "      <td>...</td>\n",
              "      <td>...</td>\n",
              "      <td>...</td>\n",
              "      <td>...</td>\n",
              "    </tr>\n",
              "    <tr>\n",
              "      <th>83</th>\n",
              "      <td>3.44</td>\n",
              "      <td>0.0</td>\n",
              "      <td>0.589362</td>\n",
              "      <td>0.43000</td>\n",
              "      <td>3</td>\n",
              "    </tr>\n",
              "    <tr>\n",
              "      <th>84</th>\n",
              "      <td>3.97</td>\n",
              "      <td>0.5</td>\n",
              "      <td>0.634043</td>\n",
              "      <td>0.49625</td>\n",
              "      <td>3</td>\n",
              "    </tr>\n",
              "    <tr>\n",
              "      <th>85</th>\n",
              "      <td>4.39</td>\n",
              "      <td>0.0</td>\n",
              "      <td>0.682979</td>\n",
              "      <td>0.54875</td>\n",
              "      <td>3</td>\n",
              "    </tr>\n",
              "    <tr>\n",
              "      <th>86</th>\n",
              "      <td>5.38</td>\n",
              "      <td>0.0</td>\n",
              "      <td>0.725532</td>\n",
              "      <td>0.67250</td>\n",
              "      <td>3</td>\n",
              "    </tr>\n",
              "    <tr>\n",
              "      <th>87</th>\n",
              "      <td>7.18</td>\n",
              "      <td>0.0</td>\n",
              "      <td>0.797872</td>\n",
              "      <td>0.89750</td>\n",
              "      <td>3</td>\n",
              "    </tr>\n",
              "  </tbody>\n",
              "</table>\n",
              "<p>88 rows × 5 columns</p>\n",
              "</div>"
            ],
            "text/plain": [
              "    S.26 Tha Ruea (Pa Sak R.)  ...  critical_wat_lev_S.5\n",
              "0                        0.70  ...                     3\n",
              "1                        0.65  ...                     3\n",
              "2                        0.64  ...                     3\n",
              "3                        0.73  ...                     3\n",
              "4                        0.79  ...                     3\n",
              "..                        ...  ...                   ...\n",
              "83                       3.44  ...                     3\n",
              "84                       3.97  ...                     3\n",
              "85                       4.39  ...                     3\n",
              "86                       5.38  ...                     3\n",
              "87                       7.18  ...                     3\n",
              "\n",
              "[88 rows x 5 columns]"
            ]
          },
          "metadata": {},
          "execution_count": 230
        }
      ]
    },
    {
      "cell_type": "code",
      "metadata": {
        "pycharm": {
          "name": "#%%\n"
        },
        "id": "4cvUAq063y-Y",
        "colab": {
          "base_uri": "https://localhost:8080/",
          "height": 0
        },
        "outputId": "c3749acc-d310-4a4d-a3e8-e8fe1d34b247"
      },
      "source": [
        "y_over_S"
      ],
      "execution_count": 231,
      "outputs": [
        {
          "output_type": "execute_result",
          "data": {
            "text/html": [
              "<div>\n",
              "<style scoped>\n",
              "    .dataframe tbody tr th:only-of-type {\n",
              "        vertical-align: middle;\n",
              "    }\n",
              "\n",
              "    .dataframe tbody tr th {\n",
              "        vertical-align: top;\n",
              "    }\n",
              "\n",
              "    .dataframe thead th {\n",
              "        text-align: right;\n",
              "    }\n",
              "</style>\n",
              "<table border=\"1\" class=\"dataframe\">\n",
              "  <thead>\n",
              "    <tr style=\"text-align: right;\">\n",
              "      <th></th>\n",
              "      <th>Class_S.5</th>\n",
              "    </tr>\n",
              "  </thead>\n",
              "  <tbody>\n",
              "    <tr>\n",
              "      <th>0</th>\n",
              "      <td>0.0</td>\n",
              "    </tr>\n",
              "    <tr>\n",
              "      <th>1</th>\n",
              "      <td>0.0</td>\n",
              "    </tr>\n",
              "    <tr>\n",
              "      <th>2</th>\n",
              "      <td>0.0</td>\n",
              "    </tr>\n",
              "    <tr>\n",
              "      <th>3</th>\n",
              "      <td>0.0</td>\n",
              "    </tr>\n",
              "    <tr>\n",
              "      <th>4</th>\n",
              "      <td>0.0</td>\n",
              "    </tr>\n",
              "    <tr>\n",
              "      <th>...</th>\n",
              "      <td>...</td>\n",
              "    </tr>\n",
              "    <tr>\n",
              "      <th>83</th>\n",
              "      <td>0.0</td>\n",
              "    </tr>\n",
              "    <tr>\n",
              "      <th>84</th>\n",
              "      <td>1.0</td>\n",
              "    </tr>\n",
              "    <tr>\n",
              "      <th>85</th>\n",
              "      <td>1.0</td>\n",
              "    </tr>\n",
              "    <tr>\n",
              "      <th>86</th>\n",
              "      <td>1.0</td>\n",
              "    </tr>\n",
              "    <tr>\n",
              "      <th>87</th>\n",
              "      <td>1.0</td>\n",
              "    </tr>\n",
              "  </tbody>\n",
              "</table>\n",
              "<p>88 rows × 1 columns</p>\n",
              "</div>"
            ],
            "text/plain": [
              "    Class_S.5\n",
              "0         0.0\n",
              "1         0.0\n",
              "2         0.0\n",
              "3         0.0\n",
              "4         0.0\n",
              "..        ...\n",
              "83        0.0\n",
              "84        1.0\n",
              "85        1.0\n",
              "86        1.0\n",
              "87        1.0\n",
              "\n",
              "[88 rows x 1 columns]"
            ]
          },
          "metadata": {},
          "execution_count": 231
        }
      ]
    },
    {
      "cell_type": "code",
      "metadata": {
        "pycharm": {
          "name": "#%%\n"
        },
        "id": "49Mvlteu3y-a"
      },
      "source": [
        "X_over_S , y_over_S = overSampling.fit_resample(X_over_S, y_over_S)"
      ],
      "execution_count": 232,
      "outputs": []
    },
    {
      "cell_type": "code",
      "metadata": {
        "pycharm": {
          "name": "#%%\n"
        },
        "id": "oklnRy-P3y-b"
      },
      "source": [
        "X_over_train_S, X_over_test_S, y_over_train_S, y_over_test_S = train_test_split(X_over_S, y_over_S, test_size = 0.2)"
      ],
      "execution_count": 233,
      "outputs": []
    },
    {
      "cell_type": "markdown",
      "metadata": {
        "id": "K74HpdmN3y-b"
      },
      "source": [
        "# K-Nearest-Nieghbor with using SMOTE"
      ]
    },
    {
      "cell_type": "markdown",
      "metadata": {
        "id": "MOqgWht63y-b"
      },
      "source": [
        "C.35"
      ]
    },
    {
      "cell_type": "code",
      "metadata": {
        "id": "CM3WrDCQ3y-b"
      },
      "source": [
        "Knn.fit(X_over_train_C, y_over_train_C)\n",
        "KNeighborsClassifier(algorithm='auto', leaf_size=30, metric='minkowski',\n",
        " metric_params=None, n_jobs=1, n_neighbors=parameters , p=2,\n",
        " weights='uniform')\n",
        "\n",
        "y_pred = Knn.predict(X_over_test_C)"
      ],
      "execution_count": 234,
      "outputs": []
    },
    {
      "cell_type": "code",
      "metadata": {
        "id": "XxeKt6dd3y-c",
        "colab": {
          "base_uri": "https://localhost:8080/"
        },
        "outputId": "db20cb06-572c-4c9b-a8ef-cb2a4b157312"
      },
      "source": [
        "print(classification_report( y_over_test_C, y_pred,target_names=[\"Non_Flood\", \"Flood\"]))"
      ],
      "execution_count": 235,
      "outputs": [
        {
          "output_type": "stream",
          "name": "stdout",
          "text": [
            "              precision    recall  f1-score   support\n",
            "\n",
            "   Non_Flood       0.95      0.95      0.95        20\n",
            "       Flood       0.92      0.92      0.92        12\n",
            "\n",
            "    accuracy                           0.94        32\n",
            "   macro avg       0.93      0.93      0.93        32\n",
            "weighted avg       0.94      0.94      0.94        32\n",
            "\n"
          ]
        }
      ]
    },
    {
      "cell_type": "code",
      "metadata": {
        "id": "FQ1sUCLr3y-c",
        "colab": {
          "base_uri": "https://localhost:8080/",
          "height": 0
        },
        "outputId": "aa50667d-036d-4a6e-97c3-770eef6f9fa7"
      },
      "source": [
        "plot_confusion_matrix(Knn, X_over_test_C, y_over_test_C, display_labels=[\"Non_Flood\", \"Flood\"], cmap=plt.cm.Greens)"
      ],
      "execution_count": 236,
      "outputs": [
        {
          "output_type": "execute_result",
          "data": {
            "text/plain": [
              "<sklearn.metrics._plot.confusion_matrix.ConfusionMatrixDisplay at 0x7f916f44a8d0>"
            ]
          },
          "metadata": {},
          "execution_count": 236
        },
        {
          "output_type": "display_data",
          "data": {
            "image/png": "[encoded data removed]",
            "text/plain": [
              "<Figure size 432x288 with 2 Axes>"
            ]
          },
          "metadata": {
            "needs_background": "light"
          }
        }
      ]
    },
    {
      "cell_type": "markdown",
      "metadata": {
        "id": "tb3Nt1e63y-c"
      },
      "source": [
        "# S.5"
      ]
    },
    {
      "cell_type": "code",
      "metadata": {
        "id": "Dl_XM6RQ3y-c"
      },
      "source": [
        "Knn.fit(X_over_train_S, y_over_train_S)\n",
        "KNeighborsClassifier(algorithm='auto', leaf_size=30, metric='minkowski',\n",
        " metric_params=None, n_jobs=1, n_neighbors=parameters , p=2,\n",
        " weights='uniform')\n",
        "y_pred = Knn.predict(X_over_test_S)"
      ],
      "execution_count": 237,
      "outputs": []
    },
    {
      "cell_type": "code",
      "metadata": {
        "id": "2S0ST5Hc3y-c",
        "colab": {
          "base_uri": "https://localhost:8080/"
        },
        "outputId": "fed153fa-3a9a-4799-9771-b908b080c33d"
      },
      "source": [
        "print(classification_report(y_over_test_S, y_pred,target_names=[\"Non_Flood\", \"Flood\"]))"
      ],
      "execution_count": 238,
      "outputs": [
        {
          "output_type": "stream",
          "name": "stdout",
          "text": [
            "              precision    recall  f1-score   support\n",
            "\n",
            "   Non_Flood       1.00      0.94      0.97        16\n",
            "       Flood       0.95      1.00      0.97        18\n",
            "\n",
            "    accuracy                           0.97        34\n",
            "   macro avg       0.97      0.97      0.97        34\n",
            "weighted avg       0.97      0.97      0.97        34\n",
            "\n"
          ]
        }
      ]
    },
    {
      "cell_type": "code",
      "metadata": {
        "id": "89jfSDr63y-d",
        "colab": {
          "base_uri": "https://localhost:8080/",
          "height": 0
        },
        "outputId": "445539fa-0883-43d0-ac8e-8df3224cc0ac"
      },
      "source": [
        "plot_confusion_matrix(Knn,X_over_test_S, y_over_test_S, display_labels=[\"Non_Flood\", \"Flood\"], cmap=plt.cm.Oranges)"
      ],
      "execution_count": 239,
      "outputs": [
        {
          "output_type": "execute_result",
          "data": {
            "text/plain": [
              "<sklearn.metrics._plot.confusion_matrix.ConfusionMatrixDisplay at 0x7f916f42a950>"
            ]
          },
          "metadata": {},
          "execution_count": 239
        },
        {
          "output_type": "display_data",
          "data": {
            "image/png": "[encoded data removed]",
            "text/plain": [
              "<Figure size 432x288 with 2 Axes>"
            ]
          },
          "metadata": {
            "needs_background": "light"
          }
        }
      ]
    },
    {
      "cell_type": "markdown",
      "metadata": {
        "collapsed": false,
        "pycharm": {
          "name": "#%% md\n"
        },
        "id": "m-pe7WKa3y-d"
      },
      "source": [
        "## Prediction using LR after SMOTE()\n",
        "### C.35"
      ]
    },
    {
      "cell_type": "code",
      "metadata": {
        "pycharm": {
          "name": "#%%\n"
        },
        "id": "6JW0UvM03y-d",
        "colab": {
          "base_uri": "https://localhost:8080/"
        },
        "outputId": "008b1b50-5c78-4bbc-ebb3-85445e3c229e"
      },
      "source": [
        "Lr.fit(X_over_train_C, y_over_train_C)"
      ],
      "execution_count": 240,
      "outputs": [
        {
          "output_type": "execute_result",
          "data": {
            "text/plain": [
              "LogisticRegression(C=1.0, class_weight=None, dual=False, fit_intercept=True,\n",
              "                   intercept_scaling=1, l1_ratio=None, max_iter=100,\n",
              "                   multi_class='auto', n_jobs=None, penalty='l2',\n",
              "                   random_state=None, solver='lbfgs', tol=0.0001, verbose=0,\n",
              "                   warm_start=False)"
            ]
          },
          "metadata": {},
          "execution_count": 240
        }
      ]
    },
    {
      "cell_type": "code",
      "metadata": {
        "pycharm": {
          "name": "#%%\n"
        },
        "id": "KSOA8x_P3y-d",
        "colab": {
          "base_uri": "https://localhost:8080/"
        },
        "outputId": "1a64f4e7-afa8-4dd1-91a6-c89362c39f1b"
      },
      "source": [
        "y_over_pred_C = Lr.predict(X_over_test_C)\n",
        "print(classification_report(y_over_test_C, y_over_pred_C))"
      ],
      "execution_count": 241,
      "outputs": [
        {
          "output_type": "stream",
          "name": "stdout",
          "text": [
            "              precision    recall  f1-score   support\n",
            "\n",
            "         0.0       1.00      1.00      1.00        20\n",
            "         1.0       1.00      1.00      1.00        12\n",
            "\n",
            "    accuracy                           1.00        32\n",
            "   macro avg       1.00      1.00      1.00        32\n",
            "weighted avg       1.00      1.00      1.00        32\n",
            "\n"
          ]
        }
      ]
    },
    {
      "cell_type": "code",
      "metadata": {
        "pycharm": {
          "name": "#%%\n"
        },
        "id": "R7QxDN6G3y-d",
        "colab": {
          "base_uri": "https://localhost:8080/",
          "height": 0
        },
        "outputId": "749c1486-2fc6-4466-ed71-02f4ee600f3f"
      },
      "source": [
        "print(confusion_matrix(y_over_pred_C, y_over_test_C))\n",
        "plot_confusion_matrix(Lr, X_over_test_C, y_over_test_C, display_labels=[\"Non_Flood\", \"Flood\"], cmap=plt.cm.Greens)"
      ],
      "execution_count": 242,
      "outputs": [
        {
          "output_type": "stream",
          "name": "stdout",
          "text": [
            "[[20  0]\n",
            " [ 0 12]]\n"
          ]
        },
        {
          "output_type": "execute_result",
          "data": {
            "text/plain": [
              "<sklearn.metrics._plot.confusion_matrix.ConfusionMatrixDisplay at 0x7f916ef88d50>"
            ]
          },
          "metadata": {},
          "execution_count": 242
        },
        {
          "output_type": "display_data",
          "data": {
            "image/png": "[encoded data removed]",
            "text/plain": [
              "<Figure size 432x288 with 2 Axes>"
            ]
          },
          "metadata": {
            "needs_background": "light"
          }
        }
      ]
    },
    {
      "cell_type": "markdown",
      "metadata": {
        "collapsed": false,
        "pycharm": {
          "name": "#%% md\n"
        },
        "id": "sAbEZs6O3y-d"
      },
      "source": [
        "### S.5"
      ]
    },
    {
      "cell_type": "code",
      "metadata": {
        "pycharm": {
          "name": "#%%\n"
        },
        "id": "W9CvQ4bu3y-d",
        "colab": {
          "base_uri": "https://localhost:8080/"
        },
        "outputId": "04265af8-a4d9-4658-9c5e-263bd91061be"
      },
      "source": [
        "Lr.fit(X_over_train_S, y_over_train_S)"
      ],
      "execution_count": 243,
      "outputs": [
        {
          "output_type": "execute_result",
          "data": {
            "text/plain": [
              "LogisticRegression(C=1.0, class_weight=None, dual=False, fit_intercept=True,\n",
              "                   intercept_scaling=1, l1_ratio=None, max_iter=100,\n",
              "                   multi_class='auto', n_jobs=None, penalty='l2',\n",
              "                   random_state=None, solver='lbfgs', tol=0.0001, verbose=0,\n",
              "                   warm_start=False)"
            ]
          },
          "metadata": {},
          "execution_count": 243
        }
      ]
    },
    {
      "cell_type": "code",
      "metadata": {
        "pycharm": {
          "name": "#%%\n"
        },
        "id": "51JB5w3H3y-d",
        "colab": {
          "base_uri": "https://localhost:8080/"
        },
        "outputId": "42987cfe-44a5-4936-f368-a95b9b456566"
      },
      "source": [
        "y_over_pred_S = Lr.predict(X_over_test_S)\n",
        "print(classification_report(y_over_test_S, y_over_pred_S))"
      ],
      "execution_count": 244,
      "outputs": [
        {
          "output_type": "stream",
          "name": "stdout",
          "text": [
            "              precision    recall  f1-score   support\n",
            "\n",
            "         0.0       1.00      0.94      0.97        16\n",
            "         1.0       0.95      1.00      0.97        18\n",
            "\n",
            "    accuracy                           0.97        34\n",
            "   macro avg       0.97      0.97      0.97        34\n",
            "weighted avg       0.97      0.97      0.97        34\n",
            "\n"
          ]
        }
      ]
    },
    {
      "cell_type": "code",
      "metadata": {
        "pycharm": {
          "name": "#%%\n"
        },
        "id": "x2_Enbxh3y-d",
        "colab": {
          "base_uri": "https://localhost:8080/",
          "height": 0
        },
        "outputId": "8d85712d-64c8-4c78-91ff-6729939afacf"
      },
      "source": [
        "print(confusion_matrix(y_over_pred_S, y_over_test_S))\n",
        "plot_confusion_matrix(Lr, X_over_test_S, y_over_test_S, display_labels=[\"Non_Flood\", \"Flood\"], cmap=plt.cm.Oranges)"
      ],
      "execution_count": 245,
      "outputs": [
        {
          "output_type": "stream",
          "name": "stdout",
          "text": [
            "[[15  0]\n",
            " [ 1 18]]\n"
          ]
        },
        {
          "output_type": "execute_result",
          "data": {
            "text/plain": [
              "<sklearn.metrics._plot.confusion_matrix.ConfusionMatrixDisplay at 0x7f916f1eded0>"
            ]
          },
          "metadata": {},
          "execution_count": 245
        },
        {
          "output_type": "display_data",
          "data": {
            "image/png": "[encoded data removed]",
            "text/plain": [
              "<Figure size 432x288 with 2 Axes>"
            ]
          },
          "metadata": {
            "needs_background": "light"
          }
        }
      ]
    },
    {
      "cell_type": "markdown",
      "metadata": {
        "collapsed": false,
        "pycharm": {
          "name": "#%% md\n"
        },
        "id": "uXZX47EC3y-e"
      },
      "source": [
        "# AUC-ROC curve\n",
        "## c.35"
      ]
    },
    {
      "cell_type": "code",
      "metadata": {
        "pycharm": {
          "name": "#%%\n"
        },
        "id": "SwlecIw73y-e",
        "colab": {
          "base_uri": "https://localhost:8080/",
          "height": 296
        },
        "outputId": "6a76b850-969e-4611-b423-3bb79c7e03b8"
      },
      "source": [
        "roc_fig = plt.figure()\n",
        "\n",
        "ax = plt.gca()\n",
        "\n",
        "# ROC plot of KNN\n",
        "plot_roc_curve(Knn, X_test_C, y_test_C, ax=ax, name='KNN')\n",
        "\n",
        "# ROC plot of KNN which is applied SMOTE\n",
        "plot_roc_curve(Knn, X_over_test_C, y_over_test_C, ax=ax, name='KNN_SMOTE')\n",
        "\n",
        "# ROC plot of Logistic Regression\n",
        "plot_roc_curve(Lr, X_test_C, y_test_C, ax=ax, name='LR')\n",
        "\n",
        "# ROC plot of Logistic Regression which is applied SMOTE\n",
        "plot_roc_curve(Lr, X_over_test_C, y_over_test_C, ax=ax, name='LR_SMOTE')"
      ],
      "execution_count": 246,
      "outputs": [
        {
          "output_type": "execute_result",
          "data": {
            "text/plain": [
              "<sklearn.metrics._plot.roc_curve.RocCurveDisplay at 0x7f916ec13ad0>"
            ]
          },
          "metadata": {},
          "execution_count": 246
        },
        {
          "output_type": "display_data",
          "data": {
            "image/png": "[encoded data removed]",
            "text/plain": [
              "<Figure size 432x288 with 1 Axes>"
            ]
          },
          "metadata": {
            "needs_background": "light"
          }
        }
      ]
    },
    {
      "cell_type": "markdown",
      "metadata": {
        "collapsed": false,
        "pycharm": {
          "name": "#%% md\n"
        },
        "id": "bB8mzljo3y-e"
      },
      "source": [
        "## S.5"
      ]
    },
    {
      "cell_type": "code",
      "metadata": {
        "pycharm": {
          "name": "#%%\n"
        },
        "id": "n53D2o-I3y-e",
        "colab": {
          "base_uri": "https://localhost:8080/",
          "height": 296
        },
        "outputId": "90f36ac8-92ec-458d-a978-7a49e2a0cc36"
      },
      "source": [
        "roc_fig_2 = plt.figure()\n",
        "\n",
        "ax_2 = plt.gca()\n",
        "\n",
        "# ROC plot of KNN\n",
        "plot_roc_curve(Knn, X_test_S, y_test_S, ax=ax_2, name='KNN')\n",
        "\n",
        "# ROC plot of KNN which is applied SMOTE\n",
        "plot_roc_curve(Knn, X_over_test_S, y_over_test_S, ax=ax_2, name='KNN_SMOTE')\n",
        "\n",
        "# ROC plot of Logistic Regression\n",
        "plot_roc_curve(Lr, X_test_S, y_test_S, ax=ax_2, name='LR')\n",
        "\n",
        "# ROC plot of Logistic Regression which is applied SMOTE\n",
        "plot_roc_curve(Lr, X_over_test_S, y_over_test_S, ax=ax_2, name='LR_SMOTE')"
      ],
      "execution_count": 247,
      "outputs": [
        {
          "output_type": "execute_result",
          "data": {
            "text/plain": [
              "<sklearn.metrics._plot.roc_curve.RocCurveDisplay at 0x7f916eb7cbd0>"
            ]
          },
          "metadata": {},
          "execution_count": 247
        },
        {
          "output_type": "display_data",
          "data": {
            "image/png": "[encoded data removed]",
            "text/plain": [
              "<Figure size 432x288 with 1 Axes>"
            ]
          },
          "metadata": {
            "needs_background": "light"
          }
        }
      ]
    },
    {
      "cell_type": "markdown",
      "metadata": {
        "id": "KNrolO0sJT3E"
      },
      "source": [
        "**Validation Curve Visualization**"
      ]
    },
    {
      "cell_type": "markdown",
      "metadata": {
        "id": "B0IjXjRIZrtX"
      },
      "source": [
        "**C.35 CV for LR model**"
      ]
    },
    {
      "cell_type": "code",
      "metadata": {
        "id": "eKmi9OEj1X8_",
        "colab": {
          "base_uri": "https://localhost:8080/",
          "height": 297
        },
        "outputId": "9f8d82a8-395f-41be-fa83-bc9cdf365a63"
      },
      "source": [
        "# Setting the range for the parameter (from 1 to 10)\n",
        "parameter_range = np.arange(1, 63, 1)\n",
        " \n",
        "# Calculate accuracy on training and test set using the\n",
        "# gamma parameter with 10-fold cross validation\n",
        "train_score, test_score = validation_curve(LogisticRegression(), X_train_C, y_train_C,\n",
        "                                       param_name =\"C\",\n",
        "                                       param_range = parameter_range,\n",
        "                                        cv = 10, scoring = \"accuracy\")\n",
        " \n",
        "# Calculating mean and standard deviation of training score\n",
        "mean_train_score = np.mean(train_score, axis = 1)\n",
        "std_train_score = np.std(train_score, axis = 1)\n",
        " \n",
        "# Calculating mean and standard deviation of testing score\n",
        "mean_test_score = np.mean(test_score, axis = 1)\n",
        "std_test_score = np.std(test_score, axis = 1)\n",
        " \n",
        "# Plot mean accuracy scores for training and testing scores\n",
        "plt.plot(parameter_range, mean_train_score,\n",
        "  label = \"Training Score\", color = 'b')\n",
        "plt.plot(parameter_range, mean_test_score,\n",
        "  label = \"Cross Validation Score\", color = 'g')\n",
        " \n",
        "# Creating the plot\n",
        "plt.title(\"Validation Curve with KNN Classifier\")\n",
        "plt.xlabel(\"Number of C\")\n",
        "plt.ylabel(\"Accuracy\")\n",
        "plt.tight_layout()\n",
        "plt.legend(loc = 'best')\n",
        "plt.show()"
      ],
      "execution_count": 248,
      "outputs": [
        {
          "output_type": "display_data",
          "data": {
            "image/png": "[encoded data removed]",
            "text/plain": [
              "<Figure size 432x288 with 1 Axes>"
            ]
          },
          "metadata": {
            "needs_background": "light"
          }
        }
      ]
    },
    {
      "cell_type": "markdown",
      "metadata": {
        "id": "oj5-jAxeaV1t"
      },
      "source": [
        "**C.35 CV for LR model with applying SMOTE technique**"
      ]
    },
    {
      "cell_type": "code",
      "metadata": {
        "id": "LwX4rLzGb3Cx",
        "colab": {
          "base_uri": "https://localhost:8080/",
          "height": 297
        },
        "outputId": "9398613d-67d8-445a-df92-4a3001642b6a"
      },
      "source": [
        "# Setting the range for the parameter (from 1 to 10)\n",
        "parameter_range = np.arange(1, 63, 1)\n",
        " \n",
        "# Calculate accuracy on training and test set using the\n",
        "# gamma parameter with 10-fold cross validation\n",
        "train_score, test_score = validation_curve(LogisticRegression(), X_over_train_C, y_over_train_C,\n",
        "                                       param_name = \"C\",\n",
        "                                       param_range = parameter_range,\n",
        "                                        cv = 10, scoring = \"accuracy\")\n",
        " \n",
        "# Calculating mean and standard deviation of training score\n",
        "mean_train_score = np.mean(train_score, axis = 1)\n",
        "std_train_score = np.std(train_score, axis = 1)\n",
        " \n",
        "# Calculating mean and standard deviation of testing score\n",
        "mean_test_score = np.mean(test_score, axis = 1)\n",
        "std_test_score = np.std(test_score, axis = 1)\n",
        " \n",
        "# Plot mean accuracy scores for training and testing scores\n",
        "plt.plot(parameter_range, mean_train_score,\n",
        "  label = \"Training Score\", color = 'b')\n",
        "plt.plot(parameter_range, mean_test_score,\n",
        "  label = \"Cross Validation Score\", color = 'g')\n",
        " \n",
        "# Creating the plot\n",
        "plt.title(\"Validation Curve with KNN Classifier\")\n",
        "plt.xlabel(\"Number of C\")\n",
        "plt.ylabel(\"Accuracy\")\n",
        "plt.tight_layout()\n",
        "plt.legend(loc = 'best')\n",
        "plt.show()"
      ],
      "execution_count": 249,
      "outputs": [
        {
          "output_type": "display_data",
          "data": {
            "image/png": "[encoded data removed]",
            "text/plain": [
              "<Figure size 432x288 with 1 Axes>"
            ]
          },
          "metadata": {
            "needs_background": "light"
          }
        }
      ]
    },
    {
      "cell_type": "markdown",
      "metadata": {
        "id": "pb5shgtlb3tj"
      },
      "source": [
        "**S.5 CV for LR model**"
      ]
    },
    {
      "cell_type": "code",
      "metadata": {
        "id": "UQNRueFpb_N6",
        "colab": {
          "base_uri": "https://localhost:8080/",
          "height": 297
        },
        "outputId": "c6b0af2b-dc91-4e57-879b-77bd00e12bae"
      },
      "source": [
        "# Setting the range for the parameter (from 1 to 10)\n",
        "parameter_range = np.arange(1, 63, 1)\n",
        " \n",
        "# Calculate accuracy on training and test set using the\n",
        "# gamma parameter with 10-fold cross validation\n",
        "train_score, test_score = validation_curve(LogisticRegression(), X_train_S, y_train_S,\n",
        "                                       param_name = \"C\",\n",
        "                                       param_range = parameter_range,\n",
        "                                        cv = 10, scoring = \"accuracy\")\n",
        " \n",
        "# Calculating mean and standard deviation of training score\n",
        "mean_train_score = np.mean(train_score, axis = 1)\n",
        "std_train_score = np.std(train_score, axis = 1)\n",
        " \n",
        "# Calculating mean and standard deviation of testing score\n",
        "mean_test_score = np.mean(test_score, axis = 1)\n",
        "std_test_score = np.std(test_score, axis = 1)\n",
        " \n",
        "# Plot mean accuracy scores for training and testing scores\n",
        "plt.plot(parameter_range, mean_train_score,\n",
        "  label = \"Training Score\", color = 'b')\n",
        "plt.plot(parameter_range, mean_test_score,\n",
        "  label = \"Cross Validation Score\", color = 'g')\n",
        " \n",
        "# Creating the plot\n",
        "plt.title(\"Validation Curve with KNN Classifier\")\n",
        "plt.xlabel(\"Number of C\")\n",
        "plt.ylabel(\"Accuracy\")\n",
        "plt.tight_layout()\n",
        "plt.legend(loc = 'best')\n",
        "plt.show()"
      ],
      "execution_count": 250,
      "outputs": [
        {
          "output_type": "display_data",
          "data": {
            "image/png": "[encoded data removed]",
            "text/plain": [
              "<Figure size 432x288 with 1 Axes>"
            ]
          },
          "metadata": {
            "needs_background": "light"
          }
        }
      ]
    },
    {
      "cell_type": "markdown",
      "metadata": {
        "id": "Dn0U6Wlhb_lx"
      },
      "source": [
        "**S.5 CV for LR model with applying SMOTE technique**"
      ]
    },
    {
      "cell_type": "code",
      "metadata": {
        "id": "cP6Dj5QQcDKl",
        "colab": {
          "base_uri": "https://localhost:8080/",
          "height": 297
        },
        "outputId": "eb1ffa08-980e-42d3-b998-11ee43d05327"
      },
      "source": [
        "# Setting the range for the parameter (from 1 to 10)\n",
        "parameter_range = np.arange(1, 63, 1)\n",
        " \n",
        "# Calculate accuracy on training and test set using the\n",
        "# gamma parameter with 10-fold cross validation\n",
        "train_score, test_score = validation_curve(LogisticRegression(), X_over_train_S, y_over_train_S,\n",
        "                                       param_name = \"C\",\n",
        "                                       param_range = parameter_range,\n",
        "                                        cv = 10, scoring = \"accuracy\")\n",
        " \n",
        "# Calculating mean and standard deviation of training score\n",
        "mean_train_score = np.mean(train_score, axis = 1)\n",
        "std_train_score = np.std(train_score, axis = 1)\n",
        " \n",
        "# Calculating mean and standard deviation of testing score\n",
        "mean_test_score = np.mean(test_score, axis = 1)\n",
        "std_test_score = np.std(test_score, axis = 1)\n",
        " \n",
        "# Plot mean accuracy scores for training and testing scores\n",
        "plt.plot(parameter_range, mean_train_score,\n",
        "  label = \"Training Score\", color = 'b')\n",
        "plt.plot(parameter_range, mean_test_score,\n",
        "  label = \"Cross Validation Score\", color = 'g')\n",
        " \n",
        "# Creating the plot\n",
        "plt.title(\"Validation Curve with KNN Classifier\")\n",
        "plt.xlabel(\"Number of C\")\n",
        "plt.ylabel(\"Accuracy\")\n",
        "plt.tight_layout()\n",
        "plt.legend(loc = 'best')\n",
        "plt.show()"
      ],
      "execution_count": 251,
      "outputs": [
        {
          "output_type": "display_data",
          "data": {
            "image/png": "[encoded data removed]",
            "text/plain": [
              "<Figure size 432x288 with 1 Axes>"
            ]
          },
          "metadata": {
            "needs_background": "light"
          }
        }
      ]
    },
    {
      "cell_type": "markdown",
      "metadata": {
        "id": "bM3aBjiB1g-1"
      },
      "source": [
        "**C.35 CV for KNN model**"
      ]
    },
    {
      "cell_type": "code",
      "metadata": {
        "colab": {
          "base_uri": "https://localhost:8080/",
          "height": 297
        },
        "id": "rfQpY5pY3q4g",
        "outputId": "e8a2a3b8-0b97-478a-9206-38fd8872f50d"
      },
      "source": [
        "# Setting the range for the parameter (from 1 to 10)\n",
        "parameter_range = np.arange(1, 63, 2)\n",
        " \n",
        "# Calculate accuracy on training and test set using the\n",
        "# gamma parameter with 10-fold cross validation\n",
        "train_score, test_score = validation_curve(KNeighborsClassifier(), X_train_C, y_train_C,\n",
        "                                       param_name = \"n_neighbors\",\n",
        "                                       param_range = parameter_range,\n",
        "                                        cv = 10, scoring = \"accuracy\")\n",
        " \n",
        "# Calculating mean and standard deviation of training score\n",
        "mean_train_score = np.mean(train_score, axis = 1)\n",
        "std_train_score = np.std(train_score, axis = 1)\n",
        " \n",
        "# Calculating mean and standard deviation of testing score\n",
        "mean_test_score = np.mean(test_score, axis = 1)\n",
        "std_test_score = np.std(test_score, axis = 1)\n",
        " \n",
        "# Plot mean accuracy scores for training and testing scores\n",
        "plt.plot(parameter_range, mean_train_score,\n",
        "  label = \"Training Score\", color = 'b')\n",
        "plt.plot(parameter_range, mean_test_score,\n",
        "  label = \"Cross Validation Score\", color = 'g')\n",
        " \n",
        "# Creating the plot\n",
        "plt.title(\"Validation Curve with KNN Classifier\")\n",
        "plt.xlabel(\"Number of Neighbours\")\n",
        "plt.ylabel(\"Accuracy\")\n",
        "plt.tight_layout()\n",
        "plt.legend(loc = 'best')\n",
        "plt.show()"
      ],
      "execution_count": 252,
      "outputs": [
        {
          "output_type": "display_data",
          "data": {
            "image/png": "[encoded data removed]",
            "text/plain": [
              "<Figure size 432x288 with 1 Axes>"
            ]
          },
          "metadata": {
            "needs_background": "light"
          }
        }
      ]
    },
    {
      "cell_type": "markdown",
      "metadata": {
        "id": "nijFOlvN1e6u"
      },
      "source": [
        "**C.35 CV for KNN model with applying SMOTE technique**"
      ]
    },
    {
      "cell_type": "code",
      "metadata": {
        "colab": {
          "base_uri": "https://localhost:8080/",
          "height": 297
        },
        "id": "0qZnJhOR1x1o",
        "outputId": "e4c21670-dfe7-4619-eacc-ae8d492e1523"
      },
      "source": [
        "# Setting the range for the parameter (from 1 to 10)\n",
        "parameter_range = np.arange(1, 63, 2)\n",
        " \n",
        "# Calculate accuracy on training and test set using the\n",
        "# gamma parameter with 10-fold cross validation\n",
        "train_score, test_score = validation_curve(KNeighborsClassifier(), X_over_train_C, y_over_train_C,\n",
        "                                       param_name = \"n_neighbors\",\n",
        "                                       param_range = parameter_range,\n",
        "                                        cv = 10, scoring = \"accuracy\")\n",
        " \n",
        "# Calculating mean and standard deviation of training score\n",
        "mean_train_score = np.mean(train_score, axis = 1)\n",
        "std_train_score = np.std(train_score, axis = 1)\n",
        " \n",
        "# Calculating mean and standard deviation of testing score\n",
        "mean_test_score = np.mean(test_score, axis = 1)\n",
        "std_test_score = np.std(test_score, axis = 1)\n",
        " \n",
        "# Plot mean accuracy scores for training and testing scores\n",
        "plt.plot(parameter_range, mean_train_score,\n",
        "  label = \"Training Score\", color = 'b')\n",
        "plt.plot(parameter_range, mean_test_score,\n",
        "  label = \"Cross Validation Score\", color = 'g')\n",
        " \n",
        "# Creating the plot\n",
        "plt.title(\"Validation Curve with KNN Classifier\")\n",
        "plt.xlabel(\"Number of Neighbours\")\n",
        "plt.ylabel(\"Accuracy\")\n",
        "plt.tight_layout()\n",
        "plt.legend(loc = 'best')\n",
        "plt.show()"
      ],
      "execution_count": 253,
      "outputs": [
        {
          "output_type": "display_data",
          "data": {
            "image/png": "[encoded data removed]",
            "text/plain": [
              "<Figure size 432x288 with 1 Axes>"
            ]
          },
          "metadata": {
            "needs_background": "light"
          }
        }
      ]
    },
    {
      "cell_type": "markdown",
      "metadata": {
        "id": "dUBBBQV21yPZ"
      },
      "source": [
        "**S.5 CV for KNN model**"
      ]
    },
    {
      "cell_type": "code",
      "metadata": {
        "colab": {
          "base_uri": "https://localhost:8080/",
          "height": 297
        },
        "id": "qk71tP61157C",
        "outputId": "c9d2d172-f73d-4d3f-b5cd-2097bfcdf031"
      },
      "source": [
        "# Setting the range for the parameter (from 1 to 10)\n",
        "parameter_range = np.arange(1, 63, 2)\n",
        " \n",
        "# Calculate accuracy on training and test set using the\n",
        "# gamma parameter with 10-fold cross validation\n",
        "train_score, test_score = validation_curve(KNeighborsClassifier(), X_train_S, y_train_S,\n",
        "                                       param_name = \"n_neighbors\",\n",
        "                                       param_range = parameter_range,\n",
        "                                        cv = 10, scoring = \"accuracy\")\n",
        " \n",
        "# Calculating mean and standard deviation of training score\n",
        "mean_train_score = np.mean(train_score, axis = 1)\n",
        "std_train_score = np.std(train_score, axis = 1)\n",
        " \n",
        "# Calculating mean and standard deviation of testing score\n",
        "mean_test_score = np.mean(test_score, axis = 1)\n",
        "std_test_score = np.std(test_score, axis = 1)\n",
        " \n",
        "# Plot mean accuracy scores for training and testing scores\n",
        "plt.plot(parameter_range, mean_train_score,\n",
        "  label = \"Training Score\", color = 'b')\n",
        "plt.plot(parameter_range, mean_test_score,\n",
        "  label = \"Cross Validation Score\", color = 'g')\n",
        " \n",
        "# Creating the plot\n",
        "plt.title(\"Validation Curve with KNN Classifier\")\n",
        "plt.xlabel(\"Number of Neighbours\")\n",
        "plt.ylabel(\"Accuracy\")\n",
        "plt.tight_layout()\n",
        "plt.legend(loc = 'best')\n",
        "plt.show()"
      ],
      "execution_count": 254,
      "outputs": [
        {
          "output_type": "display_data",
          "data": {
            "image/png": "[encoded data removed]",
            "text/plain": [
              "<Figure size 432x288 with 1 Axes>"
            ]
          },
          "metadata": {
            "needs_background": "light"
          }
        }
      ]
    },
    {
      "cell_type": "markdown",
      "metadata": {
        "id": "ZOdUaE6Q16gE"
      },
      "source": [
        "**S.5 CV for KNN model with applying SMOTE techique**"
      ]
    },
    {
      "cell_type": "code",
      "metadata": {
        "colab": {
          "base_uri": "https://localhost:8080/",
          "height": 297
        },
        "id": "jbGfcJmI2A9R",
        "outputId": "f9cc4dfe-7bb9-43f1-af32-f1467f35aa64"
      },
      "source": [
        "# Setting the range for the parameter (from 1 to 10)\n",
        "parameter_range = np.arange(1, 63, 2)\n",
        " \n",
        "# Calculate accuracy on training and test set using the\n",
        "# gamma parameter with 10-fold cross validation\n",
        "train_score, test_score = validation_curve(KNeighborsClassifier(), X_over_train_S, y_over_train_S,\n",
        "                                       param_name = \"n_neighbors\",\n",
        "                                       param_range = parameter_range,\n",
        "                                        cv = 10, scoring = \"accuracy\")\n",
        " \n",
        "# Calculating mean and standard deviation of training score\n",
        "mean_train_score = np.mean(train_score, axis = 1)\n",
        "std_train_score = np.std(train_score, axis = 1)\n",
        " \n",
        "# Calculating mean and standard deviation of testing score\n",
        "mean_test_score = np.mean(test_score, axis = 1)\n",
        "std_test_score = np.std(test_score, axis = 1)\n",
        " \n",
        "# Plot mean accuracy scores for training and testing scores\n",
        "plt.plot(parameter_range, mean_train_score,\n",
        "  label = \"Training Score\", color = 'b')\n",
        "plt.plot(parameter_range, mean_test_score,\n",
        "  label = \"Cross Validation Score\", color = 'g')\n",
        " \n",
        "# Creating the plot\n",
        "plt.title(\"Validation Curve with KNN Classifier\")\n",
        "plt.xlabel(\"Number of Neighbours\")\n",
        "plt.ylabel(\"Accuracy\")\n",
        "plt.tight_layout()\n",
        "plt.legend(loc = 'best')\n",
        "plt.show()"
      ],
      "execution_count": 255,
      "outputs": [
        {
          "output_type": "display_data",
          "data": {
            "image/png": "[encoded data removed]",
            "text/plain": [
              "<Figure size 432x288 with 1 Axes>"
            ]
          },
          "metadata": {
            "needs_background": "light"
          }
        }
      ]
    }
  ]
}