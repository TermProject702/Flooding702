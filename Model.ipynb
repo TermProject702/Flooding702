{
 "cells": [
  {
   "cell_type": "code",
   "execution_count": 180,
   "metadata": {},
   "outputs": [],
   "source": [
    "import pandas as pd \n",
    "import numpy as np\n",
    "from sklearn.metrics import classification_report ## show model report summary\n",
    "from sklearn.neighbors import KNeighborsClassifier ## use to find the proper neighbor values\n",
    "from sklearn.model_selection import train_test_split\n",
    "from sklearn.metrics import confusion_matrix\n",
    "import matplotlib.pyplot as plt\n",
    "from sklearn.model_selection import KFold\n",
    "from sklearn.model_selection import GridSearchCV \n",
    "from sklearn.model_selection import learning_curve\n",
    "import seaborn as sns\n",
    "from sklearn.linear_model import LogisticRegression\n",
    "from sklearn.metrics import plot_confusion_matrix\n",
    "from imblearn.over_sampling import SMOTE\n",
    "import warnings\n",
    "warnings.filterwarnings(\"ignore\")"
   ]
  },
  {
   "cell_type": "code",
   "execution_count": 146,
   "metadata": {},
   "outputs": [],
   "source": [
    "data = pd.read_csv(\"DataPrep.csv\")"
   ]
  },
  {
   "cell_type": "code",
   "execution_count": 147,
   "metadata": {},
   "outputs": [
    {
     "data": {
      "text/plain": "   Unnamed: 0  C.35 Ayutthaya (Chao Phraya R.)  S.5 Ayutthaya (Pa Sak R.)  \\\n0           0                             0.74                       0.79   \n1           1                             0.68                       0.76   \n2           2                             0.30                       0.64   \n3           3                             0.33                       0.67   \n4           4                             0.62                       0.59   \n\n   C.7A Ang Thong (Chao Phraya R.)  S.26 Tha Ruea (Pa Sak R.)  \\\n0                             1.02                       0.70   \n1                             0.87                       0.65   \n2                             0.85                       0.64   \n3                             0.90                       0.73   \n4                             0.90                       0.79   \n\n   C.13 Sapphaya (Chao Phraya r.)  S.9 Kaeng Khoi (Pa Sak r.)  \\\n0                             0.0                         0.0   \n1                             0.0                         2.0   \n2                             0.0                         0.5   \n3                             3.0                         1.5   \n4                             8.0                        12.5   \n\n   C.35 river/brae  S.5 river/brae  C.7A river/brae  S.26 river/brae  \\\n0         0.161572        0.168085            0.102          0.08750   \n1         0.148472        0.161702            0.087          0.08125   \n2         0.065502        0.136170            0.085          0.08000   \n3         0.072052        0.142553            0.090          0.09125   \n4         0.135371        0.125532            0.090          0.09875   \n\n         date  critical_wat_lev_C.35  critical_wat_lev_S.5  Class_C.35  \\\n0  2020-08-18                    3.2                     3         0.0   \n1  2020-08-19                    3.2                     3         0.0   \n2  2020-08-20                    3.2                     3         0.0   \n3  2020-08-21                    3.2                     3         0.0   \n4  2020-08-22                    3.2                     3         0.0   \n\n   Class_S.5  \n0        0.0  \n1        0.0  \n2        0.0  \n3        0.0  \n4        0.0  ",
      "text/html": "<div>\n<style scoped>\n    .dataframe tbody tr th:only-of-type {\n        vertical-align: middle;\n    }\n\n    .dataframe tbody tr th {\n        vertical-align: top;\n    }\n\n    .dataframe thead th {\n        text-align: right;\n    }\n</style>\n<table border=\"1\" class=\"dataframe\">\n  <thead>\n    <tr style=\"text-align: right;\">\n      <th></th>\n      <th>Unnamed: 0</th>\n      <th>C.35 Ayutthaya (Chao Phraya R.)</th>\n      <th>S.5 Ayutthaya (Pa Sak R.)</th>\n      <th>C.7A Ang Thong (Chao Phraya R.)</th>\n      <th>S.26 Tha Ruea (Pa Sak R.)</th>\n      <th>C.13 Sapphaya (Chao Phraya r.)</th>\n      <th>S.9 Kaeng Khoi (Pa Sak r.)</th>\n      <th>C.35 river/brae</th>\n      <th>S.5 river/brae</th>\n      <th>C.7A river/brae</th>\n      <th>S.26 river/brae</th>\n      <th>date</th>\n      <th>critical_wat_lev_C.35</th>\n      <th>critical_wat_lev_S.5</th>\n      <th>Class_C.35</th>\n      <th>Class_S.5</th>\n    </tr>\n  </thead>\n  <tbody>\n    <tr>\n      <th>0</th>\n      <td>0</td>\n      <td>0.74</td>\n      <td>0.79</td>\n      <td>1.02</td>\n      <td>0.70</td>\n      <td>0.0</td>\n      <td>0.0</td>\n      <td>0.161572</td>\n      <td>0.168085</td>\n      <td>0.102</td>\n      <td>0.08750</td>\n      <td>2020-08-18</td>\n      <td>3.2</td>\n      <td>3</td>\n      <td>0.0</td>\n      <td>0.0</td>\n    </tr>\n    <tr>\n      <th>1</th>\n      <td>1</td>\n      <td>0.68</td>\n      <td>0.76</td>\n      <td>0.87</td>\n      <td>0.65</td>\n      <td>0.0</td>\n      <td>2.0</td>\n      <td>0.148472</td>\n      <td>0.161702</td>\n      <td>0.087</td>\n      <td>0.08125</td>\n      <td>2020-08-19</td>\n      <td>3.2</td>\n      <td>3</td>\n      <td>0.0</td>\n      <td>0.0</td>\n    </tr>\n    <tr>\n      <th>2</th>\n      <td>2</td>\n      <td>0.30</td>\n      <td>0.64</td>\n      <td>0.85</td>\n      <td>0.64</td>\n      <td>0.0</td>\n      <td>0.5</td>\n      <td>0.065502</td>\n      <td>0.136170</td>\n      <td>0.085</td>\n      <td>0.08000</td>\n      <td>2020-08-20</td>\n      <td>3.2</td>\n      <td>3</td>\n      <td>0.0</td>\n      <td>0.0</td>\n    </tr>\n    <tr>\n      <th>3</th>\n      <td>3</td>\n      <td>0.33</td>\n      <td>0.67</td>\n      <td>0.90</td>\n      <td>0.73</td>\n      <td>3.0</td>\n      <td>1.5</td>\n      <td>0.072052</td>\n      <td>0.142553</td>\n      <td>0.090</td>\n      <td>0.09125</td>\n      <td>2020-08-21</td>\n      <td>3.2</td>\n      <td>3</td>\n      <td>0.0</td>\n      <td>0.0</td>\n    </tr>\n    <tr>\n      <th>4</th>\n      <td>4</td>\n      <td>0.62</td>\n      <td>0.59</td>\n      <td>0.90</td>\n      <td>0.79</td>\n      <td>8.0</td>\n      <td>12.5</td>\n      <td>0.135371</td>\n      <td>0.125532</td>\n      <td>0.090</td>\n      <td>0.09875</td>\n      <td>2020-08-22</td>\n      <td>3.2</td>\n      <td>3</td>\n      <td>0.0</td>\n      <td>0.0</td>\n    </tr>\n  </tbody>\n</table>\n</div>"
     },
     "execution_count": 147,
     "metadata": {},
     "output_type": "execute_result"
    }
   ],
   "source": [
    "data.head(5)"
   ]
  },
  {
   "cell_type": "code",
   "execution_count": 148,
   "metadata": {},
   "outputs": [
    {
     "data": {
      "text/plain": "Unnamed: 0                         0\nC.35 Ayutthaya (Chao Phraya R.)    0\nS.5 Ayutthaya (Pa Sak R.)          0\nC.7A Ang Thong (Chao Phraya R.)    0\nS.26 Tha Ruea (Pa Sak R.)          0\nC.13 Sapphaya (Chao Phraya r.)     0\nS.9 Kaeng Khoi (Pa Sak r.)         0\nC.35 river/brae                    0\nS.5 river/brae                     0\nC.7A river/brae                    0\nS.26 river/brae                    0\ndate                               0\ncritical_wat_lev_C.35              0\ncritical_wat_lev_S.5               0\nClass_C.35                         0\nClass_S.5                          0\ndtype: int64"
     },
     "execution_count": 148,
     "metadata": {},
     "output_type": "execute_result"
    }
   ],
   "source": [
    "data.isna().sum()"
   ]
  },
  {
   "cell_type": "code",
   "execution_count": 149,
   "metadata": {},
   "outputs": [],
   "source": [
    "X = data.drop(columns=['Unnamed: 0', 'C.35 Ayutthaya (Chao Phraya R.)', 'S.5 Ayutthaya (Pa Sak R.)', 'Class_C.35', 'Class_S.5','date'])\n",
    "y = data[['Class_C.35', 'Class_S.5']]"
   ]
  },
  {
   "cell_type": "code",
   "execution_count": 150,
   "metadata": {},
   "outputs": [
    {
     "data": {
      "text/plain": "    Class_C.35  Class_S.5\n0          0.0        0.0\n1          0.0        0.0\n2          0.0        0.0\n3          0.0        0.0\n4          0.0        0.0\n..         ...        ...\n83         1.0        0.0\n84         1.0        1.0\n85         1.0        1.0\n86         1.0        1.0\n87         1.0        1.0\n\n[88 rows x 2 columns]",
      "text/html": "<div>\n<style scoped>\n    .dataframe tbody tr th:only-of-type {\n        vertical-align: middle;\n    }\n\n    .dataframe tbody tr th {\n        vertical-align: top;\n    }\n\n    .dataframe thead th {\n        text-align: right;\n    }\n</style>\n<table border=\"1\" class=\"dataframe\">\n  <thead>\n    <tr style=\"text-align: right;\">\n      <th></th>\n      <th>Class_C.35</th>\n      <th>Class_S.5</th>\n    </tr>\n  </thead>\n  <tbody>\n    <tr>\n      <th>0</th>\n      <td>0.0</td>\n      <td>0.0</td>\n    </tr>\n    <tr>\n      <th>1</th>\n      <td>0.0</td>\n      <td>0.0</td>\n    </tr>\n    <tr>\n      <th>2</th>\n      <td>0.0</td>\n      <td>0.0</td>\n    </tr>\n    <tr>\n      <th>3</th>\n      <td>0.0</td>\n      <td>0.0</td>\n    </tr>\n    <tr>\n      <th>4</th>\n      <td>0.0</td>\n      <td>0.0</td>\n    </tr>\n    <tr>\n      <th>...</th>\n      <td>...</td>\n      <td>...</td>\n    </tr>\n    <tr>\n      <th>83</th>\n      <td>1.0</td>\n      <td>0.0</td>\n    </tr>\n    <tr>\n      <th>84</th>\n      <td>1.0</td>\n      <td>1.0</td>\n    </tr>\n    <tr>\n      <th>85</th>\n      <td>1.0</td>\n      <td>1.0</td>\n    </tr>\n    <tr>\n      <th>86</th>\n      <td>1.0</td>\n      <td>1.0</td>\n    </tr>\n    <tr>\n      <th>87</th>\n      <td>1.0</td>\n      <td>1.0</td>\n    </tr>\n  </tbody>\n</table>\n<p>88 rows × 2 columns</p>\n</div>"
     },
     "execution_count": 150,
     "metadata": {},
     "output_type": "execute_result"
    }
   ],
   "source": [
    "y"
   ]
  },
  {
   "cell_type": "code",
   "execution_count": 151,
   "metadata": {},
   "outputs": [
    {
     "data": {
      "text/plain": "    C.7A Ang Thong (Chao Phraya R.)  S.26 Tha Ruea (Pa Sak R.)  \\\n0                              1.02                       0.70   \n1                              0.87                       0.65   \n2                              0.85                       0.64   \n3                              0.90                       0.73   \n4                              0.90                       0.79   \n..                              ...                        ...   \n83                             7.82                       3.44   \n84                             8.31                       3.97   \n85                             8.60                       4.39   \n86                             8.86                       5.38   \n87                             9.07                       7.18   \n\n    C.13 Sapphaya (Chao Phraya r.)  S.9 Kaeng Khoi (Pa Sak r.)  \\\n0                              0.0                         0.0   \n1                              0.0                         2.0   \n2                              0.0                         0.5   \n3                              3.0                         1.5   \n4                              8.0                        12.5   \n..                             ...                         ...   \n83                            35.3                         0.0   \n84                             5.5                         0.5   \n85                             0.0                         0.0   \n86                             0.0                         0.0   \n87                             0.0                         0.0   \n\n    C.35 river/brae  S.5 river/brae  C.7A river/brae  S.26 river/brae  \\\n0          0.161572        0.168085            0.102          0.08750   \n1          0.148472        0.161702            0.087          0.08125   \n2          0.065502        0.136170            0.085          0.08000   \n3          0.072052        0.142553            0.090          0.09125   \n4          0.135371        0.125532            0.090          0.09875   \n..              ...             ...              ...              ...   \n83         0.914847        0.589362            0.782          0.43000   \n84         0.984716        0.634043            0.831          0.49625   \n85         1.045852        0.682979            0.860          0.54875   \n86         1.085153        0.725532            0.886          0.67250   \n87         1.133188        0.797872            0.907          0.89750   \n\n    critical_wat_lev_C.35  critical_wat_lev_S.5  \n0                     3.2                     3  \n1                     3.2                     3  \n2                     3.2                     3  \n3                     3.2                     3  \n4                     3.2                     3  \n..                    ...                   ...  \n83                    3.2                     3  \n84                    3.2                     3  \n85                    3.2                     3  \n86                    3.2                     3  \n87                    3.2                     3  \n\n[88 rows x 10 columns]",
      "text/html": "<div>\n<style scoped>\n    .dataframe tbody tr th:only-of-type {\n        vertical-align: middle;\n    }\n\n    .dataframe tbody tr th {\n        vertical-align: top;\n    }\n\n    .dataframe thead th {\n        text-align: right;\n    }\n</style>\n<table border=\"1\" class=\"dataframe\">\n  <thead>\n    <tr style=\"text-align: right;\">\n      <th></th>\n      <th>C.7A Ang Thong (Chao Phraya R.)</th>\n      <th>S.26 Tha Ruea (Pa Sak R.)</th>\n      <th>C.13 Sapphaya (Chao Phraya r.)</th>\n      <th>S.9 Kaeng Khoi (Pa Sak r.)</th>\n      <th>C.35 river/brae</th>\n      <th>S.5 river/brae</th>\n      <th>C.7A river/brae</th>\n      <th>S.26 river/brae</th>\n      <th>critical_wat_lev_C.35</th>\n      <th>critical_wat_lev_S.5</th>\n    </tr>\n  </thead>\n  <tbody>\n    <tr>\n      <th>0</th>\n      <td>1.02</td>\n      <td>0.70</td>\n      <td>0.0</td>\n      <td>0.0</td>\n      <td>0.161572</td>\n      <td>0.168085</td>\n      <td>0.102</td>\n      <td>0.08750</td>\n      <td>3.2</td>\n      <td>3</td>\n    </tr>\n    <tr>\n      <th>1</th>\n      <td>0.87</td>\n      <td>0.65</td>\n      <td>0.0</td>\n      <td>2.0</td>\n      <td>0.148472</td>\n      <td>0.161702</td>\n      <td>0.087</td>\n      <td>0.08125</td>\n      <td>3.2</td>\n      <td>3</td>\n    </tr>\n    <tr>\n      <th>2</th>\n      <td>0.85</td>\n      <td>0.64</td>\n      <td>0.0</td>\n      <td>0.5</td>\n      <td>0.065502</td>\n      <td>0.136170</td>\n      <td>0.085</td>\n      <td>0.08000</td>\n      <td>3.2</td>\n      <td>3</td>\n    </tr>\n    <tr>\n      <th>3</th>\n      <td>0.90</td>\n      <td>0.73</td>\n      <td>3.0</td>\n      <td>1.5</td>\n      <td>0.072052</td>\n      <td>0.142553</td>\n      <td>0.090</td>\n      <td>0.09125</td>\n      <td>3.2</td>\n      <td>3</td>\n    </tr>\n    <tr>\n      <th>4</th>\n      <td>0.90</td>\n      <td>0.79</td>\n      <td>8.0</td>\n      <td>12.5</td>\n      <td>0.135371</td>\n      <td>0.125532</td>\n      <td>0.090</td>\n      <td>0.09875</td>\n      <td>3.2</td>\n      <td>3</td>\n    </tr>\n    <tr>\n      <th>...</th>\n      <td>...</td>\n      <td>...</td>\n      <td>...</td>\n      <td>...</td>\n      <td>...</td>\n      <td>...</td>\n      <td>...</td>\n      <td>...</td>\n      <td>...</td>\n      <td>...</td>\n    </tr>\n    <tr>\n      <th>83</th>\n      <td>7.82</td>\n      <td>3.44</td>\n      <td>35.3</td>\n      <td>0.0</td>\n      <td>0.914847</td>\n      <td>0.589362</td>\n      <td>0.782</td>\n      <td>0.43000</td>\n      <td>3.2</td>\n      <td>3</td>\n    </tr>\n    <tr>\n      <th>84</th>\n      <td>8.31</td>\n      <td>3.97</td>\n      <td>5.5</td>\n      <td>0.5</td>\n      <td>0.984716</td>\n      <td>0.634043</td>\n      <td>0.831</td>\n      <td>0.49625</td>\n      <td>3.2</td>\n      <td>3</td>\n    </tr>\n    <tr>\n      <th>85</th>\n      <td>8.60</td>\n      <td>4.39</td>\n      <td>0.0</td>\n      <td>0.0</td>\n      <td>1.045852</td>\n      <td>0.682979</td>\n      <td>0.860</td>\n      <td>0.54875</td>\n      <td>3.2</td>\n      <td>3</td>\n    </tr>\n    <tr>\n      <th>86</th>\n      <td>8.86</td>\n      <td>5.38</td>\n      <td>0.0</td>\n      <td>0.0</td>\n      <td>1.085153</td>\n      <td>0.725532</td>\n      <td>0.886</td>\n      <td>0.67250</td>\n      <td>3.2</td>\n      <td>3</td>\n    </tr>\n    <tr>\n      <th>87</th>\n      <td>9.07</td>\n      <td>7.18</td>\n      <td>0.0</td>\n      <td>0.0</td>\n      <td>1.133188</td>\n      <td>0.797872</td>\n      <td>0.907</td>\n      <td>0.89750</td>\n      <td>3.2</td>\n      <td>3</td>\n    </tr>\n  </tbody>\n</table>\n<p>88 rows × 10 columns</p>\n</div>"
     },
     "execution_count": 151,
     "metadata": {},
     "output_type": "execute_result"
    }
   ],
   "source": [
    "X"
   ]
  },
  {
   "cell_type": "code",
   "execution_count": 152,
   "metadata": {},
   "outputs": [
    {
     "data": {
      "text/plain": "<AxesSubplot:>"
     },
     "execution_count": 152,
     "metadata": {},
     "output_type": "execute_result"
    },
    {
     "data": {
      "text/plain": "<Figure size 432x288 with 2 Axes>",
      "image/png": "[encoded data removed]"
     },
     "metadata": {
      "needs_background": "light"
     },
     "output_type": "display_data"
    }
   ],
   "source": [
    "corr = data.corr()\n",
    "sns.heatmap(corr, \n",
    "            xticklabels=corr.columns.values,\n",
    "            yticklabels=corr.columns.values)"
   ]
  },
  {
   "cell_type": "code",
   "execution_count": 153,
   "metadata": {},
   "outputs": [],
   "source": [
    "X_train, X_test, y_train, y_test = train_test_split(X, y, random_state = 42, train_size = 0.8, test_size = 0.2)"
   ]
  },
  {
   "cell_type": "code",
   "execution_count": 154,
   "outputs": [
    {
     "data": {
      "text/plain": "    C.7A Ang Thong (Chao Phraya R.)  S.26 Tha Ruea (Pa Sak R.)  \\\n55                             0.99                       0.72   \n73                             5.36                       2.05   \n11                             1.04                       0.75   \n30                             0.98                       0.45   \n40                             1.01                       0.99   \n..                              ...                        ...   \n20                             1.04                       0.78   \n60                             1.25                       0.82   \n71                             4.73                       1.48   \n14                             1.08                       0.70   \n51                             0.79                       0.49   \n\n    C.13 Sapphaya (Chao Phraya r.)  S.9 Kaeng Khoi (Pa Sak r.)  \\\n55                             1.1                         0.5   \n73                             3.0                         0.0   \n11                             0.0                         0.0   \n30                             0.0                         0.0   \n40                             0.0                        40.0   \n..                             ...                         ...   \n20                            30.0                        37.0   \n60                             0.0                         0.0   \n71                             0.0                         0.5   \n14                             0.0                         3.0   \n51                             3.0                         0.0   \n\n    C.35 river/brae  S.5 river/brae  C.7A river/brae  S.26 river/brae  \\\n55         0.163755        0.159574            0.099          0.09000   \n73         0.622271        0.408511            0.536          0.25625   \n11         0.165939        0.165957            0.104          0.09375   \n30         0.043668        0.104255            0.098          0.05625   \n40         0.189956        0.168085            0.101          0.12375   \n..              ...             ...              ...              ...   \n20         0.139738        0.117021            0.104          0.09750   \n60         0.207424        0.202128            0.125          0.10250   \n71         0.524017        0.325532            0.473          0.18500   \n14         0.183406        0.189362            0.108          0.08750   \n51         0.126638        0.125532            0.079          0.06125   \n\n    critical_wat_lev_C.35  critical_wat_lev_S.5  \n55                    3.2                     3  \n73                    3.2                     3  \n11                    3.2                     3  \n30                    3.2                     3  \n40                    3.2                     3  \n..                    ...                   ...  \n20                    3.2                     3  \n60                    3.2                     3  \n71                    3.2                     3  \n14                    3.2                     3  \n51                    3.2                     3  \n\n[70 rows x 10 columns]",
      "text/html": "<div>\n<style scoped>\n    .dataframe tbody tr th:only-of-type {\n        vertical-align: middle;\n    }\n\n    .dataframe tbody tr th {\n        vertical-align: top;\n    }\n\n    .dataframe thead th {\n        text-align: right;\n    }\n</style>\n<table border=\"1\" class=\"dataframe\">\n  <thead>\n    <tr style=\"text-align: right;\">\n      <th></th>\n      <th>C.7A Ang Thong (Chao Phraya R.)</th>\n      <th>S.26 Tha Ruea (Pa Sak R.)</th>\n      <th>C.13 Sapphaya (Chao Phraya r.)</th>\n      <th>S.9 Kaeng Khoi (Pa Sak r.)</th>\n      <th>C.35 river/brae</th>\n      <th>S.5 river/brae</th>\n      <th>C.7A river/brae</th>\n      <th>S.26 river/brae</th>\n      <th>critical_wat_lev_C.35</th>\n      <th>critical_wat_lev_S.5</th>\n    </tr>\n  </thead>\n  <tbody>\n    <tr>\n      <th>55</th>\n      <td>0.99</td>\n      <td>0.72</td>\n      <td>1.1</td>\n      <td>0.5</td>\n      <td>0.163755</td>\n      <td>0.159574</td>\n      <td>0.099</td>\n      <td>0.09000</td>\n      <td>3.2</td>\n      <td>3</td>\n    </tr>\n    <tr>\n      <th>73</th>\n      <td>5.36</td>\n      <td>2.05</td>\n      <td>3.0</td>\n      <td>0.0</td>\n      <td>0.622271</td>\n      <td>0.408511</td>\n      <td>0.536</td>\n      <td>0.25625</td>\n      <td>3.2</td>\n      <td>3</td>\n    </tr>\n    <tr>\n      <th>11</th>\n      <td>1.04</td>\n      <td>0.75</td>\n      <td>0.0</td>\n      <td>0.0</td>\n      <td>0.165939</td>\n      <td>0.165957</td>\n      <td>0.104</td>\n      <td>0.09375</td>\n      <td>3.2</td>\n      <td>3</td>\n    </tr>\n    <tr>\n      <th>30</th>\n      <td>0.98</td>\n      <td>0.45</td>\n      <td>0.0</td>\n      <td>0.0</td>\n      <td>0.043668</td>\n      <td>0.104255</td>\n      <td>0.098</td>\n      <td>0.05625</td>\n      <td>3.2</td>\n      <td>3</td>\n    </tr>\n    <tr>\n      <th>40</th>\n      <td>1.01</td>\n      <td>0.99</td>\n      <td>0.0</td>\n      <td>40.0</td>\n      <td>0.189956</td>\n      <td>0.168085</td>\n      <td>0.101</td>\n      <td>0.12375</td>\n      <td>3.2</td>\n      <td>3</td>\n    </tr>\n    <tr>\n      <th>...</th>\n      <td>...</td>\n      <td>...</td>\n      <td>...</td>\n      <td>...</td>\n      <td>...</td>\n      <td>...</td>\n      <td>...</td>\n      <td>...</td>\n      <td>...</td>\n      <td>...</td>\n    </tr>\n    <tr>\n      <th>20</th>\n      <td>1.04</td>\n      <td>0.78</td>\n      <td>30.0</td>\n      <td>37.0</td>\n      <td>0.139738</td>\n      <td>0.117021</td>\n      <td>0.104</td>\n      <td>0.09750</td>\n      <td>3.2</td>\n      <td>3</td>\n    </tr>\n    <tr>\n      <th>60</th>\n      <td>1.25</td>\n      <td>0.82</td>\n      <td>0.0</td>\n      <td>0.0</td>\n      <td>0.207424</td>\n      <td>0.202128</td>\n      <td>0.125</td>\n      <td>0.10250</td>\n      <td>3.2</td>\n      <td>3</td>\n    </tr>\n    <tr>\n      <th>71</th>\n      <td>4.73</td>\n      <td>1.48</td>\n      <td>0.0</td>\n      <td>0.5</td>\n      <td>0.524017</td>\n      <td>0.325532</td>\n      <td>0.473</td>\n      <td>0.18500</td>\n      <td>3.2</td>\n      <td>3</td>\n    </tr>\n    <tr>\n      <th>14</th>\n      <td>1.08</td>\n      <td>0.70</td>\n      <td>0.0</td>\n      <td>3.0</td>\n      <td>0.183406</td>\n      <td>0.189362</td>\n      <td>0.108</td>\n      <td>0.08750</td>\n      <td>3.2</td>\n      <td>3</td>\n    </tr>\n    <tr>\n      <th>51</th>\n      <td>0.79</td>\n      <td>0.49</td>\n      <td>3.0</td>\n      <td>0.0</td>\n      <td>0.126638</td>\n      <td>0.125532</td>\n      <td>0.079</td>\n      <td>0.06125</td>\n      <td>3.2</td>\n      <td>3</td>\n    </tr>\n  </tbody>\n</table>\n<p>70 rows × 10 columns</p>\n</div>"
     },
     "execution_count": 154,
     "metadata": {},
     "output_type": "execute_result"
    }
   ],
   "source": [
    "X_train"
   ],
   "metadata": {
    "collapsed": false,
    "pycharm": {
     "name": "#%%\n"
    }
   }
  },
  {
   "cell_type": "code",
   "execution_count": 155,
   "metadata": {},
   "outputs": [
    {
     "data": {
      "text/plain": "    C.7A Ang Thong (Chao Phraya R.)  C.13 Sapphaya (Chao Phraya r.)  \\\n55                             0.99                             1.1   \n73                             5.36                             3.0   \n11                             1.04                             0.0   \n30                             0.98                             0.0   \n40                             1.01                             0.0   \n..                              ...                             ...   \n20                             1.04                            30.0   \n60                             1.25                             0.0   \n71                             4.73                             0.0   \n14                             1.08                             0.0   \n51                             0.79                             3.0   \n\n    C.35 river/brae  C.7A river/brae  critical_wat_lev_C.35  \n55         0.163755            0.099                    3.2  \n73         0.622271            0.536                    3.2  \n11         0.165939            0.104                    3.2  \n30         0.043668            0.098                    3.2  \n40         0.189956            0.101                    3.2  \n..              ...              ...                    ...  \n20         0.139738            0.104                    3.2  \n60         0.207424            0.125                    3.2  \n71         0.524017            0.473                    3.2  \n14         0.183406            0.108                    3.2  \n51         0.126638            0.079                    3.2  \n\n[70 rows x 5 columns]",
      "text/html": "<div>\n<style scoped>\n    .dataframe tbody tr th:only-of-type {\n        vertical-align: middle;\n    }\n\n    .dataframe tbody tr th {\n        vertical-align: top;\n    }\n\n    .dataframe thead th {\n        text-align: right;\n    }\n</style>\n<table border=\"1\" class=\"dataframe\">\n  <thead>\n    <tr style=\"text-align: right;\">\n      <th></th>\n      <th>C.7A Ang Thong (Chao Phraya R.)</th>\n      <th>C.13 Sapphaya (Chao Phraya r.)</th>\n      <th>C.35 river/brae</th>\n      <th>C.7A river/brae</th>\n      <th>critical_wat_lev_C.35</th>\n    </tr>\n  </thead>\n  <tbody>\n    <tr>\n      <th>55</th>\n      <td>0.99</td>\n      <td>1.1</td>\n      <td>0.163755</td>\n      <td>0.099</td>\n      <td>3.2</td>\n    </tr>\n    <tr>\n      <th>73</th>\n      <td>5.36</td>\n      <td>3.0</td>\n      <td>0.622271</td>\n      <td>0.536</td>\n      <td>3.2</td>\n    </tr>\n    <tr>\n      <th>11</th>\n      <td>1.04</td>\n      <td>0.0</td>\n      <td>0.165939</td>\n      <td>0.104</td>\n      <td>3.2</td>\n    </tr>\n    <tr>\n      <th>30</th>\n      <td>0.98</td>\n      <td>0.0</td>\n      <td>0.043668</td>\n      <td>0.098</td>\n      <td>3.2</td>\n    </tr>\n    <tr>\n      <th>40</th>\n      <td>1.01</td>\n      <td>0.0</td>\n      <td>0.189956</td>\n      <td>0.101</td>\n      <td>3.2</td>\n    </tr>\n    <tr>\n      <th>...</th>\n      <td>...</td>\n      <td>...</td>\n      <td>...</td>\n      <td>...</td>\n      <td>...</td>\n    </tr>\n    <tr>\n      <th>20</th>\n      <td>1.04</td>\n      <td>30.0</td>\n      <td>0.139738</td>\n      <td>0.104</td>\n      <td>3.2</td>\n    </tr>\n    <tr>\n      <th>60</th>\n      <td>1.25</td>\n      <td>0.0</td>\n      <td>0.207424</td>\n      <td>0.125</td>\n      <td>3.2</td>\n    </tr>\n    <tr>\n      <th>71</th>\n      <td>4.73</td>\n      <td>0.0</td>\n      <td>0.524017</td>\n      <td>0.473</td>\n      <td>3.2</td>\n    </tr>\n    <tr>\n      <th>14</th>\n      <td>1.08</td>\n      <td>0.0</td>\n      <td>0.183406</td>\n      <td>0.108</td>\n      <td>3.2</td>\n    </tr>\n    <tr>\n      <th>51</th>\n      <td>0.79</td>\n      <td>3.0</td>\n      <td>0.126638</td>\n      <td>0.079</td>\n      <td>3.2</td>\n    </tr>\n  </tbody>\n</table>\n<p>70 rows × 5 columns</p>\n</div>"
     },
     "execution_count": 155,
     "metadata": {},
     "output_type": "execute_result"
    }
   ],
   "source": [
    "X_train_C = X_train.drop(columns=['S.26 Tha Ruea (Pa Sak R.)', 'S.9 Kaeng Khoi (Pa Sak r.)',\n",
    "                        'S.5 river/brae', 'S.26 river/brae', 'critical_wat_lev_S.5'])\n",
    "X_train_C"
   ]
  },
  {
   "cell_type": "code",
   "execution_count": 156,
   "outputs": [
    {
     "data": {
      "text/plain": "    C.7A Ang Thong (Chao Phraya R.)  C.13 Sapphaya (Chao Phraya r.)  \\\n76                             5.22                            22.0   \n0                              1.02                             0.0   \n26                             1.09                             0.0   \n22                             1.09                             0.0   \n12                             1.07                             0.0   \n67                             3.21                             1.0   \n10                             0.96                            21.4   \n18                             1.01                             0.0   \n4                              0.90                             8.0   \n68                             3.00                             2.0   \n85                             8.60                             0.0   \n65                             3.07                            13.0   \n53                             0.89                            50.0   \n80                             6.28                            14.2   \n84                             8.31                             5.5   \n64                             2.78                             4.0   \n33                             0.94                             7.4   \n79                             5.89                            50.0   \n\n    C.35 river/brae  C.7A river/brae  critical_wat_lev_C.35  \n76         0.604803            0.522                    3.2  \n0          0.161572            0.102                    3.2  \n26         0.109170            0.109                    3.2  \n22         0.152838            0.109                    3.2  \n12         0.181223            0.107                    3.2  \n67         0.393013            0.321                    3.2  \n10         0.159389            0.096                    3.2  \n18         0.137555            0.101                    3.2  \n4          0.135371            0.090                    3.2  \n68         0.377729            0.300                    3.2  \n85         1.045852            0.860                    3.2  \n65         0.368996            0.307                    3.2  \n53         0.146288            0.089                    3.2  \n80         0.729258            0.628                    3.2  \n84         0.984716            0.831                    3.2  \n64         0.334061            0.278                    3.2  \n33         0.148472            0.094                    3.2  \n79         0.685590            0.589                    3.2  ",
      "text/html": "<div>\n<style scoped>\n    .dataframe tbody tr th:only-of-type {\n        vertical-align: middle;\n    }\n\n    .dataframe tbody tr th {\n        vertical-align: top;\n    }\n\n    .dataframe thead th {\n        text-align: right;\n    }\n</style>\n<table border=\"1\" class=\"dataframe\">\n  <thead>\n    <tr style=\"text-align: right;\">\n      <th></th>\n      <th>C.7A Ang Thong (Chao Phraya R.)</th>\n      <th>C.13 Sapphaya (Chao Phraya r.)</th>\n      <th>C.35 river/brae</th>\n      <th>C.7A river/brae</th>\n      <th>critical_wat_lev_C.35</th>\n    </tr>\n  </thead>\n  <tbody>\n    <tr>\n      <th>76</th>\n      <td>5.22</td>\n      <td>22.0</td>\n      <td>0.604803</td>\n      <td>0.522</td>\n      <td>3.2</td>\n    </tr>\n    <tr>\n      <th>0</th>\n      <td>1.02</td>\n      <td>0.0</td>\n      <td>0.161572</td>\n      <td>0.102</td>\n      <td>3.2</td>\n    </tr>\n    <tr>\n      <th>26</th>\n      <td>1.09</td>\n      <td>0.0</td>\n      <td>0.109170</td>\n      <td>0.109</td>\n      <td>3.2</td>\n    </tr>\n    <tr>\n      <th>22</th>\n      <td>1.09</td>\n      <td>0.0</td>\n      <td>0.152838</td>\n      <td>0.109</td>\n      <td>3.2</td>\n    </tr>\n    <tr>\n      <th>12</th>\n      <td>1.07</td>\n      <td>0.0</td>\n      <td>0.181223</td>\n      <td>0.107</td>\n      <td>3.2</td>\n    </tr>\n    <tr>\n      <th>67</th>\n      <td>3.21</td>\n      <td>1.0</td>\n      <td>0.393013</td>\n      <td>0.321</td>\n      <td>3.2</td>\n    </tr>\n    <tr>\n      <th>10</th>\n      <td>0.96</td>\n      <td>21.4</td>\n      <td>0.159389</td>\n      <td>0.096</td>\n      <td>3.2</td>\n    </tr>\n    <tr>\n      <th>18</th>\n      <td>1.01</td>\n      <td>0.0</td>\n      <td>0.137555</td>\n      <td>0.101</td>\n      <td>3.2</td>\n    </tr>\n    <tr>\n      <th>4</th>\n      <td>0.90</td>\n      <td>8.0</td>\n      <td>0.135371</td>\n      <td>0.090</td>\n      <td>3.2</td>\n    </tr>\n    <tr>\n      <th>68</th>\n      <td>3.00</td>\n      <td>2.0</td>\n      <td>0.377729</td>\n      <td>0.300</td>\n      <td>3.2</td>\n    </tr>\n    <tr>\n      <th>85</th>\n      <td>8.60</td>\n      <td>0.0</td>\n      <td>1.045852</td>\n      <td>0.860</td>\n      <td>3.2</td>\n    </tr>\n    <tr>\n      <th>65</th>\n      <td>3.07</td>\n      <td>13.0</td>\n      <td>0.368996</td>\n      <td>0.307</td>\n      <td>3.2</td>\n    </tr>\n    <tr>\n      <th>53</th>\n      <td>0.89</td>\n      <td>50.0</td>\n      <td>0.146288</td>\n      <td>0.089</td>\n      <td>3.2</td>\n    </tr>\n    <tr>\n      <th>80</th>\n      <td>6.28</td>\n      <td>14.2</td>\n      <td>0.729258</td>\n      <td>0.628</td>\n      <td>3.2</td>\n    </tr>\n    <tr>\n      <th>84</th>\n      <td>8.31</td>\n      <td>5.5</td>\n      <td>0.984716</td>\n      <td>0.831</td>\n      <td>3.2</td>\n    </tr>\n    <tr>\n      <th>64</th>\n      <td>2.78</td>\n      <td>4.0</td>\n      <td>0.334061</td>\n      <td>0.278</td>\n      <td>3.2</td>\n    </tr>\n    <tr>\n      <th>33</th>\n      <td>0.94</td>\n      <td>7.4</td>\n      <td>0.148472</td>\n      <td>0.094</td>\n      <td>3.2</td>\n    </tr>\n    <tr>\n      <th>79</th>\n      <td>5.89</td>\n      <td>50.0</td>\n      <td>0.685590</td>\n      <td>0.589</td>\n      <td>3.2</td>\n    </tr>\n  </tbody>\n</table>\n</div>"
     },
     "execution_count": 156,
     "metadata": {},
     "output_type": "execute_result"
    }
   ],
   "source": [
    "X_test_C = X_test.drop(columns=['S.26 Tha Ruea (Pa Sak R.)', 'S.9 Kaeng Khoi (Pa Sak r.)',\n",
    "                        'S.5 river/brae', 'S.26 river/brae', 'critical_wat_lev_S.5'])\n",
    "X_test_C"
   ],
   "metadata": {
    "collapsed": false,
    "pycharm": {
     "name": "#%%\n"
    }
   }
  },
  {
   "cell_type": "code",
   "execution_count": 157,
   "metadata": {},
   "outputs": [
    {
     "data": {
      "text/plain": "C.7A Ang Thong (Chao Phraya R.)    float64\nC.13 Sapphaya (Chao Phraya r.)     float64\nC.35 river/brae                    float64\nC.7A river/brae                    float64\ncritical_wat_lev_C.35              float64\ndtype: object"
     },
     "execution_count": 157,
     "metadata": {},
     "output_type": "execute_result"
    }
   ],
   "source": [
    "X_train_C.dtypes"
   ]
  },
  {
   "cell_type": "code",
   "execution_count": 158,
   "outputs": [
    {
     "data": {
      "text/plain": "C.7A Ang Thong (Chao Phraya R.)    float64\nC.13 Sapphaya (Chao Phraya r.)     float64\nC.35 river/brae                    float64\nC.7A river/brae                    float64\ncritical_wat_lev_C.35              float64\ndtype: object"
     },
     "execution_count": 158,
     "metadata": {},
     "output_type": "execute_result"
    }
   ],
   "source": [
    "X_test_C.dtypes"
   ],
   "metadata": {
    "collapsed": false,
    "pycharm": {
     "name": "#%%\n"
    }
   }
  },
  {
   "cell_type": "code",
   "execution_count": 159,
   "metadata": {},
   "outputs": [
    {
     "data": {
      "text/plain": "    Class_C.35\n55         0.0\n73         0.0\n11         0.0\n30         0.0\n40         0.0\n..         ...\n20         0.0\n60         0.0\n71         0.0\n14         0.0\n51         0.0\n\n[70 rows x 1 columns]",
      "text/html": "<div>\n<style scoped>\n    .dataframe tbody tr th:only-of-type {\n        vertical-align: middle;\n    }\n\n    .dataframe tbody tr th {\n        vertical-align: top;\n    }\n\n    .dataframe thead th {\n        text-align: right;\n    }\n</style>\n<table border=\"1\" class=\"dataframe\">\n  <thead>\n    <tr style=\"text-align: right;\">\n      <th></th>\n      <th>Class_C.35</th>\n    </tr>\n  </thead>\n  <tbody>\n    <tr>\n      <th>55</th>\n      <td>0.0</td>\n    </tr>\n    <tr>\n      <th>73</th>\n      <td>0.0</td>\n    </tr>\n    <tr>\n      <th>11</th>\n      <td>0.0</td>\n    </tr>\n    <tr>\n      <th>30</th>\n      <td>0.0</td>\n    </tr>\n    <tr>\n      <th>40</th>\n      <td>0.0</td>\n    </tr>\n    <tr>\n      <th>...</th>\n      <td>...</td>\n    </tr>\n    <tr>\n      <th>20</th>\n      <td>0.0</td>\n    </tr>\n    <tr>\n      <th>60</th>\n      <td>0.0</td>\n    </tr>\n    <tr>\n      <th>71</th>\n      <td>0.0</td>\n    </tr>\n    <tr>\n      <th>14</th>\n      <td>0.0</td>\n    </tr>\n    <tr>\n      <th>51</th>\n      <td>0.0</td>\n    </tr>\n  </tbody>\n</table>\n<p>70 rows × 1 columns</p>\n</div>"
     },
     "execution_count": 159,
     "metadata": {},
     "output_type": "execute_result"
    }
   ],
   "source": [
    "y_train_C = y_train.drop(columns=['Class_S.5'])\n",
    "y_train_C"
   ]
  },
  {
   "cell_type": "code",
   "execution_count": 160,
   "outputs": [
    {
     "data": {
      "text/plain": "    Class_C.35\n76         0.0\n0          0.0\n26         0.0\n22         0.0\n12         0.0\n67         0.0\n10         0.0\n18         0.0\n4          0.0\n68         0.0\n85         1.0\n65         0.0\n53         0.0\n80         1.0\n84         1.0\n64         0.0\n33         0.0\n79         1.0",
      "text/html": "<div>\n<style scoped>\n    .dataframe tbody tr th:only-of-type {\n        vertical-align: middle;\n    }\n\n    .dataframe tbody tr th {\n        vertical-align: top;\n    }\n\n    .dataframe thead th {\n        text-align: right;\n    }\n</style>\n<table border=\"1\" class=\"dataframe\">\n  <thead>\n    <tr style=\"text-align: right;\">\n      <th></th>\n      <th>Class_C.35</th>\n    </tr>\n  </thead>\n  <tbody>\n    <tr>\n      <th>76</th>\n      <td>0.0</td>\n    </tr>\n    <tr>\n      <th>0</th>\n      <td>0.0</td>\n    </tr>\n    <tr>\n      <th>26</th>\n      <td>0.0</td>\n    </tr>\n    <tr>\n      <th>22</th>\n      <td>0.0</td>\n    </tr>\n    <tr>\n      <th>12</th>\n      <td>0.0</td>\n    </tr>\n    <tr>\n      <th>67</th>\n      <td>0.0</td>\n    </tr>\n    <tr>\n      <th>10</th>\n      <td>0.0</td>\n    </tr>\n    <tr>\n      <th>18</th>\n      <td>0.0</td>\n    </tr>\n    <tr>\n      <th>4</th>\n      <td>0.0</td>\n    </tr>\n    <tr>\n      <th>68</th>\n      <td>0.0</td>\n    </tr>\n    <tr>\n      <th>85</th>\n      <td>1.0</td>\n    </tr>\n    <tr>\n      <th>65</th>\n      <td>0.0</td>\n    </tr>\n    <tr>\n      <th>53</th>\n      <td>0.0</td>\n    </tr>\n    <tr>\n      <th>80</th>\n      <td>1.0</td>\n    </tr>\n    <tr>\n      <th>84</th>\n      <td>1.0</td>\n    </tr>\n    <tr>\n      <th>64</th>\n      <td>0.0</td>\n    </tr>\n    <tr>\n      <th>33</th>\n      <td>0.0</td>\n    </tr>\n    <tr>\n      <th>79</th>\n      <td>1.0</td>\n    </tr>\n  </tbody>\n</table>\n</div>"
     },
     "execution_count": 160,
     "metadata": {},
     "output_type": "execute_result"
    }
   ],
   "source": [
    "y_test_C = y_test.drop(columns=['Class_S.5'])\n",
    "y_test_C"
   ],
   "metadata": {
    "collapsed": false,
    "pycharm": {
     "name": "#%%\n"
    }
   }
  },
  {
   "cell_type": "code",
   "execution_count": 161,
   "outputs": [
    {
     "data": {
      "text/plain": "    S.26 Tha Ruea (Pa Sak R.)  S.9 Kaeng Khoi (Pa Sak r.)  S.5 river/brae  \\\n55                       0.72                         0.5        0.159574   \n73                       2.05                         0.0        0.408511   \n11                       0.75                         0.0        0.165957   \n30                       0.45                         0.0        0.104255   \n40                       0.99                        40.0        0.168085   \n..                        ...                         ...             ...   \n20                       0.78                        37.0        0.117021   \n60                       0.82                         0.0        0.202128   \n71                       1.48                         0.5        0.325532   \n14                       0.70                         3.0        0.189362   \n51                       0.49                         0.0        0.125532   \n\n    S.26 river/brae  critical_wat_lev_S.5  \n55          0.09000                     3  \n73          0.25625                     3  \n11          0.09375                     3  \n30          0.05625                     3  \n40          0.12375                     3  \n..              ...                   ...  \n20          0.09750                     3  \n60          0.10250                     3  \n71          0.18500                     3  \n14          0.08750                     3  \n51          0.06125                     3  \n\n[70 rows x 5 columns]",
      "text/html": "<div>\n<style scoped>\n    .dataframe tbody tr th:only-of-type {\n        vertical-align: middle;\n    }\n\n    .dataframe tbody tr th {\n        vertical-align: top;\n    }\n\n    .dataframe thead th {\n        text-align: right;\n    }\n</style>\n<table border=\"1\" class=\"dataframe\">\n  <thead>\n    <tr style=\"text-align: right;\">\n      <th></th>\n      <th>S.26 Tha Ruea (Pa Sak R.)</th>\n      <th>S.9 Kaeng Khoi (Pa Sak r.)</th>\n      <th>S.5 river/brae</th>\n      <th>S.26 river/brae</th>\n      <th>critical_wat_lev_S.5</th>\n    </tr>\n  </thead>\n  <tbody>\n    <tr>\n      <th>55</th>\n      <td>0.72</td>\n      <td>0.5</td>\n      <td>0.159574</td>\n      <td>0.09000</td>\n      <td>3</td>\n    </tr>\n    <tr>\n      <th>73</th>\n      <td>2.05</td>\n      <td>0.0</td>\n      <td>0.408511</td>\n      <td>0.25625</td>\n      <td>3</td>\n    </tr>\n    <tr>\n      <th>11</th>\n      <td>0.75</td>\n      <td>0.0</td>\n      <td>0.165957</td>\n      <td>0.09375</td>\n      <td>3</td>\n    </tr>\n    <tr>\n      <th>30</th>\n      <td>0.45</td>\n      <td>0.0</td>\n      <td>0.104255</td>\n      <td>0.05625</td>\n      <td>3</td>\n    </tr>\n    <tr>\n      <th>40</th>\n      <td>0.99</td>\n      <td>40.0</td>\n      <td>0.168085</td>\n      <td>0.12375</td>\n      <td>3</td>\n    </tr>\n    <tr>\n      <th>...</th>\n      <td>...</td>\n      <td>...</td>\n      <td>...</td>\n      <td>...</td>\n      <td>...</td>\n    </tr>\n    <tr>\n      <th>20</th>\n      <td>0.78</td>\n      <td>37.0</td>\n      <td>0.117021</td>\n      <td>0.09750</td>\n      <td>3</td>\n    </tr>\n    <tr>\n      <th>60</th>\n      <td>0.82</td>\n      <td>0.0</td>\n      <td>0.202128</td>\n      <td>0.10250</td>\n      <td>3</td>\n    </tr>\n    <tr>\n      <th>71</th>\n      <td>1.48</td>\n      <td>0.5</td>\n      <td>0.325532</td>\n      <td>0.18500</td>\n      <td>3</td>\n    </tr>\n    <tr>\n      <th>14</th>\n      <td>0.70</td>\n      <td>3.0</td>\n      <td>0.189362</td>\n      <td>0.08750</td>\n      <td>3</td>\n    </tr>\n    <tr>\n      <th>51</th>\n      <td>0.49</td>\n      <td>0.0</td>\n      <td>0.125532</td>\n      <td>0.06125</td>\n      <td>3</td>\n    </tr>\n  </tbody>\n</table>\n<p>70 rows × 5 columns</p>\n</div>"
     },
     "execution_count": 161,
     "metadata": {},
     "output_type": "execute_result"
    }
   ],
   "source": [
    "X_train_S = X_train.drop(columns=['C.7A Ang Thong (Chao Phraya R.)', 'C.13 Sapphaya (Chao Phraya r.)',\n",
    "                        'C.35 river/brae', 'C.7A river/brae', 'critical_wat_lev_C.35'])\n",
    "X_train_S"
   ],
   "metadata": {
    "collapsed": false,
    "pycharm": {
     "name": "#%%\n"
    }
   }
  },
  {
   "cell_type": "code",
   "execution_count": 162,
   "outputs": [
    {
     "data": {
      "text/plain": "    S.26 Tha Ruea (Pa Sak R.)  S.9 Kaeng Khoi (Pa Sak r.)  S.5 river/brae  \\\n76                       1.70                         0.0        0.408511   \n0                        0.70                         0.0        0.168085   \n26                       0.72                         0.0        0.163830   \n22                       0.81                         0.0        0.131915   \n12                       0.74                         0.0        0.180851   \n67                       1.50                        25.5        0.287234   \n10                       0.80                         0.0        0.144681   \n18                       0.72                         0.0        0.121277   \n4                        0.79                        12.5        0.125532   \n68                       1.97                         0.0        0.291489   \n85                       4.39                         0.0        0.682979   \n65                       1.53                         0.0        0.274468   \n53                       0.52                         0.0        0.131915   \n80                       2.51                         6.0        0.482979   \n84                       3.97                         0.5        0.634043   \n64                       1.30                        18.5        0.255319   \n33                       0.76                         1.0        0.138298   \n79                       1.96                         0.5        0.455319   \n\n    S.26 river/brae  critical_wat_lev_S.5  \n76          0.21250                     3  \n0           0.08750                     3  \n26          0.09000                     3  \n22          0.10125                     3  \n12          0.09250                     3  \n67          0.18750                     3  \n10          0.10000                     3  \n18          0.09000                     3  \n4           0.09875                     3  \n68          0.24625                     3  \n85          0.54875                     3  \n65          0.19125                     3  \n53          0.06500                     3  \n80          0.31375                     3  \n84          0.49625                     3  \n64          0.16250                     3  \n33          0.09500                     3  \n79          0.24500                     3  ",
      "text/html": "<div>\n<style scoped>\n    .dataframe tbody tr th:only-of-type {\n        vertical-align: middle;\n    }\n\n    .dataframe tbody tr th {\n        vertical-align: top;\n    }\n\n    .dataframe thead th {\n        text-align: right;\n    }\n</style>\n<table border=\"1\" class=\"dataframe\">\n  <thead>\n    <tr style=\"text-align: right;\">\n      <th></th>\n      <th>S.26 Tha Ruea (Pa Sak R.)</th>\n      <th>S.9 Kaeng Khoi (Pa Sak r.)</th>\n      <th>S.5 river/brae</th>\n      <th>S.26 river/brae</th>\n      <th>critical_wat_lev_S.5</th>\n    </tr>\n  </thead>\n  <tbody>\n    <tr>\n      <th>76</th>\n      <td>1.70</td>\n      <td>0.0</td>\n      <td>0.408511</td>\n      <td>0.21250</td>\n      <td>3</td>\n    </tr>\n    <tr>\n      <th>0</th>\n      <td>0.70</td>\n      <td>0.0</td>\n      <td>0.168085</td>\n      <td>0.08750</td>\n      <td>3</td>\n    </tr>\n    <tr>\n      <th>26</th>\n      <td>0.72</td>\n      <td>0.0</td>\n      <td>0.163830</td>\n      <td>0.09000</td>\n      <td>3</td>\n    </tr>\n    <tr>\n      <th>22</th>\n      <td>0.81</td>\n      <td>0.0</td>\n      <td>0.131915</td>\n      <td>0.10125</td>\n      <td>3</td>\n    </tr>\n    <tr>\n      <th>12</th>\n      <td>0.74</td>\n      <td>0.0</td>\n      <td>0.180851</td>\n      <td>0.09250</td>\n      <td>3</td>\n    </tr>\n    <tr>\n      <th>67</th>\n      <td>1.50</td>\n      <td>25.5</td>\n      <td>0.287234</td>\n      <td>0.18750</td>\n      <td>3</td>\n    </tr>\n    <tr>\n      <th>10</th>\n      <td>0.80</td>\n      <td>0.0</td>\n      <td>0.144681</td>\n      <td>0.10000</td>\n      <td>3</td>\n    </tr>\n    <tr>\n      <th>18</th>\n      <td>0.72</td>\n      <td>0.0</td>\n      <td>0.121277</td>\n      <td>0.09000</td>\n      <td>3</td>\n    </tr>\n    <tr>\n      <th>4</th>\n      <td>0.79</td>\n      <td>12.5</td>\n      <td>0.125532</td>\n      <td>0.09875</td>\n      <td>3</td>\n    </tr>\n    <tr>\n      <th>68</th>\n      <td>1.97</td>\n      <td>0.0</td>\n      <td>0.291489</td>\n      <td>0.24625</td>\n      <td>3</td>\n    </tr>\n    <tr>\n      <th>85</th>\n      <td>4.39</td>\n      <td>0.0</td>\n      <td>0.682979</td>\n      <td>0.54875</td>\n      <td>3</td>\n    </tr>\n    <tr>\n      <th>65</th>\n      <td>1.53</td>\n      <td>0.0</td>\n      <td>0.274468</td>\n      <td>0.19125</td>\n      <td>3</td>\n    </tr>\n    <tr>\n      <th>53</th>\n      <td>0.52</td>\n      <td>0.0</td>\n      <td>0.131915</td>\n      <td>0.06500</td>\n      <td>3</td>\n    </tr>\n    <tr>\n      <th>80</th>\n      <td>2.51</td>\n      <td>6.0</td>\n      <td>0.482979</td>\n      <td>0.31375</td>\n      <td>3</td>\n    </tr>\n    <tr>\n      <th>84</th>\n      <td>3.97</td>\n      <td>0.5</td>\n      <td>0.634043</td>\n      <td>0.49625</td>\n      <td>3</td>\n    </tr>\n    <tr>\n      <th>64</th>\n      <td>1.30</td>\n      <td>18.5</td>\n      <td>0.255319</td>\n      <td>0.16250</td>\n      <td>3</td>\n    </tr>\n    <tr>\n      <th>33</th>\n      <td>0.76</td>\n      <td>1.0</td>\n      <td>0.138298</td>\n      <td>0.09500</td>\n      <td>3</td>\n    </tr>\n    <tr>\n      <th>79</th>\n      <td>1.96</td>\n      <td>0.5</td>\n      <td>0.455319</td>\n      <td>0.24500</td>\n      <td>3</td>\n    </tr>\n  </tbody>\n</table>\n</div>"
     },
     "execution_count": 162,
     "metadata": {},
     "output_type": "execute_result"
    }
   ],
   "source": [
    "X_test_S = X_test.drop(columns=['C.7A Ang Thong (Chao Phraya R.)', 'C.13 Sapphaya (Chao Phraya r.)',\n",
    "                        'C.35 river/brae', 'C.7A river/brae', 'critical_wat_lev_C.35'])\n",
    "X_test_S"
   ],
   "metadata": {
    "collapsed": false,
    "pycharm": {
     "name": "#%%\n"
    }
   }
  },
  {
   "cell_type": "code",
   "execution_count": 163,
   "outputs": [
    {
     "data": {
      "text/plain": "S.26 Tha Ruea (Pa Sak R.)     float64\nS.9 Kaeng Khoi (Pa Sak r.)    float64\nS.5 river/brae                float64\nS.26 river/brae               float64\ncritical_wat_lev_S.5            int64\ndtype: object"
     },
     "execution_count": 163,
     "metadata": {},
     "output_type": "execute_result"
    }
   ],
   "source": [
    "X_train_S.dtypes"
   ],
   "metadata": {
    "collapsed": false,
    "pycharm": {
     "name": "#%%\n"
    }
   }
  },
  {
   "cell_type": "code",
   "execution_count": 164,
   "outputs": [
    {
     "data": {
      "text/plain": "S.26 Tha Ruea (Pa Sak R.)     float64\nS.9 Kaeng Khoi (Pa Sak r.)    float64\nS.5 river/brae                float64\nS.26 river/brae               float64\ncritical_wat_lev_S.5            int64\ndtype: object"
     },
     "execution_count": 164,
     "metadata": {},
     "output_type": "execute_result"
    }
   ],
   "source": [
    "X_test_S.dtypes"
   ],
   "metadata": {
    "collapsed": false,
    "pycharm": {
     "name": "#%%\n"
    }
   }
  },
  {
   "cell_type": "code",
   "execution_count": 165,
   "outputs": [
    {
     "data": {
      "text/plain": "    Class_S.5\n55        0.0\n73        0.0\n11        0.0\n30        0.0\n40        0.0\n..        ...\n20        0.0\n60        0.0\n71        0.0\n14        0.0\n51        0.0\n\n[70 rows x 1 columns]",
      "text/html": "<div>\n<style scoped>\n    .dataframe tbody tr th:only-of-type {\n        vertical-align: middle;\n    }\n\n    .dataframe tbody tr th {\n        vertical-align: top;\n    }\n\n    .dataframe thead th {\n        text-align: right;\n    }\n</style>\n<table border=\"1\" class=\"dataframe\">\n  <thead>\n    <tr style=\"text-align: right;\">\n      <th></th>\n      <th>Class_S.5</th>\n    </tr>\n  </thead>\n  <tbody>\n    <tr>\n      <th>55</th>\n      <td>0.0</td>\n    </tr>\n    <tr>\n      <th>73</th>\n      <td>0.0</td>\n    </tr>\n    <tr>\n      <th>11</th>\n      <td>0.0</td>\n    </tr>\n    <tr>\n      <th>30</th>\n      <td>0.0</td>\n    </tr>\n    <tr>\n      <th>40</th>\n      <td>0.0</td>\n    </tr>\n    <tr>\n      <th>...</th>\n      <td>...</td>\n    </tr>\n    <tr>\n      <th>20</th>\n      <td>0.0</td>\n    </tr>\n    <tr>\n      <th>60</th>\n      <td>0.0</td>\n    </tr>\n    <tr>\n      <th>71</th>\n      <td>0.0</td>\n    </tr>\n    <tr>\n      <th>14</th>\n      <td>0.0</td>\n    </tr>\n    <tr>\n      <th>51</th>\n      <td>0.0</td>\n    </tr>\n  </tbody>\n</table>\n<p>70 rows × 1 columns</p>\n</div>"
     },
     "execution_count": 165,
     "metadata": {},
     "output_type": "execute_result"
    }
   ],
   "source": [
    "y_train_S = y_train.drop(columns=['Class_C.35'])\n",
    "y_train_S"
   ],
   "metadata": {
    "collapsed": false,
    "pycharm": {
     "name": "#%%\n"
    }
   }
  },
  {
   "cell_type": "code",
   "execution_count": 166,
   "outputs": [
    {
     "data": {
      "text/plain": "    Class_S.5\n76        0.0\n0         0.0\n26        0.0\n22        0.0\n12        0.0\n67        0.0\n10        0.0\n18        0.0\n4         0.0\n68        0.0\n85        1.0\n65        0.0\n53        0.0\n80        0.0\n84        1.0\n64        0.0\n33        0.0\n79        0.0",
      "text/html": "<div>\n<style scoped>\n    .dataframe tbody tr th:only-of-type {\n        vertical-align: middle;\n    }\n\n    .dataframe tbody tr th {\n        vertical-align: top;\n    }\n\n    .dataframe thead th {\n        text-align: right;\n    }\n</style>\n<table border=\"1\" class=\"dataframe\">\n  <thead>\n    <tr style=\"text-align: right;\">\n      <th></th>\n      <th>Class_S.5</th>\n    </tr>\n  </thead>\n  <tbody>\n    <tr>\n      <th>76</th>\n      <td>0.0</td>\n    </tr>\n    <tr>\n      <th>0</th>\n      <td>0.0</td>\n    </tr>\n    <tr>\n      <th>26</th>\n      <td>0.0</td>\n    </tr>\n    <tr>\n      <th>22</th>\n      <td>0.0</td>\n    </tr>\n    <tr>\n      <th>12</th>\n      <td>0.0</td>\n    </tr>\n    <tr>\n      <th>67</th>\n      <td>0.0</td>\n    </tr>\n    <tr>\n      <th>10</th>\n      <td>0.0</td>\n    </tr>\n    <tr>\n      <th>18</th>\n      <td>0.0</td>\n    </tr>\n    <tr>\n      <th>4</th>\n      <td>0.0</td>\n    </tr>\n    <tr>\n      <th>68</th>\n      <td>0.0</td>\n    </tr>\n    <tr>\n      <th>85</th>\n      <td>1.0</td>\n    </tr>\n    <tr>\n      <th>65</th>\n      <td>0.0</td>\n    </tr>\n    <tr>\n      <th>53</th>\n      <td>0.0</td>\n    </tr>\n    <tr>\n      <th>80</th>\n      <td>0.0</td>\n    </tr>\n    <tr>\n      <th>84</th>\n      <td>1.0</td>\n    </tr>\n    <tr>\n      <th>64</th>\n      <td>0.0</td>\n    </tr>\n    <tr>\n      <th>33</th>\n      <td>0.0</td>\n    </tr>\n    <tr>\n      <th>79</th>\n      <td>0.0</td>\n    </tr>\n  </tbody>\n</table>\n</div>"
     },
     "execution_count": 166,
     "metadata": {},
     "output_type": "execute_result"
    }
   ],
   "source": [
    "y_test_S = y_test.drop(columns=['Class_C.35'])\n",
    "y_test_S"
   ],
   "metadata": {
    "collapsed": false,
    "pycharm": {
     "name": "#%%\n"
    }
   }
  },
  {
   "cell_type": "code",
   "execution_count": 167,
   "metadata": {},
   "outputs": [],
   "source": [
    "from sklearn import preprocessing\n",
    "from sklearn import utils"
   ]
  },
  {
   "cell_type": "code",
   "execution_count": 168,
   "metadata": {},
   "outputs": [
    {
     "data": {
      "text/plain": "    Class_C.35  Class_S.5\n55         0.0        0.0\n73         0.0        0.0\n11         0.0        0.0\n30         0.0        0.0\n40         0.0        0.0\n..         ...        ...\n20         0.0        0.0\n60         0.0        0.0\n71         0.0        0.0\n14         0.0        0.0\n51         0.0        0.0\n\n[70 rows x 2 columns]",
      "text/html": "<div>\n<style scoped>\n    .dataframe tbody tr th:only-of-type {\n        vertical-align: middle;\n    }\n\n    .dataframe tbody tr th {\n        vertical-align: top;\n    }\n\n    .dataframe thead th {\n        text-align: right;\n    }\n</style>\n<table border=\"1\" class=\"dataframe\">\n  <thead>\n    <tr style=\"text-align: right;\">\n      <th></th>\n      <th>Class_C.35</th>\n      <th>Class_S.5</th>\n    </tr>\n  </thead>\n  <tbody>\n    <tr>\n      <th>55</th>\n      <td>0.0</td>\n      <td>0.0</td>\n    </tr>\n    <tr>\n      <th>73</th>\n      <td>0.0</td>\n      <td>0.0</td>\n    </tr>\n    <tr>\n      <th>11</th>\n      <td>0.0</td>\n      <td>0.0</td>\n    </tr>\n    <tr>\n      <th>30</th>\n      <td>0.0</td>\n      <td>0.0</td>\n    </tr>\n    <tr>\n      <th>40</th>\n      <td>0.0</td>\n      <td>0.0</td>\n    </tr>\n    <tr>\n      <th>...</th>\n      <td>...</td>\n      <td>...</td>\n    </tr>\n    <tr>\n      <th>20</th>\n      <td>0.0</td>\n      <td>0.0</td>\n    </tr>\n    <tr>\n      <th>60</th>\n      <td>0.0</td>\n      <td>0.0</td>\n    </tr>\n    <tr>\n      <th>71</th>\n      <td>0.0</td>\n      <td>0.0</td>\n    </tr>\n    <tr>\n      <th>14</th>\n      <td>0.0</td>\n      <td>0.0</td>\n    </tr>\n    <tr>\n      <th>51</th>\n      <td>0.0</td>\n      <td>0.0</td>\n    </tr>\n  </tbody>\n</table>\n<p>70 rows × 2 columns</p>\n</div>"
     },
     "execution_count": 168,
     "metadata": {},
     "output_type": "execute_result"
    }
   ],
   "source": [
    "y_train"
   ]
  },
  {
   "cell_type": "code",
   "execution_count": 169,
   "metadata": {},
   "outputs": [
    {
     "data": {
      "text/plain": "KNeighborsClassifier()"
     },
     "execution_count": 169,
     "metadata": {},
     "output_type": "execute_result"
    }
   ],
   "source": [
    "Knn = KNeighborsClassifier()\n",
    "Knn.fit(X_train, y_train)"
   ]
  },
  {
   "cell_type": "code",
   "execution_count": 170,
   "metadata": {},
   "outputs": [
    {
     "ename": "ValueError",
     "evalue": "y should be a 1d array, got an array of shape (70, 2) instead.",
     "output_type": "error",
     "traceback": [
      "\u001B[0;31m---------------------------------------------------------------------------\u001B[0m",
      "\u001B[0;31mValueError\u001B[0m                                Traceback (most recent call last)",
      "\u001B[0;32m/var/folders/3j/42bghlvs5p5c4v5l7_rj842m0000gn/T/ipykernel_11341/4204367858.py\u001B[0m in \u001B[0;36m<module>\u001B[0;34m\u001B[0m\n\u001B[1;32m      1\u001B[0m \u001B[0mlab_enc\u001B[0m \u001B[0;34m=\u001B[0m \u001B[0mpreprocessing\u001B[0m\u001B[0;34m.\u001B[0m\u001B[0mLabelEncoder\u001B[0m\u001B[0;34m(\u001B[0m\u001B[0;34m)\u001B[0m\u001B[0;34m\u001B[0m\u001B[0;34m\u001B[0m\u001B[0m\n\u001B[0;32m----> 2\u001B[0;31m \u001B[0mencoded\u001B[0m \u001B[0;34m=\u001B[0m \u001B[0mlab_enc\u001B[0m\u001B[0;34m.\u001B[0m\u001B[0mfit_transform\u001B[0m\u001B[0;34m(\u001B[0m\u001B[0my_train\u001B[0m\u001B[0;34m)\u001B[0m\u001B[0;34m\u001B[0m\u001B[0;34m\u001B[0m\u001B[0m\n\u001B[0m\u001B[1;32m      3\u001B[0m \u001B[0;31m#knn = KNeighborsClassifier(n_neighbors=50, metric = 'euclidean')\u001B[0m\u001B[0;34m\u001B[0m\u001B[0;34m\u001B[0m\u001B[0;34m\u001B[0m\u001B[0m\n\u001B[1;32m      4\u001B[0m \u001B[0;31m#knn.fit(X_train, y_train)\u001B[0m\u001B[0;34m\u001B[0m\u001B[0;34m\u001B[0m\u001B[0;34m\u001B[0m\u001B[0m\n\u001B[1;32m      5\u001B[0m \u001B[0;31m#y_pred = knn.predict(X_test)\u001B[0m\u001B[0;34m\u001B[0m\u001B[0;34m\u001B[0m\u001B[0;34m\u001B[0m\u001B[0m\n",
      "\u001B[0;32m/Library/Frameworks/Python.framework/Versions/3.9/lib/python3.9/site-packages/sklearn/preprocessing/_label.py\u001B[0m in \u001B[0;36mfit_transform\u001B[0;34m(self, y)\u001B[0m\n\u001B[1;32m    113\u001B[0m             \u001B[0mEncoded\u001B[0m \u001B[0mlabels\u001B[0m\u001B[0;34m.\u001B[0m\u001B[0;34m\u001B[0m\u001B[0;34m\u001B[0m\u001B[0m\n\u001B[1;32m    114\u001B[0m         \"\"\"\n\u001B[0;32m--> 115\u001B[0;31m         \u001B[0my\u001B[0m \u001B[0;34m=\u001B[0m \u001B[0mcolumn_or_1d\u001B[0m\u001B[0;34m(\u001B[0m\u001B[0my\u001B[0m\u001B[0;34m,\u001B[0m \u001B[0mwarn\u001B[0m\u001B[0;34m=\u001B[0m\u001B[0;32mTrue\u001B[0m\u001B[0;34m)\u001B[0m\u001B[0;34m\u001B[0m\u001B[0;34m\u001B[0m\u001B[0m\n\u001B[0m\u001B[1;32m    116\u001B[0m         \u001B[0mself\u001B[0m\u001B[0;34m.\u001B[0m\u001B[0mclasses_\u001B[0m\u001B[0;34m,\u001B[0m \u001B[0my\u001B[0m \u001B[0;34m=\u001B[0m \u001B[0m_unique\u001B[0m\u001B[0;34m(\u001B[0m\u001B[0my\u001B[0m\u001B[0;34m,\u001B[0m \u001B[0mreturn_inverse\u001B[0m\u001B[0;34m=\u001B[0m\u001B[0;32mTrue\u001B[0m\u001B[0;34m)\u001B[0m\u001B[0;34m\u001B[0m\u001B[0;34m\u001B[0m\u001B[0m\n\u001B[1;32m    117\u001B[0m         \u001B[0;32mreturn\u001B[0m \u001B[0my\u001B[0m\u001B[0;34m\u001B[0m\u001B[0;34m\u001B[0m\u001B[0m\n",
      "\u001B[0;32m/Library/Frameworks/Python.framework/Versions/3.9/lib/python3.9/site-packages/sklearn/utils/validation.py\u001B[0m in \u001B[0;36mcolumn_or_1d\u001B[0;34m(y, warn)\u001B[0m\n\u001B[1;32m   1022\u001B[0m         \u001B[0;32mreturn\u001B[0m \u001B[0mnp\u001B[0m\u001B[0;34m.\u001B[0m\u001B[0mravel\u001B[0m\u001B[0;34m(\u001B[0m\u001B[0my\u001B[0m\u001B[0;34m)\u001B[0m\u001B[0;34m\u001B[0m\u001B[0;34m\u001B[0m\u001B[0m\n\u001B[1;32m   1023\u001B[0m \u001B[0;34m\u001B[0m\u001B[0m\n\u001B[0;32m-> 1024\u001B[0;31m     raise ValueError(\n\u001B[0m\u001B[1;32m   1025\u001B[0m         \u001B[0;34m\"y should be a 1d array, got an array of shape {} instead.\"\u001B[0m\u001B[0;34m.\u001B[0m\u001B[0mformat\u001B[0m\u001B[0;34m(\u001B[0m\u001B[0mshape\u001B[0m\u001B[0;34m)\u001B[0m\u001B[0;34m\u001B[0m\u001B[0;34m\u001B[0m\u001B[0m\n\u001B[1;32m   1026\u001B[0m     )\n",
      "\u001B[0;31mValueError\u001B[0m: y should be a 1d array, got an array of shape (70, 2) instead."
     ]
    }
   ],
   "source": [
    "lab_enc = preprocessing.LabelEncoder()\n",
    "encoded = lab_enc.fit_transform(y_train)\n",
    "#knn = KNeighborsClassifier(n_neighbors=50, metric = 'euclidean')\n",
    "#knn.fit(X_train, y_train)\n",
    "#y_pred = knn.predict(X_test)"
   ]
  },
  {
   "cell_type": "markdown",
   "source": [
    "# Logistic Regression\n"
   ],
   "metadata": {
    "collapsed": false,
    "pycharm": {
     "name": "#%% md\n"
    }
   }
  },
  {
   "cell_type": "code",
   "execution_count": 172,
   "outputs": [],
   "source": [
    "Lr = LogisticRegression()"
   ],
   "metadata": {
    "collapsed": false,
    "pycharm": {
     "name": "#%%\n"
    }
   }
  },
  {
   "cell_type": "markdown",
   "source": [
    "## c.35"
   ],
   "metadata": {
    "collapsed": false,
    "pycharm": {
     "name": "#%% md\n"
    }
   }
  },
  {
   "cell_type": "code",
   "execution_count": 178,
   "outputs": [
    {
     "name": "stderr",
     "output_type": "stream",
     "text": [
      "/Library/Frameworks/Python.framework/Versions/3.9/lib/python3.9/site-packages/sklearn/utils/validation.py:985: DataConversionWarning: A column-vector y was passed when a 1d array was expected. Please change the shape of y to (n_samples, ), for example using ravel().\n",
      "  y = column_or_1d(y, warn=True)\n"
     ]
    },
    {
     "data": {
      "text/plain": "LogisticRegression()"
     },
     "execution_count": 178,
     "metadata": {},
     "output_type": "execute_result"
    }
   ],
   "source": [
    "Lr.fit(X_train_C, y_train_C)"
   ],
   "metadata": {
    "collapsed": false,
    "pycharm": {
     "name": "#%%\n"
    }
   }
  },
  {
   "cell_type": "code",
   "execution_count": 181,
   "outputs": [
    {
     "name": "stdout",
     "output_type": "stream",
     "text": [
      "              precision    recall  f1-score   support\n",
      "\n",
      "         0.0       0.88      1.00      0.93        14\n",
      "         1.0       1.00      0.50      0.67         4\n",
      "\n",
      "    accuracy                           0.89        18\n",
      "   macro avg       0.94      0.75      0.80        18\n",
      "weighted avg       0.90      0.89      0.87        18\n",
      "\n"
     ]
    }
   ],
   "source": [
    "y_pred_C = Lr.predict(X_test_C)\n",
    "print(classification_report(y_test_C, y_pred_C))"
   ],
   "metadata": {
    "collapsed": false,
    "pycharm": {
     "name": "#%%\n"
    }
   }
  },
  {
   "cell_type": "code",
   "execution_count": 182,
   "outputs": [
    {
     "name": "stdout",
     "output_type": "stream",
     "text": [
      "[[14  2]\n",
      " [ 0  2]]\n"
     ]
    },
    {
     "name": "stderr",
     "output_type": "stream",
     "text": [
      "/Library/Frameworks/Python.framework/Versions/3.9/lib/python3.9/site-packages/sklearn/utils/deprecation.py:87: FutureWarning: Function plot_confusion_matrix is deprecated; Function `plot_confusion_matrix` is deprecated in 1.0 and will be removed in 1.2. Use one of the class methods: ConfusionMatrixDisplay.from_predictions or ConfusionMatrixDisplay.from_estimator.\n",
      "  warnings.warn(msg, category=FutureWarning)\n"
     ]
    },
    {
     "data": {
      "text/plain": "<sklearn.metrics._plot.confusion_matrix.ConfusionMatrixDisplay at 0x7fdee5ac46d0>"
     },
     "execution_count": 182,
     "metadata": {},
     "output_type": "execute_result"
    },
    {
     "data": {
      "text/plain": "<Figure size 432x288 with 2 Axes>",
      "image/png": "[encoded data removed]"
     },
     "metadata": {
      "needs_background": "light"
     },
     "output_type": "display_data"
    }
   ],
   "source": [
    "print(confusion_matrix(y_pred_C, y_test_C))\n",
    "plot_confusion_matrix(Lr, X_test_C, y_test_C, display_labels=[\"Non_Flood\", \"Flood\"], cmap=plt.cm.Blues)"
   ],
   "metadata": {
    "collapsed": false,
    "pycharm": {
     "name": "#%%\n"
    }
   }
  },
  {
   "cell_type": "markdown",
   "source": [
    "## S.5"
   ],
   "metadata": {
    "collapsed": false,
    "pycharm": {
     "name": "#%% md\n"
    }
   }
  },
  {
   "cell_type": "code",
   "execution_count": 183,
   "outputs": [
    {
     "name": "stderr",
     "output_type": "stream",
     "text": [
      "/Library/Frameworks/Python.framework/Versions/3.9/lib/python3.9/site-packages/sklearn/utils/validation.py:985: DataConversionWarning: A column-vector y was passed when a 1d array was expected. Please change the shape of y to (n_samples, ), for example using ravel().\n",
      "  y = column_or_1d(y, warn=True)\n"
     ]
    },
    {
     "data": {
      "text/plain": "LogisticRegression()"
     },
     "execution_count": 183,
     "metadata": {},
     "output_type": "execute_result"
    }
   ],
   "source": [
    "Lr.fit(X_train_S, y_train_S)"
   ],
   "metadata": {
    "collapsed": false,
    "pycharm": {
     "name": "#%%\n"
    }
   }
  },
  {
   "cell_type": "code",
   "execution_count": 184,
   "outputs": [
    {
     "name": "stdout",
     "output_type": "stream",
     "text": [
      "              precision    recall  f1-score   support\n",
      "\n",
      "         0.0       0.89      1.00      0.94        16\n",
      "         1.0       0.00      0.00      0.00         2\n",
      "\n",
      "    accuracy                           0.89        18\n",
      "   macro avg       0.44      0.50      0.47        18\n",
      "weighted avg       0.79      0.89      0.84        18\n",
      "\n"
     ]
    },
    {
     "name": "stderr",
     "output_type": "stream",
     "text": [
      "/Library/Frameworks/Python.framework/Versions/3.9/lib/python3.9/site-packages/sklearn/metrics/_classification.py:1308: UndefinedMetricWarning: Precision and F-score are ill-defined and being set to 0.0 in labels with no predicted samples. Use `zero_division` parameter to control this behavior.\n",
      "  _warn_prf(average, modifier, msg_start, len(result))\n",
      "/Library/Frameworks/Python.framework/Versions/3.9/lib/python3.9/site-packages/sklearn/metrics/_classification.py:1308: UndefinedMetricWarning: Precision and F-score are ill-defined and being set to 0.0 in labels with no predicted samples. Use `zero_division` parameter to control this behavior.\n",
      "  _warn_prf(average, modifier, msg_start, len(result))\n",
      "/Library/Frameworks/Python.framework/Versions/3.9/lib/python3.9/site-packages/sklearn/metrics/_classification.py:1308: UndefinedMetricWarning: Precision and F-score are ill-defined and being set to 0.0 in labels with no predicted samples. Use `zero_division` parameter to control this behavior.\n",
      "  _warn_prf(average, modifier, msg_start, len(result))\n"
     ]
    }
   ],
   "source": [
    "y_pred_S = Lr.predict(X_test_S)\n",
    "print(classification_report(y_test_S, y_pred_S))"
   ],
   "metadata": {
    "collapsed": false,
    "pycharm": {
     "name": "#%%\n"
    }
   }
  },
  {
   "cell_type": "code",
   "execution_count": 187,
   "outputs": [
    {
     "name": "stdout",
     "output_type": "stream",
     "text": [
      "[[16  2]\n",
      " [ 0  0]]\n"
     ]
    },
    {
     "name": "stderr",
     "output_type": "stream",
     "text": [
      "/Library/Frameworks/Python.framework/Versions/3.9/lib/python3.9/site-packages/sklearn/utils/deprecation.py:87: FutureWarning: Function plot_confusion_matrix is deprecated; Function `plot_confusion_matrix` is deprecated in 1.0 and will be removed in 1.2. Use one of the class methods: ConfusionMatrixDisplay.from_predictions or ConfusionMatrixDisplay.from_estimator.\n",
      "  warnings.warn(msg, category=FutureWarning)\n"
     ]
    },
    {
     "data": {
      "text/plain": "<sklearn.metrics._plot.confusion_matrix.ConfusionMatrixDisplay at 0x7fdee5fd7a30>"
     },
     "execution_count": 187,
     "metadata": {},
     "output_type": "execute_result"
    },
    {
     "data": {
      "text/plain": "<Figure size 432x288 with 2 Axes>",
      "image/png": "[encoded data removed]"
     },
     "metadata": {
      "needs_background": "light"
     },
     "output_type": "display_data"
    }
   ],
   "source": [
    "print(confusion_matrix(y_pred_S, y_test_S))\n",
    "plot_confusion_matrix(Lr, X_test_S, y_test_S, display_labels=[\"Non_Flood\", \"Flood\"], cmap=plt.cm.Purples)"
   ],
   "metadata": {
    "collapsed": false,
    "pycharm": {
     "name": "#%%\n"
    }
   }
  },
  {
   "cell_type": "code",
   "execution_count": null,
   "outputs": [],
   "source": [],
   "metadata": {
    "collapsed": false,
    "pycharm": {
     "name": "#%%\n"
    }
   }
  }
 ],
 "metadata": {
  "kernelspec": {
   "name": "python3",
   "language": "python",
   "display_name": "Python 3 (ipykernel)"
  },
  "language_info": {
   "name": "python",
   "version": ""
  },
  "orig_nbformat": 2
 },
 "nbformat": 4,
 "nbformat_minor": 2
}