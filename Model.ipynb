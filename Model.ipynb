{
  "cells": [
    {
      "cell_type": "code",
      "execution_count": 337,
      "metadata": {
        "id": "fWdhCDXc3y-H"
      },
      "outputs": [],
      "source": [
        "import pandas as pd \r\n",
        "import numpy as np\r\n",
        "from sklearn.metrics import classification_report ## show model report summary\r\n",
        "from sklearn.neighbors import KNeighborsClassifier ## use to find the proper neighbor values\r\n",
        "from sklearn.model_selection import train_test_split\r\n",
        "from sklearn.metrics import confusion_matrix\r\n",
        "\r\n",
        "from sklearn.model_selection import learning_curve\r\n",
        "from sklearn.linear_model import LogisticRegression\r\n",
        "from sklearn.metrics import plot_confusion_matrix\r\n",
        "from imblearn.over_sampling import SMOTE\r\n",
        "import warnings\r\n",
        "warnings.filterwarnings(\"ignore\")\r\n",
        "from sklearn.metrics import plot_roc_curve\r\n",
        "import matplotlib.pyplot as plt\r\n",
        "import seaborn as sns\r\n",
        "from sklearn.model_selection import validation_curve\r\n",
        "%matplotlib inline"
      ]
    },
    {
      "cell_type": "code",
      "execution_count": 338,
      "metadata": {
        "id": "jjVkj6w43y-L"
      },
      "outputs": [],
      "source": [
        "data = pd.read_csv(\"DataPrep.csv\")"
      ]
    },
    {
      "cell_type": "code",
      "execution_count": 339,
      "metadata": {
        "colab": {
          "base_uri": "https://localhost:8080/",
          "height": 356
        },
        "id": "3sT3jA273y-M",
        "outputId": "b1965113-3177-4ce3-8d34-970b2a667718"
      },
      "outputs": [
        {
          "data": {
            "text/html": "<div>\n<style scoped>\n    .dataframe tbody tr th:only-of-type {\n        vertical-align: middle;\n    }\n\n    .dataframe tbody tr th {\n        vertical-align: top;\n    }\n\n    .dataframe thead th {\n        text-align: right;\n    }\n</style>\n<table border=\"1\" class=\"dataframe\">\n  <thead>\n    <tr style=\"text-align: right;\">\n      <th></th>\n      <th>Unnamed: 0</th>\n      <th>C.35 Ayutthaya (Chao Phraya R.)</th>\n      <th>S.5 Ayutthaya (Pa Sak R.)</th>\n      <th>C.7A Ang Thong (Chao Phraya R.)</th>\n      <th>S.26 Tha Ruea (Pa Sak R.)</th>\n      <th>C.13 Sapphaya (Chao Phraya r.)</th>\n      <th>S.9 Kaeng Khoi (Pa Sak r.)</th>\n      <th>C.35 river/brae</th>\n      <th>S.5 river/brae</th>\n      <th>C.7A river/brae</th>\n      <th>S.26 river/brae</th>\n      <th>date</th>\n      <th>critical_wat_lev_C.35</th>\n      <th>critical_wat_lev_S.5</th>\n      <th>Class_C.35</th>\n      <th>Class_S.5</th>\n    </tr>\n  </thead>\n  <tbody>\n    <tr>\n      <th>0</th>\n      <td>0</td>\n      <td>0.74</td>\n      <td>0.79</td>\n      <td>1.02</td>\n      <td>0.70</td>\n      <td>0.0</td>\n      <td>0.0</td>\n      <td>0.161572</td>\n      <td>0.168085</td>\n      <td>0.102</td>\n      <td>0.08750</td>\n      <td>2020-08-18</td>\n      <td>3.2</td>\n      <td>3</td>\n      <td>0.0</td>\n      <td>0.0</td>\n    </tr>\n    <tr>\n      <th>1</th>\n      <td>1</td>\n      <td>0.68</td>\n      <td>0.76</td>\n      <td>0.87</td>\n      <td>0.65</td>\n      <td>0.0</td>\n      <td>2.0</td>\n      <td>0.148472</td>\n      <td>0.161702</td>\n      <td>0.087</td>\n      <td>0.08125</td>\n      <td>2020-08-19</td>\n      <td>3.2</td>\n      <td>3</td>\n      <td>0.0</td>\n      <td>0.0</td>\n    </tr>\n    <tr>\n      <th>2</th>\n      <td>2</td>\n      <td>0.30</td>\n      <td>0.64</td>\n      <td>0.85</td>\n      <td>0.64</td>\n      <td>0.0</td>\n      <td>0.5</td>\n      <td>0.065502</td>\n      <td>0.136170</td>\n      <td>0.085</td>\n      <td>0.08000</td>\n      <td>2020-08-20</td>\n      <td>3.2</td>\n      <td>3</td>\n      <td>0.0</td>\n      <td>0.0</td>\n    </tr>\n    <tr>\n      <th>3</th>\n      <td>3</td>\n      <td>0.33</td>\n      <td>0.67</td>\n      <td>0.90</td>\n      <td>0.73</td>\n      <td>3.0</td>\n      <td>1.5</td>\n      <td>0.072052</td>\n      <td>0.142553</td>\n      <td>0.090</td>\n      <td>0.09125</td>\n      <td>2020-08-21</td>\n      <td>3.2</td>\n      <td>3</td>\n      <td>0.0</td>\n      <td>0.0</td>\n    </tr>\n    <tr>\n      <th>4</th>\n      <td>4</td>\n      <td>0.62</td>\n      <td>0.59</td>\n      <td>0.90</td>\n      <td>0.79</td>\n      <td>8.0</td>\n      <td>12.5</td>\n      <td>0.135371</td>\n      <td>0.125532</td>\n      <td>0.090</td>\n      <td>0.09875</td>\n      <td>2020-08-22</td>\n      <td>3.2</td>\n      <td>3</td>\n      <td>0.0</td>\n      <td>0.0</td>\n    </tr>\n  </tbody>\n</table>\n</div>",
            "text/plain": "   Unnamed: 0  C.35 Ayutthaya (Chao Phraya R.)  S.5 Ayutthaya (Pa Sak R.)  \\\n0           0                             0.74                       0.79   \n1           1                             0.68                       0.76   \n2           2                             0.30                       0.64   \n3           3                             0.33                       0.67   \n4           4                             0.62                       0.59   \n\n   C.7A Ang Thong (Chao Phraya R.)  S.26 Tha Ruea (Pa Sak R.)  \\\n0                             1.02                       0.70   \n1                             0.87                       0.65   \n2                             0.85                       0.64   \n3                             0.90                       0.73   \n4                             0.90                       0.79   \n\n   C.13 Sapphaya (Chao Phraya r.)  S.9 Kaeng Khoi (Pa Sak r.)  \\\n0                             0.0                         0.0   \n1                             0.0                         2.0   \n2                             0.0                         0.5   \n3                             3.0                         1.5   \n4                             8.0                        12.5   \n\n   C.35 river/brae  S.5 river/brae  C.7A river/brae  S.26 river/brae  \\\n0         0.161572        0.168085            0.102          0.08750   \n1         0.148472        0.161702            0.087          0.08125   \n2         0.065502        0.136170            0.085          0.08000   \n3         0.072052        0.142553            0.090          0.09125   \n4         0.135371        0.125532            0.090          0.09875   \n\n         date  critical_wat_lev_C.35  critical_wat_lev_S.5  Class_C.35  \\\n0  2020-08-18                    3.2                     3         0.0   \n1  2020-08-19                    3.2                     3         0.0   \n2  2020-08-20                    3.2                     3         0.0   \n3  2020-08-21                    3.2                     3         0.0   \n4  2020-08-22                    3.2                     3         0.0   \n\n   Class_S.5  \n0        0.0  \n1        0.0  \n2        0.0  \n3        0.0  \n4        0.0  "
          },
          "execution_count": 339,
          "metadata": {},
          "output_type": "execute_result"
        }
      ],
      "source": [
        "data.head(5)"
      ]
    },
    {
      "cell_type": "code",
      "execution_count": 340,
      "metadata": {
        "colab": {
          "base_uri": "https://localhost:8080/"
        },
        "id": "j4niFcsI3y-N",
        "outputId": "5214ddaf-67b8-4827-af82-686dd04b0bd6"
      },
      "outputs": [
        {
          "data": {
            "text/plain": "Unnamed: 0                         0\nC.35 Ayutthaya (Chao Phraya R.)    0\nS.5 Ayutthaya (Pa Sak R.)          0\nC.7A Ang Thong (Chao Phraya R.)    0\nS.26 Tha Ruea (Pa Sak R.)          0\nC.13 Sapphaya (Chao Phraya r.)     0\nS.9 Kaeng Khoi (Pa Sak r.)         0\nC.35 river/brae                    0\nS.5 river/brae                     0\nC.7A river/brae                    0\nS.26 river/brae                    0\ndate                               0\ncritical_wat_lev_C.35              0\ncritical_wat_lev_S.5               0\nClass_C.35                         0\nClass_S.5                          0\ndtype: int64"
          },
          "execution_count": 340,
          "metadata": {},
          "output_type": "execute_result"
        }
      ],
      "source": [
        "data.isna().sum()"
      ]
    },
    {
      "cell_type": "code",
      "execution_count": 341,
      "metadata": {
        "id": "DxJbLbYw3y-N"
      },
      "outputs": [],
      "source": [
        "X = data.drop(columns=['Unnamed: 0', 'C.35 Ayutthaya (Chao Phraya R.)', 'S.5 Ayutthaya (Pa Sak R.)', 'Class_C.35', 'Class_S.5','date'])\n",
        "y = data[['Class_C.35', 'Class_S.5']]"
      ]
    },
    {
      "cell_type": "code",
      "execution_count": 342,
      "metadata": {
        "colab": {
          "base_uri": "https://localhost:8080/",
          "height": 418
        },
        "id": "MEv09auF3y-N",
        "outputId": "2c0ea719-c0bd-43ed-80f3-b7e4e73617d5"
      },
      "outputs": [
        {
          "data": {
            "text/html": "<div>\n<style scoped>\n    .dataframe tbody tr th:only-of-type {\n        vertical-align: middle;\n    }\n\n    .dataframe tbody tr th {\n        vertical-align: top;\n    }\n\n    .dataframe thead th {\n        text-align: right;\n    }\n</style>\n<table border=\"1\" class=\"dataframe\">\n  <thead>\n    <tr style=\"text-align: right;\">\n      <th></th>\n      <th>Class_C.35</th>\n      <th>Class_S.5</th>\n    </tr>\n  </thead>\n  <tbody>\n    <tr>\n      <th>0</th>\n      <td>0.0</td>\n      <td>0.0</td>\n    </tr>\n    <tr>\n      <th>1</th>\n      <td>0.0</td>\n      <td>0.0</td>\n    </tr>\n    <tr>\n      <th>2</th>\n      <td>0.0</td>\n      <td>0.0</td>\n    </tr>\n    <tr>\n      <th>3</th>\n      <td>0.0</td>\n      <td>0.0</td>\n    </tr>\n    <tr>\n      <th>4</th>\n      <td>0.0</td>\n      <td>0.0</td>\n    </tr>\n    <tr>\n      <th>...</th>\n      <td>...</td>\n      <td>...</td>\n    </tr>\n    <tr>\n      <th>83</th>\n      <td>1.0</td>\n      <td>0.0</td>\n    </tr>\n    <tr>\n      <th>84</th>\n      <td>1.0</td>\n      <td>1.0</td>\n    </tr>\n    <tr>\n      <th>85</th>\n      <td>1.0</td>\n      <td>1.0</td>\n    </tr>\n    <tr>\n      <th>86</th>\n      <td>1.0</td>\n      <td>1.0</td>\n    </tr>\n    <tr>\n      <th>87</th>\n      <td>1.0</td>\n      <td>1.0</td>\n    </tr>\n  </tbody>\n</table>\n<p>88 rows × 2 columns</p>\n</div>",
            "text/plain": "    Class_C.35  Class_S.5\n0          0.0        0.0\n1          0.0        0.0\n2          0.0        0.0\n3          0.0        0.0\n4          0.0        0.0\n..         ...        ...\n83         1.0        0.0\n84         1.0        1.0\n85         1.0        1.0\n86         1.0        1.0\n87         1.0        1.0\n\n[88 rows x 2 columns]"
          },
          "execution_count": 342,
          "metadata": {},
          "output_type": "execute_result"
        }
      ],
      "source": [
        "y"
      ]
    },
    {
      "cell_type": "code",
      "execution_count": 343,
      "metadata": {
        "colab": {
          "base_uri": "https://localhost:8080/",
          "height": 435
        },
        "id": "MHQLz9Qy3y-O",
        "outputId": "fec0e4de-1f56-4b05-e38a-553879417626"
      },
      "outputs": [
        {
          "data": {
            "text/html": "<div>\n<style scoped>\n    .dataframe tbody tr th:only-of-type {\n        vertical-align: middle;\n    }\n\n    .dataframe tbody tr th {\n        vertical-align: top;\n    }\n\n    .dataframe thead th {\n        text-align: right;\n    }\n</style>\n<table border=\"1\" class=\"dataframe\">\n  <thead>\n    <tr style=\"text-align: right;\">\n      <th></th>\n      <th>C.7A Ang Thong (Chao Phraya R.)</th>\n      <th>S.26 Tha Ruea (Pa Sak R.)</th>\n      <th>C.13 Sapphaya (Chao Phraya r.)</th>\n      <th>S.9 Kaeng Khoi (Pa Sak r.)</th>\n      <th>C.35 river/brae</th>\n      <th>S.5 river/brae</th>\n      <th>C.7A river/brae</th>\n      <th>S.26 river/brae</th>\n      <th>critical_wat_lev_C.35</th>\n      <th>critical_wat_lev_S.5</th>\n    </tr>\n  </thead>\n  <tbody>\n    <tr>\n      <th>0</th>\n      <td>1.02</td>\n      <td>0.70</td>\n      <td>0.0</td>\n      <td>0.0</td>\n      <td>0.161572</td>\n      <td>0.168085</td>\n      <td>0.102</td>\n      <td>0.08750</td>\n      <td>3.2</td>\n      <td>3</td>\n    </tr>\n    <tr>\n      <th>1</th>\n      <td>0.87</td>\n      <td>0.65</td>\n      <td>0.0</td>\n      <td>2.0</td>\n      <td>0.148472</td>\n      <td>0.161702</td>\n      <td>0.087</td>\n      <td>0.08125</td>\n      <td>3.2</td>\n      <td>3</td>\n    </tr>\n    <tr>\n      <th>2</th>\n      <td>0.85</td>\n      <td>0.64</td>\n      <td>0.0</td>\n      <td>0.5</td>\n      <td>0.065502</td>\n      <td>0.136170</td>\n      <td>0.085</td>\n      <td>0.08000</td>\n      <td>3.2</td>\n      <td>3</td>\n    </tr>\n    <tr>\n      <th>3</th>\n      <td>0.90</td>\n      <td>0.73</td>\n      <td>3.0</td>\n      <td>1.5</td>\n      <td>0.072052</td>\n      <td>0.142553</td>\n      <td>0.090</td>\n      <td>0.09125</td>\n      <td>3.2</td>\n      <td>3</td>\n    </tr>\n    <tr>\n      <th>4</th>\n      <td>0.90</td>\n      <td>0.79</td>\n      <td>8.0</td>\n      <td>12.5</td>\n      <td>0.135371</td>\n      <td>0.125532</td>\n      <td>0.090</td>\n      <td>0.09875</td>\n      <td>3.2</td>\n      <td>3</td>\n    </tr>\n    <tr>\n      <th>...</th>\n      <td>...</td>\n      <td>...</td>\n      <td>...</td>\n      <td>...</td>\n      <td>...</td>\n      <td>...</td>\n      <td>...</td>\n      <td>...</td>\n      <td>...</td>\n      <td>...</td>\n    </tr>\n    <tr>\n      <th>83</th>\n      <td>7.82</td>\n      <td>3.44</td>\n      <td>35.3</td>\n      <td>0.0</td>\n      <td>0.914847</td>\n      <td>0.589362</td>\n      <td>0.782</td>\n      <td>0.43000</td>\n      <td>3.2</td>\n      <td>3</td>\n    </tr>\n    <tr>\n      <th>84</th>\n      <td>8.31</td>\n      <td>3.97</td>\n      <td>5.5</td>\n      <td>0.5</td>\n      <td>0.984716</td>\n      <td>0.634043</td>\n      <td>0.831</td>\n      <td>0.49625</td>\n      <td>3.2</td>\n      <td>3</td>\n    </tr>\n    <tr>\n      <th>85</th>\n      <td>8.60</td>\n      <td>4.39</td>\n      <td>0.0</td>\n      <td>0.0</td>\n      <td>1.045852</td>\n      <td>0.682979</td>\n      <td>0.860</td>\n      <td>0.54875</td>\n      <td>3.2</td>\n      <td>3</td>\n    </tr>\n    <tr>\n      <th>86</th>\n      <td>8.86</td>\n      <td>5.38</td>\n      <td>0.0</td>\n      <td>0.0</td>\n      <td>1.085153</td>\n      <td>0.725532</td>\n      <td>0.886</td>\n      <td>0.67250</td>\n      <td>3.2</td>\n      <td>3</td>\n    </tr>\n    <tr>\n      <th>87</th>\n      <td>9.07</td>\n      <td>7.18</td>\n      <td>0.0</td>\n      <td>0.0</td>\n      <td>1.133188</td>\n      <td>0.797872</td>\n      <td>0.907</td>\n      <td>0.89750</td>\n      <td>3.2</td>\n      <td>3</td>\n    </tr>\n  </tbody>\n</table>\n<p>88 rows × 10 columns</p>\n</div>",
            "text/plain": "    C.7A Ang Thong (Chao Phraya R.)  S.26 Tha Ruea (Pa Sak R.)  \\\n0                              1.02                       0.70   \n1                              0.87                       0.65   \n2                              0.85                       0.64   \n3                              0.90                       0.73   \n4                              0.90                       0.79   \n..                              ...                        ...   \n83                             7.82                       3.44   \n84                             8.31                       3.97   \n85                             8.60                       4.39   \n86                             8.86                       5.38   \n87                             9.07                       7.18   \n\n    C.13 Sapphaya (Chao Phraya r.)  S.9 Kaeng Khoi (Pa Sak r.)  \\\n0                              0.0                         0.0   \n1                              0.0                         2.0   \n2                              0.0                         0.5   \n3                              3.0                         1.5   \n4                              8.0                        12.5   \n..                             ...                         ...   \n83                            35.3                         0.0   \n84                             5.5                         0.5   \n85                             0.0                         0.0   \n86                             0.0                         0.0   \n87                             0.0                         0.0   \n\n    C.35 river/brae  S.5 river/brae  C.7A river/brae  S.26 river/brae  \\\n0          0.161572        0.168085            0.102          0.08750   \n1          0.148472        0.161702            0.087          0.08125   \n2          0.065502        0.136170            0.085          0.08000   \n3          0.072052        0.142553            0.090          0.09125   \n4          0.135371        0.125532            0.090          0.09875   \n..              ...             ...              ...              ...   \n83         0.914847        0.589362            0.782          0.43000   \n84         0.984716        0.634043            0.831          0.49625   \n85         1.045852        0.682979            0.860          0.54875   \n86         1.085153        0.725532            0.886          0.67250   \n87         1.133188        0.797872            0.907          0.89750   \n\n    critical_wat_lev_C.35  critical_wat_lev_S.5  \n0                     3.2                     3  \n1                     3.2                     3  \n2                     3.2                     3  \n3                     3.2                     3  \n4                     3.2                     3  \n..                    ...                   ...  \n83                    3.2                     3  \n84                    3.2                     3  \n85                    3.2                     3  \n86                    3.2                     3  \n87                    3.2                     3  \n\n[88 rows x 10 columns]"
          },
          "execution_count": 343,
          "metadata": {},
          "output_type": "execute_result"
        }
      ],
      "source": [
        "X"
      ]
    },
    {
      "cell_type": "code",
      "execution_count": 344,
      "metadata": {
        "colab": {
          "base_uri": "https://localhost:8080/",
          "height": 444
        },
        "id": "6yR4qT-23y-O",
        "outputId": "d826bf59-555e-4340-ceeb-5f8a87c4453e"
      },
      "outputs": [
        {
          "data": {
            "text/plain": "<AxesSubplot:>"
          },
          "execution_count": 344,
          "metadata": {},
          "output_type": "execute_result"
        },
        {
          "data": {
            "image/png": "[encoded data removed]",
            "text/plain": "<Figure size 432x288 with 2 Axes>"
          },
          "metadata": {
            "needs_background": "light"
          },
          "output_type": "display_data"
        }
      ],
      "source": [
        "corr = data.corr()\n",
        "sns.heatmap(corr, \n",
        "            xticklabels=corr.columns.values,\n",
        "            yticklabels=corr.columns.values)"
      ]
    },
    {
      "cell_type": "code",
      "execution_count": 345,
      "metadata": {
        "id": "9D-sOPMh3y-P"
      },
      "outputs": [],
      "source": [
        "X_train, X_test, y_train, y_test = train_test_split(X, y, random_state = 42, train_size = 0.8, test_size = 0.2)"
      ]
    },
    {
      "cell_type": "code",
      "execution_count": 346,
      "metadata": {
        "colab": {
          "base_uri": "https://localhost:8080/",
          "height": 435
        },
        "id": "YkunrcfD3y-P",
        "outputId": "6f2d5c1b-58ed-4fa6-84c9-ce688d295431",
        "pycharm": {
          "name": "#%%\n"
        }
      },
      "outputs": [
        {
          "data": {
            "text/html": "<div>\n<style scoped>\n    .dataframe tbody tr th:only-of-type {\n        vertical-align: middle;\n    }\n\n    .dataframe tbody tr th {\n        vertical-align: top;\n    }\n\n    .dataframe thead th {\n        text-align: right;\n    }\n</style>\n<table border=\"1\" class=\"dataframe\">\n  <thead>\n    <tr style=\"text-align: right;\">\n      <th></th>\n      <th>C.7A Ang Thong (Chao Phraya R.)</th>\n      <th>S.26 Tha Ruea (Pa Sak R.)</th>\n      <th>C.13 Sapphaya (Chao Phraya r.)</th>\n      <th>S.9 Kaeng Khoi (Pa Sak r.)</th>\n      <th>C.35 river/brae</th>\n      <th>S.5 river/brae</th>\n      <th>C.7A river/brae</th>\n      <th>S.26 river/brae</th>\n      <th>critical_wat_lev_C.35</th>\n      <th>critical_wat_lev_S.5</th>\n    </tr>\n  </thead>\n  <tbody>\n    <tr>\n      <th>55</th>\n      <td>0.99</td>\n      <td>0.72</td>\n      <td>1.1</td>\n      <td>0.5</td>\n      <td>0.163755</td>\n      <td>0.159574</td>\n      <td>0.099</td>\n      <td>0.09000</td>\n      <td>3.2</td>\n      <td>3</td>\n    </tr>\n    <tr>\n      <th>73</th>\n      <td>5.36</td>\n      <td>2.05</td>\n      <td>3.0</td>\n      <td>0.0</td>\n      <td>0.622271</td>\n      <td>0.408511</td>\n      <td>0.536</td>\n      <td>0.25625</td>\n      <td>3.2</td>\n      <td>3</td>\n    </tr>\n    <tr>\n      <th>11</th>\n      <td>1.04</td>\n      <td>0.75</td>\n      <td>0.0</td>\n      <td>0.0</td>\n      <td>0.165939</td>\n      <td>0.165957</td>\n      <td>0.104</td>\n      <td>0.09375</td>\n      <td>3.2</td>\n      <td>3</td>\n    </tr>\n    <tr>\n      <th>30</th>\n      <td>0.98</td>\n      <td>0.45</td>\n      <td>0.0</td>\n      <td>0.0</td>\n      <td>0.043668</td>\n      <td>0.104255</td>\n      <td>0.098</td>\n      <td>0.05625</td>\n      <td>3.2</td>\n      <td>3</td>\n    </tr>\n    <tr>\n      <th>40</th>\n      <td>1.01</td>\n      <td>0.99</td>\n      <td>0.0</td>\n      <td>40.0</td>\n      <td>0.189956</td>\n      <td>0.168085</td>\n      <td>0.101</td>\n      <td>0.12375</td>\n      <td>3.2</td>\n      <td>3</td>\n    </tr>\n    <tr>\n      <th>...</th>\n      <td>...</td>\n      <td>...</td>\n      <td>...</td>\n      <td>...</td>\n      <td>...</td>\n      <td>...</td>\n      <td>...</td>\n      <td>...</td>\n      <td>...</td>\n      <td>...</td>\n    </tr>\n    <tr>\n      <th>20</th>\n      <td>1.04</td>\n      <td>0.78</td>\n      <td>30.0</td>\n      <td>37.0</td>\n      <td>0.139738</td>\n      <td>0.117021</td>\n      <td>0.104</td>\n      <td>0.09750</td>\n      <td>3.2</td>\n      <td>3</td>\n    </tr>\n    <tr>\n      <th>60</th>\n      <td>1.25</td>\n      <td>0.82</td>\n      <td>0.0</td>\n      <td>0.0</td>\n      <td>0.207424</td>\n      <td>0.202128</td>\n      <td>0.125</td>\n      <td>0.10250</td>\n      <td>3.2</td>\n      <td>3</td>\n    </tr>\n    <tr>\n      <th>71</th>\n      <td>4.73</td>\n      <td>1.48</td>\n      <td>0.0</td>\n      <td>0.5</td>\n      <td>0.524017</td>\n      <td>0.325532</td>\n      <td>0.473</td>\n      <td>0.18500</td>\n      <td>3.2</td>\n      <td>3</td>\n    </tr>\n    <tr>\n      <th>14</th>\n      <td>1.08</td>\n      <td>0.70</td>\n      <td>0.0</td>\n      <td>3.0</td>\n      <td>0.183406</td>\n      <td>0.189362</td>\n      <td>0.108</td>\n      <td>0.08750</td>\n      <td>3.2</td>\n      <td>3</td>\n    </tr>\n    <tr>\n      <th>51</th>\n      <td>0.79</td>\n      <td>0.49</td>\n      <td>3.0</td>\n      <td>0.0</td>\n      <td>0.126638</td>\n      <td>0.125532</td>\n      <td>0.079</td>\n      <td>0.06125</td>\n      <td>3.2</td>\n      <td>3</td>\n    </tr>\n  </tbody>\n</table>\n<p>70 rows × 10 columns</p>\n</div>",
            "text/plain": "    C.7A Ang Thong (Chao Phraya R.)  S.26 Tha Ruea (Pa Sak R.)  \\\n55                             0.99                       0.72   \n73                             5.36                       2.05   \n11                             1.04                       0.75   \n30                             0.98                       0.45   \n40                             1.01                       0.99   \n..                              ...                        ...   \n20                             1.04                       0.78   \n60                             1.25                       0.82   \n71                             4.73                       1.48   \n14                             1.08                       0.70   \n51                             0.79                       0.49   \n\n    C.13 Sapphaya (Chao Phraya r.)  S.9 Kaeng Khoi (Pa Sak r.)  \\\n55                             1.1                         0.5   \n73                             3.0                         0.0   \n11                             0.0                         0.0   \n30                             0.0                         0.0   \n40                             0.0                        40.0   \n..                             ...                         ...   \n20                            30.0                        37.0   \n60                             0.0                         0.0   \n71                             0.0                         0.5   \n14                             0.0                         3.0   \n51                             3.0                         0.0   \n\n    C.35 river/brae  S.5 river/brae  C.7A river/brae  S.26 river/brae  \\\n55         0.163755        0.159574            0.099          0.09000   \n73         0.622271        0.408511            0.536          0.25625   \n11         0.165939        0.165957            0.104          0.09375   \n30         0.043668        0.104255            0.098          0.05625   \n40         0.189956        0.168085            0.101          0.12375   \n..              ...             ...              ...              ...   \n20         0.139738        0.117021            0.104          0.09750   \n60         0.207424        0.202128            0.125          0.10250   \n71         0.524017        0.325532            0.473          0.18500   \n14         0.183406        0.189362            0.108          0.08750   \n51         0.126638        0.125532            0.079          0.06125   \n\n    critical_wat_lev_C.35  critical_wat_lev_S.5  \n55                    3.2                     3  \n73                    3.2                     3  \n11                    3.2                     3  \n30                    3.2                     3  \n40                    3.2                     3  \n..                    ...                   ...  \n20                    3.2                     3  \n60                    3.2                     3  \n71                    3.2                     3  \n14                    3.2                     3  \n51                    3.2                     3  \n\n[70 rows x 10 columns]"
          },
          "execution_count": 346,
          "metadata": {},
          "output_type": "execute_result"
        }
      ],
      "source": [
        "X_train"
      ]
    },
    {
      "cell_type": "code",
      "execution_count": 347,
      "metadata": {
        "colab": {
          "base_uri": "https://localhost:8080/",
          "height": 418
        },
        "id": "HQdleljZ3y-Q",
        "outputId": "960c260a-0aad-40b4-f4d6-98fd3be16059"
      },
      "outputs": [
        {
          "data": {
            "text/html": "<div>\n<style scoped>\n    .dataframe tbody tr th:only-of-type {\n        vertical-align: middle;\n    }\n\n    .dataframe tbody tr th {\n        vertical-align: top;\n    }\n\n    .dataframe thead th {\n        text-align: right;\n    }\n</style>\n<table border=\"1\" class=\"dataframe\">\n  <thead>\n    <tr style=\"text-align: right;\">\n      <th></th>\n      <th>C.7A Ang Thong (Chao Phraya R.)</th>\n      <th>C.13 Sapphaya (Chao Phraya r.)</th>\n      <th>C.35 river/brae</th>\n      <th>C.7A river/brae</th>\n      <th>critical_wat_lev_C.35</th>\n    </tr>\n  </thead>\n  <tbody>\n    <tr>\n      <th>55</th>\n      <td>0.99</td>\n      <td>1.1</td>\n      <td>0.163755</td>\n      <td>0.099</td>\n      <td>3.2</td>\n    </tr>\n    <tr>\n      <th>73</th>\n      <td>5.36</td>\n      <td>3.0</td>\n      <td>0.622271</td>\n      <td>0.536</td>\n      <td>3.2</td>\n    </tr>\n    <tr>\n      <th>11</th>\n      <td>1.04</td>\n      <td>0.0</td>\n      <td>0.165939</td>\n      <td>0.104</td>\n      <td>3.2</td>\n    </tr>\n    <tr>\n      <th>30</th>\n      <td>0.98</td>\n      <td>0.0</td>\n      <td>0.043668</td>\n      <td>0.098</td>\n      <td>3.2</td>\n    </tr>\n    <tr>\n      <th>40</th>\n      <td>1.01</td>\n      <td>0.0</td>\n      <td>0.189956</td>\n      <td>0.101</td>\n      <td>3.2</td>\n    </tr>\n    <tr>\n      <th>...</th>\n      <td>...</td>\n      <td>...</td>\n      <td>...</td>\n      <td>...</td>\n      <td>...</td>\n    </tr>\n    <tr>\n      <th>20</th>\n      <td>1.04</td>\n      <td>30.0</td>\n      <td>0.139738</td>\n      <td>0.104</td>\n      <td>3.2</td>\n    </tr>\n    <tr>\n      <th>60</th>\n      <td>1.25</td>\n      <td>0.0</td>\n      <td>0.207424</td>\n      <td>0.125</td>\n      <td>3.2</td>\n    </tr>\n    <tr>\n      <th>71</th>\n      <td>4.73</td>\n      <td>0.0</td>\n      <td>0.524017</td>\n      <td>0.473</td>\n      <td>3.2</td>\n    </tr>\n    <tr>\n      <th>14</th>\n      <td>1.08</td>\n      <td>0.0</td>\n      <td>0.183406</td>\n      <td>0.108</td>\n      <td>3.2</td>\n    </tr>\n    <tr>\n      <th>51</th>\n      <td>0.79</td>\n      <td>3.0</td>\n      <td>0.126638</td>\n      <td>0.079</td>\n      <td>3.2</td>\n    </tr>\n  </tbody>\n</table>\n<p>70 rows × 5 columns</p>\n</div>",
            "text/plain": "    C.7A Ang Thong (Chao Phraya R.)  C.13 Sapphaya (Chao Phraya r.)  \\\n55                             0.99                             1.1   \n73                             5.36                             3.0   \n11                             1.04                             0.0   \n30                             0.98                             0.0   \n40                             1.01                             0.0   \n..                              ...                             ...   \n20                             1.04                            30.0   \n60                             1.25                             0.0   \n71                             4.73                             0.0   \n14                             1.08                             0.0   \n51                             0.79                             3.0   \n\n    C.35 river/brae  C.7A river/brae  critical_wat_lev_C.35  \n55         0.163755            0.099                    3.2  \n73         0.622271            0.536                    3.2  \n11         0.165939            0.104                    3.2  \n30         0.043668            0.098                    3.2  \n40         0.189956            0.101                    3.2  \n..              ...              ...                    ...  \n20         0.139738            0.104                    3.2  \n60         0.207424            0.125                    3.2  \n71         0.524017            0.473                    3.2  \n14         0.183406            0.108                    3.2  \n51         0.126638            0.079                    3.2  \n\n[70 rows x 5 columns]"
          },
          "execution_count": 347,
          "metadata": {},
          "output_type": "execute_result"
        }
      ],
      "source": [
        "X_train_C = X_train.drop(columns=['S.26 Tha Ruea (Pa Sak R.)', 'S.9 Kaeng Khoi (Pa Sak r.)',\n",
        "                        'S.5 river/brae', 'S.26 river/brae', 'critical_wat_lev_S.5'])\n",
        "X_train_C"
      ]
    },
    {
      "cell_type": "code",
      "execution_count": 348,
      "metadata": {
        "colab": {
          "base_uri": "https://localhost:8080/",
          "height": 605
        },
        "id": "ZkS4nr6t3y-Q",
        "outputId": "4b7ceca4-f056-47c3-d62b-356b1aa36275",
        "pycharm": {
          "name": "#%%\n"
        }
      },
      "outputs": [
        {
          "data": {
            "text/html": "<div>\n<style scoped>\n    .dataframe tbody tr th:only-of-type {\n        vertical-align: middle;\n    }\n\n    .dataframe tbody tr th {\n        vertical-align: top;\n    }\n\n    .dataframe thead th {\n        text-align: right;\n    }\n</style>\n<table border=\"1\" class=\"dataframe\">\n  <thead>\n    <tr style=\"text-align: right;\">\n      <th></th>\n      <th>C.7A Ang Thong (Chao Phraya R.)</th>\n      <th>C.13 Sapphaya (Chao Phraya r.)</th>\n      <th>C.35 river/brae</th>\n      <th>C.7A river/brae</th>\n      <th>critical_wat_lev_C.35</th>\n    </tr>\n  </thead>\n  <tbody>\n    <tr>\n      <th>76</th>\n      <td>5.22</td>\n      <td>22.0</td>\n      <td>0.604803</td>\n      <td>0.522</td>\n      <td>3.2</td>\n    </tr>\n    <tr>\n      <th>0</th>\n      <td>1.02</td>\n      <td>0.0</td>\n      <td>0.161572</td>\n      <td>0.102</td>\n      <td>3.2</td>\n    </tr>\n    <tr>\n      <th>26</th>\n      <td>1.09</td>\n      <td>0.0</td>\n      <td>0.109170</td>\n      <td>0.109</td>\n      <td>3.2</td>\n    </tr>\n    <tr>\n      <th>22</th>\n      <td>1.09</td>\n      <td>0.0</td>\n      <td>0.152838</td>\n      <td>0.109</td>\n      <td>3.2</td>\n    </tr>\n    <tr>\n      <th>12</th>\n      <td>1.07</td>\n      <td>0.0</td>\n      <td>0.181223</td>\n      <td>0.107</td>\n      <td>3.2</td>\n    </tr>\n    <tr>\n      <th>67</th>\n      <td>3.21</td>\n      <td>1.0</td>\n      <td>0.393013</td>\n      <td>0.321</td>\n      <td>3.2</td>\n    </tr>\n    <tr>\n      <th>10</th>\n      <td>0.96</td>\n      <td>21.4</td>\n      <td>0.159389</td>\n      <td>0.096</td>\n      <td>3.2</td>\n    </tr>\n    <tr>\n      <th>18</th>\n      <td>1.01</td>\n      <td>0.0</td>\n      <td>0.137555</td>\n      <td>0.101</td>\n      <td>3.2</td>\n    </tr>\n    <tr>\n      <th>4</th>\n      <td>0.90</td>\n      <td>8.0</td>\n      <td>0.135371</td>\n      <td>0.090</td>\n      <td>3.2</td>\n    </tr>\n    <tr>\n      <th>68</th>\n      <td>3.00</td>\n      <td>2.0</td>\n      <td>0.377729</td>\n      <td>0.300</td>\n      <td>3.2</td>\n    </tr>\n    <tr>\n      <th>85</th>\n      <td>8.60</td>\n      <td>0.0</td>\n      <td>1.045852</td>\n      <td>0.860</td>\n      <td>3.2</td>\n    </tr>\n    <tr>\n      <th>65</th>\n      <td>3.07</td>\n      <td>13.0</td>\n      <td>0.368996</td>\n      <td>0.307</td>\n      <td>3.2</td>\n    </tr>\n    <tr>\n      <th>53</th>\n      <td>0.89</td>\n      <td>50.0</td>\n      <td>0.146288</td>\n      <td>0.089</td>\n      <td>3.2</td>\n    </tr>\n    <tr>\n      <th>80</th>\n      <td>6.28</td>\n      <td>14.2</td>\n      <td>0.729258</td>\n      <td>0.628</td>\n      <td>3.2</td>\n    </tr>\n    <tr>\n      <th>84</th>\n      <td>8.31</td>\n      <td>5.5</td>\n      <td>0.984716</td>\n      <td>0.831</td>\n      <td>3.2</td>\n    </tr>\n    <tr>\n      <th>64</th>\n      <td>2.78</td>\n      <td>4.0</td>\n      <td>0.334061</td>\n      <td>0.278</td>\n      <td>3.2</td>\n    </tr>\n    <tr>\n      <th>33</th>\n      <td>0.94</td>\n      <td>7.4</td>\n      <td>0.148472</td>\n      <td>0.094</td>\n      <td>3.2</td>\n    </tr>\n    <tr>\n      <th>79</th>\n      <td>5.89</td>\n      <td>50.0</td>\n      <td>0.685590</td>\n      <td>0.589</td>\n      <td>3.2</td>\n    </tr>\n  </tbody>\n</table>\n</div>",
            "text/plain": "    C.7A Ang Thong (Chao Phraya R.)  C.13 Sapphaya (Chao Phraya r.)  \\\n76                             5.22                            22.0   \n0                              1.02                             0.0   \n26                             1.09                             0.0   \n22                             1.09                             0.0   \n12                             1.07                             0.0   \n67                             3.21                             1.0   \n10                             0.96                            21.4   \n18                             1.01                             0.0   \n4                              0.90                             8.0   \n68                             3.00                             2.0   \n85                             8.60                             0.0   \n65                             3.07                            13.0   \n53                             0.89                            50.0   \n80                             6.28                            14.2   \n84                             8.31                             5.5   \n64                             2.78                             4.0   \n33                             0.94                             7.4   \n79                             5.89                            50.0   \n\n    C.35 river/brae  C.7A river/brae  critical_wat_lev_C.35  \n76         0.604803            0.522                    3.2  \n0          0.161572            0.102                    3.2  \n26         0.109170            0.109                    3.2  \n22         0.152838            0.109                    3.2  \n12         0.181223            0.107                    3.2  \n67         0.393013            0.321                    3.2  \n10         0.159389            0.096                    3.2  \n18         0.137555            0.101                    3.2  \n4          0.135371            0.090                    3.2  \n68         0.377729            0.300                    3.2  \n85         1.045852            0.860                    3.2  \n65         0.368996            0.307                    3.2  \n53         0.146288            0.089                    3.2  \n80         0.729258            0.628                    3.2  \n84         0.984716            0.831                    3.2  \n64         0.334061            0.278                    3.2  \n33         0.148472            0.094                    3.2  \n79         0.685590            0.589                    3.2  "
          },
          "execution_count": 348,
          "metadata": {},
          "output_type": "execute_result"
        }
      ],
      "source": [
        "X_test_C = X_test.drop(columns=['S.26 Tha Ruea (Pa Sak R.)', 'S.9 Kaeng Khoi (Pa Sak r.)',\n",
        "                        'S.5 river/brae', 'S.26 river/brae', 'critical_wat_lev_S.5'])\n",
        "X_test_C"
      ]
    },
    {
      "cell_type": "code",
      "execution_count": 349,
      "metadata": {
        "colab": {
          "base_uri": "https://localhost:8080/"
        },
        "id": "3OIRwF0H3y-Q",
        "outputId": "3b22746a-0910-4c3f-b155-74f19dacc4ab"
      },
      "outputs": [
        {
          "data": {
            "text/plain": "C.7A Ang Thong (Chao Phraya R.)    float64\nC.13 Sapphaya (Chao Phraya r.)     float64\nC.35 river/brae                    float64\nC.7A river/brae                    float64\ncritical_wat_lev_C.35              float64\ndtype: object"
          },
          "execution_count": 349,
          "metadata": {},
          "output_type": "execute_result"
        }
      ],
      "source": [
        "X_train_C.dtypes"
      ]
    },
    {
      "cell_type": "code",
      "execution_count": 350,
      "metadata": {
        "colab": {
          "base_uri": "https://localhost:8080/"
        },
        "id": "s9ygkDuf3y-Q",
        "outputId": "f8ca91ea-6ab8-407a-eec4-fd82adaf03bc",
        "pycharm": {
          "name": "#%%\n"
        }
      },
      "outputs": [
        {
          "data": {
            "text/plain": "C.7A Ang Thong (Chao Phraya R.)    float64\nC.13 Sapphaya (Chao Phraya r.)     float64\nC.35 river/brae                    float64\nC.7A river/brae                    float64\ncritical_wat_lev_C.35              float64\ndtype: object"
          },
          "execution_count": 350,
          "metadata": {},
          "output_type": "execute_result"
        }
      ],
      "source": [
        "X_test_C.dtypes"
      ]
    },
    {
      "cell_type": "code",
      "execution_count": 351,
      "metadata": {
        "colab": {
          "base_uri": "https://localhost:8080/",
          "height": 418
        },
        "id": "rIRlDX7E3y-R",
        "outputId": "8b42c818-3c78-4ee5-ffab-7a877920c4cc"
      },
      "outputs": [
        {
          "data": {
            "text/html": "<div>\n<style scoped>\n    .dataframe tbody tr th:only-of-type {\n        vertical-align: middle;\n    }\n\n    .dataframe tbody tr th {\n        vertical-align: top;\n    }\n\n    .dataframe thead th {\n        text-align: right;\n    }\n</style>\n<table border=\"1\" class=\"dataframe\">\n  <thead>\n    <tr style=\"text-align: right;\">\n      <th></th>\n      <th>Class_C.35</th>\n    </tr>\n  </thead>\n  <tbody>\n    <tr>\n      <th>55</th>\n      <td>0.0</td>\n    </tr>\n    <tr>\n      <th>73</th>\n      <td>0.0</td>\n    </tr>\n    <tr>\n      <th>11</th>\n      <td>0.0</td>\n    </tr>\n    <tr>\n      <th>30</th>\n      <td>0.0</td>\n    </tr>\n    <tr>\n      <th>40</th>\n      <td>0.0</td>\n    </tr>\n    <tr>\n      <th>...</th>\n      <td>...</td>\n    </tr>\n    <tr>\n      <th>20</th>\n      <td>0.0</td>\n    </tr>\n    <tr>\n      <th>60</th>\n      <td>0.0</td>\n    </tr>\n    <tr>\n      <th>71</th>\n      <td>0.0</td>\n    </tr>\n    <tr>\n      <th>14</th>\n      <td>0.0</td>\n    </tr>\n    <tr>\n      <th>51</th>\n      <td>0.0</td>\n    </tr>\n  </tbody>\n</table>\n<p>70 rows × 1 columns</p>\n</div>",
            "text/plain": "    Class_C.35\n55         0.0\n73         0.0\n11         0.0\n30         0.0\n40         0.0\n..         ...\n20         0.0\n60         0.0\n71         0.0\n14         0.0\n51         0.0\n\n[70 rows x 1 columns]"
          },
          "execution_count": 351,
          "metadata": {},
          "output_type": "execute_result"
        }
      ],
      "source": [
        "y_train_C = y_train.drop(columns=['Class_S.5'])\n",
        "y_train_C"
      ]
    },
    {
      "cell_type": "code",
      "execution_count": 352,
      "metadata": {
        "colab": {
          "base_uri": "https://localhost:8080/",
          "height": 605
        },
        "id": "-wfg1E7R3y-R",
        "outputId": "4cb17d36-74f1-44f8-f004-314753568b03",
        "pycharm": {
          "name": "#%%\n"
        }
      },
      "outputs": [
        {
          "data": {
            "text/html": "<div>\n<style scoped>\n    .dataframe tbody tr th:only-of-type {\n        vertical-align: middle;\n    }\n\n    .dataframe tbody tr th {\n        vertical-align: top;\n    }\n\n    .dataframe thead th {\n        text-align: right;\n    }\n</style>\n<table border=\"1\" class=\"dataframe\">\n  <thead>\n    <tr style=\"text-align: right;\">\n      <th></th>\n      <th>Class_C.35</th>\n    </tr>\n  </thead>\n  <tbody>\n    <tr>\n      <th>76</th>\n      <td>0.0</td>\n    </tr>\n    <tr>\n      <th>0</th>\n      <td>0.0</td>\n    </tr>\n    <tr>\n      <th>26</th>\n      <td>0.0</td>\n    </tr>\n    <tr>\n      <th>22</th>\n      <td>0.0</td>\n    </tr>\n    <tr>\n      <th>12</th>\n      <td>0.0</td>\n    </tr>\n    <tr>\n      <th>67</th>\n      <td>0.0</td>\n    </tr>\n    <tr>\n      <th>10</th>\n      <td>0.0</td>\n    </tr>\n    <tr>\n      <th>18</th>\n      <td>0.0</td>\n    </tr>\n    <tr>\n      <th>4</th>\n      <td>0.0</td>\n    </tr>\n    <tr>\n      <th>68</th>\n      <td>0.0</td>\n    </tr>\n    <tr>\n      <th>85</th>\n      <td>1.0</td>\n    </tr>\n    <tr>\n      <th>65</th>\n      <td>0.0</td>\n    </tr>\n    <tr>\n      <th>53</th>\n      <td>0.0</td>\n    </tr>\n    <tr>\n      <th>80</th>\n      <td>1.0</td>\n    </tr>\n    <tr>\n      <th>84</th>\n      <td>1.0</td>\n    </tr>\n    <tr>\n      <th>64</th>\n      <td>0.0</td>\n    </tr>\n    <tr>\n      <th>33</th>\n      <td>0.0</td>\n    </tr>\n    <tr>\n      <th>79</th>\n      <td>1.0</td>\n    </tr>\n  </tbody>\n</table>\n</div>",
            "text/plain": "    Class_C.35\n76         0.0\n0          0.0\n26         0.0\n22         0.0\n12         0.0\n67         0.0\n10         0.0\n18         0.0\n4          0.0\n68         0.0\n85         1.0\n65         0.0\n53         0.0\n80         1.0\n84         1.0\n64         0.0\n33         0.0\n79         1.0"
          },
          "execution_count": 352,
          "metadata": {},
          "output_type": "execute_result"
        }
      ],
      "source": [
        "y_test_C = y_test.drop(columns=['Class_S.5'])\n",
        "y_test_C"
      ]
    },
    {
      "cell_type": "code",
      "execution_count": 353,
      "metadata": {
        "colab": {
          "base_uri": "https://localhost:8080/",
          "height": 418
        },
        "id": "ABCp0P373y-R",
        "outputId": "c9877fc1-81b3-427d-ccb5-d879cda63d86",
        "pycharm": {
          "name": "#%%\n"
        }
      },
      "outputs": [
        {
          "data": {
            "text/html": "<div>\n<style scoped>\n    .dataframe tbody tr th:only-of-type {\n        vertical-align: middle;\n    }\n\n    .dataframe tbody tr th {\n        vertical-align: top;\n    }\n\n    .dataframe thead th {\n        text-align: right;\n    }\n</style>\n<table border=\"1\" class=\"dataframe\">\n  <thead>\n    <tr style=\"text-align: right;\">\n      <th></th>\n      <th>S.26 Tha Ruea (Pa Sak R.)</th>\n      <th>S.9 Kaeng Khoi (Pa Sak r.)</th>\n      <th>S.5 river/brae</th>\n      <th>S.26 river/brae</th>\n      <th>critical_wat_lev_S.5</th>\n    </tr>\n  </thead>\n  <tbody>\n    <tr>\n      <th>55</th>\n      <td>0.72</td>\n      <td>0.5</td>\n      <td>0.159574</td>\n      <td>0.09000</td>\n      <td>3</td>\n    </tr>\n    <tr>\n      <th>73</th>\n      <td>2.05</td>\n      <td>0.0</td>\n      <td>0.408511</td>\n      <td>0.25625</td>\n      <td>3</td>\n    </tr>\n    <tr>\n      <th>11</th>\n      <td>0.75</td>\n      <td>0.0</td>\n      <td>0.165957</td>\n      <td>0.09375</td>\n      <td>3</td>\n    </tr>\n    <tr>\n      <th>30</th>\n      <td>0.45</td>\n      <td>0.0</td>\n      <td>0.104255</td>\n      <td>0.05625</td>\n      <td>3</td>\n    </tr>\n    <tr>\n      <th>40</th>\n      <td>0.99</td>\n      <td>40.0</td>\n      <td>0.168085</td>\n      <td>0.12375</td>\n      <td>3</td>\n    </tr>\n    <tr>\n      <th>...</th>\n      <td>...</td>\n      <td>...</td>\n      <td>...</td>\n      <td>...</td>\n      <td>...</td>\n    </tr>\n    <tr>\n      <th>20</th>\n      <td>0.78</td>\n      <td>37.0</td>\n      <td>0.117021</td>\n      <td>0.09750</td>\n      <td>3</td>\n    </tr>\n    <tr>\n      <th>60</th>\n      <td>0.82</td>\n      <td>0.0</td>\n      <td>0.202128</td>\n      <td>0.10250</td>\n      <td>3</td>\n    </tr>\n    <tr>\n      <th>71</th>\n      <td>1.48</td>\n      <td>0.5</td>\n      <td>0.325532</td>\n      <td>0.18500</td>\n      <td>3</td>\n    </tr>\n    <tr>\n      <th>14</th>\n      <td>0.70</td>\n      <td>3.0</td>\n      <td>0.189362</td>\n      <td>0.08750</td>\n      <td>3</td>\n    </tr>\n    <tr>\n      <th>51</th>\n      <td>0.49</td>\n      <td>0.0</td>\n      <td>0.125532</td>\n      <td>0.06125</td>\n      <td>3</td>\n    </tr>\n  </tbody>\n</table>\n<p>70 rows × 5 columns</p>\n</div>",
            "text/plain": "    S.26 Tha Ruea (Pa Sak R.)  S.9 Kaeng Khoi (Pa Sak r.)  S.5 river/brae  \\\n55                       0.72                         0.5        0.159574   \n73                       2.05                         0.0        0.408511   \n11                       0.75                         0.0        0.165957   \n30                       0.45                         0.0        0.104255   \n40                       0.99                        40.0        0.168085   \n..                        ...                         ...             ...   \n20                       0.78                        37.0        0.117021   \n60                       0.82                         0.0        0.202128   \n71                       1.48                         0.5        0.325532   \n14                       0.70                         3.0        0.189362   \n51                       0.49                         0.0        0.125532   \n\n    S.26 river/brae  critical_wat_lev_S.5  \n55          0.09000                     3  \n73          0.25625                     3  \n11          0.09375                     3  \n30          0.05625                     3  \n40          0.12375                     3  \n..              ...                   ...  \n20          0.09750                     3  \n60          0.10250                     3  \n71          0.18500                     3  \n14          0.08750                     3  \n51          0.06125                     3  \n\n[70 rows x 5 columns]"
          },
          "execution_count": 353,
          "metadata": {},
          "output_type": "execute_result"
        }
      ],
      "source": [
        "X_train_S = X_train.drop(columns=['C.7A Ang Thong (Chao Phraya R.)', 'C.13 Sapphaya (Chao Phraya r.)',\n",
        "                        'C.35 river/brae', 'C.7A river/brae', 'critical_wat_lev_C.35'])\n",
        "X_train_S"
      ]
    },
    {
      "cell_type": "code",
      "execution_count": 354,
      "metadata": {
        "colab": {
          "base_uri": "https://localhost:8080/",
          "height": 605
        },
        "id": "yoJPF5ee3y-R",
        "outputId": "7957b490-1d00-4455-83f3-1708af31583a",
        "pycharm": {
          "name": "#%%\n"
        }
      },
      "outputs": [
        {
          "data": {
            "text/html": "<div>\n<style scoped>\n    .dataframe tbody tr th:only-of-type {\n        vertical-align: middle;\n    }\n\n    .dataframe tbody tr th {\n        vertical-align: top;\n    }\n\n    .dataframe thead th {\n        text-align: right;\n    }\n</style>\n<table border=\"1\" class=\"dataframe\">\n  <thead>\n    <tr style=\"text-align: right;\">\n      <th></th>\n      <th>S.26 Tha Ruea (Pa Sak R.)</th>\n      <th>S.9 Kaeng Khoi (Pa Sak r.)</th>\n      <th>S.5 river/brae</th>\n      <th>S.26 river/brae</th>\n      <th>critical_wat_lev_S.5</th>\n    </tr>\n  </thead>\n  <tbody>\n    <tr>\n      <th>76</th>\n      <td>1.70</td>\n      <td>0.0</td>\n      <td>0.408511</td>\n      <td>0.21250</td>\n      <td>3</td>\n    </tr>\n    <tr>\n      <th>0</th>\n      <td>0.70</td>\n      <td>0.0</td>\n      <td>0.168085</td>\n      <td>0.08750</td>\n      <td>3</td>\n    </tr>\n    <tr>\n      <th>26</th>\n      <td>0.72</td>\n      <td>0.0</td>\n      <td>0.163830</td>\n      <td>0.09000</td>\n      <td>3</td>\n    </tr>\n    <tr>\n      <th>22</th>\n      <td>0.81</td>\n      <td>0.0</td>\n      <td>0.131915</td>\n      <td>0.10125</td>\n      <td>3</td>\n    </tr>\n    <tr>\n      <th>12</th>\n      <td>0.74</td>\n      <td>0.0</td>\n      <td>0.180851</td>\n      <td>0.09250</td>\n      <td>3</td>\n    </tr>\n    <tr>\n      <th>67</th>\n      <td>1.50</td>\n      <td>25.5</td>\n      <td>0.287234</td>\n      <td>0.18750</td>\n      <td>3</td>\n    </tr>\n    <tr>\n      <th>10</th>\n      <td>0.80</td>\n      <td>0.0</td>\n      <td>0.144681</td>\n      <td>0.10000</td>\n      <td>3</td>\n    </tr>\n    <tr>\n      <th>18</th>\n      <td>0.72</td>\n      <td>0.0</td>\n      <td>0.121277</td>\n      <td>0.09000</td>\n      <td>3</td>\n    </tr>\n    <tr>\n      <th>4</th>\n      <td>0.79</td>\n      <td>12.5</td>\n      <td>0.125532</td>\n      <td>0.09875</td>\n      <td>3</td>\n    </tr>\n    <tr>\n      <th>68</th>\n      <td>1.97</td>\n      <td>0.0</td>\n      <td>0.291489</td>\n      <td>0.24625</td>\n      <td>3</td>\n    </tr>\n    <tr>\n      <th>85</th>\n      <td>4.39</td>\n      <td>0.0</td>\n      <td>0.682979</td>\n      <td>0.54875</td>\n      <td>3</td>\n    </tr>\n    <tr>\n      <th>65</th>\n      <td>1.53</td>\n      <td>0.0</td>\n      <td>0.274468</td>\n      <td>0.19125</td>\n      <td>3</td>\n    </tr>\n    <tr>\n      <th>53</th>\n      <td>0.52</td>\n      <td>0.0</td>\n      <td>0.131915</td>\n      <td>0.06500</td>\n      <td>3</td>\n    </tr>\n    <tr>\n      <th>80</th>\n      <td>2.51</td>\n      <td>6.0</td>\n      <td>0.482979</td>\n      <td>0.31375</td>\n      <td>3</td>\n    </tr>\n    <tr>\n      <th>84</th>\n      <td>3.97</td>\n      <td>0.5</td>\n      <td>0.634043</td>\n      <td>0.49625</td>\n      <td>3</td>\n    </tr>\n    <tr>\n      <th>64</th>\n      <td>1.30</td>\n      <td>18.5</td>\n      <td>0.255319</td>\n      <td>0.16250</td>\n      <td>3</td>\n    </tr>\n    <tr>\n      <th>33</th>\n      <td>0.76</td>\n      <td>1.0</td>\n      <td>0.138298</td>\n      <td>0.09500</td>\n      <td>3</td>\n    </tr>\n    <tr>\n      <th>79</th>\n      <td>1.96</td>\n      <td>0.5</td>\n      <td>0.455319</td>\n      <td>0.24500</td>\n      <td>3</td>\n    </tr>\n  </tbody>\n</table>\n</div>",
            "text/plain": "    S.26 Tha Ruea (Pa Sak R.)  S.9 Kaeng Khoi (Pa Sak r.)  S.5 river/brae  \\\n76                       1.70                         0.0        0.408511   \n0                        0.70                         0.0        0.168085   \n26                       0.72                         0.0        0.163830   \n22                       0.81                         0.0        0.131915   \n12                       0.74                         0.0        0.180851   \n67                       1.50                        25.5        0.287234   \n10                       0.80                         0.0        0.144681   \n18                       0.72                         0.0        0.121277   \n4                        0.79                        12.5        0.125532   \n68                       1.97                         0.0        0.291489   \n85                       4.39                         0.0        0.682979   \n65                       1.53                         0.0        0.274468   \n53                       0.52                         0.0        0.131915   \n80                       2.51                         6.0        0.482979   \n84                       3.97                         0.5        0.634043   \n64                       1.30                        18.5        0.255319   \n33                       0.76                         1.0        0.138298   \n79                       1.96                         0.5        0.455319   \n\n    S.26 river/brae  critical_wat_lev_S.5  \n76          0.21250                     3  \n0           0.08750                     3  \n26          0.09000                     3  \n22          0.10125                     3  \n12          0.09250                     3  \n67          0.18750                     3  \n10          0.10000                     3  \n18          0.09000                     3  \n4           0.09875                     3  \n68          0.24625                     3  \n85          0.54875                     3  \n65          0.19125                     3  \n53          0.06500                     3  \n80          0.31375                     3  \n84          0.49625                     3  \n64          0.16250                     3  \n33          0.09500                     3  \n79          0.24500                     3  "
          },
          "execution_count": 354,
          "metadata": {},
          "output_type": "execute_result"
        }
      ],
      "source": [
        "X_test_S = X_test.drop(columns=['C.7A Ang Thong (Chao Phraya R.)', 'C.13 Sapphaya (Chao Phraya r.)',\n",
        "                        'C.35 river/brae', 'C.7A river/brae', 'critical_wat_lev_C.35'])\n",
        "X_test_S"
      ]
    },
    {
      "cell_type": "code",
      "execution_count": 355,
      "metadata": {
        "colab": {
          "base_uri": "https://localhost:8080/"
        },
        "id": "8J4MPf5B3y-R",
        "outputId": "68e2775d-8bd7-44bc-d0bf-18f32a438c66",
        "pycharm": {
          "name": "#%%\n"
        }
      },
      "outputs": [
        {
          "data": {
            "text/plain": "S.26 Tha Ruea (Pa Sak R.)     float64\nS.9 Kaeng Khoi (Pa Sak r.)    float64\nS.5 river/brae                float64\nS.26 river/brae               float64\ncritical_wat_lev_S.5            int64\ndtype: object"
          },
          "execution_count": 355,
          "metadata": {},
          "output_type": "execute_result"
        }
      ],
      "source": [
        "X_train_S.dtypes"
      ]
    },
    {
      "cell_type": "code",
      "execution_count": 356,
      "metadata": {
        "colab": {
          "base_uri": "https://localhost:8080/"
        },
        "id": "mTp6LCsN3y-S",
        "outputId": "1815bed6-2ab4-4f59-b550-58f59bf03a6f",
        "pycharm": {
          "name": "#%%\n"
        }
      },
      "outputs": [
        {
          "data": {
            "text/plain": "S.26 Tha Ruea (Pa Sak R.)     float64\nS.9 Kaeng Khoi (Pa Sak r.)    float64\nS.5 river/brae                float64\nS.26 river/brae               float64\ncritical_wat_lev_S.5            int64\ndtype: object"
          },
          "execution_count": 356,
          "metadata": {},
          "output_type": "execute_result"
        }
      ],
      "source": [
        "X_test_S.dtypes"
      ]
    },
    {
      "cell_type": "code",
      "execution_count": 357,
      "metadata": {
        "colab": {
          "base_uri": "https://localhost:8080/",
          "height": 418
        },
        "id": "x_mKMYsK3y-S",
        "outputId": "a663bb8a-3f41-4497-e2d4-5204e9521cdb",
        "pycharm": {
          "name": "#%%\n"
        }
      },
      "outputs": [
        {
          "data": {
            "text/html": "<div>\n<style scoped>\n    .dataframe tbody tr th:only-of-type {\n        vertical-align: middle;\n    }\n\n    .dataframe tbody tr th {\n        vertical-align: top;\n    }\n\n    .dataframe thead th {\n        text-align: right;\n    }\n</style>\n<table border=\"1\" class=\"dataframe\">\n  <thead>\n    <tr style=\"text-align: right;\">\n      <th></th>\n      <th>Class_S.5</th>\n    </tr>\n  </thead>\n  <tbody>\n    <tr>\n      <th>55</th>\n      <td>0.0</td>\n    </tr>\n    <tr>\n      <th>73</th>\n      <td>0.0</td>\n    </tr>\n    <tr>\n      <th>11</th>\n      <td>0.0</td>\n    </tr>\n    <tr>\n      <th>30</th>\n      <td>0.0</td>\n    </tr>\n    <tr>\n      <th>40</th>\n      <td>0.0</td>\n    </tr>\n    <tr>\n      <th>...</th>\n      <td>...</td>\n    </tr>\n    <tr>\n      <th>20</th>\n      <td>0.0</td>\n    </tr>\n    <tr>\n      <th>60</th>\n      <td>0.0</td>\n    </tr>\n    <tr>\n      <th>71</th>\n      <td>0.0</td>\n    </tr>\n    <tr>\n      <th>14</th>\n      <td>0.0</td>\n    </tr>\n    <tr>\n      <th>51</th>\n      <td>0.0</td>\n    </tr>\n  </tbody>\n</table>\n<p>70 rows × 1 columns</p>\n</div>",
            "text/plain": "    Class_S.5\n55        0.0\n73        0.0\n11        0.0\n30        0.0\n40        0.0\n..        ...\n20        0.0\n60        0.0\n71        0.0\n14        0.0\n51        0.0\n\n[70 rows x 1 columns]"
          },
          "execution_count": 357,
          "metadata": {},
          "output_type": "execute_result"
        }
      ],
      "source": [
        "y_train_S = y_train.drop(columns=['Class_C.35'])\n",
        "y_train_S"
      ]
    },
    {
      "cell_type": "code",
      "execution_count": 358,
      "metadata": {
        "colab": {
          "base_uri": "https://localhost:8080/",
          "height": 605
        },
        "id": "Ozbw66We3y-S",
        "outputId": "59c89ab1-1bcf-4dd5-ce3f-db6be6b98f3a",
        "pycharm": {
          "name": "#%%\n"
        }
      },
      "outputs": [
        {
          "data": {
            "text/html": "<div>\n<style scoped>\n    .dataframe tbody tr th:only-of-type {\n        vertical-align: middle;\n    }\n\n    .dataframe tbody tr th {\n        vertical-align: top;\n    }\n\n    .dataframe thead th {\n        text-align: right;\n    }\n</style>\n<table border=\"1\" class=\"dataframe\">\n  <thead>\n    <tr style=\"text-align: right;\">\n      <th></th>\n      <th>Class_S.5</th>\n    </tr>\n  </thead>\n  <tbody>\n    <tr>\n      <th>76</th>\n      <td>0.0</td>\n    </tr>\n    <tr>\n      <th>0</th>\n      <td>0.0</td>\n    </tr>\n    <tr>\n      <th>26</th>\n      <td>0.0</td>\n    </tr>\n    <tr>\n      <th>22</th>\n      <td>0.0</td>\n    </tr>\n    <tr>\n      <th>12</th>\n      <td>0.0</td>\n    </tr>\n    <tr>\n      <th>67</th>\n      <td>0.0</td>\n    </tr>\n    <tr>\n      <th>10</th>\n      <td>0.0</td>\n    </tr>\n    <tr>\n      <th>18</th>\n      <td>0.0</td>\n    </tr>\n    <tr>\n      <th>4</th>\n      <td>0.0</td>\n    </tr>\n    <tr>\n      <th>68</th>\n      <td>0.0</td>\n    </tr>\n    <tr>\n      <th>85</th>\n      <td>1.0</td>\n    </tr>\n    <tr>\n      <th>65</th>\n      <td>0.0</td>\n    </tr>\n    <tr>\n      <th>53</th>\n      <td>0.0</td>\n    </tr>\n    <tr>\n      <th>80</th>\n      <td>0.0</td>\n    </tr>\n    <tr>\n      <th>84</th>\n      <td>1.0</td>\n    </tr>\n    <tr>\n      <th>64</th>\n      <td>0.0</td>\n    </tr>\n    <tr>\n      <th>33</th>\n      <td>0.0</td>\n    </tr>\n    <tr>\n      <th>79</th>\n      <td>0.0</td>\n    </tr>\n  </tbody>\n</table>\n</div>",
            "text/plain": "    Class_S.5\n76        0.0\n0         0.0\n26        0.0\n22        0.0\n12        0.0\n67        0.0\n10        0.0\n18        0.0\n4         0.0\n68        0.0\n85        1.0\n65        0.0\n53        0.0\n80        0.0\n84        1.0\n64        0.0\n33        0.0\n79        0.0"
          },
          "execution_count": 358,
          "metadata": {},
          "output_type": "execute_result"
        }
      ],
      "source": [
        "y_test_S = y_test.drop(columns=['Class_C.35'])\n",
        "y_test_S"
      ]
    },
    {
      "cell_type": "markdown",
      "metadata": {
        "id": "5iJNQVWX3y-S"
      },
      "source": [
        "# K-Nearest-Neighbor"
      ]
    },
    {
      "cell_type": "markdown",
      "metadata": {
        "id": "4mt3RTsy3y-T"
      },
      "source": [
        "# C.35"
      ]
    },
    {
      "cell_type": "code",
      "execution_count": 359,
      "metadata": {
        "id": "4XtAlg5V3y-T"
      },
      "outputs": [],
      "source": [
        "Knn = KNeighborsClassifier()\n",
        "Knn.fit(X_train_C, y_train_C)\n",
        "\n",
        "parameters = {\n",
        "\n",
        "   'n_neighbors': [9,13,17,25,33,47,51,73]\n",
        "\n",
        " }\n",
        "\n",
        "KNeighborsClassifier(algorithm='auto', leaf_size=30, metric='minkowski',\n",
        " metric_params=None, n_jobs=1, n_neighbors=parameters , p=2,\n",
        " weights='uniform')\n",
        "\n",
        "y_pred = Knn.predict(X_test_C)"
      ]
    },
    {
      "cell_type": "code",
      "execution_count": 360,
      "metadata": {
        "colab": {
          "base_uri": "https://localhost:8080/"
        },
        "id": "DA0jxICj3y-T",
        "outputId": "183902cb-d550-43ac-b817-2b3efd270b7a"
      },
      "outputs": [
        {
          "name": "stdout",
          "output_type": "stream",
          "text": [
            "              precision    recall  f1-score   support\n",
            "\n",
            "         0.0       0.78      1.00      0.88        14\n",
            "         1.0       0.00      0.00      0.00         4\n",
            "\n",
            "    accuracy                           0.78        18\n",
            "   macro avg       0.39      0.50      0.44        18\n",
            "weighted avg       0.60      0.78      0.68        18\n",
            "\n"
          ]
        }
      ],
      "source": [
        "print(classification_report(y_test_C, y_pred))"
      ]
    },
    {
      "cell_type": "code",
      "execution_count": 361,
      "metadata": {
        "colab": {
          "base_uri": "https://localhost:8080/",
          "height": 0
        },
        "id": "p-4j6Dbw3y-U",
        "outputId": "9142037f-e8e0-44e8-f356-5a871dfe2a1c"
      },
      "outputs": [
        {
          "data": {
            "text/plain": "<sklearn.metrics._plot.confusion_matrix.ConfusionMatrixDisplay at 0x2bbc79e16a0>"
          },
          "execution_count": 361,
          "metadata": {},
          "output_type": "execute_result"
        },
        {
          "data": {
            "image/png": "[encoded data removed]",
            "text/plain": "<Figure size 432x288 with 2 Axes>"
          },
          "metadata": {
            "needs_background": "light"
          },
          "output_type": "display_data"
        }
      ],
      "source": [
        "plot_confusion_matrix(Knn, X_test_C, y_test_C, display_labels=[\"Non_Flood\", \"Flood\"], cmap=plt.cm.Blues)"
      ]
    },
    {
      "cell_type": "markdown",
      "metadata": {
        "id": "F1N8Ant33y-U"
      },
      "source": [
        "# S.5"
      ]
    },
    {
      "cell_type": "code",
      "execution_count": 362,
      "metadata": {
        "id": "YW8UEGvK3y-U"
      },
      "outputs": [],
      "source": [
        "Knn.fit(X_train_S, y_train_S)\n",
        "y_pred = Knn.predict(X_test_S)"
      ]
    },
    {
      "cell_type": "code",
      "execution_count": 363,
      "metadata": {
        "colab": {
          "base_uri": "https://localhost:8080/"
        },
        "id": "wHEYGGRb3y-U",
        "outputId": "a4be07ed-cab1-45dd-8eb2-69a195554a6a"
      },
      "outputs": [
        {
          "name": "stdout",
          "output_type": "stream",
          "text": [
            "              precision    recall  f1-score   support\n",
            "\n",
            "         0.0       0.89      1.00      0.94        16\n",
            "         1.0       0.00      0.00      0.00         2\n",
            "\n",
            "    accuracy                           0.89        18\n",
            "   macro avg       0.44      0.50      0.47        18\n",
            "weighted avg       0.79      0.89      0.84        18\n",
            "\n"
          ]
        }
      ],
      "source": [
        "print(classification_report(y_test_S, y_pred))"
      ]
    },
    {
      "cell_type": "code",
      "execution_count": 364,
      "metadata": {
        "colab": {
          "base_uri": "https://localhost:8080/",
          "height": 0
        },
        "id": "VPZIUAzF3y-V",
        "outputId": "74d43fbd-2a83-4566-a881-64f102511aa7"
      },
      "outputs": [
        {
          "data": {
            "text/plain": "<sklearn.metrics._plot.confusion_matrix.ConfusionMatrixDisplay at 0x2bbc9641670>"
          },
          "execution_count": 364,
          "metadata": {},
          "output_type": "execute_result"
        },
        {
          "data": {
            "image/png": "[encoded data removed]",
            "text/plain": "<Figure size 432x288 with 2 Axes>"
          },
          "metadata": {
            "needs_background": "light"
          },
          "output_type": "display_data"
        }
      ],
      "source": [
        "plot_confusion_matrix(Knn, X_test_S, y_test_S, display_labels=[\"Non_Flood\", \"Flood\"], cmap=plt.cm.Purples)"
      ]
    },
    {
      "cell_type": "markdown",
      "metadata": {
        "collapsed": false,
        "id": "BrOTiRp83y-V",
        "pycharm": {
          "name": "#%% md\n"
        }
      },
      "source": [
        "# Logistic Regression\n"
      ]
    },
    {
      "cell_type": "code",
      "execution_count": 365,
      "metadata": {
        "id": "qeeaW8Jp3y-V",
        "pycharm": {
          "name": "#%%\n"
        }
      },
      "outputs": [],
      "source": [
        "Lr = LogisticRegression()"
      ]
    },
    {
      "cell_type": "markdown",
      "metadata": {
        "collapsed": false,
        "id": "Rhyglj_l3y-V",
        "pycharm": {
          "name": "#%% md\n"
        }
      },
      "source": [
        "## c.35"
      ]
    },
    {
      "cell_type": "code",
      "execution_count": 366,
      "metadata": {
        "colab": {
          "base_uri": "https://localhost:8080/"
        },
        "id": "UlYJLLSD3y-W",
        "outputId": "456895f1-4cbc-478a-a63b-140f9f596113",
        "pycharm": {
          "name": "#%%\n"
        }
      },
      "outputs": [
        {
          "data": {
            "text/plain": "LogisticRegression()"
          },
          "execution_count": 366,
          "metadata": {},
          "output_type": "execute_result"
        }
      ],
      "source": [
        "Lr.fit(X_train_C, y_train_C)"
      ]
    },
    {
      "cell_type": "code",
      "execution_count": 367,
      "metadata": {
        "colab": {
          "base_uri": "https://localhost:8080/"
        },
        "id": "R279Uf2p3y-W",
        "outputId": "62bdc9f6-fea1-4680-ad5c-8bccdea6b652",
        "pycharm": {
          "name": "#%%\n"
        }
      },
      "outputs": [
        {
          "name": "stdout",
          "output_type": "stream",
          "text": [
            "              precision    recall  f1-score   support\n",
            "\n",
            "         0.0       0.88      1.00      0.93        14\n",
            "         1.0       1.00      0.50      0.67         4\n",
            "\n",
            "    accuracy                           0.89        18\n",
            "   macro avg       0.94      0.75      0.80        18\n",
            "weighted avg       0.90      0.89      0.87        18\n",
            "\n"
          ]
        }
      ],
      "source": [
        "y_pred_C = Lr.predict(X_test_C)\n",
        "print(classification_report(y_test_C, y_pred_C))"
      ]
    },
    {
      "cell_type": "code",
      "execution_count": 368,
      "metadata": {
        "colab": {
          "base_uri": "https://localhost:8080/",
          "height": 0
        },
        "id": "KeG-iY8K3y-W",
        "outputId": "4e64fcd2-9e40-4d05-da35-a19d46399be9",
        "pycharm": {
          "name": "#%%\n"
        }
      },
      "outputs": [
        {
          "name": "stdout",
          "output_type": "stream",
          "text": [
            "[[14  2]\n",
            " [ 0  2]]\n"
          ]
        },
        {
          "data": {
            "text/plain": "<sklearn.metrics._plot.confusion_matrix.ConfusionMatrixDisplay at 0x2bbcad5b490>"
          },
          "execution_count": 368,
          "metadata": {},
          "output_type": "execute_result"
        },
        {
          "data": {
            "image/png": "[encoded data removed]",
            "text/plain": "<Figure size 432x288 with 2 Axes>"
          },
          "metadata": {
            "needs_background": "light"
          },
          "output_type": "display_data"
        }
      ],
      "source": [
        "print(confusion_matrix(y_pred_C, y_test_C))\n",
        "plot_confusion_matrix(Lr, X_test_C, y_test_C, display_labels=[\"Non_Flood\", \"Flood\"], cmap=plt.cm.Blues)"
      ]
    },
    {
      "cell_type": "markdown",
      "metadata": {
        "collapsed": false,
        "id": "GuMYNxME3y-W",
        "pycharm": {
          "name": "#%% md\n"
        }
      },
      "source": [
        "## S.5"
      ]
    },
    {
      "cell_type": "code",
      "execution_count": 369,
      "metadata": {
        "colab": {
          "base_uri": "https://localhost:8080/"
        },
        "id": "b4q9QnV63y-W",
        "outputId": "c2a8bdf9-cb13-484a-a642-1c746c09e345",
        "pycharm": {
          "name": "#%%\n"
        }
      },
      "outputs": [
        {
          "data": {
            "text/plain": "LogisticRegression()"
          },
          "execution_count": 369,
          "metadata": {},
          "output_type": "execute_result"
        }
      ],
      "source": [
        "Lr.fit(X_train_S, y_train_S)"
      ]
    },
    {
      "cell_type": "code",
      "execution_count": 370,
      "metadata": {
        "colab": {
          "base_uri": "https://localhost:8080/"
        },
        "id": "mkl6KFwl3y-W",
        "outputId": "ea6c82cb-2f21-4bf9-d583-266003a9684d",
        "pycharm": {
          "name": "#%%\n"
        }
      },
      "outputs": [
        {
          "name": "stdout",
          "output_type": "stream",
          "text": [
            "              precision    recall  f1-score   support\n",
            "\n",
            "         0.0       0.89      1.00      0.94        16\n",
            "         1.0       0.00      0.00      0.00         2\n",
            "\n",
            "    accuracy                           0.89        18\n",
            "   macro avg       0.44      0.50      0.47        18\n",
            "weighted avg       0.79      0.89      0.84        18\n",
            "\n"
          ]
        }
      ],
      "source": [
        "y_pred_S = Lr.predict(X_test_S)\n",
        "print(classification_report(y_test_S, y_pred_S))"
      ]
    },
    {
      "cell_type": "code",
      "execution_count": 371,
      "metadata": {
        "colab": {
          "base_uri": "https://localhost:8080/",
          "height": 0
        },
        "id": "SsbHW22z3y-X",
        "outputId": "d2263681-269f-4148-f2e5-6883d060be5c",
        "pycharm": {
          "name": "#%%\n"
        }
      },
      "outputs": [
        {
          "name": "stdout",
          "output_type": "stream",
          "text": [
            "[[16  2]\n",
            " [ 0  0]]\n"
          ]
        },
        {
          "data": {
            "text/plain": "<sklearn.metrics._plot.confusion_matrix.ConfusionMatrixDisplay at 0x2bbc611c100>"
          },
          "execution_count": 371,
          "metadata": {},
          "output_type": "execute_result"
        },
        {
          "data": {
            "image/png": "[encoded data removed]",
            "text/plain": "<Figure size 432x288 with 2 Axes>"
          },
          "metadata": {
            "needs_background": "light"
          },
          "output_type": "display_data"
        }
      ],
      "source": [
        "print(confusion_matrix(y_pred_S, y_test_S))\n",
        "plot_confusion_matrix(Lr, X_test_S, y_test_S, display_labels=[\"Non_Flood\", \"Flood\"], cmap=plt.cm.Purples)"
      ]
    },
    {
      "cell_type": "markdown",
      "metadata": {
        "collapsed": false,
        "id": "-xE2LFGW3y-X",
        "pycharm": {
          "name": "#%% md\n"
        }
      },
      "source": [
        "# Apply SMOTE"
      ]
    },
    {
      "cell_type": "code",
      "execution_count": 372,
      "metadata": {
        "id": "SHHAdigH3y-X",
        "pycharm": {
          "name": "#%%\n"
        }
      },
      "outputs": [],
      "source": [
        "overSampling = SMOTE(k_neighbors=2)"
      ]
    },
    {
      "cell_type": "markdown",
      "metadata": {
        "collapsed": false,
        "id": "Zcg1tjlL3y-X",
        "pycharm": {
          "name": "#%% md\n"
        }
      },
      "source": [
        "### C.35"
      ]
    },
    {
      "cell_type": "code",
      "execution_count": 373,
      "metadata": {
        "id": "XiBOAhSY3y-X",
        "pycharm": {
          "name": "#%%\n"
        }
      },
      "outputs": [],
      "source": [
        "X_over_C = X.drop(columns=['S.26 Tha Ruea (Pa Sak R.)', 'S.9 Kaeng Khoi (Pa Sak r.)',\n",
        "                        'S.5 river/brae', 'S.26 river/brae', 'critical_wat_lev_S.5'])\n",
        "y_over_C = y.drop(columns=['Class_S.5'])"
      ]
    },
    {
      "cell_type": "code",
      "execution_count": 374,
      "metadata": {
        "id": "OW2MPZXI3y-X",
        "pycharm": {
          "name": "#%%\n"
        }
      },
      "outputs": [],
      "source": [
        "X_over_C , y_over_C = overSampling.fit_resample(X_over_C, y_over_C)"
      ]
    },
    {
      "cell_type": "code",
      "execution_count": 375,
      "metadata": {
        "colab": {
          "base_uri": "https://localhost:8080/"
        },
        "id": "4AgnT9mn3y-X",
        "outputId": "f74217a8-da8b-4891-958b-885f5a5e3a3a",
        "pycharm": {
          "name": "#%%\n"
        }
      },
      "outputs": [
        {
          "data": {
            "text/html": "<div>\n<style scoped>\n    .dataframe tbody tr th:only-of-type {\n        vertical-align: middle;\n    }\n\n    .dataframe tbody tr th {\n        vertical-align: top;\n    }\n\n    .dataframe thead th {\n        text-align: right;\n    }\n</style>\n<table border=\"1\" class=\"dataframe\">\n  <thead>\n    <tr style=\"text-align: right;\">\n      <th></th>\n      <th>C.7A Ang Thong (Chao Phraya R.)</th>\n      <th>C.13 Sapphaya (Chao Phraya r.)</th>\n      <th>C.35 river/brae</th>\n      <th>C.7A river/brae</th>\n      <th>critical_wat_lev_C.35</th>\n    </tr>\n  </thead>\n  <tbody>\n    <tr>\n      <th>0</th>\n      <td>1.020000</td>\n      <td>0.000000</td>\n      <td>0.161572</td>\n      <td>0.102000</td>\n      <td>3.2</td>\n    </tr>\n    <tr>\n      <th>1</th>\n      <td>0.870000</td>\n      <td>0.000000</td>\n      <td>0.148472</td>\n      <td>0.087000</td>\n      <td>3.2</td>\n    </tr>\n    <tr>\n      <th>2</th>\n      <td>0.850000</td>\n      <td>0.000000</td>\n      <td>0.065502</td>\n      <td>0.085000</td>\n      <td>3.2</td>\n    </tr>\n    <tr>\n      <th>3</th>\n      <td>0.900000</td>\n      <td>3.000000</td>\n      <td>0.072052</td>\n      <td>0.090000</td>\n      <td>3.2</td>\n    </tr>\n    <tr>\n      <th>4</th>\n      <td>0.900000</td>\n      <td>8.000000</td>\n      <td>0.135371</td>\n      <td>0.090000</td>\n      <td>3.2</td>\n    </tr>\n    <tr>\n      <th>...</th>\n      <td>...</td>\n      <td>...</td>\n      <td>...</td>\n      <td>...</td>\n      <td>...</td>\n    </tr>\n    <tr>\n      <th>153</th>\n      <td>8.841670</td>\n      <td>0.000000</td>\n      <td>1.082382</td>\n      <td>0.884167</td>\n      <td>3.2</td>\n    </tr>\n    <tr>\n      <th>154</th>\n      <td>8.825463</td>\n      <td>0.000000</td>\n      <td>1.079932</td>\n      <td>0.882546</td>\n      <td>3.2</td>\n    </tr>\n    <tr>\n      <th>155</th>\n      <td>5.900265</td>\n      <td>49.921812</td>\n      <td>0.686809</td>\n      <td>0.590027</td>\n      <td>3.2</td>\n    </tr>\n    <tr>\n      <th>156</th>\n      <td>7.722169</td>\n      <td>36.045138</td>\n      <td>0.903226</td>\n      <td>0.772217</td>\n      <td>3.2</td>\n    </tr>\n    <tr>\n      <th>157</th>\n      <td>7.150811</td>\n      <td>40.396935</td>\n      <td>0.835357</td>\n      <td>0.715081</td>\n      <td>3.2</td>\n    </tr>\n  </tbody>\n</table>\n<p>158 rows × 5 columns</p>\n</div>",
            "text/plain": "     C.7A Ang Thong (Chao Phraya R.)  C.13 Sapphaya (Chao Phraya r.)  \\\n0                           1.020000                        0.000000   \n1                           0.870000                        0.000000   \n2                           0.850000                        0.000000   \n3                           0.900000                        3.000000   \n4                           0.900000                        8.000000   \n..                               ...                             ...   \n153                         8.841670                        0.000000   \n154                         8.825463                        0.000000   \n155                         5.900265                       49.921812   \n156                         7.722169                       36.045138   \n157                         7.150811                       40.396935   \n\n     C.35 river/brae  C.7A river/brae  critical_wat_lev_C.35  \n0           0.161572         0.102000                    3.2  \n1           0.148472         0.087000                    3.2  \n2           0.065502         0.085000                    3.2  \n3           0.072052         0.090000                    3.2  \n4           0.135371         0.090000                    3.2  \n..               ...              ...                    ...  \n153         1.082382         0.884167                    3.2  \n154         1.079932         0.882546                    3.2  \n155         0.686809         0.590027                    3.2  \n156         0.903226         0.772217                    3.2  \n157         0.835357         0.715081                    3.2  \n\n[158 rows x 5 columns]"
          },
          "execution_count": 375,
          "metadata": {},
          "output_type": "execute_result"
        }
      ],
      "source": [
        "X_over_C"
      ]
    },
    {
      "cell_type": "code",
      "execution_count": 376,
      "metadata": {
        "colab": {
          "base_uri": "https://localhost:8080/"
        },
        "id": "KBBfm7BJ3y-X",
        "outputId": "8bd361d8-593b-49dc-cdc9-5865a85820e2",
        "pycharm": {
          "name": "#%%\n"
        }
      },
      "outputs": [
        {
          "data": {
            "text/html": "<div>\n<style scoped>\n    .dataframe tbody tr th:only-of-type {\n        vertical-align: middle;\n    }\n\n    .dataframe tbody tr th {\n        vertical-align: top;\n    }\n\n    .dataframe thead th {\n        text-align: right;\n    }\n</style>\n<table border=\"1\" class=\"dataframe\">\n  <thead>\n    <tr style=\"text-align: right;\">\n      <th></th>\n      <th>Class_C.35</th>\n    </tr>\n  </thead>\n  <tbody>\n    <tr>\n      <th>0</th>\n      <td>0.0</td>\n    </tr>\n    <tr>\n      <th>1</th>\n      <td>0.0</td>\n    </tr>\n    <tr>\n      <th>2</th>\n      <td>0.0</td>\n    </tr>\n    <tr>\n      <th>3</th>\n      <td>0.0</td>\n    </tr>\n    <tr>\n      <th>4</th>\n      <td>0.0</td>\n    </tr>\n    <tr>\n      <th>...</th>\n      <td>...</td>\n    </tr>\n    <tr>\n      <th>153</th>\n      <td>1.0</td>\n    </tr>\n    <tr>\n      <th>154</th>\n      <td>1.0</td>\n    </tr>\n    <tr>\n      <th>155</th>\n      <td>1.0</td>\n    </tr>\n    <tr>\n      <th>156</th>\n      <td>1.0</td>\n    </tr>\n    <tr>\n      <th>157</th>\n      <td>1.0</td>\n    </tr>\n  </tbody>\n</table>\n<p>158 rows × 1 columns</p>\n</div>",
            "text/plain": "     Class_C.35\n0           0.0\n1           0.0\n2           0.0\n3           0.0\n4           0.0\n..          ...\n153         1.0\n154         1.0\n155         1.0\n156         1.0\n157         1.0\n\n[158 rows x 1 columns]"
          },
          "execution_count": 376,
          "metadata": {},
          "output_type": "execute_result"
        }
      ],
      "source": [
        "y_over_C"
      ]
    },
    {
      "cell_type": "code",
      "execution_count": 377,
      "metadata": {
        "id": "VYILIwUd3y-X",
        "pycharm": {
          "name": "#%%\n"
        }
      },
      "outputs": [],
      "source": [
        "X_over_train_C, X_over_test_C, y_over_train_C, y_over_test_C = train_test_split(X_over_C, y_over_C, test_size = 0.2,random_state =42)"
      ]
    },
    {
      "cell_type": "markdown",
      "metadata": {
        "collapsed": false,
        "id": "KJZTUiGU3y-X",
        "pycharm": {
          "name": "#%% md\n"
        }
      },
      "source": [
        "### S.5"
      ]
    },
    {
      "cell_type": "code",
      "execution_count": 378,
      "metadata": {
        "id": "Hg2DFVhE3y-Y",
        "pycharm": {
          "name": "#%%\n"
        }
      },
      "outputs": [],
      "source": [
        "X_over_S = X.drop(columns=['C.7A Ang Thong (Chao Phraya R.)', 'C.13 Sapphaya (Chao Phraya r.)',\n",
        "                        'C.35 river/brae', 'C.7A river/brae', 'critical_wat_lev_C.35'])\n",
        "y_over_S = y.drop(columns=['Class_C.35'])"
      ]
    },
    {
      "cell_type": "code",
      "execution_count": 379,
      "metadata": {
        "colab": {
          "base_uri": "https://localhost:8080/",
          "height": 0
        },
        "id": "yMhp-AKc3y-Y",
        "outputId": "0a5eef13-df9a-4b35-e377-8b5239e07121",
        "pycharm": {
          "name": "#%%\n"
        }
      },
      "outputs": [
        {
          "data": {
            "text/html": "<div>\n<style scoped>\n    .dataframe tbody tr th:only-of-type {\n        vertical-align: middle;\n    }\n\n    .dataframe tbody tr th {\n        vertical-align: top;\n    }\n\n    .dataframe thead th {\n        text-align: right;\n    }\n</style>\n<table border=\"1\" class=\"dataframe\">\n  <thead>\n    <tr style=\"text-align: right;\">\n      <th></th>\n      <th>S.26 Tha Ruea (Pa Sak R.)</th>\n      <th>S.9 Kaeng Khoi (Pa Sak r.)</th>\n      <th>S.5 river/brae</th>\n      <th>S.26 river/brae</th>\n      <th>critical_wat_lev_S.5</th>\n    </tr>\n  </thead>\n  <tbody>\n    <tr>\n      <th>0</th>\n      <td>0.70</td>\n      <td>0.0</td>\n      <td>0.168085</td>\n      <td>0.08750</td>\n      <td>3</td>\n    </tr>\n    <tr>\n      <th>1</th>\n      <td>0.65</td>\n      <td>2.0</td>\n      <td>0.161702</td>\n      <td>0.08125</td>\n      <td>3</td>\n    </tr>\n    <tr>\n      <th>2</th>\n      <td>0.64</td>\n      <td>0.5</td>\n      <td>0.136170</td>\n      <td>0.08000</td>\n      <td>3</td>\n    </tr>\n    <tr>\n      <th>3</th>\n      <td>0.73</td>\n      <td>1.5</td>\n      <td>0.142553</td>\n      <td>0.09125</td>\n      <td>3</td>\n    </tr>\n    <tr>\n      <th>4</th>\n      <td>0.79</td>\n      <td>12.5</td>\n      <td>0.125532</td>\n      <td>0.09875</td>\n      <td>3</td>\n    </tr>\n    <tr>\n      <th>...</th>\n      <td>...</td>\n      <td>...</td>\n      <td>...</td>\n      <td>...</td>\n      <td>...</td>\n    </tr>\n    <tr>\n      <th>83</th>\n      <td>3.44</td>\n      <td>0.0</td>\n      <td>0.589362</td>\n      <td>0.43000</td>\n      <td>3</td>\n    </tr>\n    <tr>\n      <th>84</th>\n      <td>3.97</td>\n      <td>0.5</td>\n      <td>0.634043</td>\n      <td>0.49625</td>\n      <td>3</td>\n    </tr>\n    <tr>\n      <th>85</th>\n      <td>4.39</td>\n      <td>0.0</td>\n      <td>0.682979</td>\n      <td>0.54875</td>\n      <td>3</td>\n    </tr>\n    <tr>\n      <th>86</th>\n      <td>5.38</td>\n      <td>0.0</td>\n      <td>0.725532</td>\n      <td>0.67250</td>\n      <td>3</td>\n    </tr>\n    <tr>\n      <th>87</th>\n      <td>7.18</td>\n      <td>0.0</td>\n      <td>0.797872</td>\n      <td>0.89750</td>\n      <td>3</td>\n    </tr>\n  </tbody>\n</table>\n<p>88 rows × 5 columns</p>\n</div>",
            "text/plain": "    S.26 Tha Ruea (Pa Sak R.)  S.9 Kaeng Khoi (Pa Sak r.)  S.5 river/brae  \\\n0                        0.70                         0.0        0.168085   \n1                        0.65                         2.0        0.161702   \n2                        0.64                         0.5        0.136170   \n3                        0.73                         1.5        0.142553   \n4                        0.79                        12.5        0.125532   \n..                        ...                         ...             ...   \n83                       3.44                         0.0        0.589362   \n84                       3.97                         0.5        0.634043   \n85                       4.39                         0.0        0.682979   \n86                       5.38                         0.0        0.725532   \n87                       7.18                         0.0        0.797872   \n\n    S.26 river/brae  critical_wat_lev_S.5  \n0           0.08750                     3  \n1           0.08125                     3  \n2           0.08000                     3  \n3           0.09125                     3  \n4           0.09875                     3  \n..              ...                   ...  \n83          0.43000                     3  \n84          0.49625                     3  \n85          0.54875                     3  \n86          0.67250                     3  \n87          0.89750                     3  \n\n[88 rows x 5 columns]"
          },
          "execution_count": 379,
          "metadata": {},
          "output_type": "execute_result"
        }
      ],
      "source": [
        "X_over_S"
      ]
    },
    {
      "cell_type": "code",
      "execution_count": 380,
      "metadata": {
        "colab": {
          "base_uri": "https://localhost:8080/",
          "height": 0
        },
        "id": "4cvUAq063y-Y",
        "outputId": "c3749acc-d310-4a4d-a3e8-e8fe1d34b247",
        "pycharm": {
          "name": "#%%\n"
        }
      },
      "outputs": [
        {
          "data": {
            "text/html": "<div>\n<style scoped>\n    .dataframe tbody tr th:only-of-type {\n        vertical-align: middle;\n    }\n\n    .dataframe tbody tr th {\n        vertical-align: top;\n    }\n\n    .dataframe thead th {\n        text-align: right;\n    }\n</style>\n<table border=\"1\" class=\"dataframe\">\n  <thead>\n    <tr style=\"text-align: right;\">\n      <th></th>\n      <th>Class_S.5</th>\n    </tr>\n  </thead>\n  <tbody>\n    <tr>\n      <th>0</th>\n      <td>0.0</td>\n    </tr>\n    <tr>\n      <th>1</th>\n      <td>0.0</td>\n    </tr>\n    <tr>\n      <th>2</th>\n      <td>0.0</td>\n    </tr>\n    <tr>\n      <th>3</th>\n      <td>0.0</td>\n    </tr>\n    <tr>\n      <th>4</th>\n      <td>0.0</td>\n    </tr>\n    <tr>\n      <th>...</th>\n      <td>...</td>\n    </tr>\n    <tr>\n      <th>83</th>\n      <td>0.0</td>\n    </tr>\n    <tr>\n      <th>84</th>\n      <td>1.0</td>\n    </tr>\n    <tr>\n      <th>85</th>\n      <td>1.0</td>\n    </tr>\n    <tr>\n      <th>86</th>\n      <td>1.0</td>\n    </tr>\n    <tr>\n      <th>87</th>\n      <td>1.0</td>\n    </tr>\n  </tbody>\n</table>\n<p>88 rows × 1 columns</p>\n</div>",
            "text/plain": "    Class_S.5\n0         0.0\n1         0.0\n2         0.0\n3         0.0\n4         0.0\n..        ...\n83        0.0\n84        1.0\n85        1.0\n86        1.0\n87        1.0\n\n[88 rows x 1 columns]"
          },
          "execution_count": 380,
          "metadata": {},
          "output_type": "execute_result"
        }
      ],
      "source": [
        "y_over_S"
      ]
    },
    {
      "cell_type": "code",
      "execution_count": 381,
      "metadata": {
        "id": "49Mvlteu3y-a",
        "pycharm": {
          "name": "#%%\n"
        }
      },
      "outputs": [],
      "source": [
        "X_over_S , y_over_S = overSampling.fit_resample(X_over_S, y_over_S)"
      ]
    },
    {
      "cell_type": "code",
      "execution_count": 382,
      "metadata": {
        "id": "oklnRy-P3y-b",
        "pycharm": {
          "name": "#%%\n"
        }
      },
      "outputs": [],
      "source": [
        "X_over_train_S, X_over_test_S, y_over_train_S, y_over_test_S = train_test_split(X_over_S, y_over_S, test_size = 0.2, random_state=42)"
      ]
    },
    {
      "cell_type": "markdown",
      "metadata": {
        "id": "K74HpdmN3y-b"
      },
      "source": [
        "# K-Nearest-Nieghbor with using SMOTE"
      ]
    },
    {
      "cell_type": "markdown",
      "metadata": {
        "id": "MOqgWht63y-b"
      },
      "source": [
        "C.35"
      ]
    },
    {
      "cell_type": "code",
      "execution_count": 383,
      "metadata": {
        "id": "CM3WrDCQ3y-b"
      },
      "outputs": [],
      "source": [
        "Knn.fit(X_over_train_C, y_over_train_C)\n",
        "KNeighborsClassifier(algorithm='auto', leaf_size=30, metric='minkowski',\n",
        " metric_params=None, n_jobs=1, n_neighbors=parameters , p=2,\n",
        " weights='uniform')\n",
        "\n",
        "y_pred = Knn.predict(X_over_test_C)"
      ]
    },
    {
      "cell_type": "code",
      "execution_count": 384,
      "metadata": {
        "colab": {
          "base_uri": "https://localhost:8080/"
        },
        "id": "XxeKt6dd3y-c",
        "outputId": "db20cb06-572c-4c9b-a8ef-cb2a4b157312"
      },
      "outputs": [
        {
          "name": "stdout",
          "output_type": "stream",
          "text": [
            "              precision    recall  f1-score   support\n",
            "\n",
            "   Non_Flood       1.00      0.93      0.97        15\n",
            "       Flood       0.94      1.00      0.97        17\n",
            "\n",
            "    accuracy                           0.97        32\n",
            "   macro avg       0.97      0.97      0.97        32\n",
            "weighted avg       0.97      0.97      0.97        32\n",
            "\n"
          ]
        }
      ],
      "source": [
        "print(classification_report( y_over_test_C, y_pred,target_names=[\"Non_Flood\", \"Flood\"]))"
      ]
    },
    {
      "cell_type": "code",
      "execution_count": 385,
      "metadata": {
        "colab": {
          "base_uri": "https://localhost:8080/",
          "height": 0
        },
        "id": "FQ1sUCLr3y-c",
        "outputId": "aa50667d-036d-4a6e-97c3-770eef6f9fa7"
      },
      "outputs": [
        {
          "data": {
            "text/plain": "<sklearn.metrics._plot.confusion_matrix.ConfusionMatrixDisplay at 0x2bbcad4dd90>"
          },
          "execution_count": 385,
          "metadata": {},
          "output_type": "execute_result"
        },
        {
          "data": {
            "image/png": "[encoded data removed]",
            "text/plain": "<Figure size 432x288 with 2 Axes>"
          },
          "metadata": {
            "needs_background": "light"
          },
          "output_type": "display_data"
        }
      ],
      "source": [
        "plot_confusion_matrix(Knn, X_over_test_C, y_over_test_C, display_labels=[\"Non_Flood\", \"Flood\"], cmap=plt.cm.Greens)"
      ]
    },
    {
      "cell_type": "markdown",
      "metadata": {
        "id": "tb3Nt1e63y-c"
      },
      "source": [
        "# S.5"
      ]
    },
    {
      "cell_type": "code",
      "execution_count": 386,
      "metadata": {
        "id": "Dl_XM6RQ3y-c"
      },
      "outputs": [],
      "source": [
        "Knn.fit(X_over_train_S, y_over_train_S)\n",
        "KNeighborsClassifier(algorithm='auto', leaf_size=30, metric='minkowski',\n",
        " metric_params=None, n_jobs=1, n_neighbors=parameters , p=2,\n",
        " weights='uniform')\n",
        "y_pred = Knn.predict(X_over_test_S)"
      ]
    },
    {
      "cell_type": "code",
      "execution_count": 387,
      "metadata": {
        "colab": {
          "base_uri": "https://localhost:8080/"
        },
        "id": "2S0ST5Hc3y-c",
        "outputId": "fed153fa-3a9a-4799-9771-b908b080c33d"
      },
      "outputs": [
        {
          "name": "stdout",
          "output_type": "stream",
          "text": [
            "              precision    recall  f1-score   support\n",
            "\n",
            "   Non_Flood       1.00      1.00      1.00        20\n",
            "       Flood       1.00      1.00      1.00        14\n",
            "\n",
            "    accuracy                           1.00        34\n",
            "   macro avg       1.00      1.00      1.00        34\n",
            "weighted avg       1.00      1.00      1.00        34\n",
            "\n"
          ]
        }
      ],
      "source": [
        "print(classification_report(y_over_test_S, y_pred,target_names=[\"Non_Flood\", \"Flood\"]))"
      ]
    },
    {
      "cell_type": "code",
      "execution_count": 388,
      "metadata": {
        "colab": {
          "base_uri": "https://localhost:8080/",
          "height": 0
        },
        "id": "89jfSDr63y-d",
        "outputId": "445539fa-0883-43d0-ac8e-8df3224cc0ac"
      },
      "outputs": [
        {
          "data": {
            "text/plain": "<sklearn.metrics._plot.confusion_matrix.ConfusionMatrixDisplay at 0x2bbcae7c700>"
          },
          "execution_count": 388,
          "metadata": {},
          "output_type": "execute_result"
        },
        {
          "data": {
            "image/png": "[encoded data removed]",
            "text/plain": "<Figure size 432x288 with 2 Axes>"
          },
          "metadata": {
            "needs_background": "light"
          },
          "output_type": "display_data"
        }
      ],
      "source": [
        "plot_confusion_matrix(Knn,X_over_test_S, y_over_test_S, display_labels=[\"Non_Flood\", \"Flood\"], cmap=plt.cm.Oranges)"
      ]
    },
    {
      "cell_type": "markdown",
      "metadata": {
        "collapsed": false,
        "id": "m-pe7WKa3y-d",
        "pycharm": {
          "name": "#%% md\n"
        }
      },
      "source": [
        "## Prediction using LR after SMOTE()\n",
        "### C.35"
      ]
    },
    {
      "cell_type": "code",
      "execution_count": 389,
      "metadata": {
        "colab": {
          "base_uri": "https://localhost:8080/"
        },
        "id": "6JW0UvM03y-d",
        "outputId": "008b1b50-5c78-4bbc-ebb3-85445e3c229e",
        "pycharm": {
          "name": "#%%\n"
        }
      },
      "outputs": [
        {
          "data": {
            "text/plain": "LogisticRegression()"
          },
          "execution_count": 389,
          "metadata": {},
          "output_type": "execute_result"
        }
      ],
      "source": [
        "Lr.fit(X_over_train_C, y_over_train_C)"
      ]
    },
    {
      "cell_type": "code",
      "execution_count": 390,
      "metadata": {
        "colab": {
          "base_uri": "https://localhost:8080/"
        },
        "id": "KSOA8x_P3y-d",
        "outputId": "1a64f4e7-afa8-4dd1-91a6-c89362c39f1b",
        "pycharm": {
          "name": "#%%\n"
        }
      },
      "outputs": [
        {
          "name": "stdout",
          "output_type": "stream",
          "text": [
            "              precision    recall  f1-score   support\n",
            "\n",
            "         0.0       1.00      1.00      1.00        15\n",
            "         1.0       1.00      1.00      1.00        17\n",
            "\n",
            "    accuracy                           1.00        32\n",
            "   macro avg       1.00      1.00      1.00        32\n",
            "weighted avg       1.00      1.00      1.00        32\n",
            "\n"
          ]
        }
      ],
      "source": [
        "y_over_pred_C = Lr.predict(X_over_test_C)\n",
        "print(classification_report(y_over_test_C, y_over_pred_C))"
      ]
    },
    {
      "cell_type": "code",
      "execution_count": 391,
      "metadata": {
        "colab": {
          "base_uri": "https://localhost:8080/",
          "height": 0
        },
        "id": "R7QxDN6G3y-d",
        "outputId": "749c1486-2fc6-4466-ed71-02f4ee600f3f",
        "pycharm": {
          "name": "#%%\n"
        }
      },
      "outputs": [
        {
          "name": "stdout",
          "output_type": "stream",
          "text": [
            "[[15  0]\n",
            " [ 0 17]]\n"
          ]
        },
        {
          "data": {
            "text/plain": "<sklearn.metrics._plot.confusion_matrix.ConfusionMatrixDisplay at 0x2bbcae80580>"
          },
          "execution_count": 391,
          "metadata": {},
          "output_type": "execute_result"
        },
        {
          "data": {
            "image/png": "[encoded data removed]",
            "text/plain": "<Figure size 432x288 with 2 Axes>"
          },
          "metadata": {
            "needs_background": "light"
          },
          "output_type": "display_data"
        }
      ],
      "source": [
        "print(confusion_matrix(y_over_pred_C, y_over_test_C))\n",
        "plot_confusion_matrix(Lr, X_over_test_C, y_over_test_C, display_labels=[\"Non_Flood\", \"Flood\"], cmap=plt.cm.Greens)"
      ]
    },
    {
      "cell_type": "markdown",
      "metadata": {
        "collapsed": false,
        "id": "sAbEZs6O3y-d",
        "pycharm": {
          "name": "#%% md\n"
        }
      },
      "source": [
        "### S.5"
      ]
    },
    {
      "cell_type": "code",
      "execution_count": 392,
      "metadata": {
        "colab": {
          "base_uri": "https://localhost:8080/"
        },
        "id": "W9CvQ4bu3y-d",
        "outputId": "04265af8-a4d9-4658-9c5e-263bd91061be",
        "pycharm": {
          "name": "#%%\n"
        }
      },
      "outputs": [
        {
          "data": {
            "text/plain": "LogisticRegression()"
          },
          "execution_count": 392,
          "metadata": {},
          "output_type": "execute_result"
        }
      ],
      "source": [
        "Lr.fit(X_over_train_S, y_over_train_S)"
      ]
    },
    {
      "cell_type": "code",
      "execution_count": 393,
      "metadata": {
        "colab": {
          "base_uri": "https://localhost:8080/"
        },
        "id": "51JB5w3H3y-d",
        "outputId": "42987cfe-44a5-4936-f368-a95b9b456566",
        "pycharm": {
          "name": "#%%\n"
        }
      },
      "outputs": [
        {
          "name": "stdout",
          "output_type": "stream",
          "text": [
            "              precision    recall  f1-score   support\n",
            "\n",
            "         0.0       1.00      1.00      1.00        20\n",
            "         1.0       1.00      1.00      1.00        14\n",
            "\n",
            "    accuracy                           1.00        34\n",
            "   macro avg       1.00      1.00      1.00        34\n",
            "weighted avg       1.00      1.00      1.00        34\n",
            "\n"
          ]
        }
      ],
      "source": [
        "y_over_pred_S = Lr.predict(X_over_test_S)\n",
        "print(classification_report(y_over_test_S, y_over_pred_S))"
      ]
    },
    {
      "cell_type": "code",
      "execution_count": 394,
      "metadata": {
        "colab": {
          "base_uri": "https://localhost:8080/",
          "height": 0
        },
        "id": "x2_Enbxh3y-d",
        "outputId": "8d85712d-64c8-4c78-91ff-6729939afacf",
        "pycharm": {
          "name": "#%%\n"
        }
      },
      "outputs": [
        {
          "name": "stdout",
          "output_type": "stream",
          "text": [
            "[[20  0]\n",
            " [ 0 14]]\n"
          ]
        },
        {
          "data": {
            "text/plain": "<sklearn.metrics._plot.confusion_matrix.ConfusionMatrixDisplay at 0x2bbcb018610>"
          },
          "execution_count": 394,
          "metadata": {},
          "output_type": "execute_result"
        },
        {
          "data": {
            "image/png": "[encoded data removed]",
            "text/plain": "<Figure size 432x288 with 2 Axes>"
          },
          "metadata": {
            "needs_background": "light"
          },
          "output_type": "display_data"
        }
      ],
      "source": [
        "print(confusion_matrix(y_over_pred_S, y_over_test_S))\n",
        "plot_confusion_matrix(Lr, X_over_test_S, y_over_test_S, display_labels=[\"Non_Flood\", \"Flood\"], cmap=plt.cm.Oranges)"
      ]
    },
    {
      "cell_type": "markdown",
      "metadata": {
        "collapsed": false,
        "id": "uXZX47EC3y-e",
        "pycharm": {
          "name": "#%% md\n"
        }
      },
      "source": [
        "# AUC-ROC curve\n",
        "## c.35"
      ]
    },
    {
      "cell_type": "code",
      "execution_count": 395,
      "metadata": {
        "colab": {
          "base_uri": "https://localhost:8080/",
          "height": 296
        },
        "id": "SwlecIw73y-e",
        "outputId": "6a76b850-969e-4611-b423-3bb79c7e03b8",
        "pycharm": {
          "name": "#%%\n"
        }
      },
      "outputs": [
        {
          "data": {
            "text/plain": "<sklearn.metrics._plot.roc_curve.RocCurveDisplay at 0x2bbcb168bb0>"
          },
          "execution_count": 395,
          "metadata": {},
          "output_type": "execute_result"
        },
        {
          "data": {
            "image/png": "[encoded data removed]",
            "text/plain": "<Figure size 432x288 with 1 Axes>"
          },
          "metadata": {
            "needs_background": "light"
          },
          "output_type": "display_data"
        }
      ],
      "source": [
        "roc_fig = plt.figure()\n",
        "\n",
        "ax = plt.gca()\n",
        "\n",
        "# ROC plot of KNN\n",
        "plot_roc_curve(Knn, X_test_C, y_test_C, ax=ax, name='KNN')\n",
        "\n",
        "# ROC plot of KNN which is applied SMOTE\n",
        "plot_roc_curve(Knn, X_over_test_C, y_over_test_C, ax=ax, name='KNN_SMOTE')\n",
        "\n",
        "# ROC plot of Logistic Regression\n",
        "plot_roc_curve(Lr, X_test_C, y_test_C, ax=ax, name='LR')\n",
        "\n",
        "# ROC plot of Logistic Regression which is applied SMOTE\n",
        "plot_roc_curve(Lr, X_over_test_C, y_over_test_C, ax=ax, name='LR_SMOTE')"
      ]
    },
    {
      "cell_type": "markdown",
      "metadata": {
        "collapsed": false,
        "id": "bB8mzljo3y-e",
        "pycharm": {
          "name": "#%% md\n"
        }
      },
      "source": [
        "## S.5"
      ]
    },
    {
      "cell_type": "code",
      "execution_count": 396,
      "metadata": {
        "colab": {
          "base_uri": "https://localhost:8080/",
          "height": 296
        },
        "id": "n53D2o-I3y-e",
        "outputId": "90f36ac8-92ec-458d-a978-7a49e2a0cc36",
        "pycharm": {
          "name": "#%%\n"
        }
      },
      "outputs": [
        {
          "data": {
            "text/plain": "<sklearn.metrics._plot.roc_curve.RocCurveDisplay at 0x2bbcb1dcca0>"
          },
          "execution_count": 396,
          "metadata": {},
          "output_type": "execute_result"
        },
        {
          "data": {
            "image/png": "[encoded data removed]",
            "text/plain": "<Figure size 432x288 with 1 Axes>"
          },
          "metadata": {
            "needs_background": "light"
          },
          "output_type": "display_data"
        }
      ],
      "source": [
        "roc_fig_2 = plt.figure()\n",
        "\n",
        "ax_2 = plt.gca()\n",
        "\n",
        "# ROC plot of KNN\n",
        "plot_roc_curve(Knn, X_test_S, y_test_S, ax=ax_2, name='KNN')\n",
        "\n",
        "# ROC plot of KNN which is applied SMOTE\n",
        "plot_roc_curve(Knn, X_over_test_S, y_over_test_S, ax=ax_2, name='KNN_SMOTE')\n",
        "\n",
        "# ROC plot of Logistic Regression\n",
        "plot_roc_curve(Lr, X_test_S, y_test_S, ax=ax_2, name='LR')\n",
        "\n",
        "# ROC plot of Logistic Regression which is applied SMOTE\n",
        "plot_roc_curve(Lr, X_over_test_S, y_over_test_S, ax=ax_2, name='LR_SMOTE')"
      ]
    },
    {
      "cell_type": "markdown",
      "metadata": {
        "id": "KNrolO0sJT3E"
      },
      "source": [
        "**Validation Curve Visualization**"
      ]
    },
    {
      "cell_type": "markdown",
      "metadata": {
        "id": "B0IjXjRIZrtX"
      },
      "source": [
        "**C.35 CV for LR model**"
      ]
    },
    {
      "cell_type": "code",
      "execution_count": 397,
      "metadata": {
        "colab": {
          "base_uri": "https://localhost:8080/",
          "height": 297
        },
        "id": "eKmi9OEj1X8_",
        "outputId": "9f8d82a8-395f-41be-fa83-bc9cdf365a63"
      },
      "outputs": [
        {
          "data": {
            "image/png": "[encoded data removed]",
            "text/plain": "<Figure size 432x288 with 1 Axes>"
          },
          "metadata": {
            "needs_background": "light"
          },
          "output_type": "display_data"
        }
      ],
      "source": [
        "# Setting the range for the parameter (from 1 to 10)\r\n",
        "parameter_range = np.arange(1, 63, 1)\r\n",
        " \r\n",
        "# Calculate accuracy on training and test set using the\r\n",
        "# gamma parameter with 10-fold cross validation\r\n",
        "train_score, test_score = validation_curve(Lr, X_train_C, y_train_C,\r\n",
        "                                       param_name =\"C\",\r\n",
        "                                       param_range = parameter_range,\r\n",
        "                                        cv = 10, scoring = \"accuracy\")\r\n",
        " \r\n",
        "# Calculating mean and standard deviation of training score\r\n",
        "mean_train_score = np.mean(train_score, axis = 1)\r\n",
        "std_train_score = np.std(train_score, axis = 1)\r\n",
        " \r\n",
        "# Calculating mean and standard deviation of testing score\r\n",
        "mean_test_score = np.mean(test_score, axis = 1)\r\n",
        "std_test_score = np.std(test_score, axis = 1)\r\n",
        " \r\n",
        "# Plot mean accuracy scores for training and testing scores\r\n",
        "plt.plot(parameter_range, mean_train_score,\r\n",
        "  label = \"Training Score\", color = 'b')\r\n",
        "plt.plot(parameter_range, mean_test_score,\r\n",
        "  label = \"Cross Validation Score\", color = 'g')\r\n",
        " \r\n",
        "# Creating the plot\r\n",
        "plt.title(\"Validation Curve with Logistic regression Classifier\")\r\n",
        "plt.xlabel(\"Number of C\")\r\n",
        "plt.ylabel(\"Accuracy\")\r\n",
        "plt.tight_layout()\r\n",
        "plt.legend(loc = 'best')\r\n",
        "plt.show()"
      ]
    },
    {
      "cell_type": "markdown",
      "metadata": {
        "id": "oj5-jAxeaV1t"
      },
      "source": [
        "**C.35 CV for LR model with applying SMOTE technique**"
      ]
    },
    {
      "cell_type": "code",
      "execution_count": 398,
      "metadata": {
        "colab": {
          "base_uri": "https://localhost:8080/",
          "height": 297
        },
        "id": "LwX4rLzGb3Cx",
        "outputId": "9398613d-67d8-445a-df92-4a3001642b6a"
      },
      "outputs": [
        {
          "data": {
            "image/png": "[encoded data removed]",
            "text/plain": "<Figure size 432x288 with 1 Axes>"
          },
          "metadata": {
            "needs_background": "light"
          },
          "output_type": "display_data"
        }
      ],
      "source": [
        "# Setting the range for the parameter (from 1 to 10)\r\n",
        "parameter_range = np.arange(1, 63, 1)\r\n",
        " \r\n",
        "# Calculate accuracy on training and test set using the\r\n",
        "# gamma parameter with 10-fold cross validation\r\n",
        "train_score, test_score = validation_curve(Lr, X_over_train_C, y_over_train_C,\r\n",
        "                                       param_name = \"C\",\r\n",
        "                                       param_range = parameter_range,\r\n",
        "                                        cv = 10, scoring = \"accuracy\")\r\n",
        " \r\n",
        "# Calculating mean and standard deviation of training score\r\n",
        "mean_train_score = np.mean(train_score, axis = 1)\r\n",
        "std_train_score = np.std(train_score, axis = 1)\r\n",
        " \r\n",
        "# Calculating mean and standard deviation of testing score\r\n",
        "mean_test_score = np.mean(test_score, axis = 1)\r\n",
        "std_test_score = np.std(test_score, axis = 1)\r\n",
        " \r\n",
        "# Plot mean accuracy scores for training and testing scores\r\n",
        "plt.plot(parameter_range, mean_train_score,\r\n",
        "  label = \"Training Score\", color = 'b')\r\n",
        "plt.plot(parameter_range, mean_test_score,\r\n",
        "  label = \"Cross Validation Score\", color = 'g')\r\n",
        " \r\n",
        "# Creating the plot\r\n",
        "plt.title(\"Validation Curve with Logistic regression Classifier\")\r\n",
        "plt.xlabel(\"Number of C\")\r\n",
        "plt.ylabel(\"Accuracy\")\r\n",
        "plt.tight_layout()\r\n",
        "plt.legend(loc = 'best')\r\n",
        "plt.show()"
      ]
    },
    {
      "cell_type": "markdown",
      "metadata": {
        "id": "pb5shgtlb3tj"
      },
      "source": [
        "**S.5 CV for LR model**"
      ]
    },
    {
      "cell_type": "code",
      "execution_count": 399,
      "metadata": {
        "colab": {
          "base_uri": "https://localhost:8080/",
          "height": 297
        },
        "id": "UQNRueFpb_N6",
        "outputId": "c6b0af2b-dc91-4e57-879b-77bd00e12bae"
      },
      "outputs": [
        {
          "data": {
            "image/png": "[encoded data removed]",
            "text/plain": "<Figure size 432x288 with 1 Axes>"
          },
          "metadata": {
            "needs_background": "light"
          },
          "output_type": "display_data"
        }
      ],
      "source": [
        "# Setting the range for the parameter (from 1 to 10)\r\n",
        "parameter_range = np.arange(1, 63, 1)\r\n",
        " \r\n",
        "# Calculate accuracy on training and test set using the\r\n",
        "# gamma parameter with 10-fold cross validation\r\n",
        "train_score, test_score = validation_curve(Lr, X_train_S, y_train_S,\r\n",
        "                                       param_name = \"C\",\r\n",
        "                                       param_range = parameter_range,\r\n",
        "                                        cv = 10, scoring = \"accuracy\")\r\n",
        " \r\n",
        "# Calculating mean and standard deviation of training score\r\n",
        "mean_train_score = np.mean(train_score, axis = 1)\r\n",
        "std_train_score = np.std(train_score, axis = 1)\r\n",
        " \r\n",
        "# Calculating mean and standard deviation of testing score\r\n",
        "mean_test_score = np.mean(test_score, axis = 1)\r\n",
        "std_test_score = np.std(test_score, axis = 1)\r\n",
        " \r\n",
        "# Plot mean accuracy scores for training and testing scores\r\n",
        "plt.plot(parameter_range, mean_train_score,\r\n",
        "  label = \"Training Score\", color = 'b')\r\n",
        "plt.plot(parameter_range, mean_test_score,\r\n",
        "  label = \"Cross Validation Score\", color = 'g')\r\n",
        " \r\n",
        "# Creating the plot\r\n",
        "plt.title(\"Validation Curve with Logistic regression Classifier\")\r\n",
        "plt.xlabel(\"Number of C\")\r\n",
        "plt.ylabel(\"Accuracy\")\r\n",
        "plt.tight_layout()\r\n",
        "plt.legend(loc = 'best')\r\n",
        "plt.show()"
      ]
    },
    {
      "cell_type": "markdown",
      "metadata": {
        "id": "Dn0U6Wlhb_lx"
      },
      "source": [
        "**S.5 CV for LR model with applying SMOTE technique**"
      ]
    },
    {
      "cell_type": "code",
      "execution_count": 400,
      "metadata": {
        "colab": {
          "base_uri": "https://localhost:8080/",
          "height": 297
        },
        "id": "cP6Dj5QQcDKl",
        "outputId": "eb1ffa08-980e-42d3-b998-11ee43d05327"
      },
      "outputs": [
        {
          "data": {
            "image/png": "[encoded data removed]",
            "text/plain": "<Figure size 432x288 with 1 Axes>"
          },
          "metadata": {
            "needs_background": "light"
          },
          "output_type": "display_data"
        }
      ],
      "source": [
        "# Setting the range for the parameter (from 1 to 10)\r\n",
        "parameter_range = np.arange(1, 63, 1)\r\n",
        " \r\n",
        "# Calculate accuracy on training and test set using the\r\n",
        "# gamma parameter with 10-fold cross validation\r\n",
        "train_score, test_score = validation_curve(Lr, X_over_train_S, y_over_train_S,\r\n",
        "                                       param_name = \"C\",\r\n",
        "                                       param_range = parameter_range,\r\n",
        "                                        cv = 10, scoring = \"accuracy\")\r\n",
        " \r\n",
        "# Calculating mean and standard deviation of training score\r\n",
        "mean_train_score = np.mean(train_score, axis = 1)\r\n",
        "std_train_score = np.std(train_score, axis = 1)\r\n",
        " \r\n",
        "# Calculating mean and standard deviation of testing score\r\n",
        "mean_test_score = np.mean(test_score, axis = 1)\r\n",
        "std_test_score = np.std(test_score, axis = 1)\r\n",
        " \r\n",
        "# Plot mean accuracy scores for training and testing scores\r\n",
        "plt.plot(parameter_range, mean_train_score,\r\n",
        "  label = \"Training Score\", color = 'b')\r\n",
        "plt.plot(parameter_range, mean_test_score,\r\n",
        "  label = \"Cross Validation Score\", color = 'g')\r\n",
        " \r\n",
        "# Creating the plot\r\n",
        "plt.title(\"Validation Curve with Logistic regression Classifier\")\r\n",
        "plt.xlabel(\"Number of C\")\r\n",
        "plt.ylabel(\"Accuracy\")\r\n",
        "plt.tight_layout()\r\n",
        "plt.legend(loc = 'best')\r\n",
        "plt.show()"
      ]
    },
    {
      "cell_type": "markdown",
      "metadata": {
        "id": "bM3aBjiB1g-1"
      },
      "source": [
        "**C.35 CV for KNN model**"
      ]
    },
    {
      "cell_type": "code",
      "execution_count": 401,
      "metadata": {
        "colab": {
          "base_uri": "https://localhost:8080/",
          "height": 297
        },
        "id": "rfQpY5pY3q4g",
        "outputId": "e8a2a3b8-0b97-478a-9206-38fd8872f50d"
      },
      "outputs": [
        {
          "data": {
            "image/png": "[encoded data removed]",
            "text/plain": "<Figure size 432x288 with 1 Axes>"
          },
          "metadata": {
            "needs_background": "light"
          },
          "output_type": "display_data"
        }
      ],
      "source": [
        "# Setting the range for the parameter (from 1 to 10)\r\n",
        "parameter_range = np.arange(1, 63, 2)\r\n",
        " \r\n",
        "# Calculate accuracy on training and test set using the\r\n",
        "# gamma parameter with 10-fold cross validation\r\n",
        "train_score, test_score = validation_curve(Knn, X_train_C, y_train_C,\r\n",
        "                                       param_name = \"n_neighbors\",\r\n",
        "                                       param_range = parameter_range,\r\n",
        "                                        cv = 10, scoring = \"accuracy\")\r\n",
        " \r\n",
        "# Calculating mean and standard deviation of training score\r\n",
        "mean_train_score = np.mean(train_score, axis = 1)\r\n",
        "std_train_score = np.std(train_score, axis = 1)\r\n",
        " \r\n",
        "# Calculating mean and standard deviation of testing score\r\n",
        "mean_test_score = np.mean(test_score, axis = 1)\r\n",
        "std_test_score = np.std(test_score, axis = 1)\r\n",
        " \r\n",
        "# Plot mean accuracy scores for training and testing scores\r\n",
        "plt.plot(parameter_range, mean_train_score,\r\n",
        "  label = \"Training Score\", color = 'b')\r\n",
        "plt.plot(parameter_range, mean_test_score,\r\n",
        "  label = \"Cross Validation Score\", color = 'g')\r\n",
        " \r\n",
        "# Creating the plot\r\n",
        "plt.title(\"Validation Curve with KNN Classifier\")\r\n",
        "plt.xlabel(\"Number of Neighbours\")\r\n",
        "plt.ylabel(\"Accuracy\")\r\n",
        "plt.tight_layout()\r\n",
        "plt.legend(loc = 'best')\r\n",
        "plt.show()"
      ]
    },
    {
      "cell_type": "markdown",
      "metadata": {
        "id": "nijFOlvN1e6u"
      },
      "source": [
        "**C.35 CV for KNN model with applying SMOTE technique**"
      ]
    },
    {
      "cell_type": "code",
      "execution_count": 402,
      "metadata": {
        "colab": {
          "base_uri": "https://localhost:8080/",
          "height": 297
        },
        "id": "0qZnJhOR1x1o",
        "outputId": "e4c21670-dfe7-4619-eacc-ae8d492e1523"
      },
      "outputs": [
        {
          "data": {
            "image/png": "[encoded data removed]",
            "text/plain": "<Figure size 432x288 with 1 Axes>"
          },
          "metadata": {
            "needs_background": "light"
          },
          "output_type": "display_data"
        }
      ],
      "source": [
        "# Setting the range for the parameter (from 1 to 10)\r\n",
        "parameter_range = np.arange(1, 63, 2)\r\n",
        " \r\n",
        "# Calculate accuracy on training and test set using the\r\n",
        "# gamma parameter with 10-fold cross validation\r\n",
        "train_score, test_score = validation_curve(Knn, X_over_train_C, y_over_train_C,\r\n",
        "                                       param_name = \"n_neighbors\",\r\n",
        "                                       param_range = parameter_range,\r\n",
        "                                        cv = 10, scoring = \"accuracy\")\r\n",
        " \r\n",
        "# Calculating mean and standard deviation of training score\r\n",
        "mean_train_score = np.mean(train_score, axis = 1)\r\n",
        "std_train_score = np.std(train_score, axis = 1)\r\n",
        " \r\n",
        "# Calculating mean and standard deviation of testing score\r\n",
        "mean_test_score = np.mean(test_score, axis = 1)\r\n",
        "std_test_score = np.std(test_score, axis = 1)\r\n",
        " \r\n",
        "# Plot mean accuracy scores for training and testing scores\r\n",
        "plt.plot(parameter_range, mean_train_score,\r\n",
        "  label = \"Training Score\", color = 'b')\r\n",
        "plt.plot(parameter_range, mean_test_score,\r\n",
        "  label = \"Cross Validation Score\", color = 'g')\r\n",
        " \r\n",
        "# Creating the plot\r\n",
        "plt.title(\"Validation Curve with KNN Classifier\")\r\n",
        "plt.xlabel(\"Number of Neighbours\")\r\n",
        "plt.ylabel(\"Accuracy\")\r\n",
        "plt.tight_layout()\r\n",
        "plt.legend(loc = 'best')\r\n",
        "plt.show()"
      ]
    },
    {
      "cell_type": "markdown",
      "metadata": {
        "id": "dUBBBQV21yPZ"
      },
      "source": [
        "**S.5 CV for KNN model**"
      ]
    },
    {
      "cell_type": "code",
      "execution_count": 403,
      "metadata": {
        "colab": {
          "base_uri": "https://localhost:8080/",
          "height": 297
        },
        "id": "qk71tP61157C",
        "outputId": "c9d2d172-f73d-4d3f-b5cd-2097bfcdf031"
      },
      "outputs": [
        {
          "data": {
            "image/png": "[encoded data removed]",
            "text/plain": "<Figure size 432x288 with 1 Axes>"
          },
          "metadata": {
            "needs_background": "light"
          },
          "output_type": "display_data"
        }
      ],
      "source": [
        "# Setting the range for the parameter (from 1 to 10)\r\n",
        "parameter_range = np.arange(1, 63, 2)\r\n",
        " \r\n",
        "# Calculate accuracy on training and test set using the\r\n",
        "# gamma parameter with 10-fold cross validation\r\n",
        "train_score, test_score = validation_curve(Knn, X_train_S, y_train_S,\r\n",
        "                                       param_name = \"n_neighbors\",\r\n",
        "                                       param_range = parameter_range,\r\n",
        "                                        cv = 10, scoring = \"accuracy\")\r\n",
        " \r\n",
        "# Calculating mean and standard deviation of training score\r\n",
        "mean_train_score = np.mean(train_score, axis = 1)\r\n",
        "std_train_score = np.std(train_score, axis = 1)\r\n",
        " \r\n",
        "# Calculating mean and standard deviation of testing score\r\n",
        "mean_test_score = np.mean(test_score, axis = 1)\r\n",
        "std_test_score = np.std(test_score, axis = 1)\r\n",
        " \r\n",
        "# Plot mean accuracy scores for training and testing scores\r\n",
        "plt.plot(parameter_range, mean_train_score,\r\n",
        "  label = \"Training Score\", color = 'b')\r\n",
        "plt.plot(parameter_range, mean_test_score,\r\n",
        "  label = \"Cross Validation Score\", color = 'g')\r\n",
        " \r\n",
        "# Creating the plot\r\n",
        "plt.title(\"Validation Curve with KNN Classifier\")\r\n",
        "plt.xlabel(\"Number of Neighbours\")\r\n",
        "plt.ylabel(\"Accuracy\")\r\n",
        "plt.tight_layout()\r\n",
        "plt.legend(loc = 'best')\r\n",
        "plt.show()"
      ]
    },
    {
      "cell_type": "markdown",
      "metadata": {
        "id": "ZOdUaE6Q16gE"
      },
      "source": [
        "**S.5 CV for KNN model with applying SMOTE techique**"
      ]
    },
    {
      "cell_type": "code",
      "execution_count": 404,
      "metadata": {
        "colab": {
          "base_uri": "https://localhost:8080/",
          "height": 297
        },
        "id": "jbGfcJmI2A9R",
        "outputId": "f9cc4dfe-7bb9-43f1-af32-f1467f35aa64"
      },
      "outputs": [
        {
          "data": {
            "image/png": "[encoded data removed]",
            "text/plain": "<Figure size 432x288 with 1 Axes>"
          },
          "metadata": {
            "needs_background": "light"
          },
          "output_type": "display_data"
        }
      ],
      "source": [
        "# Setting the range for the parameter (from 1 to 10)\r\n",
        "parameter_range = np.arange(1, 63, 2)\r\n",
        " \r\n",
        "# Calculate accuracy on training and test set using the\r\n",
        "# gamma parameter with 10-fold cross validation\r\n",
        "train_score, test_score = validation_curve(Knn, X_over_train_S, y_over_train_S,\r\n",
        "                                       param_name = \"n_neighbors\",\r\n",
        "                                       param_range = parameter_range,\r\n",
        "                                        cv = 10, scoring = \"accuracy\")\r\n",
        " \r\n",
        "# Calculating mean and standard deviation of training score\r\n",
        "mean_train_score = np.mean(train_score, axis = 1)\r\n",
        "std_train_score = np.std(train_score, axis = 1)\r\n",
        " \r\n",
        "# Calculating mean and standard deviation of testing score\r\n",
        "mean_test_score = np.mean(test_score, axis = 1)\r\n",
        "std_test_score = np.std(test_score, axis = 1)\r\n",
        " \r\n",
        "# Plot mean accuracy scores for training and testing scores\r\n",
        "plt.plot(parameter_range, mean_train_score,\r\n",
        "  label = \"Training Score\", color = 'b')\r\n",
        "plt.plot(parameter_range, mean_test_score,\r\n",
        "  label = \"Cross Validation Score\", color = 'g')\r\n",
        " \r\n",
        "# Creating the plot\r\n",
        "plt.title(\"Validation Curve with KNN Classifier\")\r\n",
        "plt.xlabel(\"Number of Neighbours\")\r\n",
        "plt.ylabel(\"Accuracy\")\r\n",
        "plt.tight_layout()\r\n",
        "plt.legend(loc = 'best')\r\n",
        "plt.show()"
      ]
    }
  ],
  "metadata": {
    "colab": {
      "name": "Model.ipynb",
      "provenance": []
    },
    "kernelspec": {
      "display_name": "Python 3.8.5 64-bit ('base': conda)",
      "name": "python385jvsc74a57bd02953d71d05af6f476f9dc70b8b57359f0b48186a5a1adf31859554f18703e647"
    },
    "language_info": {
      "codemirror_mode": {
        "name": "ipython",
        "version": 3
      },
      "file_extension": ".py",
      "mimetype": "text/x-python",
      "name": "python",
      "nbconvert_exporter": "python",
      "pygments_lexer": "ipython3",
      "version": "3.8.5"
    },
    "orig_nbformat": 3
  },
  "nbformat": 4,
  "nbformat_minor": 0
}